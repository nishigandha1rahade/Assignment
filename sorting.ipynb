{
 "cells": [
  {
   "cell_type": "markdown",
   "id": "28cede19-28f9-410a-86c5-c26619e4922a",
   "metadata": {},
   "source": [
    "Problem 1.Given an array of n numbers, give an algorithm which gives the element appearing maximum\n",
    "number of times?\n"
   ]
  },
  {
   "cell_type": "code",
   "execution_count": 1,
   "id": "6061dd07-622e-4bb7-a346-520f244b489d",
   "metadata": {},
   "outputs": [
    {
     "name": "stdout",
     "output_type": "stream",
     "text": [
      "30\n"
     ]
    }
   ],
   "source": [
    "def mostFrequent(arr, n): \n",
    "\n",
    "\t# Sort the array \n",
    "\tarr.sort() \n",
    "\n",
    "\t# find the max frequency using \n",
    "\t# linear traversal \n",
    "\tmax_count = 1\n",
    "\tres = arr[0] \n",
    "\tcurr_count = 1\n",
    "\n",
    "\tfor i in range(1, n): \n",
    "\t\tif (arr[i] == arr[i - 1]): \n",
    "\t\t\tcurr_count += 1\n",
    "\t\telse: \n",
    "\t\t\tcurr_count = 1\n",
    "\n",
    "\t\t# If last element is most frequent \n",
    "\t\tif (curr_count > max_count): \n",
    "\t\t\tmax_count = curr_count \n",
    "\t\t\tres = arr[i - 1] \n",
    "\n",
    "\treturn res \n",
    "\n",
    "\n",
    "# Driver Code \n",
    "arr = [40,50,30,40,50,30,30] \n",
    "n = len(arr) \n",
    "print(mostFrequent(arr, n)) \n"
   ]
  },
  {
   "cell_type": "markdown",
   "id": "ad69970d-f0ca-4057-980c-bffcff2ff7ca",
   "metadata": {},
   "source": [
    "Problem 2 : We are given a list of n-1 integers and these integers are in the range of 1 to n . There are no\n",
    "duplicates in the list. One of the integers is missing in the list. Give an algorithm to find that element Ex:\n",
    "[1,2,4,6,3,7,8] 5 is the missing num.\n"
   ]
  },
  {
   "cell_type": "code",
   "execution_count": 2,
   "id": "3e425b5e-4489-491c-a3ca-d4493341456e",
   "metadata": {},
   "outputs": [
    {
     "name": "stdout",
     "output_type": "stream",
     "text": [
      "5\n"
     ]
    }
   ],
   "source": [
    "def getMissingNo(a, n):\n",
    "\ti, total = 0, 1\n",
    "\n",
    "\tfor i in range(2, n + 2):\n",
    "\t\ttotal += i\n",
    "\t\ttotal -= a[i - 2]\n",
    "\treturn total\n",
    "\n",
    "\n",
    "# Driver Code\n",
    "if __name__ == '__main__':\n",
    "\tarr =  [1,2,4,6,3,7,8]\n",
    "\tN = len(arr)\n",
    "\n",
    "\t# Function call\n",
    "\tprint(getMissingNo(arr, N))\n"
   ]
  },
  {
   "cell_type": "markdown",
   "id": "9db647b7-2efe-4867-bff5-3b790ce4d40e",
   "metadata": {},
   "source": [
    "Problem 3 : Given an array of n positive numbers. All numbers occurs even number of times except 1 which\n",
    "occurs odd number of times. Find that number in O(n) time and O(1) space. Ex: [1,2,3,2,3,1,3]. 3 is repeats odd\n",
    "times.\n"
   ]
  },
  {
   "cell_type": "code",
   "execution_count": 3,
   "id": "d901ab27-0e38-4165-afa4-5a82f60bc19a",
   "metadata": {},
   "outputs": [
    {
     "name": "stdout",
     "output_type": "stream",
     "text": [
      "3\n"
     ]
    }
   ],
   "source": [
    "def getOddOccurrence(arr, arr_size):\n",
    "\t\n",
    "\tfor i in range(0,arr_size):\n",
    "\t\tcount = 0\n",
    "\t\tfor j in range(0, arr_size):\n",
    "\t\t\tif arr[i] == arr[j]:\n",
    "\t\t\t\tcount+=1\n",
    "\t\t\t\n",
    "\t\tif (count % 2 != 0):\n",
    "\t\t\treturn arr[i]\n",
    "\t\t\n",
    "\treturn -1\n",
    "\t\n",
    "\t\n",
    "# driver code \n",
    "arr = [1,2,3,2,3,1,3]\n",
    "n = len(arr)\n",
    "print(getOddOccurrence(arr, n))\n"
   ]
  },
  {
   "cell_type": "markdown",
   "id": "a99c2b68-9056-48e7-bb1b-034f191460d2",
   "metadata": {},
   "source": [
    "Problem 4 : Given an array of n elements. Find two elements in the array such that their sum is equal to given\n",
    "element K.\n"
   ]
  },
  {
   "cell_type": "code",
   "execution_count": 4,
   "id": "5c5db69d-e0f2-425e-bb53-8f4d1c0fdcc9",
   "metadata": {},
   "outputs": [
    {
     "name": "stdout",
     "output_type": "stream",
     "text": [
      "Yes\n"
     ]
    }
   ],
   "source": [
    "def chkPair(A, size, k):\n",
    "    for i in range(0, size - 1):\n",
    "        for j in range(i + 1, size):\n",
    "            if (A[i] + A[j] == k):\n",
    "                return 1\n",
    "    return 0\n",
    "\n",
    "\n",
    "if __name__ == \"__main__\":\n",
    "    A = [0, -1, 2, -3, 1]\n",
    "    k = -2\n",
    "    size = len(A)\n",
    "\n",
    "    if (chkPair(A, size, k)):\n",
    "        print(\"Yes\")\n",
    "\n",
    "    else:\n",
    "        print(\"No\")\n"
   ]
  },
  {
   "cell_type": "markdown",
   "id": "75d3b6f3-7720-43c2-90ab-c193f4e2429d",
   "metadata": {},
   "source": [
    "Problem 5 : Given an array of both positive and negative numbers, find two numbers such that their sum is\n",
    "closest to 0. Ex: [ 1 ,60 ,-10, 70, -80,85]. Ans : -80,85.\n"
   ]
  },
  {
   "cell_type": "code",
   "execution_count": 5,
   "id": "102105e0-031b-4663-942a-7b14d547f8ce",
   "metadata": {},
   "outputs": [
    {
     "name": "stdout",
     "output_type": "stream",
     "text": [
      "The two elements whose sum is minimum are -80 and  85\n"
     ]
    }
   ],
   "source": [
    "def minAbsSumPair(arr,arr_size):\n",
    "\tinv_count = 0\n",
    "\n",
    "\t# Array should have at least\n",
    "\t# two elements\n",
    "\tif arr_size < 2:\n",
    "\t\tprint(\"Invalid Input\")\n",
    "\t\treturn\n",
    "\n",
    "\t# Initialization of values \n",
    "\tmin_l = 0\n",
    "\tmin_r = 1\n",
    "\tmin_sum = arr[0] + arr[1]\n",
    "\tfor l in range (0, arr_size - 1):\n",
    "\t\tfor r in range (l + 1, arr_size):\n",
    "\t\t\tsum = arr[l] + arr[r]\t\t\t\t \n",
    "\t\t\tif abs(min_sum) > abs(sum):\t\t \n",
    "\t\t\t\tmin_sum = sum\n",
    "\t\t\t\tmin_l = l\n",
    "\t\t\t\tmin_r = r\n",
    "\n",
    "\tprint(\"The two elements whose sum is minimum are\", \n",
    "\t\t\tarr[min_l], \"and \", arr[min_r])\n",
    "\n",
    "# Driver program to test above function \n",
    "arr = [1, 60, -10, 70, -80, 85]\n",
    "\n",
    "minAbsSumPair(arr, 6);\n"
   ]
  },
  {
   "cell_type": "markdown",
   "id": "625eed64-b6b9-4602-81f3-50c1ef70ba31",
   "metadata": {},
   "source": [
    "Problem 6 : Given an array of n elements . Find three elements such that their sum is equal to the given\n",
    "number.\n",
    "\n"
   ]
  },
  {
   "cell_type": "code",
   "execution_count": 6,
   "id": "4f788361-728d-4ab9-9d49-7038d949c1d7",
   "metadata": {},
   "outputs": [
    {
     "name": "stdout",
     "output_type": "stream",
     "text": [
      "Triplet is 4 ,  10 ,  8\n"
     ]
    },
    {
     "data": {
      "text/plain": [
       "True"
      ]
     },
     "execution_count": 6,
     "metadata": {},
     "output_type": "execute_result"
    }
   ],
   "source": [
    "def find3Numbers(A, arr_size, sum):\n",
    "\n",
    "\t# Fix the first element as A[i]\n",
    "\tfor i in range( 0, arr_size-2):\n",
    "\n",
    "\t\t# Fix the second element as A[j]\n",
    "\t\tfor j in range(i + 1, arr_size-1): \n",
    "\t\t\t\n",
    "\t\t\t# Now look for the third number\n",
    "\t\t\tfor k in range(j + 1, arr_size):\n",
    "\t\t\t\tif A[i] + A[j] + A[k] == sum:\n",
    "\t\t\t\t\tprint(\"Triplet is\", A[i],\n",
    "\t\t\t\t\t\t\", \", A[j], \", \", A[k])\n",
    "\t\t\t\t\treturn True\n",
    "\t\n",
    "\t# If we reach here, then no \n",
    "\t# triplet was found\n",
    "\treturn False\n",
    "\n",
    "# Driver program to test above function \n",
    "A = [1, 4, 45, 6, 10, 8]\n",
    "sum = 22\n",
    "arr_size = len(A)\n",
    "find3Numbers(A, arr_size, sum)\n"
   ]
  },
  {
   "cell_type": "markdown",
   "id": "4527945d-c623-46be-a9b6-606fcf644621",
   "metadata": {},
   "source": [
    "Problem 7 : Given an array of n elements . Find three elements i, j, k in the array such that\n",
    "i * i + j * j = k*k.\n"
   ]
  },
  {
   "cell_type": "code",
   "execution_count": 7,
   "id": "11921cd3-728d-4c1b-8d4b-509a9ef9e404",
   "metadata": {},
   "outputs": [
    {
     "name": "stdout",
     "output_type": "stream",
     "text": [
      "4\n"
     ]
    }
   ],
   "source": [
    "def CountTriplets(arr, n):\n",
    "\n",
    "\tcnt = 0;\n",
    "\n",
    "\tfor i in range(0, n):\n",
    "\t\tfor j in range(i + 1, n):\n",
    "\t\t\tfor k in range(j + 1, n):\n",
    "\n",
    "\t\t\t\t# If it satisfy the\n",
    "\t\t\t\t# given conditions\n",
    "\t\t\t\tif (arr[k] < arr[i] and arr[i] < arr[j]):\n",
    "\t\t\t\t\tcnt += 1;\n",
    "\t\t\t\t\n",
    "\t# Return the final count\n",
    "\treturn cnt;\n",
    "\n",
    "# Driver Code\n",
    "\n",
    "# Given array arr[]\n",
    "arr = [ 2, 5, 1, 3, 0 ];\n",
    "\n",
    "n = len(arr);\n",
    "\n",
    "# Function Call\n",
    "print(CountTriplets(arr, n))\n"
   ]
  },
  {
   "cell_type": "markdown",
   "id": "b5959361-697f-4bc2-8de1-b7f239048c72",
   "metadata": {},
   "source": [
    "Problem 8 : An element is a majority if it appears more than n/2 times. Give an algorithm takes an array of n\n",
    "element as argument and identifies a majority (if it exists).\n"
   ]
  },
  {
   "cell_type": "code",
   "execution_count": 8,
   "id": "71e04754-c2a3-4f6d-a5ff-2ff6c3c5b9f0",
   "metadata": {},
   "outputs": [
    {
     "name": "stdout",
     "output_type": "stream",
     "text": [
      "1\n"
     ]
    }
   ],
   "source": [
    "def findMajority(arr, n):\n",
    "\n",
    "\tmaxCount = 0\n",
    "\tindex = -1 # sentinels\n",
    "\tfor i in range(n):\n",
    "\n",
    "\t\tcount = 1\n",
    "\t\t# here we compare the element in \n",
    "\t\t# ith position with i+1th position\n",
    "\t\tfor j in range(i+1, n):\n",
    "\n",
    "\t\t\tif(arr[i] == arr[j]):\n",
    "\t\t\t\tcount += 1\n",
    "\n",
    "\t\t# update maxCount if count of\n",
    "\t\t# current element is greater\n",
    "\t\tif(count > maxCount):\n",
    "\n",
    "\t\t\tmaxCount = count\n",
    "\t\t\tindex = i\n",
    "\n",
    "\t# if maxCount is greater than n/2\n",
    "\t# return the corresponding element\n",
    "\tif (maxCount > n//2):\n",
    "\t\tprint(arr[index])\n",
    "\n",
    "\telse:\n",
    "\t\tprint(\"No Majority Element\")\n",
    "\n",
    "\n",
    "# Driver code\n",
    "if __name__ == \"__main__\":\n",
    "\tarr = [1, 1, 2, 1, 3, 5, 1]\n",
    "\tn = len(arr)\n",
    "\n",
    "\t# Function calling\n",
    "\tfindMajority(arr, n)\n"
   ]
  },
  {
   "cell_type": "markdown",
   "id": "f2fcf129-2068-4d63-b69d-850163e8947d",
   "metadata": {},
   "source": [
    "\n",
    "Problem 9 : Given n × n matrix, and in each row all 1’s are followed by 0’s. Find the row with the maximum\n",
    "number of 0’s.\n"
   ]
  },
  {
   "cell_type": "code",
   "execution_count": 9,
   "id": "cb0dd00b-6e1d-4f73-83ec-8f1812ff84b6",
   "metadata": {},
   "outputs": [
    {
     "name": "stdout",
     "output_type": "stream",
     "text": [
      "Row number =  4 , MaxCount =  3\n"
     ]
    }
   ],
   "source": [
    "N = 4\n",
    "\n",
    "# function for finding row with\n",
    "# maximum 1\n",
    "def findMax (arr):\n",
    "\trow = 0\n",
    "\tj = N - 1\n",
    "\tfor i in range(0, N):\n",
    "\t\t# find left most position\n",
    "\t\t# of 1 in a row find 1st\n",
    "\t\t# zero in a row\n",
    "\t\twhile (arr[i][j] == 1\n",
    "\t\t\t\t\tand j >= 0):\n",
    "\t\t\trow = i\n",
    "\t\t\tj -= 1\n",
    "\t\t\n",
    "\tprint(\"Row number = \" , row + 1,\n",
    "\t\t\", MaxCount = \", N - 1 - j)\n",
    "\n",
    "# driver program\n",
    "arr = [ [0, 0, 0, 1],\n",
    "\t\t[0, 0, 0, 1],\n",
    "\t\t[0, 0, 0, 0],\n",
    "\t\t[0, 1, 1, 1] ]\n",
    "\t\t\n",
    "findMax(arr)\n"
   ]
  },
  {
   "cell_type": "markdown",
   "id": "efbf1f82-9b8f-46d2-8ec1-178261f22fe7",
   "metadata": {},
   "source": [
    "Problem 10 : Sort an array of 0’s, 1’s and 2’s [or R’s, G’s and B’s]: Given an array A[] consisting of 0’s, 1’s and\n",
    "2’s, give an algorithm for sorting A[].The algorithm should put all 0’s first, then all 1’s and finally all 2’s at the\n",
    "end. Example Input = {0,1,1,0,1,2,1,2,0,0,0,1}, Output = {0,0,0,0,0,1,1,1,1,1,2,2}\n"
   ]
  },
  {
   "cell_type": "code",
   "execution_count": 10,
   "id": "c8804f78-b9e2-4337-9f3d-d2e8a24885fe",
   "metadata": {},
   "outputs": [
    {
     "name": "stdout",
     "output_type": "stream",
     "text": [
      "0 0 0 0 0 1 1 1 1 1 2 2 "
     ]
    }
   ],
   "source": [
    "def sort012(a, arr_size):\n",
    "\tlo = 0\n",
    "\thi = arr_size - 1\n",
    "\tmid = 0\n",
    "\t# Iterate till all the elements\n",
    "\t# are sorted\n",
    "\twhile mid <= hi:\n",
    "\t\t# If the element is 0\n",
    "\t\tif a[mid] == 0:\n",
    "\t\t\ta[lo], a[mid] = a[mid], a[lo]\n",
    "\t\t\tlo = lo + 1\n",
    "\t\t\tmid = mid + 1\n",
    "\t\t# If the element is 1\n",
    "\t\telif a[mid] == 1:\n",
    "\t\t\tmid = mid + 1\n",
    "\t\t# If the element is 2\n",
    "\t\telse:\n",
    "\t\t\ta[mid], a[hi] = a[hi], a[mid]\n",
    "\t\t\thi = hi - 1\n",
    "\treturn a\n",
    "\n",
    "# Function to print array\n",
    "\n",
    "\n",
    "def printArray(a):\n",
    "\tfor k in a:\n",
    "\t\tprint(k, end=' ')\n",
    "\n",
    "\n",
    "# Driver Program\n",
    "arr = [0, 1, 1, 0, 1, 2, 1, 2, 0, 0, 0, 1]\n",
    "arr_size = len(arr)\n",
    "arr = sort012(arr, arr_size)\n",
    "printArray(arr)\n"
   ]
  },
  {
   "cell_type": "code",
   "execution_count": null,
   "id": "d5699091-b6e5-46e2-bf64-666168826cb3",
   "metadata": {},
   "outputs": [],
   "source": []
  }
 ],
 "metadata": {
  "kernelspec": {
   "display_name": "Python 3 (ipykernel)",
   "language": "python",
   "name": "python3"
  },
  "language_info": {
   "codemirror_mode": {
    "name": "ipython",
    "version": 3
   },
   "file_extension": ".py",
   "mimetype": "text/x-python",
   "name": "python",
   "nbconvert_exporter": "python",
   "pygments_lexer": "ipython3",
   "version": "3.10.8"
  }
 },
 "nbformat": 4,
 "nbformat_minor": 5
}
