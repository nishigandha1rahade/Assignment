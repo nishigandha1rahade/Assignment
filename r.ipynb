{
 "cells": [
  {
   "cell_type": "markdown",
   "id": "e0e3bb75-dcbf-463a-930c-5665bb22ff9b",
   "metadata": {},
   "source": [
    "Q. 3 Print the max value of the array [ 13, 1, -3, 22, 5]."
   ]
  },
  {
   "cell_type": "code",
   "execution_count": 1,
   "id": "5af5f6cf-13b3-4798-8442-8e1a9a527d38",
   "metadata": {},
   "outputs": [
    {
     "name": "stdout",
     "output_type": "stream",
     "text": [
      "Largest element present in given array: 22\n"
     ]
    }
   ],
   "source": [
    "arr = [ 13, 1, -3, 22, 5];     \n",
    "     \n",
    "#Initialize max with first element of array.    \n",
    "max = arr[0];    \n",
    "     \n",
    "#Loop through the array    \n",
    "for i in range(0, len(arr)):    \n",
    "    #Compare elements of array with max    \n",
    "   if(arr[i] > max):    \n",
    "       max = arr[i];    \n",
    "           \n",
    "print(\"Largest element present in given array: \" + str(max)); \n"
   ]
  },
  {
   "cell_type": "markdown",
   "id": "7c05ae40-d210-4e41-882f-07652753d626",
   "metadata": {},
   "source": [
    "Q.4 Find the sum of the values of the array [92, 23, 15, -20, 10]."
   ]
  },
  {
   "cell_type": "code",
   "execution_count": 2,
   "id": "03a206b9-baaf-428c-8fce-710b41fcd437",
   "metadata": {},
   "outputs": [
    {
     "name": "stdout",
     "output_type": "stream",
     "text": [
      "Sum of the array is  120\n"
     ]
    }
   ],
   "source": [
    "def _sum(arr):\n",
    "    sum = 0\n",
    "    for i in arr:\n",
    "        sum = sum + i\n",
    "\n",
    "    return(sum)\n",
    "\n",
    "\n",
    "# main function\n",
    "if __name__ == \"__main__\":\n",
    "    # input values to list\n",
    "    arr = [92, 23, 15, -20, 10]\n",
    "\n",
    "    # calculating length of array\n",
    "    n = len(arr)\n",
    "    # calling function ans store the sum in ans\n",
    "    ans = _sum(arr)\n",
    "    # display sum\n",
    "    print('Sum of the array is ', ans)\n"
   ]
  },
  {
   "cell_type": "markdown",
   "id": "da994802-5730-4a52-a23f-f9a71fad3de6",
   "metadata": {},
   "source": [
    "Q.5 Given a number n. Print if it is an armstrong number or not.An armstrong number is a number if the sum\n",
    "of every digit in that number raised to the power of total digits in that number is equal to the number.\n",
    "Example : 153 = 1^3 + 5^3 + 3^3 = 1 + 125 + 27 = 153 hence 153 is an armstrong number. (Easy)\n",
    "Input1 : 153\n",
    "Output1 : Yes\n",
    "Input 2 : 134\n",
    "Output2 : No\n"
   ]
  },
  {
   "cell_type": "code",
   "execution_count": null,
   "id": "a421397b-0056-44cc-88a7-0365a70afad4",
   "metadata": {},
   "outputs": [],
   "source": []
  }
 ],
 "metadata": {
  "kernelspec": {
   "display_name": "Python 3 (ipykernel)",
   "language": "python",
   "name": "python3"
  },
  "language_info": {
   "codemirror_mode": {
    "name": "ipython",
    "version": 3
   },
   "file_extension": ".py",
   "mimetype": "text/x-python",
   "name": "python",
   "nbconvert_exporter": "python",
   "pygments_lexer": "ipython3",
   "version": "3.10.8"
  }
 },
 "nbformat": 4,
 "nbformat_minor": 5
}
