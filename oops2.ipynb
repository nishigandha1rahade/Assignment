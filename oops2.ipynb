{
 "cells": [
  {
   "cell_type": "markdown",
   "id": "a6429716-85df-4b39-be6b-2be82b093c18",
   "metadata": {},
   "source": [
    "Constructor:\n"
   ]
  },
  {
   "cell_type": "markdown",
   "id": "415ba35d-d1b6-4caa-a8e2-0c4be1f91a95",
   "metadata": {},
   "source": [
    "1. What is a constructor in Python? Explain its purpose and usage.\n"
   ]
  },
  {
   "cell_type": "markdown",
   "id": "7d8e0955-e4da-4058-af51-4aa20af6ffb4",
   "metadata": {},
   "source": [
    "Ans:Constructors in Python is a special class method for creating and initializing an object instance at that class. In Python every class has a constructor; it's not required to define explicitly. The purpose of the constructor is to construct an object and assign a value to the object's members\n"
   ]
  },
  {
   "cell_type": "markdown",
   "id": "1926d2af-7e71-4b5e-a327-f1e91befa223",
   "metadata": {},
   "source": [
    "2. Differentiate between a parameterless constructor and a parameterized constructor in Python.\n"
   ]
  },
  {
   "cell_type": "markdown",
   "id": "078080be-c43a-47b5-bbeb-3f3b73b76cf6",
   "metadata": {},
   "source": [
    "Ans:Parameterized Constructors\n",
    "Parameterized constructors are useful when you want to create an object with custom values for its attributes. They allow you to specify the values of the object’s attributes when the object is created, rather than using default values.\n",
    "\n",
    "Here is an example of a class with a parameterized constructor:\n"
   ]
  },
  {
   "cell_type": "code",
   "execution_count": 1,
   "id": "e469981d-e3ff-4e7f-8ada-fe38488a82b6",
   "metadata": {},
   "outputs": [
    {
     "ename": "SyntaxError",
     "evalue": "invalid non-printable character U+00A0 (4168200400.py, line 1)",
     "output_type": "error",
     "traceback": [
      "\u001b[0;36m  Cell \u001b[0;32mIn[1], line 1\u001b[0;36m\u001b[0m\n\u001b[0;31m    class Person:\u001b[0m\n\u001b[0m         ^\u001b[0m\n\u001b[0;31mSyntaxError\u001b[0m\u001b[0;31m:\u001b[0m invalid non-printable character U+00A0\n"
     ]
    }
   ],
   "source": [
    "class Person:\n",
    "    def __init__(self, name, age):\n",
    "        self.name = name\n",
    "        self.age = age\n",
    "\n",
    "person = Person(\"Alice\", 25)\n",
    "print(person.name)\n",
    "print(person.age)\n"
   ]
  },
  {
   "cell_type": "markdown",
   "id": "76de8f08-e8d3-4d7a-9227-679146ab48df",
   "metadata": {},
   "source": [
    "In this example, the __init__ method is the parameterized constructor for the Person class. It takes two arguments, name and age, and it sets the values of the name and age attributes of the object to the values of these arguments.\n"
   ]
  },
  {
   "cell_type": "markdown",
   "id": "cb171de5-bbb2-422f-b656-9416e780b1bc",
   "metadata": {},
   "source": [
    " 3. How do you define a constructor in a Python class? Provide an example. \n"
   ]
  },
  {
   "cell_type": "markdown",
   "id": "b8ed25ac-57b0-495d-b472-5b1fa33757bc",
   "metadata": {},
   "source": [
    "Ans:1.Constructors are generally used for instantiating an object. The task of constructors is to initialize(assign values) to the data members of the class when an object of the class is created. In Python the __init__() method is called the constructor and is always called when an object is created.\n",
    "2.example:\n"
   ]
  },
  {
   "cell_type": "code",
   "execution_count": 3,
   "id": "8dd91359-37ae-41ef-aa23-1725114cb4e3",
   "metadata": {},
   "outputs": [
    {
     "name": "stdout",
     "output_type": "stream",
     "text": [
      "aditi\n"
     ]
    }
   ],
   "source": [
    "class aditi:\n",
    " \n",
    "    # default constructor\n",
    "    def __init__(self):\n",
    "        self.ad = \"aditi\"\n",
    " \n",
    "    # a method for printing data members\n",
    "    def print_ad(self):\n",
    "        print(self.ad)\n",
    " \n",
    " \n",
    "# creating object of the class\n",
    "obj = aditi()\n",
    " \n",
    "# calling the instance method using the object obj\n",
    "obj.print_ad()\n"
   ]
  },
  {
   "cell_type": "markdown",
   "id": "d7fc85ed-3081-4eeb-84c8-02e8584ff9ad",
   "metadata": {},
   "source": [
    "4. Explain the `__init__` method in Python and its role in constructors. \n"
   ]
  },
  {
   "cell_type": "markdown",
   "id": "8889358d-934d-4cc7-a515-c3b987ddc011",
   "metadata": {},
   "source": [
    "Ans:The Default __init__ Constructor in C++ and Java. Constructors are used to initializing the object’s state. The task of constructors is to initialize(assign values) to the data members of the class when an object of the class is created. Like methods, a constructor also contains a collection of statements(i.e. instructions) that are executed at the time of Object creation. It is run as soon as an object of a class is instantiated. The method is useful to do any initialization you want to do with your object.\n"
   ]
  },
  {
   "cell_type": "code",
   "execution_count": 4,
   "id": "8ede18d8-f89d-4688-9bf3-0616c5f82e74",
   "metadata": {},
   "outputs": [
    {
     "name": "stdout",
     "output_type": "stream",
     "text": [
      "Hello, my name is Nikhil\n"
     ]
    }
   ],
   "source": [
    "# A Sample class with init method\n",
    "class Person:\n",
    "\n",
    "\t# init method or constructor\n",
    "\tdef __init__(self, name):\n",
    "\t\tself.name = name\n",
    "\n",
    "\t# Sample Method\n",
    "\tdef say_hi(self):\n",
    "\t\tprint('Hello, my name is', self.name)\n",
    "\n",
    "\n",
    "p = Person('Nikhil')\n",
    "p.say_hi()"
   ]
  },
  {
   "cell_type": "markdown",
   "id": "6d1494f0-7b15-478b-9097-3ac7ab2ecaab",
   "metadata": {},
   "source": [
    "5. In a class named `Person`, create a constructor that initializes the `name` and `age` attributes. Provide an  example of creating an object of this class. \n",
    "Ans:"
   ]
  },
  {
   "cell_type": "code",
   "execution_count": 5,
   "id": "c8ffae24-7bbe-4ee6-8a58-f5e151e82ed1",
   "metadata": {},
   "outputs": [
    {
     "ename": "TypeError",
     "evalue": "person() takes no arguments",
     "output_type": "error",
     "traceback": [
      "\u001b[0;31m---------------------------------------------------------------------------\u001b[0m",
      "\u001b[0;31mTypeError\u001b[0m                                 Traceback (most recent call last)",
      "Cell \u001b[0;32mIn[5], line 12\u001b[0m\n\u001b[1;32m      8\u001b[0m         \u001b[38;5;28mprint\u001b[39m(\u001b[38;5;124m'\u001b[39m\u001b[38;5;124mmy name is\u001b[39m\u001b[38;5;124m'\u001b[39m,\u001b[38;5;28mself\u001b[39m\u001b[38;5;241m.\u001b[39mname)\n\u001b[1;32m      9\u001b[0m         \u001b[38;5;28mprint\u001b[39m(\u001b[38;5;124m'\u001b[39m\u001b[38;5;124mmy age is\u001b[39m\u001b[38;5;124m'\u001b[39m,\u001b[38;5;28mself\u001b[39m\u001b[38;5;241m.\u001b[39mage)\n\u001b[0;32m---> 12\u001b[0m p\u001b[38;5;241m=\u001b[39m\u001b[43mperson\u001b[49m\u001b[43m(\u001b[49m\u001b[38;5;124;43m'\u001b[39;49m\u001b[38;5;124;43maditi\u001b[39;49m\u001b[38;5;124;43m'\u001b[39;49m\u001b[43m)\u001b[49m\n\u001b[1;32m     13\u001b[0m p\u001b[38;5;241m=\u001b[39mperson(\u001b[38;5;124m'\u001b[39m\u001b[38;5;124m20\u001b[39m\u001b[38;5;124m'\u001b[39m)\n\u001b[1;32m     14\u001b[0m p\u001b[38;5;241m.\u001b[39mhi()\n",
      "\u001b[0;31mTypeError\u001b[0m: person() takes no arguments"
     ]
    }
   ],
   "source": [
    "class person:\n",
    "    \n",
    "    def _init_(self,name,age):\n",
    "        self.name = name\n",
    "        self.age = age\n",
    "        \n",
    "    def hi(self):\n",
    "        print('my name is',self.name)\n",
    "        print('my age is',self.age)\n",
    "        \n",
    "        \n",
    "p=person('aditi')\n",
    "p=person('20')\n",
    "p.hi()\n"
   ]
  },
  {
   "cell_type": "markdown",
   "id": "fd2f754b-6897-402d-8ea5-58fbe2a22205",
   "metadata": {},
   "source": [
    "6. How can you call a constructor explicitly in Python? Give an example. \n"
   ]
  },
  {
   "cell_type": "markdown",
   "id": "7bf422dd-0484-4077-a901-735f75d284bb",
   "metadata": {},
   "source": [
    "Ans:Yes, we can call constructor explicitly with object name. But since the constructor gets executed automatically at the time of object creation, it is not recommended to call it explicitly.\n",
    "\n",
    "Example: Calling Constructor Explicitly \n"
   ]
  },
  {
   "cell_type": "code",
   "execution_count": 6,
   "id": "09dece8f-1b7b-48ca-9de3-c3e37797edd5",
   "metadata": {},
   "outputs": [
    {
     "name": "stdout",
     "output_type": "stream",
     "text": [
      "constructor\n",
      "constructor\n"
     ]
    }
   ],
   "source": [
    "class Employee:\n",
    "   def __init__ (self):\n",
    "       print(\"constructor\")\n",
    "emp = Employee()\n",
    "emp.__init__()\n"
   ]
  },
  {
   "cell_type": "markdown",
   "id": "98a0f5c7-a2c4-4ce5-a378-00fa864507b8",
   "metadata": {},
   "source": [
    "7.What is the significance of the `self` parameter in Python constructors? Explain with an example.\n"
   ]
  },
  {
   "cell_type": "markdown",
   "id": "1b9699e6-3519-46a1-ba96-a0d34cca72ab",
   "metadata": {},
   "source": [
    "Ans:The self is used to represent the instance of the class. With this keyword, you can access the attributes and methods of the class in python. It binds the attributes with the given arguments. The reason why we use self is that Python does not use the ‘@’ syntax to refer to instance attributes. In Python, we have methods that make the instance to be passed automatically, but not received automatically.\n"
   ]
  },
  {
   "cell_type": "code",
   "execution_count": 10,
   "id": "efcc56d6-ded3-40fc-a5c7-d6616abcc876",
   "metadata": {},
   "outputs": [
    {
     "ename": "NameError",
     "evalue": "name 'apple' is not defined",
     "output_type": "error",
     "traceback": [
      "\u001b[0;31m---------------------------------------------------------------------------\u001b[0m",
      "\u001b[0;31mNameError\u001b[0m                                 Traceback (most recent call last)",
      "Cell \u001b[0;32mIn[10], line 12\u001b[0m\n\u001b[1;32m      9\u001b[0m         apple \u001b[38;5;241m=\u001b[39m food(\u001b[38;5;124m\"\u001b[39m\u001b[38;5;124mapple\u001b[39m\u001b[38;5;124m\"\u001b[39m, \u001b[38;5;124m\"\u001b[39m\u001b[38;5;124mred\u001b[39m\u001b[38;5;124m\"\u001b[39m)\n\u001b[1;32m     10\u001b[0m         grapes \u001b[38;5;241m=\u001b[39m food(\u001b[38;5;124m\"\u001b[39m\u001b[38;5;124mgrapes\u001b[39m\u001b[38;5;124m\"\u001b[39m, \u001b[38;5;124m\"\u001b[39m\u001b[38;5;124mgreen\u001b[39m\u001b[38;5;124m\"\u001b[39m)\n\u001b[0;32m---> 12\u001b[0m \u001b[43mapple\u001b[49m\u001b[38;5;241m.\u001b[39mshow()\n\u001b[1;32m     13\u001b[0m grapes\u001b[38;5;241m.\u001b[39mshow()\n",
      "\u001b[0;31mNameError\u001b[0m: name 'apple' is not defined"
     ]
    }
   ],
   "source": [
    "class food():\n",
    "# init method or constructor\n",
    " def __init__(self, fruit, color):\n",
    "    self.fruit = fruit\n",
    "    self.color = color\n",
    "    def show(self):\n",
    "        print(\"fruit is\", self.fruit)\n",
    "        print(\"color is\", self.color )\n",
    "        apple = food(\"apple\", \"red\")\n",
    "        grapes = food(\"grapes\", \"green\")\n",
    "\n",
    "apple.show()\n",
    "grapes.show()\n"
   ]
  },
  {
   "cell_type": "markdown",
   "id": "327b2490-62fe-40a2-8d7a-161c555878ae",
   "metadata": {},
   "source": [
    " 8. Discuss the concept of default constructors in Python. When are they used? \n"
   ]
  },
  {
   "cell_type": "markdown",
   "id": "43387892-2f0d-42e5-99db-ca94858155e0",
   "metadata": {},
   "source": [
    "Ans:Default Constructors\n",
    "Default constructors are useful when you want to create an object with a predefined set of attributes, but you don’t want to specify the values of those attributes when the object is created.\n"
   ]
  },
  {
   "cell_type": "code",
   "execution_count": 11,
   "id": "2fd5d577-cfb2-4950-82a5-5383d95b100c",
   "metadata": {},
   "outputs": [
    {
     "ename": "SyntaxError",
     "evalue": "invalid non-printable character U+00A0 (3737630700.py, line 1)",
     "output_type": "error",
     "traceback": [
      "\u001b[0;36m  Cell \u001b[0;32mIn[11], line 1\u001b[0;36m\u001b[0m\n\u001b[0;31m    class Person:\u001b[0m\n\u001b[0m         ^\u001b[0m\n\u001b[0;31mSyntaxError\u001b[0m\u001b[0;31m:\u001b[0m invalid non-printable character U+00A0\n"
     ]
    }
   ],
   "source": [
    "class Person:\n",
    "    def __init__(self):\n",
    "        self.name = \"John\"\n",
    "        self.age = 30\n",
    "\n",
    "person = Person()\n",
    "print(person.name)\n",
    "print(person.age)\n"
   ]
  },
  {
   "cell_type": "markdown",
   "id": "0c130f75-04a5-4c0a-b562-8460fa95b7bf",
   "metadata": {},
   "source": [
    "In this example, the __init__ method is the default constructor for the Person class. It is called automatically when the object is created, and it sets the default values for the name and age attributes.\n"
   ]
  },
  {
   "cell_type": "markdown",
   "id": "f39015fb-02e7-4198-a25b-ac3dd6612a72",
   "metadata": {},
   "source": [
    "9. Create a Python class called `Rectangle` with a constructor that initializes the `width` and `height`  attributes. Provide a method to calculate the area of the rectangle. \n"
   ]
  },
  {
   "cell_type": "code",
   "execution_count": 12,
   "id": "423784b6-9b18-4027-ac79-ed71ffe01c1b",
   "metadata": {},
   "outputs": [
    {
     "name": "stdin",
     "output_type": "stream",
     "text": [
      "Enter length of rectangle:  10\n",
      "Enter breadth of rectangle:  5\n"
     ]
    },
    {
     "name": "stdout",
     "output_type": "stream",
     "text": [
      "Area of rectangle: 50\n",
      "\n"
     ]
    }
   ],
   "source": [
    "class rectangle():\n",
    "    def __init__(self,breadth,length):\n",
    "        self.breadth=breadth\n",
    "        self.length=length\n",
    "    def area(self):\n",
    "        return self.breadth*self.length\n",
    "a=int(input(\"Enter length of rectangle: \"))\n",
    "b=int(input(\"Enter breadth of rectangle: \"))\n",
    "obj=rectangle(a,b)\n",
    "print(\"Area of rectangle:\",obj.area())\n",
    " \n",
    "print()\n"
   ]
  },
  {
   "cell_type": "markdown",
   "id": "52eaf47a-8466-435f-beb3-c5ae6517b503",
   "metadata": {},
   "source": [
    "10. How can you have multiple constructors in a Python class? Explain with an example.\n"
   ]
  },
  {
   "cell_type": "markdown",
   "id": "5d5f0487-106d-4d0f-b8f9-c3be39ca239c",
   "metadata": {},
   "source": [
    "Ans:You can have more than one constructor in a single Python class. This is known as “method overloading”. To do this, you will need to use the same method name (in this case, the name of the method will be the same as the name of the class) but define the method with different numbers or types of arguments.\n",
    "\n",
    "Here is an example of a class with two constructors:\n"
   ]
  },
  {
   "cell_type": "code",
   "execution_count": 15,
   "id": "78b7ee4f-0f55-4671-a418-8a5cf55b6b5b",
   "metadata": {},
   "outputs": [
    {
     "ename": "SyntaxError",
     "evalue": "invalid non-printable character U+00A0 (2519505227.py, line 1)",
     "output_type": "error",
     "traceback": [
      "\u001b[0;36m  Cell \u001b[0;32mIn[15], line 1\u001b[0;36m\u001b[0m\n\u001b[0;31m    class MyClass:\u001b[0m\n\u001b[0m         ^\u001b[0m\n\u001b[0;31mSyntaxError\u001b[0m\u001b[0;31m:\u001b[0m invalid non-printable character U+00A0\n"
     ]
    }
   ],
   "source": [
    "class MyClass:\n",
    "    def __init__(self, arg1, arg2):\n",
    "        self.arg1 = arg1\n",
    "        self.arg2 = arg2\n",
    "    \n",
    "    def __init__(self, arg1):\n",
    "        self.arg1 = arg1\n",
    "        self.arg2 = None\n"
   ]
  },
  {
   "cell_type": "markdown",
   "id": "25ffdb4d-7a64-4d51-9c47-01bc23edc99c",
   "metadata": {},
   "source": [
    " 11. What is method overloading, and how is it related to constructors in Python? \n"
   ]
  },
  {
   "cell_type": "markdown",
   "id": "8c5d534e-50bb-4b8f-8715-d6eede2666c7",
   "metadata": {},
   "source": [
    "Ans:Methods in Python can be called with zero, one, or more parameters. This process of calling the same method in different ways is called method overloading. It is one of the important concepts in OOP. Two methods cannot have the same name in Python; hence method overloading is a feature that allows the same operator to have different meanings.\n"
   ]
  },
  {
   "cell_type": "code",
   "execution_count": 16,
   "id": "436680e3-86c4-4bb9-beaf-494ff6b48e38",
   "metadata": {},
   "outputs": [
    {
     "name": "stdout",
     "output_type": "stream",
     "text": [
      "this is method\n",
      "6\n"
     ]
    }
   ],
   "source": [
    "# constructor and method overloading\n",
    "class test:\n",
    "    def __init__(self, k):\n",
    "        self.x1=k\n",
    "    def __init__(self,l,k):\n",
    "        self.x1=l\n",
    "        self.x2=k\n",
    "    def f(self):\n",
    "        print(\"this is method\")\n",
    "        print(self.x1+self.x2)\n",
    "ob1=test(1,5)\n",
    "ob1.f()\n"
   ]
  },
  {
   "cell_type": "markdown",
   "id": "2540d0bc-318a-4c0b-8885-16fd3d8a31ab",
   "metadata": {},
   "source": [
    "12. Explain the use of the `super()` function in Python constructors. Provide an example. \n"
   ]
  },
  {
   "cell_type": "markdown",
   "id": "ae872caf-552b-4955-b966-8d0fa972e13b",
   "metadata": {},
   "source": [
    "Ans: the super() function is used to refer to the parent class or superclass. It allows you to call methods defined in the superclass from the subclass, enabling you to extend and customize the functionality inherited from the parent class.\n"
   ]
  },
  {
   "cell_type": "code",
   "execution_count": 20,
   "id": "a4f0cc59-c00f-4550-8119-f3038277e114",
   "metadata": {},
   "outputs": [
    {
     "name": "stdout",
     "output_type": "stream",
     "text": [
      "The ID is: 103\n",
      "The Name is: Suraj kr gupta\n",
      "The Address is: Noida\n",
      "The Emails is: KKK@gmails\n"
     ]
    }
   ],
   "source": [
    "class Emp():\n",
    "\tdef __init__(self, id, name, Add):\n",
    "\t\tself.id = id\n",
    "\t\tself.name = name\n",
    "\t\tself.Add = Add\n",
    "\n",
    "# Class freelancer inherits EMP\n",
    "class Freelance(Emp):\n",
    "\tdef __init__(self, id, name, Add, Emails):\n",
    "\t\tsuper().__init__(id, name, Add)\n",
    "\t\tself.Emails = Emails\n",
    "\n",
    "Emp_1 = Freelance(103, \"Suraj kr gupta\", \"Noida\" , \"KKK@gmails\")\n",
    "print('The ID is:', Emp_1.id)\n",
    "print('The Name is:', Emp_1.name)\n",
    "print('The Address is:', Emp_1.Add)\n",
    "print('The Emails is:', Emp_1.Emails)\n"
   ]
  },
  {
   "cell_type": "markdown",
   "id": "ae6970ee-e34e-42bf-961d-93c416440cca",
   "metadata": {},
   "source": [
    "13. Create a class called `Book` with a constructor that initializes the `title`, `author`, and `published_year`  attributes. Provide a method to display book details. \n"
   ]
  },
  {
   "cell_type": "code",
   "execution_count": 18,
   "id": "1b45bd6f-2b5e-447d-933d-acdbe7a2c3ef",
   "metadata": {},
   "outputs": [],
   "source": [
    "class Book:\n",
    "    def __init__(self, author, title, book_id):\n",
    "        self.author = author\n",
    "        self.title = title\n",
    "        self.book_id = book_id\n",
    "\n",
    "    def __str__(self):\n",
    "        return 'Book(author, title, book_id)'\n",
    "\n",
    "    def __repr__(self):\n",
    "\n",
    "        return 'Book(author, title, book_id)'\n",
    "\n",
    "    def __eq__(self, other):\n",
    "\n",
    "    #Not sure if this is the right approach\n",
    "\n",
    "        for title in Book:\n",
    "            for title in Book:\n",
    "                if title == title:\n",
    "                    if author == author:\n",
    "                        if book_id == book_id:\n",
    "                            return True \n"
   ]
  },
  {
   "cell_type": "markdown",
   "id": "786356b0-3be2-41e2-911e-499bcd898bcf",
   "metadata": {},
   "source": [
    "14. Discuss the differences between constructors and regular methods in Python classes. \n",
    "\n"
   ]
  },
  {
   "cell_type": "markdown",
   "id": "a303af62-ce2d-4470-8486-f6d4b940ef8b",
   "metadata": {},
   "source": [
    "Ans:constructer:\n",
    "1]A Constructor is a block of code that initializes a newly created object.\n",
    "2]A Constructor can be used to initialize an object.\n",
    "3]A Constructor is invoked implicitly by the system.\n",
    "4]A Constructor is invoked when a object is created using the keyword new.\n",
    "5]A Constructor doesn’t have a return type.\n",
    "6]A Constructor initializes a object that doesn’t exist.\n",
    "\n",
    "\n",
    "method:\n",
    "1]A Method is a collection of statements which returns a value upon its execution.\n",
    "2]A Method consists of Java code to be executed.\n",
    "3]A Method is invoked by the programmer.\n",
    "4]A Method is invoked through method calls.\n",
    "5]A Method must have a return type.\n",
    "6]A Method does operations on an already created object.\n"
   ]
  },
  {
   "cell_type": "markdown",
   "id": "7b123ad2-98d2-4c78-924f-cb1dd79deee1",
   "metadata": {},
   "source": [
    " 15. Explain the role of the `self` parameter in instance variable initialization within a constructor. \n"
   ]
  },
  {
   "cell_type": "markdown",
   "id": "cf1b57ef-103d-4bd2-8b27-1803acfa2f1f",
   "metadata": {},
   "source": [
    "Ans:Self represents the instance of the class. By using the “self”  we can access the attributes and methods of the class in Python. It binds the attributes with the given arguments. The reason you need to use self. is because Python does not use the @ syntax to refer to instance attributes. Python decided to do methods in a way that makes the instance to which the method belongs be passed automatically, but not received automatically: the first parameter of methods is the instance the method is called on.\n"
   ]
  },
  {
   "cell_type": "markdown",
   "id": "5338cefb-4ff8-490d-ac9b-0b41d400daba",
   "metadata": {},
   "source": [
    "16. How do you prevent a class from having multiple instances by using constructors in Python? Provide an  example. \n"
   ]
  },
  {
   "cell_type": "markdown",
   "id": "b4b43aa5-92d8-4957-8790-1cb8122ff6f1",
   "metadata": {},
   "source": [
    "17. Create a Python class called `Student` with a constructor that takes a list of subjects as a parameter and  initializes the `subjects` attribute. \n"
   ]
  },
  {
   "cell_type": "code",
   "execution_count": 19,
   "id": "ad73cba4-625e-44e6-aa20-be0f592b6110",
   "metadata": {},
   "outputs": [],
   "source": [
    "class student:\n",
    "    def _init_(self,mathmatics,science,biology):\n",
    "        self.mathmatics = mathmatics\n",
    "        self.science = science\n",
    "        self.biology = biology\n",
    "        \n",
    "        \n",
    "        def _str_(self):\n",
    "            return 'subject(mathmatics,science,biology)'\n",
    "        \n",
    "        def _repr_(self):\n",
    "            return 'subject(mathmatics,science,biology)'\n",
    "        \n",
    "        def _eq_(self,other):\n",
    "            \n",
    "            \n",
    "            for science in subject:\n",
    "                for science in subject:\n",
    "                    if science == science:\n",
    "                        if mathmatics ==mathmatics:\n",
    "                            if biology == biology:\n",
    "                                return True\n"
   ]
  },
  {
   "cell_type": "markdown",
   "id": "7e9d2a6a-7ec8-49ca-8224-ea7dce3c75de",
   "metadata": {},
   "source": [
    "18. What is the purpose of the `__del__` method in Python classes, and how does it relate to constructor?\n"
   ]
  },
  {
   "cell_type": "markdown",
   "id": "289b27ab-4a10-4a07-b713-a9b835acb085",
   "metadata": {},
   "source": [
    "Ans:In Python, the __del__() method is referred to as a destructor method. It is called after an object’s garbage collection occurs, which happens after all references to the item have been destroyed.\n",
    "\n"
   ]
  },
  {
   "cell_type": "code",
   "execution_count": 22,
   "id": "a27e8a85-af70-461b-b796-f5beefb14846",
   "metadata": {},
   "outputs": [
    {
     "name": "stdout",
     "output_type": "stream",
     "text": [
      "Student table created.\n",
      "Destructor called, Student table deleted.\n"
     ]
    }
   ],
   "source": [
    "class Student:\n",
    "       # Initializing\n",
    "       def __init__(self):\n",
    "             print('Student table created.')\n",
    "\n",
    "       # Deleting (Calling destructor)\n",
    "       def __del__(self):\n",
    "             print('Destructor called, Student table deleted.')\n",
    "\n",
    "Stud1 = Student()\n",
    "del Stud1"
   ]
  },
  {
   "cell_type": "markdown",
   "id": "66f9ecb3-c25f-4758-9d40-a385073f183f",
   "metadata": {},
   "source": [
    " 19. Explain the use of constructor chaining in Python. Provide a practical example. \n"
   ]
  },
  {
   "cell_type": "markdown",
   "id": "74e9856d-5e94-4ba8-b9d9-e89ba96e19ef",
   "metadata": {},
   "source": [
    "Ans:Constructor Chaining\n",
    "Constructors are used for instantiating an object. The task of the constructor is to assign value to data members when an object of the class is created.\n",
    "\n",
    "Constructor chaining is the process of calling one constructor from another constructor. Constructor chaining is useful when you want to invoke multiple constructors, one after another, by initializing only one instance.\n",
    "\n",
    "In Python, constructor chaining is convenient when we are dealing with inheritance. When an instance of a child class is initialized, the constructors of all the parent classes are first invoked and then, in the end, the constructor of the child class is invoked.\n",
    "\n",
    "Using the super() method we can invoke the parent class constructor from a child class\n"
   ]
  },
  {
   "cell_type": "code",
   "execution_count": 23,
   "id": "7326e0d7-0134-43a6-b15a-6333c8d7187e",
   "metadata": {},
   "outputs": [
    {
     "name": "stdout",
     "output_type": "stream",
     "text": [
      "Inside Vehicle Constructor\n",
      "Inside Car Constructor\n",
      "Inside Electric Car Constructor\n",
      "Engine=1500cc, Max Speed=240, Km range=750\n"
     ]
    }
   ],
   "source": [
    "class Vehicle:\n",
    "    # Constructor of Vehicle\n",
    "    def __init__(self, engine):\n",
    "        print('Inside Vehicle Constructor')\n",
    "        self.engine = engine\n",
    "\n",
    "class Car(Vehicle):\n",
    "    # Constructor of Car\n",
    "    def __init__(self, engine, max_speed):\n",
    "        super().__init__(engine)\n",
    "        print('Inside Car Constructor')\n",
    "        self.max_speed = max_speed\n",
    "\n",
    "class Electric_Car(Car):\n",
    "    # Constructor of Electric Car\n",
    "    def __init__(self, engine, max_speed, km_range):\n",
    "        super().__init__(engine, max_speed)\n",
    "        print('Inside Electric Car Constructor')\n",
    "        self.km_range = km_range\n",
    "\n",
    "# Object of electric car\n",
    "ev = Electric_Car('1500cc', 240, 750)\n",
    "print(f'Engine={ev.engine}, Max Speed={ev.max_speed}, Km range={ev.km_range}')\n"
   ]
  },
  {
   "cell_type": "markdown",
   "id": "e684bf14-cde3-49b3-9ae4-c593e8cedef8",
   "metadata": {},
   "source": [
    "20. Create a Python class called `Car` with a default constructor that initializes the `make` and `model`  attributes. Provide a method to display car information. \n"
   ]
  },
  {
   "cell_type": "code",
   "execution_count": 24,
   "id": "45933bbc-838f-4902-93a8-62b7febb75c9",
   "metadata": {},
   "outputs": [
    {
     "ename": "SyntaxError",
     "evalue": "unterminated string literal (detected at line 13) (3753263802.py, line 13)",
     "output_type": "error",
     "traceback": [
      "\u001b[0;36m  Cell \u001b[0;32mIn[24], line 13\u001b[0;36m\u001b[0m\n\u001b[0;31m    print('My wife\\s' car is a %s' %hers)\u001b[0m\n\u001b[0m                                 ^\u001b[0m\n\u001b[0;31mSyntaxError\u001b[0m\u001b[0;31m:\u001b[0m unterminated string literal (detected at line 13)\n"
     ]
    }
   ],
   "source": [
    "class Car(object): \n",
    "    def __init__(self, make, model, year): \n",
    "        self.make = make \n",
    "        self.model = model \n",
    "    def __str__(self): \n",
    "        return '%s %s %s' % (self.year, self.make, self.model) \n",
    " \n",
    "# Example usage: \n",
    "mine = Car('Tesla', 'Model 3', '2018') \n",
    "hers = Car('Ford', 'Explorer', '2007') \n",
    "print('My car is a {}'.format(mine)) \n",
    "# >> My car is a 2018 Tesla Model 3 \n",
    "print('My wife\\s' car is a %s' %hers) \n",
    "# >> My wife's car is a 2007 Ford Explorer \n"
   ]
  },
  {
   "cell_type": "markdown",
   "id": "a1ef3061-50f5-4691-b428-d55d175a84f3",
   "metadata": {},
   "source": [
    "Inheritance: \n"
   ]
  },
  {
   "cell_type": "markdown",
   "id": "e3d5c559-7dc2-45d8-8a8b-c93d54d5b7ff",
   "metadata": {},
   "source": [
    "1. What is inheritance in Python? Explain its significance in object-oriented programming\n"
   ]
  },
  {
   "cell_type": "markdown",
   "id": "51d2e9cd-1012-4747-8138-51ef2e6985b2",
   "metadata": {},
   "source": [
    "Ans:Inheritance is the concept in OOPs in which one class inherits the attributes and methods of another class. The class whose properties and methods are inherited is known as the Parent class. And the class that inherits the properties from the parent class is the child class.\n",
    "\n",
    "Inheritance provides code reusability, abstraction, etc. Because of inheritance, we can even inherit abstract classes, classes with constructors, etc. For example – Beagle, Pitbull, etc., are different breeds of dogs, so they all have inherited the properties of class dog.\n"
   ]
  },
  {
   "cell_type": "markdown",
   "id": "cf41310c-8efb-4b10-a244-2f117acb5205",
   "metadata": {},
   "source": [
    " 2. Differentiate between single inheritance and multiple inheritance in Python. Provide examples for each. \n"
   ]
  },
  {
   "cell_type": "markdown",
   "id": "1b37085e-f545-48c2-bc36-2cedacaa522f",
   "metadata": {},
   "source": [
    "Ans:Single Inheritance: \n",
    "Single inheritance enables a derived class to inherit properties from a single parent class, thus enabling code reusability and the addition of new features to existing code.\n"
   ]
  },
  {
   "cell_type": "code",
   "execution_count": 25,
   "id": "107dd36f-9e0a-4bc7-b533-c737b48f667d",
   "metadata": {},
   "outputs": [
    {
     "name": "stdout",
     "output_type": "stream",
     "text": [
      "This function is in parent class.\n",
      "This function is in child class.\n"
     ]
    }
   ],
   "source": [
    "# Python program to demonstrate\n",
    "# single inheritance\n",
    "\n",
    "# Base class\n",
    "class Parent:\n",
    "\tdef func1(self):\n",
    "\t\tprint(\"This function is in parent class.\")\n",
    "\n",
    "# Derived class\n",
    "\n",
    "\n",
    "class Child(Parent):\n",
    "\tdef func2(self):\n",
    "\t\tprint(\"This function is in child class.\")\n",
    "\n",
    "\n",
    "# Driver's code\n",
    "object = Child()\n",
    "object.func1()\n",
    "object.func2()\n"
   ]
  },
  {
   "cell_type": "markdown",
   "id": "fd98e89a-5842-4687-9dfc-fae376010b92",
   "metadata": {},
   "source": [
    "Multiple Inheritance: \n",
    "When a class can be derived from more than one base class this type of inheritance is called multiple inheritances. In multiple inheritances, all the features of the base classes are inherited into the derived class. \n"
   ]
  },
  {
   "cell_type": "code",
   "execution_count": 26,
   "id": "2de23a56-f05c-4160-855a-8cafd5bc4139",
   "metadata": {},
   "outputs": [
    {
     "name": "stdout",
     "output_type": "stream",
     "text": [
      "Father : RAM\n",
      "Mother : SITA\n"
     ]
    }
   ],
   "source": [
    "# Python program to demonstrate\n",
    "# multiple inheritance\n",
    "\n",
    "# Base class1\n",
    "class Mother:\n",
    "\tmothername = \"\"\n",
    "\n",
    "\tdef mother(self):\n",
    "\t\tprint(self.mothername)\n",
    "\n",
    "# Base class2\n",
    "\n",
    "\n",
    "class Father:\n",
    "\tfathername = \"\"\n",
    "\n",
    "\tdef father(self):\n",
    "\t\tprint(self.fathername)\n",
    "\n",
    "# Derived class\n",
    "\n",
    "\n",
    "class Son(Mother, Father):\n",
    "\tdef parents(self):\n",
    "\t\tprint(\"Father :\", self.fathername)\n",
    "\t\tprint(\"Mother :\", self.mothername)\n",
    "\n",
    "\n",
    "# Driver's code\n",
    "s1 = Son()\n",
    "s1.fathername = \"RAM\"\n",
    "s1.mothername = \"SITA\"\n",
    "s1.parents()\n"
   ]
  },
  {
   "cell_type": "markdown",
   "id": "f1ebec32-56e3-43bb-bdb6-dcdf50a26267",
   "metadata": {},
   "source": [
    "3. Create a Python class called `Vehicle` with attributes `color` and `speed`. Then, create a child class called  `Car` that inherits from `Vehicle` and adds a `brand` attribute. Provide an example of creating a `Car` object. \n"
   ]
  },
  {
   "cell_type": "markdown",
   "id": "03126678-c602-41bc-8ca5-721eb1fda8ca",
   "metadata": {},
   "source": [
    "4. Explain the concept of method overriding in inheritance. Provide a practical example. \n"
   ]
  },
  {
   "cell_type": "markdown",
   "id": "2fd5b703-9ece-4d36-a831-50537847205a",
   "metadata": {},
   "source": [
    "Ans:The concept of overriding is very important in inheritance. It gives the special ability to the child/subclasses to provide specific implementation to a method that is already present in their parent classes.\n"
   ]
  },
  {
   "cell_type": "code",
   "execution_count": 27,
   "id": "00be24c0-f77d-44dc-9454-55d6c6f1c11f",
   "metadata": {},
   "outputs": [
    {
     "name": "stdout",
     "output_type": "stream",
     "text": [
      "Function of Child class.\n"
     ]
    }
   ],
   "source": [
    "class Parent:\n",
    "  def f1(self):\n",
    "    print(\"Function of Parent class.\")\n",
    "\n",
    "class Child(Parent):\n",
    "  def f1(self):\n",
    "    print(\"Function of Child class.\")\n",
    "\n",
    "obj = Child()\n",
    "obj.f1()\n"
   ]
  },
  {
   "cell_type": "markdown",
   "id": "f564b647-baa3-46bc-85dd-eb64418d9269",
   "metadata": {},
   "source": [
    "5. How can you access the methods and attributes of a parent class from a child class in Python? Give an  example. \n"
   ]
  },
  {
   "cell_type": "code",
   "execution_count": 28,
   "id": "d51c926f-e6bb-488f-bf9b-2fc02fffa909",
   "metadata": {},
   "outputs": [
    {
     "name": "stdout",
     "output_type": "stream",
     "text": [
      "100\n",
      "emp-cls\n",
      "100\n",
      "emp-cls\n"
     ]
    }
   ],
   "source": [
    "class Employee():\n",
    "    cls_id = 'emp-cls'\n",
    "\n",
    "    def __init__(self, name):\n",
    "        self.salary = 100\n",
    "        self.name = name\n",
    "\n",
    "\n",
    "class Developer(Employee):\n",
    "    def __init__(self, name):\n",
    "        # 👇️ invoke parent __init__() method\n",
    "        super().__init__(name)\n",
    "\n",
    "        # 👇️ accessing parent instance variable\n",
    "        print(self.salary)  # 👉️ 100\n",
    "\n",
    "        # 👇️ accessing parent class variable\n",
    "        print(self.cls_id)  # 👉️ emp-cls\n",
    "\n",
    "\n",
    "d1 = Developer('bobbyhadz')\n",
    "print(d1.salary)  # 👉️ 100\n",
    "\n",
    "print(d1.cls_id)  # 👉️ 'emp-cls'\n"
   ]
  },
  {
   "cell_type": "markdown",
   "id": "feca8907-35e4-426a-8987-d84ad083757a",
   "metadata": {},
   "source": [
    "6.Discuss the use of the `super()` function in Python inheritance. When and why is it used? Provide an  example. \n"
   ]
  },
  {
   "cell_type": "markdown",
   "id": "5b7f74c7-0e08-4260-b343-d279b1ea8910",
   "metadata": {},
   "source": [
    "Ans:A method from a parent class can be called in Python using the super() function. It’s typical practice in object-oriented programming to call the methods of the superclass and enable method overriding and inheritance. Even if the current class has replaced those methods with its own implementation, calling super() allows you to access and use the parent class’s methods. By doing this, you may enhance and modify the parent class’s behavior while still gaining from it.\n",
    "\n",
    "Benefits of Super Function\n",
    "Need not remember or specify the parent class name to access its methods. This function can be used both in single and multiple inheritances.\n",
    "This implements modularity (isolating changes) and code reusability as there is no need to rewrite the entire function.\n",
    "The super function in Python is called dynamically because Python is a dynamic language, unlike other languages.\n"
   ]
  },
  {
   "cell_type": "markdown",
   "id": "d127725e-8ccd-470b-9fa0-62c2959e5c26",
   "metadata": {},
   "source": [
    "7. Create a Python class called `Animal` with a method `speak()`. Then, create child classes `Dog` and `Cat`"
   ]
  },
  {
   "cell_type": "code",
   "execution_count": 29,
   "id": "18d62d57-0f7a-4e4f-8119-784aecfdabeb",
   "metadata": {},
   "outputs": [
    {
     "name": "stdout",
     "output_type": "stream",
     "text": [
      "I am Tim and I am 5 years old\n"
     ]
    }
   ],
   "source": [
    "class Animal():\n",
    "    def __init__(self, name, age):\n",
    "        self.name = name\n",
    "        self.age = age \n",
    "\n",
    "    def speak(self):\n",
    "        print(\"I am\", self.name, \"and I am\", self.age, \"years old\")\n",
    "\n",
    "\n",
    "class Dog(Animal):\n",
    "    def __init__(self, name, age):\n",
    "        self.name = name\n",
    "        self.age = age\n",
    "        self.type = \"dog\"\n",
    "\n",
    "    # Since we inherit from the animal class we can use the method speak on Dog objects\n",
    "\n",
    "\n",
    "tim = Dog(\"Tim\", 5)\n",
    "tim.speak() # This will print \"I am Tim and I am 5 years old\"\n"
   ]
  },
  {
   "cell_type": "markdown",
   "id": "365f1d96-411f-40c0-a426-009a67905c2c",
   "metadata": {},
   "source": [
    "8. Explain the role of the `isinstance()` function in Python and how it relates to inheritance.\n"
   ]
  },
  {
   "cell_type": "markdown",
   "id": "790320b6-9250-4a72-9362-3ae37a5f8a45",
   "metadata": {},
   "source": [
    "Ans:The isinstance () function checks whether an object is an instance of the class mentioned. One can test if an object or variable is an instance of the type or class. If inheritance is present in the program, then the function can be used to check if a specified class is the parent class of an object. \n",
    "\n",
    "In Python, the instance() method works like a comparison operator. It takes two arguments, one is a Python object and the other is a class type. It compares the object with a specified type of class or a subclass and returns a boolean value, that is either True or False.\n"
   ]
  },
  {
   "cell_type": "markdown",
   "id": "c473482a-33d3-42cf-94b7-e7d7da565169",
   "metadata": {},
   "source": [
    " 9. What is the purpose of the `issubclass()` function in Python? Provide an example.\n"
   ]
  },
  {
   "cell_type": "markdown",
   "id": "00b98a8e-8462-488e-9316-8a74c43ce17d",
   "metadata": {},
   "source": [
    "Ans:issubclass() is built-in function used to check if a class is a subclass of another class or not. This function returns True if the given class is the subclass of given class else it returns False.\n",
    "\n",
    "Example 1:\n",
    "\n",
    "For issubclass python we are defining multiple classes and representing the phenomenon of Inheritance, then for a particular class we are checking whether it is the subclass for the mentioned base class or not.\n",
    "\n"
   ]
  },
  {
   "cell_type": "code",
   "execution_count": 30,
   "id": "ee09c4ee-c9aa-44e3-99a1-e1193452802e",
   "metadata": {},
   "outputs": [
    {
     "name": "stdout",
     "output_type": "stream",
     "text": [
      "True\n",
      "False\n",
      "True\n",
      "True\n"
     ]
    }
   ],
   "source": [
    "# Python program to demonstrate\n",
    "# issubclass()\n",
    "\n",
    "\n",
    "# Defining Parent class\n",
    "class Vehicles:\n",
    "\n",
    "\t# Constructor\n",
    "\tdef __init__(vehicleType):\n",
    "\t\tprint('Vehicles is a ', vehicleType)\n",
    "\n",
    "# Defining Child class\n",
    "class Car(Vehicles):\n",
    "\n",
    "\t# Constructor\n",
    "\tdef __init__(self):\n",
    "\t\tVehicles.__init__('Car')\n",
    "\n",
    "# Driver's code \n",
    "print(issubclass(Car, Vehicles))\n",
    "print(issubclass(Car, list))\n",
    "print(issubclass(Car, Car))\n",
    "print(issubclass(Car, (list, Vehicles)))\n"
   ]
  },
  {
   "cell_type": "markdown",
   "id": "5d0d123d-732c-4366-aaa7-8c9f6b138907",
   "metadata": {},
   "source": [
    "10. Discuss the concept of constructor inheritance in Python. How are constructors inherited in child classes? \n"
   ]
  },
  {
   "cell_type": "markdown",
   "id": "e6578b00-b912-4233-a4ce-ea534eadddaf",
   "metadata": {},
   "source": [
    "Ans:A child class needs to identify which class is its parent class. This can be done by mentioning the parent class name in the definition of the child class. \n",
    "\n",
    "Example: class subclass_name (superclass_name)\n",
    "\n",
    "In this example, ‘a’ is the instance created for the class Person. It invokes the __init__() of the referred class. You can see ‘object’ written in the declaration of the class Person. In Python, every class inherits from a built-in basic class called ‘object’. The constructor i.e. the ‘__init__’ function of a class is invoked when we create an object variable or an instance of the class.\n",
    "\n",
    "The variables defined within __init__() are called instance variables or objects. Hence, ‘name’ and ‘idnumber’ are the objects of the class Person. Similarly, ‘salary’ and ‘post’ are the objects of the class Employee. Since the class Employee inherits from class Person, ‘name’ and ‘idnumber’ are also the objects of class Employee.\n"
   ]
  },
  {
   "cell_type": "markdown",
   "id": "d9f232e2-1248-4bbf-bf37-d67daf2bf243",
   "metadata": {},
   "source": [
    "11. Create a Python class called `Shape` with a method `area()` that calculates the area of a shape. Then, create child classes `Circle` and `Rectangle` that inherit from `Shape` and implement the `area()` method  accordingly. Provide an example. \n"
   ]
  },
  {
   "cell_type": "code",
   "execution_count": 31,
   "id": "f5113180-bba5-4887-a7ce-d494815f9fdf",
   "metadata": {},
   "outputs": [
    {
     "name": "stdout",
     "output_type": "stream",
     "text": [
      "Radius of the circle: 7\n",
      "Circle Area: 153.93804002589985\n",
      "Circle Perimeter: 43.982297150257104\n",
      "\n",
      "Rectangle: Length = 5  Width = 7\n",
      "Rectangle Area: 35\n",
      "Rectangle Perimeter: 24\n",
      "\n",
      "Triangle: Base = 5  Height = 4  side1 = 4  side2 = 3  side3 = 5\n",
      "Triangle Area: 10.0\n",
      "Triangle Perimeter: 12\n"
     ]
    }
   ],
   "source": [
    "# Import the math module to access mathematical functions like pi\n",
    "import math\n",
    "\n",
    "# Define a base class called Shape to represent a generic shape with methods for calculating area and perimeter\n",
    "class Shape:\n",
    "    # Placeholder method for calculating area (to be implemented in derived classes)\n",
    "    def calculate_area(self):\n",
    "        pass\n",
    "\n",
    "    # Placeholder method for calculating perimeter (to be implemented in derived classes)\n",
    "    def calculate_perimeter(self):\n",
    "        pass\n",
    "\n",
    "# Define a derived class called Circle, which inherits from the Shape class\n",
    "class Circle(Shape):\n",
    "    # Initialize the Circle object with a given radius\n",
    "    def __init__(self, radius):\n",
    "        self.radius = radius\n",
    "\n",
    "    # Calculate and return the area of the circle using the formula: π * r^2\n",
    "    def calculate_area(self):\n",
    "        return math.pi * self.radius**2\n",
    "\n",
    "    # Calculate and return the perimeter of the circle using the formula: 2π * r\n",
    "    def calculate_perimeter(self):\n",
    "        return 2 * math.pi * self.radius\n",
    "\n",
    "# Define a derived class called Rectangle, which inherits from the Shape class\n",
    "class Rectangle(Shape):\n",
    "    # Initialize the Rectangle object with given length and width\n",
    "    def __init__(self, length, width):\n",
    "        self.length = length\n",
    "        self.width = width\n",
    "\n",
    "    # Calculate and return the area of the rectangle using the formula: length * width\n",
    "    def calculate_area(self):\n",
    "        return self.length * self.width\n",
    "\n",
    "    # Calculate and return the perimeter of the rectangle using the formula: 2 * (length + width)\n",
    "    def calculate_perimeter(self):\n",
    "        return 2 * (self.length + self.width)\n",
    "\n",
    "# Define a derived class called Triangle, which inherits from the Shape class\n",
    "class Triangle(Shape):\n",
    "    # Initialize the Triangle object with a base, height, and three side lengths\n",
    "    def __init__(self, base, height, side1, side2, side3):\n",
    "        self.base = base\n",
    "        self.height = height\n",
    "        self.side1 = side1\n",
    "        self.side2 = side2\n",
    "        self.side3 = side3\n",
    "\n",
    "    # Calculate and return the area of the triangle using the formula: 0.5 * base * height\n",
    "    def calculate_area(self):\n",
    "        return 0.5 * self.base * self.height\n",
    "\n",
    "    # Calculate and return the perimeter of the triangle by adding the lengths of its three sides\n",
    "    def calculate_perimeter(self):\n",
    "        return self.side1 + self.side2 + self.side3\n",
    "\n",
    "# Example usage\n",
    "# Create a Circle object with a given radius and calculate its area and perimeter\n",
    "r = 7\n",
    "circle = Circle(r)\n",
    "circle_area = circle.calculate_area()\n",
    "circle_perimeter = circle.calculate_perimeter()\n",
    "\n",
    "# Print the results for the Circle\n",
    "print(\"Radius of the circle:\", r)\n",
    "print(\"Circle Area:\", circle_area)\n",
    "print(\"Circle Perimeter:\", circle_perimeter)\n",
    "\n",
    "# Create a Rectangle object with given length and width and calculate its area and perimeter\n",
    "l = 5\n",
    "w = 7\n",
    "rectangle = Rectangle(l, w)\n",
    "rectangle_area = rectangle.calculate_area()\n",
    "rectangle_perimeter = rectangle.calculate_perimeter()\n",
    "\n",
    "# Print the results for the Rectangle\n",
    "print(\"\\nRectangle: Length =\", l, \" Width =\", w)\n",
    "print(\"Rectangle Area:\", rectangle_area)\n",
    "print(\"Rectangle Perimeter:\", rectangle_perimeter)\n",
    "\n",
    "# Create a Triangle object with a base, height, and three side lengths, and calculate its area and perimeter\n",
    "base = 5\n",
    "height = 4\n",
    "s1 = 4\n",
    "s2 = 3\n",
    "s3 = 5\n",
    "\n",
    "# Print the results for the Triangle\n",
    "print(\"\\nTriangle: Base =\", base, \" Height =\", height, \" side1 =\", s1, \" side2 =\", s2, \" side3 =\", s3)\n",
    "triangle = Triangle(base, height, s1, s2, s3)\n",
    "triangle_area = triangle.calculate_area()\n",
    "triangle_perimeter = triangle.calculate_perimeter()\n",
    "print(\"Triangle Area:\", triangle_area)\n",
    "print(\"Triangle Perimeter:\", triangle_perimeter)\n"
   ]
  },
  {
   "cell_type": "markdown",
   "id": "b396c97f-cd42-410a-bbad-db60452d8cff",
   "metadata": {},
   "source": [
    "12. Explain the use of abstract base classes (ABCs) in Python and how they relate to inheritance. Provide an  example using the `abc` module.\n"
   ]
  },
  {
   "cell_type": "markdown",
   "id": "eb2ade94-deda-4e25-b197-cc5f12c18db7",
   "metadata": {},
   "source": [
    "Ans:The main goal of the abstract base class is to provide a standardized way to test whether an object adheres to a given specification. It can also prevent any attempt to instantiate a subclass that doesn’t override a particular method in the superclass. And finally, using an abstract class, a class can derive identity from another class without any object inheritance.\n"
   ]
  },
  {
   "cell_type": "code",
   "execution_count": 32,
   "id": "c4f36092-81a6-4b75-82bf-f881b6722caf",
   "metadata": {},
   "outputs": [
    {
     "ename": "TypeError",
     "evalue": "Child() takes no arguments",
     "output_type": "error",
     "traceback": [
      "\u001b[0;31m---------------------------------------------------------------------------\u001b[0m",
      "\u001b[0;31mTypeError\u001b[0m                                 Traceback (most recent call last)",
      "Cell \u001b[0;32mIn[32], line 11\u001b[0m\n\u001b[1;32m      8\u001b[0m \t\thookmethod \u001b[38;5;241m=\u001b[39m \u001b[38;5;28mgetattr\u001b[39m(other, \u001b[38;5;124m'\u001b[39m\u001b[38;5;124mhookmethod\u001b[39m\u001b[38;5;124m'\u001b[39m, \u001b[38;5;28;01mNone\u001b[39;00m) \n\u001b[1;32m      9\u001b[0m \t\t\u001b[38;5;28;01mreturn\u001b[39;00m callable(hookmethod) \n\u001b[0;32m---> 11\u001b[0m \u001b[38;5;28;01mclass\u001b[39;00m \u001b[38;5;21;01mSubClass\u001b[39;00m(\u001b[38;5;28mobject\u001b[39m): \n\u001b[1;32m     12\u001b[0m \t\u001b[38;5;28;01mdef\u001b[39;00m \u001b[38;5;21mhookmethod\u001b[39m(\u001b[38;5;28mself\u001b[39m): \n\u001b[1;32m     13\u001b[0m \t\t\u001b[38;5;28;01mpass\u001b[39;00m\n",
      "\u001b[0;31mTypeError\u001b[0m: Child() takes no arguments"
     ]
    }
   ],
   "source": [
    "import abc \n",
    "\n",
    "\n",
    "class AbstractClass(metaclass=abc.ABCMeta): \n",
    "\t@classmethod\n",
    "\tdef __subclasshook__(cls, other): \n",
    "\t\tprint('subclass hook:', other) \n",
    "\t\thookmethod = getattr(other, 'hookmethod', None) \n",
    "\t\treturn callable(hookmethod) \n",
    "\n",
    "class SubClass(object): \n",
    "\tdef hookmethod(self): \n",
    "\t\tpass\n",
    "\n",
    "class NormalClass(object): \n",
    "\thookmethod = 'hook'\n",
    "\n",
    "\n",
    "print(issubclass(SubClass, AbstractClass)) \n",
    "print(issubclass(NormalClass, AbstractClass)) \n"
   ]
  },
  {
   "cell_type": "markdown",
   "id": "7205db9b-4747-47d4-884d-ced30d418faf",
   "metadata": {},
   "source": [
    "13. How can you prevent a child class from modifying certain attributes or methods inherited from a parent  class in Python? \n"
   ]
  },
  {
   "cell_type": "markdown",
   "id": "46d54221-6cc3-4b77-a20c-9187730fc49b",
   "metadata": {},
   "source": [
    "Ans:Need some help to solve this puzzle folks:\n",
    "\n",
    "When creating a child class in Python and defining the init method, I would like to import all the attributes of the super/parent class except certain positional parameters and certain parameters (which are not defined inside parent classes' init method's list of positional or keyworded/non-keworded parameters but) defined within/inside the parent class init method with a default value.\n",
    "\n",
    "Is there a way to prevent/avoid certain/specific parent class attributes to be imported in the child class upon initiation? I am aware that we can override methods in the child class which do not mimic parent class behaviors, but I am not aware how to do the same with attributes, so I was thinking if I could avoid them completely!\n"
   ]
  },
  {
   "cell_type": "markdown",
   "id": "7fec8d03-d5f6-401f-8b40-381ec5954fe4",
   "metadata": {},
   "source": [
    "14. Create a Python class called `Employee` with attributes `name` and `salary`. Then, create a child class  `Manager` that inherits from `Employee` and adds an attribute `department`. Provide an example. \n"
   ]
  },
  {
   "cell_type": "code",
   "execution_count": 33,
   "id": "92a1f088-6b66-45eb-8232-aeced7186673",
   "metadata": {},
   "outputs": [
    {
     "name": "stdout",
     "output_type": "stream",
     "text": [
      "Original Employee Details:\n",
      "\n",
      "Name:  ADAMS\n",
      "ID:  E7876\n",
      "Salary:  50000\n",
      "Department:  ACCOUNTING\n",
      "----------------------\n",
      "\n",
      "Name:  JONES\n",
      "ID:  E7499\n",
      "Salary:  45000\n",
      "Department:  RESEARCH\n",
      "----------------------\n",
      "\n",
      "Name:  MARTIN\n",
      "ID:  E7900\n",
      "Salary:  50000\n",
      "Department:  SALES\n",
      "----------------------\n",
      "\n",
      "Name:  SMITH\n",
      "ID:  E7698\n",
      "Salary:  55000\n",
      "Department:  OPERATIONS\n",
      "----------------------\n",
      "Updated Employee Details:\n",
      "\n",
      "Name:  ADAMS\n",
      "ID:  E7876\n",
      "Salary:  50000\n",
      "Department:  OPERATIONS\n",
      "----------------------\n",
      "\n",
      "Name:  JONES\n",
      "ID:  E7499\n",
      "Salary:  46800.0\n",
      "Department:  RESEARCH\n",
      "----------------------\n",
      "\n",
      "Name:  MARTIN\n",
      "ID:  E7900\n",
      "Salary:  50000\n",
      "Department:  SALES\n",
      "----------------------\n",
      "\n",
      "Name:  SMITH\n",
      "ID:  E7698\n",
      "Salary:  66000.0\n",
      "Department:  SALES\n",
      "----------------------\n"
     ]
    }
   ],
   "source": [
    "class Employee:\n",
    "    def __init__(self, name, emp_id, salary, department):\n",
    "        self.name = name\n",
    "        self.id = emp_id\n",
    "        self.salary = salary\n",
    "        self.department = department\n",
    "\n",
    "    def calculate_salary(self, salary, hours_worked):\n",
    "        overtime = 0\n",
    "        if hours_worked > 50:\n",
    "            overtime = hours_worked - 50\n",
    "        self.salary = self.salary + (overtime * (self.salary / 50))\n",
    "\n",
    "    def assign_department(self, emp_department):\n",
    "        self.department = emp_department\n",
    "\n",
    "    def print_employee_details(self):\n",
    "        print(\"\\nName: \", self.name)\n",
    "        print(\"ID: \", self.id)\n",
    "        print(\"Salary: \", self.salary)\n",
    "        print(\"Department: \", self.department)\n",
    "        print(\"----------------------\")\n",
    "\n",
    "\n",
    "employee1 = Employee(\"ADAMS\", \"E7876\", 50000, \"ACCOUNTING\")\n",
    "employee2 = Employee(\"JONES\", \"E7499\", 45000, \"RESEARCH\")\n",
    "employee3 = Employee(\"MARTIN\", \"E7900\", 50000, \"SALES\")\n",
    "employee4 = Employee(\"SMITH\", \"E7698\", 55000, \"OPERATIONS\")\n",
    "\n",
    "print(\"Original Employee Details:\")\n",
    "employee1.print_employee_details()\n",
    "employee2.print_employee_details()\n",
    "employee3.print_employee_details()\n",
    "employee4.print_employee_details()\n",
    "\n",
    "# Change the departments of employee1 and employee4\n",
    "employee1.assign_department(\"OPERATIONS\")\n",
    "employee4.assign_department(\"SALES\")\n",
    "\n",
    "# Now calculate the overtime of the employees who are eligible:\n",
    "employee2.calculate_salary(45000, 52)\n",
    "employee4.calculate_salary(45000, 60)\n",
    "\n",
    "print(\"Updated Employee Details:\")\n",
    "employee1.print_employee_details()\n",
    "employee2.print_employee_details()\n",
    "employee3.print_employee_details()\n",
    "employee4.print_employee_details()"
   ]
  },
  {
   "cell_type": "markdown",
   "id": "3265a46b-708a-4c8c-90d6-9b3f3efbb4d8",
   "metadata": {},
   "source": [
    "15. Discuss the concept of method overloading in Python inheritance. How does it differ from method  overriding? \n"
   ]
  },
  {
   "cell_type": "markdown",
   "id": "0c98b47e-ddc9-493c-9c35-b0a3782a124d",
   "metadata": {},
   "source": [
    "Ans:Method overloading is a means by which you can call the same method in different ways, i.e. with different parameters based on the number of arguments or their different datatypes. Just like we did above, we call the same function, Mul with different number of parameters.\n",
    "\n",
    "All the story of not creating multiple functions, understood. But how do we define method overloading?\n",
    "\n",
    "Method overloading is essentially a feature of object oriented languages, in which we can have two or more methods (functions) that have the same name but the parameters that they take as input values are different. To be more specific, there can be 3 changes done to the parameters:\n",
    "\n",
    "The number of parameters could be different. As in our example above, one function takes 2 integers to multiply, and another takes 3 integers to multiply.\n",
    "The data type of the parameters could be different. Our function Mul can either take integers, or the other definition of our function states that it can also take floats as input.\n",
    "The third way the parameters could be changed is by changing the order of parameters.\n"
   ]
  },
  {
   "cell_type": "code",
   "execution_count": 34,
   "id": "0ed98969-4ced-4e2f-b206-77cfc90a3b53",
   "metadata": {},
   "outputs": [],
   "source": [
    "class Addition:\n",
    "\t# first sum for 2 params\n",
    "\tdef my_sum(self, a, b):\n",
    "\t\treturn a + b\n",
    "\t\n",
    "\t# second overloaded sum for 3 params\n",
    "\tdef my_sum(self, a, b, c):\n",
    "\t\treturn a + b + c\n"
   ]
  },
  {
   "cell_type": "markdown",
   "id": "8be560a4-6c00-4fb7-9cea-68d03adb4d80",
   "metadata": {},
   "source": [
    "16. Explain the purpose of the `__init__()` method in Python inheritance and how it is utilized in child classes. \n"
   ]
  },
  {
   "cell_type": "markdown",
   "id": "24ca689f-baeb-4a47-bec0-1f719e220a15",
   "metadata": {},
   "source": [
    "Ans:The __init__ method is the Python equivalent of the C++ constructor in an object-oriented approach. The __init__  function is called every time an object is created from a class. The __init__ method lets the class initialize the object’s attributes and serves no other purpose. It is only used within classes. \n"
   ]
  },
  {
   "cell_type": "markdown",
   "id": "404eb89e-ad56-4a87-a8ed-adde7b0a3191",
   "metadata": {},
   "source": [
    "17. Create a Python class called `Bird` with a method `fly()`. Then, create child classes `Eagle` and `Sparrow` that inherit from `Bird` and implement the `fly()` method differently. Provide an example of using these  classes. \n"
   ]
  },
  {
   "cell_type": "markdown",
   "id": "13f7c3e3-fae7-4b9e-adb5-9a3b3fc1e953",
   "metadata": {},
   "source": [
    "18. What is the \"diamond problem\" in multiple inheritance, and how does Python address it? \n"
   ]
  },
  {
   "cell_type": "markdown",
   "id": "93958910-fdf9-48ff-990e-147b1e8c088f",
   "metadata": {},
   "source": [
    "Ans:Diamond problem is a problem in multiple or hybrid inheritance. It is a relationship exist when at least one of the parent classes can be accessed through multiple path from the bottommost class. The bottommost class inherits the members of the base class via different path so that it creates ambiguity or create duplicate members. The method resolution order(MRO) tells python how to search for inherited methods. This comes in case of multiple or hybrid inheritance when using super() because the MRO tells you exactly ehere the Python will look for method you are calling with super() and in what order. Every class has an .mro attribute that allows us to inspect the order.\n"
   ]
  },
  {
   "cell_type": "code",
   "execution_count": 36,
   "id": "3349e3c9-592a-438b-95cc-5417f55ec962",
   "metadata": {},
   "outputs": [
    {
     "ename": "TypeError",
     "evalue": "Child() takes no arguments",
     "output_type": "error",
     "traceback": [
      "\u001b[0;31m---------------------------------------------------------------------------\u001b[0m",
      "\u001b[0;31mTypeError\u001b[0m                                 Traceback (most recent call last)",
      "Cell \u001b[0;32mIn[36], line 1\u001b[0m\n\u001b[0;32m----> 1\u001b[0m \u001b[38;5;28;01mclass\u001b[39;00m \u001b[38;5;21;01mvehicle\u001b[39;00m(\u001b[38;5;28mobject\u001b[39m):\n\u001b[1;32m      2\u001b[0m      \u001b[38;5;28;01mdef\u001b[39;00m \u001b[38;5;21m__init__\u001b[39m(\u001b[38;5;28mself\u001b[39m,name):\n\u001b[1;32m      3\u001b[0m          \u001b[38;5;28mprint\u001b[39m(name,\u001b[38;5;124m\"\u001b[39m\u001b[38;5;124mis vehicle\u001b[39m\u001b[38;5;124m\"\u001b[39m)\n",
      "\u001b[0;31mTypeError\u001b[0m: Child() takes no arguments"
     ]
    }
   ],
   "source": [
    "class vehicle(object):\n",
    "     def __init__(self,name):\n",
    "         print(name,\"is vehicle\")\n",
    "class fly(vehicle):\n",
    "     def __init__(self,canfly):\n",
    "         print(canfly,\"can fly\")\n",
    "         super().__init__(canfly)\n",
    "class run(vehicle):\n",
    "     def __init__(self,canrun):\n",
    "         print(canrun,\"can run\")\n",
    "         super().__init__(canrun)\n",
    "class both(run,fly):\n",
    "     def __init__(self,name):\n",
    "         super().__init__(name)\n",
    "vehicle=both(\"mig\")\n",
    "both.__mro__\n"
   ]
  },
  {
   "cell_type": "markdown",
   "id": "7836aee5-6cce-4ec9-99ae-df4a7c8ceaae",
   "metadata": {},
   "source": [
    "19. Discuss the concept of \"is-a\" and \"has-a\" relationships in inheritance, and provide examples of each.\n"
   ]
  },
  {
   "cell_type": "markdown",
   "id": "18614f9c-3dd0-4eeb-b586-26e072701442",
   "metadata": {},
   "source": [
    "Ans:IS-A Relationship:\n",
    "\n",
    "In object-oriented programming, the concept of IS-A is a totally based on Inheritance, which can be of two types Class Inheritance or Interface Inheritance. It is just like saying \"A is a B type of thing\". For example, Apple is a Fruit, Car is a Vehicle etc. Inheritance is uni-directional. For example, House is a Building. But Building is not a House.\n",
    "\n",
    "It is a key point to note that you can easily identify the IS-A relationship. Wherever you see an extends keyword or implements keyword in a class declaration, then this class is said to have IS-A relationship.\n",
    "\n",
    "HAS-A Relationship: \n",
    "\n",
    "Composition(HAS-A) simply mean the use of instance variables that are references to other objects. For example Maruti has Engine, or House has Bathroom.\n"
   ]
  },
  {
   "cell_type": "markdown",
   "id": "c33c658b-e5cf-413c-a827-9a06ce86549a",
   "metadata": {},
   "source": [
    "20. Create a Python class hierarchy for a university system. Start with a base class `Person` and create child  classes `Student` and `Professor`, each with their own attributes and methods. Provide an example of using  these classes in a university context. \n",
    "\n"
   ]
  },
  {
   "cell_type": "markdown",
   "id": "3f79fd1d-0233-48a6-8b52-5fcd9d524179",
   "metadata": {},
   "source": [
    "encapsulation\n"
   ]
  },
  {
   "cell_type": "markdown",
   "id": "75872dcf-7b9e-434d-90fd-10856f20b2d3",
   "metadata": {},
   "source": [
    "1. Explain the concept of encapsulation in Python. What is its role in object-oriented programming?\n"
   ]
  },
  {
   "cell_type": "markdown",
   "id": "8121e4c5-d8ba-4538-81c5-b68f63ef8a50",
   "metadata": {},
   "source": [
    "Ans:Encapsulation is one of the fundamental concepts in object-oriented programming (OOP). It describes the idea of wrapping data and the methods that work on data within one unit. This puts restrictions on accessing variables and methods directly and can prevent the accidental modification of data. \n"
   ]
  },
  {
   "cell_type": "markdown",
   "id": "b6997c5f-b478-43e7-82f5-f4604c79e014",
   "metadata": {},
   "source": [
    "2. Describe the key principles of encapsulation, including access control and data hiding.\n"
   ]
  },
  {
   "cell_type": "markdown",
   "id": "18283bba-fa57-49f9-9d59-578b62d88a4e",
   "metadata": {},
   "source": [
    "Ans:Encapsulation is achieved by declaring a class’s data members and methods as either private or protected. But in Python, we do not have keywords like public, private, and protected, as in the case of Java. Instead, we achieve this by using single and double underscores.\n",
    "\n",
    "Access modifiers are used to limit access to the variables and methods of a class. Python provides three types of access modifiers public, private, and protected.\n",
    "\n",
    "Public Member: Accessible anywhere from outside the class.\n",
    "Private Member: Accessible within the class.\n",
    "Protected Member: Accessible within the class and its sub-classes.\n",
    "\n",
    "Data hiding is also known as information hiding or data encapsulation. The data encapsulation is done to hide the application implementation details from its users. As the intention behind both is the same, encapsulation is also known as data hiding. When a data member is mentioned as private in the class, it is accessible only within the same class and inaccessible outside that class.    \n",
    "\n"
   ]
  },
  {
   "cell_type": "markdown",
   "id": "afac12dd-b591-4ba1-a558-57500c421ffa",
   "metadata": {},
   "source": [
    "3. How can you achieve encapsulation in Python classes? Provide an example."
   ]
  },
  {
   "cell_type": "markdown",
   "id": "b63a2754-3400-4ed0-b280-0062d248e035",
   "metadata": {},
   "source": [
    "Ans:Encapsulation means binding data and variables inside a class.This article will help you understand encapsulation concept with python implementation.As well as you will come to know encapsulation industrial use cases."
   ]
  },
  {
   "cell_type": "code",
   "execution_count": 37,
   "id": "70a48dc1-51b1-4e41-9883-0643e82c0488",
   "metadata": {},
   "outputs": [
    {
     "ename": "SyntaxError",
     "evalue": "invalid non-printable character U+00A0 (549712296.py, line 1)",
     "output_type": "error",
     "traceback": [
      "\u001b[0;36m  Cell \u001b[0;32mIn[37], line 1\u001b[0;36m\u001b[0m\n\u001b[0;31m    class Employee:\u001b[0m\n\u001b[0m         ^\u001b[0m\n\u001b[0;31mSyntaxError\u001b[0m\u001b[0;31m:\u001b[0m invalid non-printable character U+00A0\n"
     ]
    }
   ],
   "source": [
    "class Employee:\n",
    "    # constructor\n",
    "    def __init__(self, name, id, salary, project):\n",
    "        # data members\n",
    "        self.name = name\n",
    "        self.id = id\n",
    "        self.salary = salary\n",
    "        self.project = project\n",
    " \n",
    "    # method to print employee's details\n",
    "    def show_sal(self):\n",
    "        # accessing public data member\n",
    "        print(\"Name: \", self.name, 'Salary:', self.salary)\n",
    " \n",
    " \n",
    "    def proj(self):\n",
    "        print(self.name, 'is working on', self.project)\n",
    " \n",
    "# creating object of a class\n",
    "emp = Employee('James', 102, 100000, 'Python')\n",
    " \n",
    "# calling public method of the class\n",
    "emp.show_sal()\n",
    "emp.proj()"
   ]
  },
  {
   "cell_type": "markdown",
   "id": "69b92494-be21-442d-8da3-ba4e9c3b4dcf",
   "metadata": {},
   "source": [
    "4. Discuss the difference between public, private, and protected access modifiers in Python. \n"
   ]
  },
  {
   "cell_type": "markdown",
   "id": "36491a58-d078-4098-9e30-5247a8473362",
   "metadata": {},
   "source": [
    "Ans:Public Access Modifier\n",
    "The name “Public” says all about this access modifier the variables and methods declared inside the specific Python class can be accessed by that class and any Python class outside that specific class.\n",
    "\n",
    "Public methods are accessible outside the class and with the help of objects the public methods can be invoked inside the class.\n",
    "\n",
    "All the variables and methods in a Python class are public by default and just like mentioned above can be accessed from outside the class environment. \n",
    "\n",
    "\n",
    "Private Access Modifier\n",
    "As we can tell by seeing its name the “Private” access modifier restricts the variables and methods declared inside the specific class to that class environment.\n",
    "\n",
    "Simply put, the variables and methods declared inside a class can be accessed inside that class environment and not outside that class. Python doesn’t have any mechanism restricting access to the variables or methods.\n",
    "\n",
    "But there is a way by which we can impose restrictions to access the variables and methods in Python. Python suggests using a double underscore to imitate the behavior of the private access modifier.\n",
    "\n",
    "\n",
    "\n",
    "\n",
    "Protected Access Modifier\n",
    "Protected variables and methods are accessible within the specific class environment and can also be accessed by the sub-classes. We can also say that it allows the resources of the parent class to be inherited by the child class.\n",
    "\n",
    "Any variables or methods prefixed with a single underscore (_) in a class are protected and can be accessed within the specific class environment. The protected variables/methods can be accessed inside the sub-classes of the parent class.\n"
   ]
  },
  {
   "cell_type": "markdown",
   "id": "970630af-ce1c-45d4-997e-ab068339e4b2",
   "metadata": {},
   "source": [
    "5. Create a Python class called `Person` with a private attribute `__name`. Provide methods to get and set the  name attribute. \n"
   ]
  },
  {
   "cell_type": "code",
   "execution_count": 40,
   "id": "8d3e3cbd-f861-408b-a7f5-67a61953b969",
   "metadata": {},
   "outputs": [],
   "source": [
    "class Person:\n",
    "   def __init__(self, name, alias):\n",
    "      self.name = name       # public\n",
    "      self.__alias = alias   # private\n",
    "\n",
    "   def who(self):\n",
    "      print('name  : ', self.name)\n",
    "      print('alias : ', self.__alias)\n",
    "\n",
    "   def __foo(self):          # private method\n",
    "      print('This is private method')\n",
    "\n",
    "   def foo(self):            # public method\n",
    "      print('This is public method')\n",
    "      self.__foo()\n"
   ]
  },
  {
   "cell_type": "markdown",
   "id": "abe964de-1126-41ab-bc36-1a12505a855c",
   "metadata": {},
   "source": [
    "6. Explain the purpose of getter and setter methods in encapsulation. Provide examples.\n"
   ]
  },
  {
   "cell_type": "markdown",
   "id": "aa2105d0-e308-4a79-b071-efa9ad2a23e7",
   "metadata": {},
   "source": [
    "Ans:getter:\n",
    "Getters are OOPs functions in python. Getters are functions used to retrieve the values of private attributes, while setters are functions used to modify or assign values to private attributes.\n",
    "\n",
    "In Python, since private variables cannot be accessed directly, the getter method provides a way to retrieve them from outside the class, thereby helping in data encapsulation. The getter method typically allows read-only access to the properties of an object. Getters are named with a ‘get_’ prefix followed by the attribute name whose value is to be accessed.\n",
    "\n",
    "\n",
    "setter: \n",
    "Setters are methods in OOPs that are used to modify and update the value of an attribute of an object. Certain constraints can also be applied along with setter methods. This ensures that the new values assigned to the attributes are valid. Setter() are used together with the getter() method in Python.\n"
   ]
  },
  {
   "cell_type": "markdown",
   "id": "bacce868-6e71-415b-b193-2da3a6b5c373",
   "metadata": {},
   "source": [
    " 7. What is name mangling in Python, and how does it affect encapsulation? \n"
   ]
  },
  {
   "cell_type": "markdown",
   "id": "1de0cea9-90ba-47d3-b69b-8f3f86b23b30",
   "metadata": {},
   "source": [
    "Ans:\n",
    "A process in which any given identifier with one trailing underscore and two leading underscores is textually replaced with the __ClassName__Identifier is known as Name mangling. In __ClassName__Identifier name, ClassName is the name of current class where identifier is present.\n"
   ]
  },
  {
   "cell_type": "markdown",
   "id": "8d10bbe5-8d05-4490-9f6a-c9051b3747f4",
   "metadata": {},
   "source": [
    "8. Create a Python class called `BankAccount` with private attributes for the account balance (`__balance`) and account number (`__account_number`). Provide methods for depositing and withdrawing money. \n"
   ]
  },
  {
   "cell_type": "code",
   "execution_count": 41,
   "id": "2f5bc9a0-4aae-4c36-a13b-b21e08b2cfc8",
   "metadata": {},
   "outputs": [
    {
     "name": "stdout",
     "output_type": "stream",
     "text": [
      "Account Number :  2178514584\n",
      "Account Name :  Albert\n",
      "Account Balance :  2600  $\n"
     ]
    }
   ],
   "source": [
    "class BankAccount:\n",
    "    # create the constuctor with parameters: accountNumber, name and balance \n",
    "    def __init__(self,accountNumber, name, balance):\n",
    "        self.accountNumber = accountNumber\n",
    "        self.name = name\n",
    "        self.balance = balance\n",
    "        \n",
    "    # create Deposit() method\n",
    "    def Deposit(self , d ):\n",
    "        self.balance = self.balance + d\n",
    "    \n",
    "    # create Withdrawal method\n",
    "    def Withdrawal(self , w):\n",
    "        if(self.balance < w):\n",
    "            print(\"impossible operation! Insufficient balance !\")\n",
    "        else:\n",
    "            self.balance = self.balance - w\n",
    "    # create bankFees() method\n",
    "    def bankFees(self):\n",
    "        self.balance = (95/100)*self.balance\n",
    "        \n",
    "    # create display() method\n",
    "    def display(self):\n",
    "        print(\"Account Number : \" , self.accountNumber)\n",
    "        print(\"Account Name : \" , self.name)\n",
    "        print(\"Account Balance : \" , self.balance , \" $\")\n",
    "        \n",
    "# Testing the code :\n",
    "newAccount = BankAccount(2178514584, \"Albert\" , 2700)\n",
    "# Creating Withdrawal Test\n",
    "newAccount.Withdrawal(300)\n",
    "# Create deposit test\n",
    "newAccount.Deposit(200)\n",
    "# Display account informations\n",
    "newAccount.display()\n"
   ]
  },
  {
   "cell_type": "markdown",
   "id": "f75c65c8-2a44-4220-b8d3-ef5630576e64",
   "metadata": {},
   "source": [
    "9. Discuss the advantages of encapsulation in terms of code maintainability and security. \n"
   ]
  },
  {
   "cell_type": "markdown",
   "id": "5da4de96-293a-400b-a378-a7750992a78a",
   "metadata": {},
   "source": [
    "Ans:Following are the advantages of Encapsulation in Python:\n",
    "\n",
    "Protects an object from unauthorized access\n",
    "Prevents other classes from using the private members defined within the class\n",
    "Prevents accidental data modification by using private and protected access levels \n",
    "Helps to enhance security by keeping the code/logic safe from external inheritance. \n",
    "Bundling data and methods within a class makes code more readable and maintainable\n"
   ]
  },
  {
   "cell_type": "markdown",
   "id": "c23f7539-2b17-449d-a1e4-0a7b2b357fb0",
   "metadata": {},
   "source": [
    "10. How can you access private attributes in Python? Provide an example demonstrating the use of name  mangling. \n"
   ]
  },
  {
   "cell_type": "markdown",
   "id": "42072537-bd58-4085-98ae-740efdeb6759",
   "metadata": {},
   "source": [
    "Ans:In name mangling process any identifier with two leading underscore and one trailing underscore is textually replaced with _classname__identifier where classname is the name of the current class. It means that any identifier of the form __geek (at least two leading underscores or at most one trailing underscore) is replaced with _classname__geek, where classname is the current class name with leading underscore(s) stripped.\n",
    "\n"
   ]
  },
  {
   "cell_type": "code",
   "execution_count": 42,
   "id": "ebc725f8-fc4d-47ce-9455-f93f47d874c9",
   "metadata": {},
   "outputs": [
    {
     "name": "stdout",
     "output_type": "stream",
     "text": [
      "Santhosh\n"
     ]
    },
    {
     "ename": "AttributeError",
     "evalue": "'Student' object has no attribute '__name'",
     "output_type": "error",
     "traceback": [
      "\u001b[0;31m---------------------------------------------------------------------------\u001b[0m",
      "\u001b[0;31mAttributeError\u001b[0m                            Traceback (most recent call last)",
      "Cell \u001b[0;32mIn[42], line 16\u001b[0m\n\u001b[1;32m     13\u001b[0m s1\u001b[38;5;241m.\u001b[39mdisplayName() \n\u001b[1;32m     15\u001b[0m \u001b[38;5;66;03m# Raises an error \u001b[39;00m\n\u001b[0;32m---> 16\u001b[0m \u001b[38;5;28mprint\u001b[39m(\u001b[43ms1\u001b[49m\u001b[38;5;241;43m.\u001b[39;49m\u001b[43m__name\u001b[49m) \n",
      "\u001b[0;31mAttributeError\u001b[0m: 'Student' object has no attribute '__name'"
     ]
    }
   ],
   "source": [
    "# Python program to demonstrate \n",
    "# name mangling \n",
    "\n",
    "\n",
    "class Student: \n",
    "\tdef __init__(self, name): \n",
    "\t\tself.__name = name \n",
    "\n",
    "\tdef displayName(self): \n",
    "\t\tprint(self.__name) \n",
    "\n",
    "s1 = Student(\"Santhosh\") \n",
    "s1.displayName() \n",
    "\n",
    "# Raises an error \n",
    "print(s1.__name) \n"
   ]
  },
  {
   "cell_type": "markdown",
   "id": "85e7c0ad-82c2-4534-ab38-ab9af8e7b3d7",
   "metadata": {},
   "source": [
    "11. Create a Python class hierarchy for a school system, including classes for students, teachers, and courses,  and implement encapsulation principles to protect sensitive information. \n"
   ]
  },
  {
   "cell_type": "code",
   "execution_count": 43,
   "id": "56d8d45f-d532-4de8-bbbc-904796f23a51",
   "metadata": {},
   "outputs": [],
   "source": [
    "class Student:\n",
    "    def __init__(self, name, student_number):\n",
    "        self.name = name\n",
    "        self.student_number = student_number\n",
    "        self.classes = []\n",
    "\n",
    "    def enrol(self, course_running):\n",
    "        self.classes.append(course_running)\n",
    "        course_running.add_student(self)\n",
    "        \n",
    "class Course:\n",
    "    def __init__(self, description, course_code, credits, department):\n",
    "        self.description = description\n",
    "        self.course_code = course_code\n",
    "        self.credits = credits\n",
    "        self.department = department\n",
    "        self.department.add_course(self)\n",
    "\n",
    "        self.runnings = []\n",
    "\n",
    "    def add_running(self, year):\n",
    "        self.runnings.append(CourseRunning(self, year))\n",
    "        return self.runnings[-1]\n",
    "    \n",
    "class teacher:\n",
    "    def _init_(self,name,post):\n",
    "        self.name = name\n",
    "        self.post = post\n",
    "        self.classes = []\n",
    "        \n",
    "    def enrol(self, course_running):\n",
    "        self.classes.append(course_running)\n",
    "        course_running.add_teacher(self)\n"
   ]
  },
  {
   "cell_type": "markdown",
   "id": "f1a58ce5-add9-42b5-829c-4fcb7963be80",
   "metadata": {},
   "source": [
    "12. Explain the concept of property decorators in Python and how they relate to encapsulation.\n"
   ]
  },
  {
   "cell_type": "markdown",
   "id": "2b08c799-729a-4953-92ec-c73889265c90",
   "metadata": {},
   "source": [
    "Ans:@property decorator is a built-in decorator in Python which is helpful in defining the properties effortlessly without manually calling the inbuilt function property(). Which is used to return the property attributes of a class from the stated getter, setter and deleter as parameters\n"
   ]
  },
  {
   "cell_type": "markdown",
   "id": "77c1494e-2aad-4cc9-9c65-6aa65a6a896e",
   "metadata": {},
   "source": [
    "13. What is data hiding, and why is it important in encapsulation? Provide examples. \n"
   ]
  },
  {
   "cell_type": "markdown",
   "id": "4e31b35f-1081-4b82-8bb7-4b07c77f5748",
   "metadata": {},
   "source": [
    "Data hiding is a technique of hiding internal object details, i.e., data members. It is an object-oriented programming technique. Data hiding ensures, or we can say guarantees to restrict the data access to class members. It maintains data integrity.\n",
    "\n",
    "Data hiding means hiding the internal data within the class to prevent its direct access from outside the class.\n",
    "\n",
    "If we talk about data encapsulation so, Data encapsulation hides the private methods and class data parts, whereas Data hiding only hides class data components. Both data hiding and data encapsulation are essential concepts of object-oriented programming. Encapsulation wraps up the complex data to present a simpler view to the user, whereas Data hiding restricts the data use to assure data security.\n",
    "\n",
    "Data hiding also helps to reduce the system complexity to increase the robustness by limiting the interdependencies between software components. Data hiding is achieved by using the private access specifier.\n",
    "\n"
   ]
  },
  {
   "cell_type": "code",
   "execution_count": 44,
   "id": "359ee296-b2d6-4b01-8bc3-1d667013d20d",
   "metadata": {},
   "outputs": [
    {
     "ename": "SyntaxError",
     "evalue": "invalid syntax (1723856966.py, line 2)",
     "output_type": "error",
     "traceback": [
      "\u001b[0;36m  Cell \u001b[0;32mIn[44], line 2\u001b[0;36m\u001b[0m\n\u001b[0;31m    using namespace std;\u001b[0m\n\u001b[0m          ^\u001b[0m\n\u001b[0;31mSyntaxError\u001b[0m\u001b[0;31m:\u001b[0m invalid syntax\n"
     ]
    }
   ],
   "source": [
    "#include<iostream>  \n",
    "using namespace std; \n",
    "class Base{  \n",
    "       \n",
    "    int num;  //by default private  \n",
    "    public:  \n",
    "       \n",
    "    void getData();  \n",
    "    void showData();  \n",
    "       \n",
    "};  \n",
    "void Base :: getData()  \n",
    "{  \n",
    "    cout<< \"Enter any Integer value\" <<endl;   \n",
    "    cin>>num;  \n",
    "       \n",
    "}  \n",
    "void Base :: showData()  \n",
    "{  \n",
    "    cout<< \"The value is \" << num <<endl;  \n",
    "}  \n",
    "    \n",
    "int main(){  \n",
    "    Base obj;       \n",
    "    obj.getData();  \n",
    "    obj.showData();   \n",
    "    return 0;  \n",
    "}  \n"
   ]
  },
  {
   "cell_type": "markdown",
   "id": "15e1328b-8a6b-4bc6-8c21-5424e71e124a",
   "metadata": {},
   "source": [
    "14. Create a Python class called `Employee` with private attributes for salary (`__salary`) and employee ID (`__employee_id`). Provide a method to calculate yearly bonuses. \n"
   ]
  },
  {
   "cell_type": "code",
   "execution_count": 45,
   "id": "c834e57a-ae55-4e1a-86ae-121d0996c81f",
   "metadata": {},
   "outputs": [
    {
     "name": "stdout",
     "output_type": "stream",
     "text": [
      "Original Employee Details:\n",
      "\n",
      "Name:  ADAMS\n",
      "ID:  E7876\n",
      "Salary:  50000\n",
      "Department:  ACCOUNTING\n",
      "----------------------\n",
      "\n",
      "Name:  JONES\n",
      "ID:  E7499\n",
      "Salary:  45000\n",
      "Department:  RESEARCH\n",
      "----------------------\n",
      "\n",
      "Name:  MARTIN\n",
      "ID:  E7900\n",
      "Salary:  50000\n",
      "Department:  SALES\n",
      "----------------------\n",
      "\n",
      "Name:  SMITH\n",
      "ID:  E7698\n",
      "Salary:  55000\n",
      "Department:  OPERATIONS\n",
      "----------------------\n",
      "Updated Employee Details:\n",
      "\n",
      "Name:  ADAMS\n",
      "ID:  E7876\n",
      "Salary:  50000\n",
      "Department:  OPERATIONS\n",
      "----------------------\n",
      "\n",
      "Name:  JONES\n",
      "ID:  E7499\n",
      "Salary:  46800.0\n",
      "Department:  RESEARCH\n",
      "----------------------\n",
      "\n",
      "Name:  MARTIN\n",
      "ID:  E7900\n",
      "Salary:  50000\n",
      "Department:  SALES\n",
      "----------------------\n",
      "\n",
      "Name:  SMITH\n",
      "ID:  E7698\n",
      "Salary:  66000.0\n",
      "Department:  SALES\n",
      "----------------------\n"
     ]
    }
   ],
   "source": [
    "class Employee:\n",
    "    def __init__(self, name, emp_id, salary, department):\n",
    "        self.name = name\n",
    "        self.id = emp_id\n",
    "        self.salary = salary\n",
    "        self.department = department\n",
    "\n",
    "    def calculate_salary(self, salary, hours_worked):\n",
    "        overtime = 0\n",
    "        if hours_worked > 50:\n",
    "            overtime = hours_worked - 50\n",
    "        self.salary = self.salary + (overtime * (self.salary / 50))\n",
    "\n",
    "    def assign_department(self, emp_department):\n",
    "        self.department = emp_department\n",
    "\n",
    "    def print_employee_details(self):\n",
    "        print(\"\\nName: \", self.name)\n",
    "        print(\"ID: \", self.id)\n",
    "        print(\"Salary: \", self.salary)\n",
    "        print(\"Department: \", self.department)\n",
    "        print(\"----------------------\")\n",
    "\n",
    "\n",
    "employee1 = Employee(\"ADAMS\", \"E7876\", 50000, \"ACCOUNTING\")\n",
    "employee2 = Employee(\"JONES\", \"E7499\", 45000, \"RESEARCH\")\n",
    "employee3 = Employee(\"MARTIN\", \"E7900\", 50000, \"SALES\")\n",
    "employee4 = Employee(\"SMITH\", \"E7698\", 55000, \"OPERATIONS\")\n",
    "\n",
    "print(\"Original Employee Details:\")\n",
    "employee1.print_employee_details()\n",
    "employee2.print_employee_details()\n",
    "employee3.print_employee_details()\n",
    "employee4.print_employee_details()\n",
    "\n",
    "# Change the departments of employee1 and employee4\n",
    "employee1.assign_department(\"OPERATIONS\")\n",
    "employee4.assign_department(\"SALES\")\n",
    "\n",
    "# Now calculate the overtime of the employees who are eligible:\n",
    "employee2.calculate_salary(45000, 52)\n",
    "employee4.calculate_salary(45000, 60)\n",
    "\n",
    "print(\"Updated Employee Details:\")\n",
    "employee1.print_employee_details()\n",
    "employee2.print_employee_details()\n",
    "employee3.print_employee_details()\n",
    "employee4.print_employee_details()\n"
   ]
  },
  {
   "cell_type": "markdown",
   "id": "90339ddc-8bd1-49a0-8f41-eef13c0b0803",
   "metadata": {},
   "source": [
    "16. What are the potential drawbacks or disadvantages of using encapsulation in Python? \n"
   ]
  },
  {
   "cell_type": "markdown",
   "id": "c20b1479-7835-4e37-a504-c39e5997b362",
   "metadata": {},
   "source": [
    "Code Size:The length of the code increases drastically in the case of encapsulation as we need to provide all the methods with the specifiers.\n",
    "\n",
    "More Instructions: As the size of the code increases, therefore, you need to provide additional instructions for every method.\n",
    "\n",
    "Increased code execution: Encapsulation results in an increase in the duration of the program execution. It is because more instructions are added to the code therefore they require more time to execute.\n"
   ]
  },
  {
   "cell_type": "markdown",
   "id": "0efc3a07-bc4e-499b-803d-18a47ae3434c",
   "metadata": {},
   "source": [
    "17. Create a Python class for a library system that encapsulates book information, including titles, authors,  and availability status.\n"
   ]
  },
  {
   "cell_type": "markdown",
   "id": "130908ea-7c10-4a54-b6f4-c764f8ae9105",
   "metadata": {},
   "source": [
    "18. Explain how encapsulation enhances code reusability and modularity in Python programs. \n"
   ]
  },
  {
   "cell_type": "markdown",
   "id": "19e21093-ec93-4987-9eb8-47dfdce1e0dc",
   "metadata": {},
   "source": [
    "Ans:A. Code Reusability\n",
    "\n",
    "By enabling the creation of objects with clearly defined properties and behaviors, encapsulation promotes code reusability. This makes it simpler to reuse the code without having to change it in various areas of the program.\n",
    "\n",
    "Modularity refers to the concept of making multiple modules first and then linking and combining them to form a complete system (i.e, the extent to which a software/Web application may be divided into smaller modules is called modularity). Modularity enables re-usability and will minimize duplication.\n"
   ]
  },
  {
   "cell_type": "markdown",
   "id": "0a8536dd-58d5-4d44-be47-534dcdf42279",
   "metadata": {},
   "source": [
    "19. Describe the concept of information hiding in encapsulation. Why is it essential in software development? \n"
   ]
  },
  {
   "cell_type": "markdown",
   "id": "ff38ee97-74ca-491e-8225-fd0b84f11590",
   "metadata": {},
   "source": [
    "Ans:It is a method used in object-oriented programming (OOP) to hide with the intention of hiding information/ data within a computer code. Internal object details, such as data members, are hidden within a class. It guarantees restricted access to the data to class members while maintaining object integrity. Data hiding includes a process of combining the data and functions into a single unit to conceal data within a class by restricting direct access to the data from outside the class. \n"
   ]
  },
  {
   "cell_type": "markdown",
   "id": "c0a0f483-5438-45b2-ad9b-4120fd5ca9a5",
   "metadata": {},
   "source": [
    "20. Create a Python class called `Customer` with private attributes for customer details like name, address,  and contact information. Implement encapsulation to ensure data integrity and security. \n"
   ]
  },
  {
   "cell_type": "code",
   "execution_count": 46,
   "id": "97a267a5-ade1-4653-b915-a3466bccc4db",
   "metadata": {},
   "outputs": [
    {
     "name": "stdout",
     "output_type": "stream",
     "text": [
      "Original Customer Details:\n",
      "\n",
      "Name:  ADITI\n",
      "Address:  BEED\n",
      "Mbno:  9834528486\n",
      "----------------------\n",
      "\n",
      "Name:  VISHAL\n",
      "Address:  PUNE\n",
      "Mbno:  9545108862\n",
      "----------------------\n",
      "\n",
      "Name:  USHA\n",
      "Address:  MUMBAI\n",
      "Mbno:  9545121271\n",
      "----------------------\n",
      "\n",
      "Name:  SMITH\n",
      "Address:  THANE\n",
      "Mbno:  7020847101\n",
      "----------------------\n"
     ]
    }
   ],
   "source": [
    "class Customer:\n",
    "    \n",
    "    def __init__(self, name, address, mbno):\n",
    "        self.name = name\n",
    "        self.address = address\n",
    "        self.mbno = mbno\n",
    "        \n",
    "    def print_Customer_details(self):\n",
    "        print(\"\\nName: \", self.name)\n",
    "        print(\"Address: \", self.address)\n",
    "        print(\"Mbno: \", self.mbno)\n",
    "        print(\"----------------------\")\n",
    "        \n",
    "        \n",
    "        \n",
    "customer1 = Customer(\"ADITI\", \"BEED\", 9834528486)\n",
    "customer2 = Customer(\"VISHAL\", \"PUNE\", 9545108862)\n",
    "customer3 = Customer(\"USHA\", \"MUMBAI\", 9545121271)\n",
    "customer4 = Customer(\"SMITH\", \"THANE\", 7020847101)\n",
    "\n",
    "print(\"Original Customer Details:\")\n",
    "customer1.print_Customer_details()\n",
    "customer2.print_Customer_details()\n",
    "customer3.print_Customer_details()\n",
    "customer4.print_Customer_details()\n"
   ]
  },
  {
   "cell_type": "markdown",
   "id": "c0f97cee-3da6-4542-8599-2d1c5925d59e",
   "metadata": {},
   "source": [
    "polymorphism:\n"
   ]
  },
  {
   "cell_type": "markdown",
   "id": "94366330-0acb-47cb-84cc-1d1c63e77852",
   "metadata": {},
   "source": [
    "1. What is polymorphism in Python? Explain how it is related to object-oriented programming. \n"
   ]
  },
  {
   "cell_type": "markdown",
   "id": "98449eed-198e-4789-ab44-8d8b7bb621f3",
   "metadata": {},
   "source": [
    "Ans:The word \"polymorphism\" means \"many forms\", and in programming it refers to methods/functions/operators with the same name that can be executed on many objects or classes.\n",
    "Polymorphism is often used in Class methods, where we can have multiple classes with the same method name.\n"
   ]
  },
  {
   "cell_type": "markdown",
   "id": "36faa86d-0cfe-4861-90f1-d45da318b8a1",
   "metadata": {},
   "source": [
    "2. Describe the difference between compile-time polymorphism and runtime polymorphism in Python. \n",
    "\n"
   ]
  },
  {
   "cell_type": "markdown",
   "id": "549f509b-93bb-4d95-8758-cfba7d664cae",
   "metadata": {},
   "source": [
    "Ans:1.Method overloading is a compile-time polymorphism in which many methods share the same name but have distinct arguments, signatures, and return types.\n",
    "2.Method overriding is a runtime polymorphism in which the same method with the same arguments or signature is associated with several classes.\n"
   ]
  },
  {
   "cell_type": "markdown",
   "id": "556119a8-bb50-42e2-94da-0e87130ac76a",
   "metadata": {},
   "source": [
    "3. Create a Python class hierarchy for shapes (e.g., circle, square, triangle) and demonstrate polymorphism  through a common method, such as `calculate_area()`\n"
   ]
  },
  {
   "cell_type": "code",
   "execution_count": 49,
   "id": "2638a105-8653-414c-8efb-8c88a8dbaaab",
   "metadata": {},
   "outputs": [
    {
     "ename": "SyntaxError",
     "evalue": "unterminated string literal (detected at line 16) (639405913.py, line 16)",
     "output_type": "error",
     "traceback": [
      "\u001b[0;36m  Cell \u001b[0;32mIn[49], line 16\u001b[0;36m\u001b[0m\n\u001b[0;31m    print(f\"The area of rectangle is\u001b[0m\n\u001b[0m          ^\u001b[0m\n\u001b[0;31mSyntaxError\u001b[0m\u001b[0;31m:\u001b[0m unterminated string literal (detected at line 16)\n"
     ]
    }
   ],
   "source": [
    "# define a function for calculating\n",
    "# the area of a shapes\n",
    "def calculate_area(name):\\\n",
    "\n",
    "# converting all characters\n",
    "# into lower cases\n",
    "name = name.lower()\n",
    "\n",
    "# check for the conditions\n",
    "if name == \"rectangle\":\n",
    "\tl = int(input(\"Enter rectangle's length: \"))\n",
    "\tb = int(input(\"Enter rectangle's breadth: \"))\n",
    "\t\n",
    "\t# calculate area of rectangle\n",
    "\trect_area = l * b\n",
    "\tprint(f\"The area of rectangle is\n",
    "\t\t{rect_area}.\"):\n",
    "\n",
    "elif name == \"square\":\n",
    "\ts = int(input(\"Enter square's side length: \"))\n",
    "\t\n",
    "\t# calculate area of square\n",
    "\tsqt_area = s * s\n",
    "\tprint(f\"The area of square is\n",
    "\t\t{sqt_area}.\")\n",
    "\n",
    "elif name == \"triangle\":\n",
    "\th = int(input(\"Enter triangle's height length: \"))\n",
    "\tb = int(input(\"Enter triangle's breadth length: \"))\n",
    "\t\n",
    "\t# calculate area of triangle\n",
    "\ttri_area = 0.5 * b * h\n",
    "\tprint(f\"The area of triangle is\n",
    "\t\t{tri_area}.\")\n",
    "\n",
    "elif name == \"circle\":\n",
    "\tr = int(input(\"Enter circle's radius length: \"))\n",
    "\tpi = 3.14\n",
    "\t\t\n",
    "\t# calculate area of circle\n",
    "\tcirc_area = pi * r * r\n",
    "\tprint(f\"The area of circle is\n",
    "\t\t{circ_area}.\")\n",
    "\t\t\n",
    "elif name == 'parallelogram':\n",
    "\tb = int(input(\"Enter parallelogram's base length: \"))\n",
    "\th = int(input(\"Enter parallelogram's height length: \"))\n",
    "\t\n",
    "\t# calculate area of parallelogram\n",
    "\tpara_area = b * h\n",
    "\tprint(f\"The area of parallelogram is\n",
    "\t\t{para_area}.\")\n",
    "\t\n",
    "else:\n",
    "\tprint(\"Sorry! This shape is not available\")\n",
    "\n",
    "# driver code\n",
    "if __name__ == \"__main__\" :\n",
    "\n",
    "print(\"Calculate Shape Area\")\n",
    "shape_name = input(\"Enter the name of shape whose area you want to find: \")\n",
    "\n",
    "# function calling\n",
    "calculate_area(shape_name)\n"
   ]
  },
  {
   "cell_type": "markdown",
   "id": "811daefd-b58e-4cba-ab13-9ddb7108a933",
   "metadata": {},
   "source": [
    "4. Explain the concept of method overriding in polymorphism. Provide an example.\n"
   ]
  },
  {
   "cell_type": "markdown",
   "id": "2472edc6-4c0a-42cf-a524-31be2fc5d06a",
   "metadata": {},
   "source": [
    "Ans:Method overriding is an ability of any object-oriented programming language that allows a subclass or child class to provide a specific implementation of a method that is already provided by one of its super-classes or parent classes. When a method in a subclass has the same name, same parameters or signature and same return type(or sub-type) as a method in its super-class, then the method in the subclass is said to override the method in the super-class.\n"
   ]
  },
  {
   "cell_type": "markdown",
   "id": "1d83b8ec-6b48-4d86-85f3-e74bdf19dfe5",
   "metadata": {},
   "source": [
    "5. How is polymorphism different from method overloading in Python? Provide examples for both. \n"
   ]
  },
  {
   "cell_type": "markdown",
   "id": "58f103fc-c685-41f7-b77a-e76dae49076c",
   "metadata": {},
   "source": [
    "Ans:Polymorphism is most commonly associated with inheritance. In Python, child classes, like other programming languages, inherit methods and attributes from the parent class. Method Overriding is the process of redefining certain methods and attributes to fit the child class. This is especially handy when the method inherited from the parent class does not exactly fit the child class. In such circumstances, the method is re-implemented in the child class. Method Overriding refers to the technique of re-implementing a method in a child class.\n"
   ]
  },
  {
   "cell_type": "code",
   "execution_count": 50,
   "id": "6be01fad-c863-4e05-8686-ec2e7fd8041e",
   "metadata": {},
   "outputs": [
    {
     "name": "stdout",
     "output_type": "stream",
     "text": [
      "Details: Audi R8 Price: 9000000\n",
      "Car max speed is 260\n",
      "Car has Automatic Transmission\n",
      "Details: Nissan Magnite Price: 550000\n",
      "Vehicle max speed is 160\n",
      "Vehicle has 6 shifter gearbox\n"
     ]
    }
   ],
   "source": [
    "class Vehicle:\n",
    "    def __init__(self, brand, model, price):\n",
    "        self.brand = brand\n",
    "        self.model = model\n",
    "        self.price = price\n",
    "\n",
    "    def show(self):\n",
    "        print('Details:', self.brand, self.model, 'Price:', self.price)\n",
    "\n",
    "    def max_speed(self):\n",
    "        print('Vehicle max speed is 160')\n",
    "\n",
    "    def gear_system(self):\n",
    "        print('Vehicle has 6 shifter gearbox')\n",
    "\n",
    "# inherit from vehicle class\n",
    "class Car(Vehicle):\n",
    "    def max_speed(self):\n",
    "        print('Car max speed is 260')\n",
    "\n",
    "    def gear_system(self):\n",
    "        print('Car has Automatic Transmission')\n",
    "\n",
    "# Car Object\n",
    "car = Car('Audi', 'R8', 9000000)\n",
    "car.show()\n",
    "# call methods from Car class\n",
    "car.max_speed()\n",
    "car.gear_system()\n",
    "\n",
    "# Vehicle Object\n",
    "vehicle = Vehicle('Nissan', 'Magnite', 550000)\n",
    "vehicle.show()\n",
    "# call method from a Vehicle class\n",
    "vehicle.max_speed()\n",
    "vehicle.gear_system()\n"
   ]
  },
  {
   "cell_type": "markdown",
   "id": "e055e1c8-9923-41b8-9627-e2aacc73e1f5",
   "metadata": {},
   "source": [
    "6. Create a Python class called `Animal` with a method `speak()`. Then, create child classes like `Dog`, `Cat`, and `Bird`, each with their own `speak()` method. Demonstrate polymorphism by calling the `speak()` method  on objects of different subclasses. \n"
   ]
  },
  {
   "cell_type": "code",
   "execution_count": 51,
   "id": "6a894152-47d8-4f8b-ba4a-140317e23f9a",
   "metadata": {},
   "outputs": [
    {
     "name": "stdout",
     "output_type": "stream",
     "text": [
      "I am Tim and I am 5 years old\n"
     ]
    }
   ],
   "source": [
    "class Animal():\n",
    "    def __init__(self, name, age):\n",
    "        self.name = name\n",
    "        self.age = age \n",
    "\n",
    "    def speak(self):\n",
    "        print(\"I am\", self.name, \"and I am\", self.age, \"years old\")\n",
    "\n",
    "\n",
    "class Dog(Animal):\n",
    "    def __init__(self, name, age):\n",
    "        self.name = name\n",
    "        self.age = age\n",
    "        self.type = \"dog\"\n",
    "\n",
    "    # Since we inherit from the animal class we can use the method speak on Dog objects\n",
    "\n",
    "\n",
    "tim = Dog(\"Tim\", 5)\n",
    "tim.speak()"
   ]
  },
  {
   "cell_type": "markdown",
   "id": "f1c926d1-7490-4be1-b745-79bcb8cc0196",
   "metadata": {},
   "source": [
    "7. Discuss the use of abstract methods and classes in achieving polymorphism in Python. Provide an example  using the `abc` module. \n"
   ]
  },
  {
   "cell_type": "markdown",
   "id": "231b9428-585b-45e5-85b5-ede6a877973a",
   "metadata": {},
   "source": [
    "Ans:By default, Python does not provide abstract classes. Python comes with a module that provides the base for defining Abstract Base classes(ABC) and that module name is ABC. ABC works by decorating methods of the base class as an abstract and then registering concrete classes as implementations of the abstract base. A method becomes abstract when decorated with the keyword @abstractmethod.\n"
   ]
  },
  {
   "cell_type": "code",
   "execution_count": 52,
   "id": "8c26b84f-38ed-48b6-b58e-d33a952a5ae0",
   "metadata": {},
   "outputs": [
    {
     "name": "stdout",
     "output_type": "stream",
     "text": [
      "I have 3 sides\n",
      "I have 4 sides\n",
      "I have 5 sides\n",
      "I have 6 sides\n"
     ]
    }
   ],
   "source": [
    "# Python program showing\n",
    "# abstract base class work\n",
    "from abc import ABC, abstractmethod\n",
    "\n",
    "\n",
    "class Polygon(ABC):\n",
    "\n",
    "\t@abstractmethod\n",
    "\tdef noofsides(self):\n",
    "\t\tpass\n",
    "\n",
    "\n",
    "class Triangle(Polygon):\n",
    "\n",
    "\t# overriding abstract method\n",
    "\tdef noofsides(self):\n",
    "\t\tprint(\"I have 3 sides\")\n",
    "\n",
    "\n",
    "class Pentagon(Polygon):\n",
    "\n",
    "\t# overriding abstract method\n",
    "\tdef noofsides(self):\n",
    "\t\tprint(\"I have 5 sides\")\n",
    "\n",
    "\n",
    "class Hexagon(Polygon):\n",
    "\n",
    "\t# overriding abstract method\n",
    "\tdef noofsides(self):\n",
    "\t\tprint(\"I have 6 sides\")\n",
    "\n",
    "\n",
    "class Quadrilateral(Polygon):\n",
    "\n",
    "\t# overriding abstract method\n",
    "\tdef noofsides(self):\n",
    "\t\tprint(\"I have 4 sides\")\n",
    "\n",
    "\n",
    "# Driver code\n",
    "R = Triangle()\n",
    "R.noofsides()\n",
    "\n",
    "K = Quadrilateral()\n",
    "K.noofsides()\n",
    "\n",
    "R = Pentagon()\n",
    "R.noofsides()\n",
    "\n",
    "K = Hexagon()\n",
    "K.noofsides()\n"
   ]
  },
  {
   "cell_type": "markdown",
   "id": "836c7623-1b84-4b4a-a43d-c905f7a72d28",
   "metadata": {},
   "source": [
    "8. Create a Python class hierarchy for a vehicle system (e.g., car, bicycle, boat) and implement a polymorphic `start()` method that prints a message specific to each vehicle type. \n"
   ]
  },
  {
   "cell_type": "code",
   "execution_count": 53,
   "id": "705c2cbd-e1f4-4ca6-aa09-3ca05ac56c80",
   "metadata": {},
   "outputs": [
    {
     "name": "stdout",
     "output_type": "stream",
     "text": [
      "Drive!\n",
      "Sail!\n",
      "Fly!\n"
     ]
    }
   ],
   "source": [
    "class Car:\n",
    "  def __init__(self, brand, model):\n",
    "    self.brand = brand\n",
    "    self.model = model\n",
    "\n",
    "  def move(self):\n",
    "    print(\"Drive!\")\n",
    "\n",
    "class Boat:\n",
    "  def __init__(self, brand, model):\n",
    "    self.brand = brand\n",
    "    self.model = model\n",
    "\n",
    "  def move(self):\n",
    "    print(\"Sail!\")\n",
    "\n",
    "class Plane:\n",
    "  def __init__(self, brand, model):\n",
    "    self.brand = brand\n",
    "    self.model = model\n",
    "\n",
    "  def move(self):\n",
    "    print(\"Fly!\")\n",
    "\n",
    "car1 = Car(\"Ford\", \"Mustang\")       #Create a Car class\n",
    "boat1 = Boat(\"Ibiza\", \"Touring 20\") #Create a Boat class\n",
    "plane1 = Plane(\"Boeing\", \"747\")     #Create a Plane class\n",
    "\n",
    "for x in (car1, boat1, plane1):\n",
    "  x.move()\n"
   ]
  },
  {
   "cell_type": "markdown",
   "id": "6eda14a1-4809-49c5-bfa5-544c3e9388a9",
   "metadata": {},
   "source": [
    "9. Explain the significance of the `isinstance()` and `issubclass()` functions in Python polymorphism. \n"
   ]
  },
  {
   "cell_type": "markdown",
   "id": "1dd54723-0184-442f-8e1f-a9a6e1a85e06",
   "metadata": {},
   "source": [
    "Ans:\n",
    "isinstance():\n",
    "This method is used to check if an object is an instance of a class. It takes two parameters. The first one is the object to test and the second one is a single class or a tuple of classes. It will check if the first parameter object is an instance of class classinfo. If the second parameter is a tuple of classes, it will check if the first object is an instance of any of the classes in the tuple.\n",
    "\n",
    "issubclass():\n",
    "This method is used to check if a class is a subclass of a different class. It will check if class is a subclass of another class classinfo or a tuple of classes. Note that for both methods, the second parameter is a single class or a tuple of classes.\n"
   ]
  },
  {
   "cell_type": "markdown",
   "id": "f047e358-dc80-40b0-a7c4-16c336c66d41",
   "metadata": {},
   "source": [
    "10. What is the role of the `@abstractmethod` decorator in achieving polymorphism in Python? Provide an  example. \n"
   ]
  },
  {
   "cell_type": "markdown",
   "id": "07d05237-293c-41ea-9a9a-be4b438c17b8",
   "metadata": {},
   "source": [
    "Ans:By default, Python does not provide abstract classes. Python comes with a module that provides the base for defining Abstract Base classes(ABC) and that module name is ABC. ABC works by decorating methods of the base class as an abstract and then registering concrete classes as implementations of the abstract base. A method becomes abstract when decorated with the keyword @abstractmethod.\n",
    "\n",
    "ex:\n"
   ]
  },
  {
   "cell_type": "code",
   "execution_count": 54,
   "id": "d12a5327-0a88-425f-b134-eea0192f4fe4",
   "metadata": {},
   "outputs": [
    {
     "name": "stdout",
     "output_type": "stream",
     "text": [
      "I have 3 sides\n",
      "I have 4 sides\n",
      "I have 5 sides\n",
      "I have 6 sides\n"
     ]
    }
   ],
   "source": [
    "# Python program showing\n",
    "# abstract base class work\n",
    "from abc import ABC, abstractmethod\n",
    "\n",
    "\n",
    "class Polygon(ABC):\n",
    "\n",
    "\t@abstractmethod\n",
    "\tdef noofsides(self):\n",
    "\t\tpass\n",
    "\n",
    "\n",
    "class Triangle(Polygon):\n",
    "\n",
    "\t# overriding abstract method\n",
    "\tdef noofsides(self):\n",
    "\t\tprint(\"I have 3 sides\")\n",
    "\n",
    "\n",
    "class Pentagon(Polygon):\n",
    "\n",
    "\t# overriding abstract method\n",
    "\tdef noofsides(self):\n",
    "\t\tprint(\"I have 5 sides\")\n",
    "\n",
    "\n",
    "class Hexagon(Polygon):\n",
    "\n",
    "\t# overriding abstract method\n",
    "\tdef noofsides(self):\n",
    "\t\tprint(\"I have 6 sides\")\n",
    "\n",
    "\n",
    "class Quadrilateral(Polygon):\n",
    "\n",
    "\t# overriding abstract method\n",
    "\tdef noofsides(self):\n",
    "\t\tprint(\"I have 4 sides\")\n",
    "\n",
    "\n",
    "# Driver code\n",
    "R = Triangle()\n",
    "R.noofsides()\n",
    "\n",
    "K = Quadrilateral()\n",
    "K.noofsides()\n",
    "\n",
    "R = Pentagon()\n",
    "R.noofsides()\n",
    "\n",
    "K = Hexagon()\n",
    "K.noofsides()\n"
   ]
  },
  {
   "cell_type": "markdown",
   "id": "f71f6681-e7c6-47d1-b74c-569d2f1f1324",
   "metadata": {},
   "source": [
    "11. Create a Python class called `Shape` with a polymorphic method `area()` that calculates the area of different shapes (e.g., circle, rectangle, triangle). \n"
   ]
  },
  {
   "cell_type": "code",
   "execution_count": 55,
   "id": "b2c354e0-0588-494b-bb80-3199d4964004",
   "metadata": {},
   "outputs": [
    {
     "name": "stdout",
     "output_type": "stream",
     "text": [
      "314.0\n",
      "600\n"
     ]
    }
   ],
   "source": [
    "class Shape:\n",
    "  def __init__(self, name):\n",
    "    self.name = name\n",
    "\n",
    "class Circle(Shape):\n",
    "  def __init__(self, name, radius):\n",
    "    super().__init__(name)\n",
    "    self.radius = radius\n",
    "\n",
    "class Rectangle(Shape):\n",
    "  def __init__(self, name, width, height):\n",
    "    super().__init__(name)\n",
    "    self.width = width\n",
    "    self.height = height\n",
    "\n",
    "def calculate_area(shape):\n",
    "  if isinstance(shape, Circle):\n",
    "    return shape.radius ** 2 * 3.14\n",
    "  elif isinstance(shape, Rectangle):\n",
    "    return shape.width * shape.height\n",
    "\n",
    "circle = Circle(\"Circle\", 10)\n",
    "rectangle = Rectangle(\"Rectangle\", 20, 30)\n",
    "\n",
    "print(calculate_area(circle))  \n",
    "print(calculate_area(rectangle))  \n"
   ]
  },
  {
   "cell_type": "markdown",
   "id": "705c0766-c3ff-4132-b50a-5709766f3a19",
   "metadata": {},
   "source": [
    "12. Discuss the benefits of polymorphism in terms of code reusability and flexibility in Python programs. \n"
   ]
  },
  {
   "cell_type": "markdown",
   "id": "60f7035c-ec5a-4567-b177-98ab9679c093",
   "metadata": {},
   "source": [
    "Ans:1)Code Reusability: Polymorphism promotes code reusability by enabling the use of a common interface or superclass to interact with different derived classes. This reduces redundant code and makes it easier to maintain and extend the software.\n",
    "\n",
    "\n",
    "2)Flexibility and Extensibility: Polymorphism allows you to add new subclasses without modifying existing code. This flexibility makes it easier to introduce new functionality to your application without affecting the existing codebase.\n"
   ]
  },
  {
   "cell_type": "markdown",
   "id": "91ec97f1-58b5-4c19-a0ca-cf87ada3233a",
   "metadata": {},
   "source": [
    "13. Explain the use of the `super()` function in Python polymorphism. How does it help call methods of parent  classes? \n"
   ]
  },
  {
   "cell_type": "markdown",
   "id": "977d0810-f56c-4893-82fa-7e02760e26eb",
   "metadata": {},
   "source": [
    "Ans:In Python, the super() function is used to refer to the parent class or superclass. It allows you to call methods defined in the superclass from the subclass, enabling you to extend and customize the functionality inherited from the parent class.\n"
   ]
  },
  {
   "cell_type": "markdown",
   "id": "3af3ebfd-2b94-40d1-a38c-ef6bb9f65902",
   "metadata": {},
   "source": [
    "14. Create a Python class hierarchy for a banking system with various account types (e.g., savings, checking, credit card) and demonstrate polymorphism by implementing a common `withdraw()` method. \n"
   ]
  },
  {
   "cell_type": "code",
   "execution_count": 56,
   "id": "16b74bb4-9040-4296-887a-26b0e025ecc8",
   "metadata": {},
   "outputs": [
    {
     "name": "stdout",
     "output_type": "stream",
     "text": [
      "Hello!!! Welcome to the Deposit & Withdrawal Machine\n"
     ]
    },
    {
     "name": "stdin",
     "output_type": "stream",
     "text": [
      "Enter amount to be Deposited:  1000\n"
     ]
    },
    {
     "name": "stdout",
     "output_type": "stream",
     "text": [
      "\n",
      " Amount Deposited: 1000.0\n"
     ]
    },
    {
     "name": "stdin",
     "output_type": "stream",
     "text": [
      "Enter amount to be Withdrawn:  50000\n"
     ]
    },
    {
     "name": "stdout",
     "output_type": "stream",
     "text": [
      "\n",
      " Insufficient balance \n",
      "\n",
      " Net Available Balance= 1000.0\n"
     ]
    }
   ],
   "source": [
    "# Python program to create Bankaccount class\n",
    "# with both a deposit() and a withdraw() function\n",
    "class Bank_Account:\n",
    "\tdef __init__(self):\n",
    "\t\tself.balance=0\n",
    "\t\tprint(\"Hello!!! Welcome to the Deposit & Withdrawal Machine\")\n",
    "\n",
    "\tdef deposit(self):\n",
    "\t\tamount=float(input(\"Enter amount to be Deposited: \"))\n",
    "\t\tself.balance += amount\n",
    "\t\tprint(\"\\n Amount Deposited:\",amount)\n",
    "\n",
    "\tdef withdraw(self):\n",
    "\t\tamount = float(input(\"Enter amount to be Withdrawn: \"))\n",
    "\t\tif self.balance>=amount:\n",
    "\t\t\tself.balance-=amount\n",
    "\t\t\tprint(\"\\n You Withdrew:\", amount)\n",
    "\t\telse:\n",
    "\t\t\tprint(\"\\n Insufficient balance \")\n",
    "\n",
    "\tdef display(self):\n",
    "\t\tprint(\"\\n Net Available Balance=\",self.balance)\n",
    "\n",
    "# Driver code\n",
    "\n",
    "# creating an object of class\n",
    "s = Bank_Account()\n",
    "\n",
    "# Calling functions with that class object\n",
    "s.deposit()\n",
    "s.withdraw()\n",
    "s.display()\n"
   ]
  },
  {
   "cell_type": "markdown",
   "id": "7c43fc3d-2c30-4a9e-9fb7-b60b6a9683b4",
   "metadata": {},
   "source": [
    "15. Describe the concept of operator overloading in Python and how it relates to polymorphism. Provide  examples using operators like `+` and `*`\n"
   ]
  },
  {
   "cell_type": "markdown",
   "id": "b96ab939-49ec-40a8-8a1e-7e1d13793229",
   "metadata": {},
   "source": [
    "Ans:Operator Overloading means giving extended meaning beyond their predefined operational meaning. For example operator + is used to add two integers as well as join two strings and merge two lists. It is achievable because ‘+’ operator is overloaded by int class and str class. You might have noticed that the same built-in operator or function shows different behavior for objects of different classes, this is called Operator Overloading. \n"
   ]
  },
  {
   "cell_type": "code",
   "execution_count": 57,
   "id": "9ff477ff-6c44-49eb-bf06-38b052867e1c",
   "metadata": {},
   "outputs": [
    {
     "name": "stdout",
     "output_type": "stream",
     "text": [
      "3\n",
      "aditirahade\n",
      "12\n",
      "aditiaditiaditiaditi\n"
     ]
    }
   ],
   "source": [
    "# Python program to show use of\n",
    "# + operator for different purposes.\n",
    "\n",
    "print(1 + 2)\n",
    "\n",
    "# concatenate two strings\n",
    "print(\"aditi\"+\"rahade\") \n",
    "\n",
    "# Product two numbers\n",
    "print(3 * 4)\n",
    "\n",
    "# Repeat the String\n",
    "print(\"aditi\"*4)\n"
   ]
  },
  {
   "cell_type": "markdown",
   "id": "4fa05247-de9c-4f46-8d70-8505bc655cd7",
   "metadata": {},
   "source": [
    "16. What is dynamic polymorphism, and how is it achieved in Python? \n"
   ]
  },
  {
   "cell_type": "markdown",
   "id": "66864822-8c50-4d74-8188-dafef976a26b",
   "metadata": {},
   "source": [
    "Ans:Dynamic polymorphism is the most powerful feature of object oriented programming, which allows us to program against abstractions whose real behavior is only defined at run time.\n"
   ]
  },
  {
   "cell_type": "markdown",
   "id": "0833d214-1d51-4ed4-962d-e8e8ef858e5c",
   "metadata": {},
   "source": [
    "17. Create a Python class hierarchy for employees in a company (e.g., manager, developer, designer) and implement polymorphism through a common `calculate_salary()` method.\n"
   ]
  },
  {
   "cell_type": "markdown",
   "id": "a3d525bd-0703-4ade-98ec-31d5bbd3714c",
   "metadata": {},
   "source": [
    "18. Discuss the concept of function pointers and how they can be used to achieve polymorphism in Python.\n"
   ]
  },
  {
   "cell_type": "markdown",
   "id": "21247296-f8f8-4542-a446-d62ef4b5b64f",
   "metadata": {},
   "source": [
    "Ans:Function pointers are a way to store the memory address of a function in a variable, so that it can be called later. They are useful in situations where you want to pass a function as an argument to another function, or when you want to store a function for use later. For example, you might use a function pointer to pass a sorting function to a sorting algorithm, so that the algorithm can be used with different types of data. Or, you might use a function pointer as a callback function, which is called when a certain event happens.Function pointers should be used when you need to pass a function as an argument, or when you need to store a function for use later. They can also be used to create more flexible and reusable code.\n"
   ]
  },
  {
   "cell_type": "markdown",
   "id": "f224410d-8583-4908-9f28-77e40db33f52",
   "metadata": {},
   "source": [
    " 19. Explain the role of interfaces and abstract classes in polymorphism, drawing comparisons between them. \n"
   ]
  },
  {
   "cell_type": "markdown",
   "id": "e35662f9-51db-43b0-a1c5-333ec14c3fba",
   "metadata": {},
   "source": [
    "Ans:1)interface:An interface defines a contract between a class and its users. It specifies a set of methods that a class must implement in order to be considered compatible with the interface. In Python, interfaces can be implemented using abstract base classes (ABCs).\n",
    "\n",
    "For example, suppose we want to implement the Shape interface for a Rectangle class. We can do so as follows:\n",
    "\n",
    "2)An abstract class is a class that cannot be instantiated directly. Instead, it’s intended to be subclassed by other classes that provide concrete implementations of its abstract methods. Abstract classes are useful for defining a common interface for a group of related classes.\n",
    "\n",
    "For example, suppose we have a Vehicle abstract class that defines a common interface for all types of vehicles. We can define the Vehicle abstract class in Python using the abc module as follows:\n",
    "\n"
   ]
  },
  {
   "cell_type": "code",
   "execution_count": 59,
   "id": "4ea04f42-fe62-4858-a14e-2f8b394e74cc",
   "metadata": {},
   "outputs": [],
   "source": [
    "from abc import ABC, abstractmethod\n",
    "\n",
    "class Vehicle(ABC):\n",
    "    @abstractmethod\n",
    "    def start_engine(self):\n",
    "        pass\n",
    "    \n",
    "    @abstractmethod\n",
    "    def stop_engine(self):\n",
    "        pass\n",
    "    \n",
    "    @abstractmethod\n",
    "    def accelerate(self):\n",
    "        pass\n",
    "    \n",
    "    @abstractmethod\n",
    "    def brake(self):\n",
    "        pass\n"
   ]
  },
  {
   "cell_type": "markdown",
   "id": "7585fa33-ab1b-4d71-930a-23af714527ee",
   "metadata": {},
   "source": [
    "20. Create a Python class for a zoo simulation, demonstrating polymorphism with different animal types (e.g., mammals, birds, reptiles) and their behavior (e.g., eating, sleeping, making sounds). \n"
   ]
  },
  {
   "cell_type": "markdown",
   "id": "35979e74-eb00-41d0-8c51-a2c61b915c9b",
   "metadata": {},
   "source": [
    "Abstraction: \n"
   ]
  },
  {
   "cell_type": "markdown",
   "id": "daa86092-5756-4223-a69d-be1d1cada2b5",
   "metadata": {},
   "source": [
    "1. What is abstraction in Python, and how does it relate to object-oriented programming? \n"
   ]
  },
  {
   "cell_type": "markdown",
   "id": "2e566e30-b640-4cc8-a54e-4bee442afdca",
   "metadata": {},
   "source": [
    "Ans:Abstraction in python is defined as a process of handling complexity by hiding unnecessary information from the user. This is one of the core concepts of object-oriented programming (OOP) languages. That enables the user to implement even more complex logic on top of the provided abstraction without understanding or even thinking about all the hidden background/back-end complexity.\n"
   ]
  },
  {
   "cell_type": "markdown",
   "id": "eb73348a-0fb3-47b0-80c7-c82fcac0439a",
   "metadata": {},
   "source": [
    "2. Describe the benefits of abstraction in terms of code organization and complexity reduction. \n"
   ]
  },
  {
   "cell_type": "markdown",
   "id": "dd41f00c-e2ec-4345-8a1f-af2351b9a38e",
   "metadata": {},
   "source": [
    "Ans:Through the process of abstraction, a programmer hides all but the relevant data about an object in order to reduce complexity and increase efficiency. In the same way that abstraction sometimes works in art, the object that remains is a representation of the original, with unwanted detail omitted.\n"
   ]
  },
  {
   "cell_type": "markdown",
   "id": "1c94f640-02ad-4b31-a7ea-d84031b75c33",
   "metadata": {},
   "source": [
    "3. Create a Python class called `Shape` with an abstract method `calculate_area()`. Then, create child classes (e.g., `Circle`, `Rectangle`) that implement the `calculate_area()` method. Provide an example of  using these classes. \n"
   ]
  },
  {
   "cell_type": "code",
   "execution_count": 60,
   "id": "34464e15-b934-4211-b1d1-e2c47569afbe",
   "metadata": {},
   "outputs": [
    {
     "name": "stdout",
     "output_type": "stream",
     "text": [
      "Radius of the circle: 7\n",
      "Circle Area: 153.93804002589985\n",
      "Circle Perimeter: 43.982297150257104\n",
      "\n",
      "Rectangle: Length = 5  Width = 7\n",
      "Rectangle Area: 35\n",
      "Rectangle Perimeter: 24\n",
      "\n",
      "Triangle: Base = 5  Height = 4  side1 = 4  side2 = 3  side3 = 5\n",
      "Triangle Area: 10.0\n",
      "Triangle Perimeter: 12\n"
     ]
    }
   ],
   "source": [
    "# Import the math module to access mathematical functions like pi\n",
    "import math\n",
    "\n",
    "# Define a base class called Shape to represent a generic shape with methods for calculating area and perimeter\n",
    "class Shape:\n",
    "    # Placeholder method for calculating area (to be implemented in derived classes)\n",
    "    def calculate_area(self):\n",
    "        pass\n",
    "\n",
    "    # Placeholder method for calculating perimeter (to be implemented in derived classes)\n",
    "    def calculate_perimeter(self):\n",
    "        pass\n",
    "\n",
    "# Define a derived class called Circle, which inherits from the Shape class\n",
    "class Circle(Shape):\n",
    "    # Initialize the Circle object with a given radius\n",
    "    def __init__(self, radius):\n",
    "        self.radius = radius\n",
    "\n",
    "    # Calculate and return the area of the circle using the formula: π * r^2\n",
    "    def calculate_area(self):\n",
    "        return math.pi * self.radius**2\n",
    "\n",
    "    # Calculate and return the perimeter of the circle using the formula: 2π * r\n",
    "    def calculate_perimeter(self):\n",
    "        return 2 * math.pi * self.radius\n",
    "\n",
    "# Define a derived class called Rectangle, which inherits from the Shape class\n",
    "class Rectangle(Shape):\n",
    "    # Initialize the Rectangle object with given length and width\n",
    "    def __init__(self, length, width):\n",
    "        self.length = length\n",
    "        self.width = width\n",
    "\n",
    "    # Calculate and return the area of the rectangle using the formula: length * width\n",
    "    def calculate_area(self):\n",
    "        return self.length * self.width\n",
    "\n",
    "    # Calculate and return the perimeter of the rectangle using the formula: 2 * (length + width)\n",
    "    def calculate_perimeter(self):\n",
    "        return 2 * (self.length + self.width)\n",
    "\n",
    "# Define a derived class called Triangle, which inherits from the Shape class\n",
    "class Triangle(Shape):\n",
    "    # Initialize the Triangle object with a base, height, and three side lengths\n",
    "    def __init__(self, base, height, side1, side2, side3):\n",
    "        self.base = base\n",
    "        self.height = height\n",
    "        self.side1 = side1\n",
    "        self.side2 = side2\n",
    "        self.side3 = side3\n",
    "\n",
    "    # Calculate and return the area of the triangle using the formula: 0.5 * base * height\n",
    "    def calculate_area(self):\n",
    "        return 0.5 * self.base * self.height\n",
    "\n",
    "    # Calculate and return the perimeter of the triangle by adding the lengths of its three sides\n",
    "    def calculate_perimeter(self):\n",
    "        return self.side1 + self.side2 + self.side3\n",
    "\n",
    "# Example usage\n",
    "# Create a Circle object with a given radius and calculate its area and perimeter\n",
    "r = 7\n",
    "circle = Circle(r)\n",
    "circle_area = circle.calculate_area()\n",
    "circle_perimeter = circle.calculate_perimeter()\n",
    "\n",
    "# Print the results for the Circle\n",
    "print(\"Radius of the circle:\", r)\n",
    "print(\"Circle Area:\", circle_area)\n",
    "print(\"Circle Perimeter:\", circle_perimeter)\n",
    "\n",
    "# Create a Rectangle object with given length and width and calculate its area and perimeter\n",
    "l = 5\n",
    "w = 7\n",
    "rectangle = Rectangle(l, w)\n",
    "rectangle_area = rectangle.calculate_area()\n",
    "rectangle_perimeter = rectangle.calculate_perimeter()\n",
    "\n",
    "# Print the results for the Rectangle\n",
    "print(\"\\nRectangle: Length =\", l, \" Width =\", w)\n",
    "print(\"Rectangle Area:\", rectangle_area)\n",
    "print(\"Rectangle Perimeter:\", rectangle_perimeter)\n",
    "\n",
    "# Create a Triangle object with a base, height, and three side lengths, and calculate its area and perimeter\n",
    "base = 5\n",
    "height = 4\n",
    "s1 = 4\n",
    "s2 = 3\n",
    "s3 = 5\n",
    "\n",
    "# Print the results for the Triangle\n",
    "print(\"\\nTriangle: Base =\", base, \" Height =\", height, \" side1 =\", s1, \" side2 =\", s2, \" side3 =\", s3)\n",
    "triangle = Triangle(base, height, s1, s2, s3)\n",
    "triangle_area = triangle.calculate_area()\n",
    "triangle_perimeter = triangle.calculate_perimeter()\n",
    "print(\"Triangle Area:\", triangle_area)\n",
    "print(\"Triangle Perimeter:\", triangle_perimeter)\n"
   ]
  },
  {
   "cell_type": "markdown",
   "id": "c22aad0d-5412-4d64-b812-1a6a7be83a9f",
   "metadata": {},
   "source": [
    "4. Explain the concept of abstract classes in Python and how they are defined using the `abc` module. Provide  an example.\n"
   ]
  },
  {
   "cell_type": "markdown",
   "id": "f7da12b0-d79e-43dc-9e68-4d5db693ae59",
   "metadata": {},
   "source": [
    "Ans:In Python, you can create an abstract class using the abc module. This module provides the infrastructure for defining abstract base classes (ABCs). In this example, we import the ABC and abstractmethod from the abc module. We then define an abstract class AbstractClassExample using the ABC as the base class.\n"
   ]
  },
  {
   "cell_type": "code",
   "execution_count": 61,
   "id": "a44c4876-544b-42a0-8da7-47cfed078958",
   "metadata": {},
   "outputs": [],
   "source": [
    "from abc import ABC, abstractmethod\n",
    "\n",
    "class AbstractClassExample(ABC):\n",
    "    @abstractmethod\n",
    "    def do_something(self):\n",
    "        pass\n",
    "\n",
    "    "
   ]
  },
  {
   "cell_type": "markdown",
   "id": "1ba5a6bb-21d8-4e45-9e5c-aaa915f74fd7",
   "metadata": {},
   "source": [
    "5. How do abstract classes differ from regular classes in Python? Discuss their use cases. \n"
   ]
  },
  {
   "cell_type": "markdown",
   "id": "bc2c93eb-7a20-44e7-8803-69fdf3365e48",
   "metadata": {},
   "source": [
    "Ans:Abstract classes are similar to normal classes, with the difference that they can include abstract methods, which are methods without a body. Abstract classes cannot be instantiated.\n"
   ]
  },
  {
   "cell_type": "markdown",
   "id": "0a879d8f-88a1-441f-85fd-01a37db0ca6d",
   "metadata": {},
   "source": [
    "6.Create a Python class for a bank account and demonstrate abstraction by hiding the account balance and  providing methods to deposit and withdraw funds. \n"
   ]
  },
  {
   "cell_type": "code",
   "execution_count": 62,
   "id": "7c298c28-853e-459d-b7da-cbc8a727e7da",
   "metadata": {},
   "outputs": [
    {
     "name": "stdout",
     "output_type": "stream",
     "text": [
      "Hello!!! Welcome to the Deposit & Withdrawal Machine\n"
     ]
    },
    {
     "name": "stdin",
     "output_type": "stream",
     "text": [
      "Enter amount to be Deposited:  1000\n"
     ]
    },
    {
     "name": "stdout",
     "output_type": "stream",
     "text": [
      "\n",
      " Amount Deposited: 1000.0\n"
     ]
    },
    {
     "name": "stdin",
     "output_type": "stream",
     "text": [
      "Enter amount to be Withdrawn:  500\n"
     ]
    },
    {
     "name": "stdout",
     "output_type": "stream",
     "text": [
      "\n",
      " You Withdrew: 500.0\n",
      "\n",
      " Net Available Balance= 500.0\n"
     ]
    }
   ],
   "source": [
    "# Python program to create Bankaccount class\n",
    "# with both a deposit() and a withdraw() function\n",
    "class Bank_Account:\n",
    "\tdef __init__(self):\n",
    "\t\tself.balance=0\n",
    "\t\tprint(\"Hello!!! Welcome to the Deposit & Withdrawal Machine\")\n",
    "\n",
    "\tdef deposit(self):\n",
    "\t\tamount=float(input(\"Enter amount to be Deposited: \"))\n",
    "\t\tself.balance += amount\n",
    "\t\tprint(\"\\n Amount Deposited:\",amount)\n",
    "\n",
    "\tdef withdraw(self):\n",
    "\t\tamount = float(input(\"Enter amount to be Withdrawn: \"))\n",
    "\t\tif self.balance>=amount:\n",
    "\t\t\tself.balance-=amount\n",
    "\t\t\tprint(\"\\n You Withdrew:\", amount)\n",
    "\t\telse:\n",
    "\t\t\tprint(\"\\n Insufficient balance \")\n",
    "\n",
    "\tdef display(self):\n",
    "\t\tprint(\"\\n Net Available Balance=\",self.balance)\n",
    "\n",
    "# Driver code\n",
    "\n",
    "# creating an object of class\n",
    "s = Bank_Account()\n",
    "\n",
    "# Calling functions with that class object\n",
    "s.deposit()\n",
    "s.withdraw()\n",
    "s.display()\n"
   ]
  },
  {
   "cell_type": "markdown",
   "id": "1828ab18-c6f8-4db2-9a0a-934a16001327",
   "metadata": {},
   "source": [
    "7. Discuss the concept of interface classes in Python and their role in achieving abstraction. \n"
   ]
  },
  {
   "cell_type": "markdown",
   "id": "1d400409-96be-4d75-85d4-4eff2779bb22",
   "metadata": {},
   "source": [
    "Ans:At a high level, an interface acts as a blueprint for designing classes. Like classes, interfaces define methods. Unlike classes, these methods are abstract. An abstract method is one that the interface simply defines.\n"
   ]
  },
  {
   "cell_type": "markdown",
   "id": "764485e7-ce45-4470-8be8-d6dfff18f51d",
   "metadata": {},
   "source": [
    "8. Create a Python class hierarchy for animals and implement abstraction by defining common methods (e.g., `eat()`, `sleep()`) in an abstract base class. \n"
   ]
  },
  {
   "cell_type": "code",
   "execution_count": 63,
   "id": "25e65762-4ac4-4567-921a-bc9311c5c503",
   "metadata": {},
   "outputs": [
    {
     "name": "stdout",
     "output_type": "stream",
     "text": [
      "I can walk and run\n",
      "I can crawl\n",
      "I can bark\n",
      "I can roar\n"
     ]
    }
   ],
   "source": [
    "# Python program showing\n",
    "# abstract base class work\n",
    "from abc import ABC, abstractmethod\n",
    "\n",
    "\n",
    "class Animal(ABC):\n",
    "\n",
    "\tdef move(self):\n",
    "\t\tpass\n",
    "\n",
    "class Human(Animal):\n",
    "\n",
    "\tdef move(self):\n",
    "\t\tprint(\"I can walk and run\")\n",
    "\n",
    "class Snake(Animal):\n",
    "\n",
    "\tdef move(self):\n",
    "\t\tprint(\"I can crawl\")\n",
    "\n",
    "class Dog(Animal):\n",
    "\n",
    "\tdef move(self):\n",
    "\t\tprint(\"I can bark\")\n",
    "\n",
    "class Lion(Animal):\n",
    "\n",
    "\tdef move(self):\n",
    "\t\tprint(\"I can roar\")\n",
    "\n",
    "# Driver code\n",
    "R = Human()\n",
    "R.move()\n",
    "\n",
    "K = Snake()\n",
    "K.move()\n",
    "\n",
    "R = Dog()\n",
    "R.move()\n",
    "\n",
    "K = Lion()\n",
    "K.move()\n"
   ]
  },
  {
   "cell_type": "markdown",
   "id": "c3b9b93d-6779-448d-a53f-1caf67e59147",
   "metadata": {},
   "source": [
    "9. Explain the significance of encapsulation in achieving abstraction. Provide examples. \n"
   ]
  },
  {
   "cell_type": "markdown",
   "id": "0cf5737c-0015-4132-b73e-99248b1c0fc1",
   "metadata": {},
   "source": [
    "Ans:Encapsulation: It is binding the data and the functions that manipulate that data a into one big object. Abstraction: Abstraction is showing essential features and hiding non-essential features to the user. encapsulation can be loosely defined as the wrapping up of data into a single unit.\n"
   ]
  },
  {
   "cell_type": "markdown",
   "id": "3a023c57-f89f-49d7-bbe3-ae59ecbf1b24",
   "metadata": {},
   "source": [
    " 10. What is the purpose of abstract methods, and how do they enforce abstraction in Python classes? \n"
   ]
  },
  {
   "cell_type": "markdown",
   "id": "649ea24f-371b-49ff-bda1-db4105feb89d",
   "metadata": {},
   "source": [
    "Ans:Real templates are abstracted classes. As, we are defining the template in the form of abstract method i.e. without definition or actual implementation. Abstraction is a concept of Object-Oriented Programing. This concept makes you able to hide the features and implementation from external manipulation or interaction.\n"
   ]
  },
  {
   "cell_type": "markdown",
   "id": "c1ecc15e-a465-4ccf-82b4-4b40181fb8fa",
   "metadata": {},
   "source": [
    "11. Create a Python class for a vehicle system and demonstrate abstraction by defining common methods (e.g., `start()`, `stop()`) in an abstract base class. \n"
   ]
  },
  {
   "cell_type": "markdown",
   "id": "e54c4301-c459-4d9c-8446-b1a2181bee49",
   "metadata": {},
   "source": [
    "12. Describe the use of abstract properties in Python and how they can be employed in abstract classes. \n"
   ]
  },
  {
   "cell_type": "markdown",
   "id": "f87fea9b-93c5-4b2c-8d30-256efee5a311",
   "metadata": {},
   "source": [
    "Ans:One of the primary use cases for abstract classes is providing a common interface for subclasses. This means that you can define a set of methods and properties that must be implemented by any concrete subclass of the abstract class. Another use case for abstract classes is facilitating code reuse.\n"
   ]
  },
  {
   "cell_type": "markdown",
   "id": "5de770a6-d242-41c5-ad41-d34fcd69fa25",
   "metadata": {},
   "source": [
    "13. Create a Python class hierarchy for employees in a company (e.g., manager, developer, designer) and implement abstraction by defining a common `get_salary()` method. \n"
   ]
  },
  {
   "cell_type": "code",
   "execution_count": 64,
   "id": "017927d2-f68c-4b0d-83fd-759eb2460693",
   "metadata": {},
   "outputs": [
    {
     "name": "stdout",
     "output_type": "stream",
     "text": [
      "Original Employee Details:\n",
      "\n",
      "Name:  ADAMS\n",
      "ID:  E7876\n",
      "Salary:  50000\n",
      "Department:  ACCOUNTING\n",
      "----------------------\n",
      "\n",
      "Name:  JONES\n",
      "ID:  E7499\n",
      "Salary:  45000\n",
      "Department:  RESEARCH\n",
      "----------------------\n",
      "\n",
      "Name:  MARTIN\n",
      "ID:  E7900\n",
      "Salary:  50000\n",
      "Department:  SALES\n",
      "----------------------\n",
      "\n",
      "Name:  SMITH\n",
      "ID:  E7698\n",
      "Salary:  55000\n",
      "Department:  OPERATIONS\n",
      "----------------------\n",
      "Updated Employee Details:\n",
      "\n",
      "Name:  ADAMS\n",
      "ID:  E7876\n",
      "Salary:  50000\n",
      "Department:  OPERATIONS\n",
      "----------------------\n",
      "\n",
      "Name:  JONES\n",
      "ID:  E7499\n",
      "Salary:  46800.0\n",
      "Department:  RESEARCH\n",
      "----------------------\n",
      "\n",
      "Name:  MARTIN\n",
      "ID:  E7900\n",
      "Salary:  50000\n",
      "Department:  SALES\n",
      "----------------------\n",
      "\n",
      "Name:  SMITH\n",
      "ID:  E7698\n",
      "Salary:  66000.0\n",
      "Department:  SALES\n",
      "----------------------\n"
     ]
    }
   ],
   "source": [
    "class Employee:\n",
    "    def __init__(self, name, emp_id, salary, department):\n",
    "        self.name = name\n",
    "        self.id = emp_id\n",
    "        self.salary = salary\n",
    "        self.department = department\n",
    "\n",
    "    def calculate_salary(self, salary, hours_worked):\n",
    "        overtime = 0\n",
    "        if hours_worked > 50:\n",
    "            overtime = hours_worked - 50\n",
    "        self.salary = self.salary + (overtime * (self.salary / 50))\n",
    "\n",
    "    def assign_department(self, emp_department):\n",
    "        self.department = emp_department\n",
    "\n",
    "    def print_employee_details(self):\n",
    "        print(\"\\nName: \", self.name)\n",
    "        print(\"ID: \", self.id)\n",
    "        print(\"Salary: \", self.salary)\n",
    "        print(\"Department: \", self.department)\n",
    "        print(\"----------------------\")\n",
    "\n",
    "\n",
    "employee1 = Employee(\"ADAMS\", \"E7876\", 50000, \"ACCOUNTING\")\n",
    "employee2 = Employee(\"JONES\", \"E7499\", 45000, \"RESEARCH\")\n",
    "employee3 = Employee(\"MARTIN\", \"E7900\", 50000, \"SALES\")\n",
    "employee4 = Employee(\"SMITH\", \"E7698\", 55000, \"OPERATIONS\")\n",
    "\n",
    "print(\"Original Employee Details:\")\n",
    "employee1.print_employee_details()\n",
    "employee2.print_employee_details()\n",
    "employee3.print_employee_details()\n",
    "employee4.print_employee_details()\n",
    "\n",
    "# Change the departments of employee1 and employee4\n",
    "employee1.assign_department(\"OPERATIONS\")\n",
    "employee4.assign_department(\"SALES\")\n",
    "\n",
    "# Now calculate the overtime of the employees who are eligible:\n",
    "employee2.calculate_salary(45000, 52)\n",
    "employee4.calculate_salary(45000, 60)\n",
    "\n",
    "print(\"Updated Employee Details:\")\n",
    "employee1.print_employee_details()\n",
    "employee2.print_employee_details()\n",
    "employee3.print_employee_details()\n",
    "employee4.print_employee_details()\n"
   ]
  },
  {
   "cell_type": "markdown",
   "id": "3619b440-a21a-4f5b-9fc7-f0dc8f75c4f5",
   "metadata": {},
   "source": [
    "14. Discuss the differences between abstract classes and concrete classes in Python, including their  instantiation.\n"
   ]
  },
  {
   "cell_type": "markdown",
   "id": "efd9f278-d522-48d8-bd5f-f0e0690214ec",
   "metadata": {},
   "source": [
    "Ans:1)abstract class:\n",
    "An abstract class can be considered a blueprint for other classes. It allows you to create a set of methods that must be created within any child classes built from the abstract class. A class that contains one or more abstract methods is called an abstract class. An abstract method is a method that has a declaration but does not have an implementation. While we are designing large functional units we use an abstract class. When we want to provide a common interface for different implementations of a component, we use an abstract class. \n",
    "\n",
    "2)Concreate class:\n",
    "Concrete classes contain only concrete (normal)methods whereas abstract classes may contain both concrete methods and abstract methods. The concrete class provides an implementation of abstract methods, the abstract base class can also provide an implementation by invoking the methods via super().\n"
   ]
  },
  {
   "cell_type": "markdown",
   "id": "472a0459-0a52-4f97-b6ca-ef202ca1365f",
   "metadata": {},
   "source": [
    "15. Explain the concept of abstract data types (ADTs) and their role in achieving abstraction in Python. \n"
   ]
  },
  {
   "cell_type": "markdown",
   "id": "c899fe3f-78c9-4d19-a523-5e0e57832a01",
   "metadata": {},
   "source": [
    "Ans:Abstract data types (ADTs) are a way of encapsulating data and operations on that data into a single unit. Some of the key features of ADTs include: Abstraction: The user does not need to know the implementation of the data structure only essentials are provided.\n"
   ]
  },
  {
   "cell_type": "markdown",
   "id": "587d76bd-9837-436d-93bd-6047a0c4982c",
   "metadata": {},
   "source": [
    "16. Create a Python class for a computer system, demonstrating abstraction by defining common methods (e.g., `power_on()`, `shutdown()`) in an abstract base class. \n"
   ]
  },
  {
   "cell_type": "markdown",
   "id": "8c877e7c-6dad-4aff-89f6-6715f6fb840f",
   "metadata": {},
   "source": [
    "17. Discuss the benefits of using abstraction in large-scale software development projects.\n"
   ]
  },
  {
   "cell_type": "markdown",
   "id": "2d843361-ec5e-47b3-8dde-c91c772e2f1d",
   "metadata": {},
   "source": [
    "Ans:It reduces the complexity of viewing the things.\n",
    "Helps to increase security of an application or program as only important details are provided to the user.\n",
    "Avoids code duplication and increases reusability.\n",
    "Can change internal implementation of class independently without affecting the user.\n"
   ]
  },
  {
   "cell_type": "markdown",
   "id": "e8a0db7d-9738-4bd1-9e00-64b992a7c662",
   "metadata": {},
   "source": [
    "18. Explain how abstraction enhances code reusability and modularity in Python programs. \n"
   ]
  },
  {
   "cell_type": "markdown",
   "id": "052caf68-85b4-4eb5-8185-a218666b3217",
   "metadata": {},
   "source": [
    "Abstraction and modularity are two key principles that can help simplify coding projects by breaking them down into smaller, more manageable pieces. Abstraction is the process of taking something complex and breaking it down into simpler, more manageable parts, while modularity is the practice of creating self-contained, reusable units of code. By using abstraction and modularity, developers can create code that is easier to understand, maintain, and modify, which can ultimately lead to a more efficient and effective development process. Additionally, abstraction and modularity can help improve the scalability and reliability of a codebase by making it easier to add new features or fix bugs without affecting the rest of the code.\n"
   ]
  },
  {
   "cell_type": "markdown",
   "id": "ec67dab2-f98f-49fe-bbad-7b314e600dde",
   "metadata": {},
   "source": [
    "19. Create a Python class for a library system, implementing abstraction by defining common methods (e.g., `add_book()`, `borrow_book()`) in an abstract base class. \n"
   ]
  },
  {
   "cell_type": "markdown",
   "id": "f10c15d0-d195-429a-8759-58e65409451d",
   "metadata": {},
   "source": [
    "20. Describe the concept of method abstraction in Python and how it relates to polymorphism. \n"
   ]
  },
  {
   "cell_type": "markdown",
   "id": "50fc6f03-8e6f-4575-8de2-a0b5f3de79a7",
   "metadata": {},
   "source": [
    "Ans:1) Abstraction allows a programmer to design software better by thinking in general terms rather than specific terms while Polymorphism allows a programmer to defer choosing the code you want to execute at runtime.\n",
    "\n",
    "2)Abstraction and Polymorphism are very closely related and understanding the difference between them is not as easy as it looks. Their operating model is also very similar and based upon the relationship of parent and child classes. In fact, Polymorphism needs the great support of Abstraction to power itself, without Abstraction you cannot leverage the power of Polymorphism. Let's understand this by what Abstraction and Polymorphism provide to an object-oriented program. Abstraction is a concept to simplify the structure of your code. Abstraction allows you to view things in more general terms rather than looking at them as they are at the moment, which gives your code flexibility to deal with the changes coming in the future\n"
   ]
  },
  {
   "cell_type": "markdown",
   "id": "89876951-0986-4799-8140-a63ce96343c5",
   "metadata": {},
   "source": [
    "composition:\n"
   ]
  },
  {
   "cell_type": "markdown",
   "id": "19fbd51a-2c92-4474-9a1a-bc69d4345106",
   "metadata": {},
   "source": [
    "1. Explain the concept of composition in Python and how it is used to build complex objects from simpler ones.\n"
   ]
  },
  {
   "cell_type": "markdown",
   "id": "087acceb-cd97-4d9d-bc4f-af67896aa6b7",
   "metadata": {},
   "source": [
    "Ans:Composition is a concept that models a has a relationship. It enables creating complex types by combining objects of other types. This means that a class Composite can contain an object of another class Component . This relationship means that a Composite has a Component .\n"
   ]
  },
  {
   "cell_type": "markdown",
   "id": "764b8dc2-4172-49c3-ba5f-93256b73b525",
   "metadata": {},
   "source": [
    "2. Describe the difference between composition and inheritance in object-oriented programming. \n"
   ]
  },
  {
   "cell_type": "markdown",
   "id": "21192e99-94d4-406e-9a61-07cf4fb9877f",
   "metadata": {},
   "source": [
    "Ans:composition:\n",
    "1)Composition is a has-a relationship\n",
    "2)We can achieve multiple inheritance using composition\n",
    "3)Composition does not create a hierarchy of classes\n",
    "4)Composition does not allow direct access to the members of the composed objects\n",
    "5)The composition can be more flexible and allows objects to be reused in different contexts\n",
    "6)Changes to the composed objects do not affect other composed objects\n",
    "\n",
    "inheritance:\n",
    "1)Inheritance represents  the is-a relationship\n",
    "2)It creates a hierarchy of class\n",
    "3)A child class can access all public and protected members of the parent class\n",
    "4)Inheritance creates a tight coupling between the parent and child classes\n",
    "5)Changes to the parent class can affect all child classes\n"
   ]
  },
  {
   "cell_type": "markdown",
   "id": "8cb137e5-74f5-44b9-b62c-968437c707e6",
   "metadata": {},
   "source": [
    "3. Create a Python class called `Author` with attributes for name and birthdate. Then, create a `Book` class  that contains an instance of `Author` as a composition. Provide an example of creating a `Book` object. \n"
   ]
  },
  {
   "cell_type": "code",
   "execution_count": 65,
   "id": "e40a6f5b-a161-4963-807e-0375ba8a5d7d",
   "metadata": {},
   "outputs": [],
   "source": [
    "class Book:\n",
    "    def __init__(self, author, title, book_id):\n",
    "        self.author = author\n",
    "        self.title = title\n",
    "        self.book_id = book_id\n",
    "\n",
    "    def __str__(self):\n",
    "        return 'Book(author, title, book_id)'\n",
    "\n",
    "    def __repr__(self):\n",
    "\n",
    "        return 'Book(author, title, book_id)'\n",
    "\n",
    "    def __eq__(self, other):\n",
    "\n",
    "    #Not sure if this is the right approach\n",
    "\n",
    "        for title in Book:\n",
    "            for title in Book:\n",
    "                if title == title:\n",
    "                    if author == author:\n",
    "                        if book_id == book_id:\n",
    "                            return True \n"
   ]
  },
  {
   "cell_type": "markdown",
   "id": "9e4abf2c-4b62-45bb-a9e0-eb4e08ef9371",
   "metadata": {},
   "source": [
    "4. Discuss the benefits of using composition over inheritance in Python, especially in terms of code flexibility  and reusability.\n"
   ]
  },
  {
   "cell_type": "markdown",
   "id": "ac527c32-7858-4af2-80af-f83f8114f7e4",
   "metadata": {},
   "source": [
    "Ans:Composition over inheritance (or composite reuse principle) in object-oriented programming (OOP) is the principle that classes should favor polymorphic behavior and code reuse by their composition (by containing instances of other classes that implement the desired functionality) over inheritance from a base or parent class.\n",
    "\n"
   ]
  },
  {
   "cell_type": "markdown",
   "id": "89cf934b-f941-4fad-9e12-ea5772b88be9",
   "metadata": {},
   "source": [
    "5. How can you implement composition in Python classes? Provide examples of using composition to create  complex objects. \n"
   ]
  },
  {
   "cell_type": "markdown",
   "id": "29dea5c9-a6f2-4a05-b775-b2cc119755ec",
   "metadata": {},
   "source": [
    "Ans:Implementation of Composition in Python\n",
    "\n",
    "By using the class names or by creating an object we can access the member of one class inside another class. \n",
    "\n",
    "Example 1: Executable code for composition\n"
   ]
  },
  {
   "cell_type": "code",
   "execution_count": 66,
   "id": "c48bd69e-8e1f-417e-9f18-427d523e0d46",
   "metadata": {},
   "outputs": [
    {
     "name": "stdout",
     "output_type": "stream",
     "text": [
      "Name of Employee :  Ronil\n",
      "Age of Employee :  20\n",
      "Address of Employee :  Indore\n",
      "Salary of Employee :  25000\n"
     ]
    }
   ],
   "source": [
    "class Employee:\n",
    "\n",
    "\t# constructor for initialization\n",
    "\tdef __init__(self, name, age):\n",
    "\t\tself.name = name\n",
    "\t\tself.age = age\n",
    "\n",
    "\t# instance method\n",
    "\tdef emp_data(self):\n",
    "\t\tprint('Name of Employee : ', self.name)\n",
    "\t\tprint('Age of Employee : ', self.age)\n",
    "\n",
    "\n",
    "class Data:\n",
    "\tdef __init__(self, address, salary, emp_obj):\n",
    "\t\tself.address = address\n",
    "\t\tself.salary = salary\n",
    "\n",
    "\t\t# creating object of Employee class\n",
    "\t\tself.emp_obj = emp_obj\n",
    "\n",
    "\t# instance method\n",
    "\tdef display(self):\n",
    "\n",
    "\t\t# calling Employee class emp_data()\n",
    "\t\t# method\n",
    "\t\tself.emp_obj.emp_data()\n",
    "\t\tprint('Address of Employee : ', self.address)\n",
    "\t\tprint('Salary of Employee : ', self.salary)\n",
    "\n",
    "# creating Employee class object\n",
    "emp = Employee('Ronil', 20)\n",
    "\n",
    "# passing obj. of Emp. class during creation\n",
    "# of Data class object\n",
    "data = Data('Indore', 25000, emp)\n",
    "\n",
    "# call Data class instance method\n",
    "data.display()\n"
   ]
  },
  {
   "cell_type": "markdown",
   "id": "82198a85-0314-4b38-a5ad-4523ffdb089f",
   "metadata": {},
   "source": [
    "Here in the above example, we have 2 classes ‘Employee’ and ‘Data’. Inside ‘Data’ class Constructor we are creating an object of Employee class due to which we can access the members of the Employee class easily. Inside the Data class Employee class object becomes an instance variable of “Data” class. We are creating objects inside the constructor so whenever we will call any method or variable of class Employee we must use self keyword. We can replace “self.emp_obj” to “Employee”, but by using the class name Employee we can access only the static method or variable of the Employee class.\n"
   ]
  },
  {
   "cell_type": "markdown",
   "id": "006653b6-cd49-4c6d-bbed-1a9a8f2d4c2b",
   "metadata": {},
   "source": [
    "6)Create a Python class hierarchy for a music player system, using composition to represent playlists and  songs. \n"
   ]
  },
  {
   "cell_type": "code",
   "execution_count": 67,
   "id": "9d25a331-17d1-44a7-99f0-eaaba9a70999",
   "metadata": {},
   "outputs": [],
   "source": [
    "#add many songs to the playlist\n",
    "def addsongs():\n",
    "    #a list of songs is returned \n",
    "    temp_song=filedialog.askopenfilenames(initialdir=\"Music/\",title=\"Choose a song\", filetypes=((\"mp3 Files\",\"*.mp3\"),))\n",
    "    #loop through everyitem in the list\n",
    "    for s in temp_song:\n",
    "        s=s.replace(\"C:/Users/lenovo/Desktop/DataFlair/Notepad/Music/\",\"\")\n",
    "        songs_list.insert(END,s)\n",
    "        \n",
    "            \n",
    "def deletesong():\n",
    "    curr_song=songs_list.curselection()\n",
    "    songs_list.delete(curr_song[0])\n",
    "    \n",
    "    \n",
    "def Play():\n",
    "    song=songs_list.get(ACTIVE)\n",
    "    song=f'C:/Users/lenovo/Desktop/DataFlair/Notepad/Music/{song}'\n",
    "    mixer.music.load(song)\n",
    "    mixer.music.play()\n",
    "\n",
    "#to pause the song \n",
    "def Pause():\n",
    "    mixer.music.pause()\n",
    "\n",
    "#to stop the  song \n",
    "def Stop():\n",
    "    mixer.music.stop()\n",
    "    songs_list.selection_clear(ACTIVE)\n",
    "\n",
    "#to resume the song\n",
    "\n",
    "def Resume():\n",
    "    mixer.music.unpause()\n",
    "\n",
    "#Function to navigate from the current song\n",
    "def Previous():\n",
    "    #to get the selected song index\n",
    "    previous_one=songs_list.curselection()\n",
    "    #to get the previous song index\n",
    "    previous_one=previous_one[0]-1\n",
    "    #to get the previous song\n",
    "    temp2=songs_list.get(previous_one)\n",
    "    temp2=f'C:/Users/lenovo/Desktop/DataFlair/Notepad/Music/{temp2}'\n",
    "    mixer.music.load(temp2)\n",
    "    mixer.music.play()\n",
    "    songs_list.selection_clear(0,END)\n",
    "    #activate new song\n",
    "    songs_list.activate(previous_one)\n",
    "    #set the next song\n",
    "    songs_list.selection_set(previous_one)\n",
    "\n",
    "def Next():\n",
    "    #to get the selected song index\n",
    "    next_one=songs_list.curselection()\n",
    "    #to get the next song index\n",
    "    next_one=next_one[0]+1\n",
    "    #to get the next song \n",
    "    temp=songs_list.get(next_one)\n",
    "    temp=f'C:/Users/lenovo/Desktop/DataFlair/Notepad/Music/{temp}'\n",
    "    mixer.music.load(temp)\n",
    "    mixer.music.play()\n",
    "    songs_list.selection_clear(0,END)\n",
    "    #activate newsong\n",
    "    songs_list.activate(next_one)\n",
    "     #set the next song\n",
    "    songs_list.selection_set(next_one)\n"
   ]
  },
  {
   "cell_type": "markdown",
   "id": "e253bf81-6493-456c-ba9f-1e0ec52b56e7",
   "metadata": {},
   "source": [
    "7. Explain the concept of \"has-a\" relationships in composition and how it helps design software systems. \n"
   ]
  },
  {
   "cell_type": "code",
   "execution_count": 68,
   "id": "dad997de-5809-48d0-b2c8-e2c2d9b5adf8",
   "metadata": {},
   "outputs": [
    {
     "name": "stdout",
     "output_type": "stream",
     "text": [
      "Class - B Constructor.\n",
      "Class - A Constructor\n",
      "M1 method of Class - A.\n",
      "M2 method of Class - B.\n"
     ]
    }
   ],
   "source": [
    "class A:\n",
    "\tdef __init__(self):\n",
    "\t\tprint('Class - A Constructor')\n",
    "\n",
    "\tdef m1(self):\n",
    "\t\tprint('M1 method of Class - A.')\n",
    "\n",
    "\n",
    "class B:\n",
    "\tdef __init__(self):\n",
    "\t\tprint('Class - B Constructor.')\n",
    "\n",
    "\t# instance method\n",
    "\tdef m2(self):\n",
    "\n",
    "\t\t# creating object of class A inside\n",
    "\t\t# B class instance method\n",
    "\t\tobj = A()\n",
    "\n",
    "\t\t# calling m1() method of class-A\n",
    "\t\tobj.m1()\n",
    "\t\tprint('M2 method of Class - B.')\n",
    "\n",
    "\n",
    "# creating object of class-B\n",
    "obj = B()\n",
    "\n",
    "# calling B class m2() method\n",
    "obj.m2()"
   ]
  },
  {
   "cell_type": "markdown",
   "id": "6973c91c-bbbd-4471-bd67-c28472b9ff36",
   "metadata": {},
   "source": [
    "Here in the above example, we are creating an object of class A inside instance method of class B that is m2() method. So the flow of execution will be Initially, the object of class B will be created so the constructor of class B will get executed. Now object of class B is calling m2() method, so the cursor will go to the m2() method of class B. Inside the m2() method of class B object of class A is created so the constructor of class A will be executed then m1() method of class A will be executed finally it will print the final statement of m2() method and execution end’s here.\n"
   ]
  },
  {
   "cell_type": "markdown",
   "id": "b0914302-a77d-453d-9f1f-c323fb11dc8c",
   "metadata": {},
   "source": [
    "8. Create a Python class for a computer system, using composition to represent components like CPU, RAM,  and storage devices. \n"
   ]
  },
  {
   "cell_type": "markdown",
   "id": "caf2cd57-3285-4f15-a664-afa6b76b9eae",
   "metadata": {},
   "source": [
    "Ans:Get current CPU usage using the OS module\n",
    "The psutil.getloadavg() provides the load information of the CPU in the form of a tuple. The psutil.getloadavg() runs in the background and the results get updated every 5 seconds. The os.cpu_count() returns the number of CPUs in the system.\n"
   ]
  },
  {
   "cell_type": "code",
   "execution_count": 69,
   "id": "9a643ba1-4527-4182-a297-82d0f1fba848",
   "metadata": {},
   "outputs": [
    {
     "name": "stdout",
     "output_type": "stream",
     "text": [
      "The CPU usage is :  2.82745361328125\n"
     ]
    }
   ],
   "source": [
    "import os\n",
    "import psutil\n",
    "\n",
    "# Getting loadover15 minutes\n",
    "load1, load5, load15 = psutil.getloadavg()\n",
    "\n",
    "cpu_usage = (load15/os.cpu_count()) * 100\n",
    "\n",
    "print(\"The CPU usage is : \", cpu_usage)\n"
   ]
  },
  {
   "cell_type": "markdown",
   "id": "037ee77e-7def-4c26-a71c-7a919fdc744b",
   "metadata": {},
   "source": [
    "Get current RAM usage using psutil\n",
    "The function psutil.virutal_memory()  returns a named tuple about system memory usage.  The third field in the tuple represents the percentage use of the memory(RAM). It is calculated by (total – available)/total * 100 .  Sometimes we need the actual value of the system memory used by the running process, to print the actual value, the fourth field in the tuple is used. Since the value returned is in bytes, it should be divided by 10^9 to convert into GB.\n",
    "\n",
    "The total fields in the output of the function are:\n",
    "\n",
    "total: total memory excluding swap\n",
    "available: available memory for processes\n",
    "percent: memory usage in percent\n",
    "used: the memory used\n",
    "free: memory not used at and is readily available\n",
    "\n",
    "\n"
   ]
  },
  {
   "cell_type": "markdown",
   "id": "176380da-8e00-4b69-9326-37fc7ba68c51",
   "metadata": {},
   "source": [
    "9. Describe the concept of \"delegation\" in composition and how it simplifies the design of complex systems. \n"
   ]
  },
  {
   "cell_type": "markdown",
   "id": "d177e52c-9a7f-4347-98a3-62c482cf66c2",
   "metadata": {},
   "source": [
    "Ans:Object Delegation means using the object of another class as a class member of another class. It is known as object delegation. Delegation can be an alternative to inheritance, but in an inheritance, there is an i-s a relationship, but in the delegation, there is no inheritance relationship between the classes.\n"
   ]
  },
  {
   "cell_type": "markdown",
   "id": "e8b6f567-69e3-47b5-a478-9d9a5e7f6628",
   "metadata": {},
   "source": [
    "10. Create a Python class for a car, using composition to represent components like the engine, wheels, and  transmission. \n"
   ]
  },
  {
   "cell_type": "markdown",
   "id": "235ee570-fd7d-4003-a5e5-9463fa8e5517",
   "metadata": {},
   "source": [
    "11. How can you encapsulate and hide the details of composed objects in Python classes to maintain\n",
    "abstraction?\n"
   ]
  },
  {
   "cell_type": "markdown",
   "id": "73a1dc5e-4284-4d7a-bbdb-ea175c026a4e",
   "metadata": {},
   "source": [
    "Ans:Encapsulation is achieved by declaring a class's data members and methods as either private or protected. But in Python, we do not have keywords like public, private, and protected, as in the case of Java. Instead, we achieve this by using single and double underscores\n"
   ]
  },
  {
   "cell_type": "markdown",
   "id": "ac89c6cb-dc22-4c6a-8707-8e6c1b6285bd",
   "metadata": {},
   "source": [
    "13. Discuss the challenges and drawbacks of composition, such as increased complexity and potential for\n",
    "tight coupling between objects.\n"
   ]
  },
  {
   "cell_type": "markdown",
   "id": "8412e317-5748-4971-b385-d5a23a46e4dc",
   "metadata": {},
   "source": [
    "Ans:Composition is represented through a line with a diamond at the composite class pointing to the component class. The composite side can express the cardinality of the relationship. The cardinality indicates the number or valid range of Component instances the Composite class will contain.\n"
   ]
  },
  {
   "cell_type": "markdown",
   "id": "8a778456-eb52-4d09-baa2-07005ef4eb70",
   "metadata": {},
   "source": [
    "14. Create a Python class hierarchy for a restaurant system, using composition to represent menus, dishes,\n",
    "and ingredients.\n"
   ]
  },
  {
   "cell_type": "markdown",
   "id": "f3f7f421-8ca4-4569-bda6-d2932cea4db0",
   "metadata": {},
   "source": [
    "15. Explain how composition enhances code maintainability and modularity in Python programs.\n"
   ]
  },
  {
   "cell_type": "markdown",
   "id": "6604016c-96d4-4caf-86fa-af6b9a75a7bc",
   "metadata": {},
   "source": [
    "Ans:Modular programming is the process of subdividing a computer program into separate sub-programs. A module is a separate software component. It can often be used in a variety of applications and functions with other components of the system.\n",
    "\n",
    "Some programs might have thousands or millions of lines and to manage such programs it becomes quite difficult as there might be too many of syntax errors or logical errors present in the program, so to manage such type of programs concept of modular programming approached.\n",
    "Each sub-module contains something necessary to execute only one aspect of the desired functionality.\n",
    "Modular programming emphasis on breaking of large programs into small problems to increase the maintainability, readability of the code and to make the program handy to make any changes in future or to correct the errors.\n"
   ]
  },
  {
   "cell_type": "markdown",
   "id": "3902bd63-718a-4f90-a343-e9451eec265d",
   "metadata": {},
   "source": [
    "16. Create a Python class for a computer game character, using composition to represent attributes like\n",
    "weapons, armor, and inventory.\n"
   ]
  },
  {
   "cell_type": "markdown",
   "id": "69cd706a-757a-424f-b4f8-2b4df52c6db2",
   "metadata": {},
   "source": [
    "17. Describe the concept of \"aggregation\" in composition and how it differs from simple composition.\n"
   ]
  },
  {
   "cell_type": "markdown",
   "id": "63798565-ec2f-4c67-b078-be14e97002d6",
   "metadata": {},
   "source": [
    "Ans:Concept of Composition\n",
    "Composition is a type of Aggregation in which two entities are extremely reliant on one another.\n",
    "It indicates a relationship component.\n",
    "Both entities are dependent on each other in composition.\n",
    "The composed object cannot exist without the other entity when there is a composition between two entities.\n",
    "\n",
    "Concept of Aggregation\n",
    "Aggregation is a concept in which an object of one class can own or access another independent object of another class. \n",
    "\n",
    "It represents Has-A’s relationship.\n",
    "It is a unidirectional association i.e. a one-way relationship. For example, a department can have students but vice versa is not possible and thus unidirectional in nature.\n",
    "In Aggregation, both the entries can survive individually which means ending one entity will not affect the other entity.\n"
   ]
  },
  {
   "cell_type": "markdown",
   "id": "827e03b0-d545-4270-afd9-a857e8ea2d57",
   "metadata": {},
   "source": [
    "18. Create a Python class for a house, using composition to represent rooms, furniture, and appliances.\n"
   ]
  },
  {
   "cell_type": "markdown",
   "id": "728c4b56-54ce-48b6-a720-0b1539e5007e",
   "metadata": {},
   "source": [
    "19. How can you achieve flexibility in composed objects by allowing them to be replaced or modified\n",
    "dynamically at runtime?\n"
   ]
  },
  {
   "cell_type": "markdown",
   "id": "976e96a1-8b3f-44c1-bd0d-38d50cad2c12",
   "metadata": {},
   "source": [
    "20. Create a Python class for a social media application, using composition to represent users, posts, and\n",
    "comments.\n"
   ]
  },
  {
   "cell_type": "code",
   "execution_count": null,
   "id": "722f08d4-ce8b-4402-bddb-cceae7db8678",
   "metadata": {},
   "outputs": [],
   "source": []
  }
 ],
 "metadata": {
  "kernelspec": {
   "display_name": "Python 3 (ipykernel)",
   "language": "python",
   "name": "python3"
  },
  "language_info": {
   "codemirror_mode": {
    "name": "ipython",
    "version": 3
   },
   "file_extension": ".py",
   "mimetype": "text/x-python",
   "name": "python",
   "nbconvert_exporter": "python",
   "pygments_lexer": "ipython3",
   "version": "3.10.8"
  }
 },
 "nbformat": 4,
 "nbformat_minor": 5
}
