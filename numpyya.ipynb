{
 "cells": [
  {
   "cell_type": "markdown",
   "id": "38f07360-9e49-4327-ab6f-943f8fea021f",
   "metadata": {},
   "source": [
    "1. What is a Python library? Why do we use Python libraries? \n"
   ]
  },
  {
   "cell_type": "markdown",
   "id": "d6981b10-d586-4ba5-99c9-aebe506381be",
   "metadata": {},
   "source": [
    "Ans:A collection of modules that are linked together is also known as a Python library.\n",
    "\n",
    "Python libraries are collections of pre-written code and functions that extend the capabilities of the Python programming language. They provide a wide range of tools and modules for various tasks, making it easier for developers to work on specific tasks without reinventing the wheel.\n"
   ]
  },
  {
   "cell_type": "markdown",
   "id": "be04243f-429f-4684-bde7-7321d5596944",
   "metadata": {},
   "source": [
    "2. What is the difference between Numpy array an List? \n"
   ]
  },
  {
   "cell_type": "markdown",
   "id": "ec8ed1d9-0a0e-4ed5-b4e0-c899fc2422c3",
   "metadata": {},
   "source": [
    "Ans:The main difference is that NumPy arrays are much faster and have strict requirements on the homogeneity of the objects. For example, a NumPy array of strings can only contain strings and no other data types, but a Python list can contain a mixture of strings, numbers, booleans and other objects.\n"
   ]
  },
  {
   "cell_type": "markdown",
   "id": "f49b206f-5d5e-47a2-8e3b-80bce08e790e",
   "metadata": {},
   "source": [
    "4. Write python code to access the first row of the following array? \n",
    "[[1, 2, 3, 4] \n",
    "[5, 6, 7, 8], \n",
    "[9, 10, 11, 12]] \n"
   ]
  },
  {
   "cell_type": "code",
   "execution_count": 1,
   "id": "7175768c-3f72-4bbd-8803-acbd2c0c355a",
   "metadata": {},
   "outputs": [
    {
     "name": "stdout",
     "output_type": "stream",
     "text": [
      "Original array:\n",
      "[[ 1  2  3  4]\n",
      " [ 5  6  7  8]\n",
      " [ 9 10 11 12]]\n",
      "\n",
      "Extracted data: First row\n",
      "[1 2 3 4]\n"
     ]
    }
   ],
   "source": [
    "# Importing the NumPy library and aliasing it as 'np'\n",
    "import numpy as np\n",
    "\n",
    "# Creating a NumPy array 'arra_data' containing integers from 1 to 13 and reshaping it into a 4x4 matrix\n",
    "arra_data = np.arange(1, 13).reshape((3, 4))\n",
    "\n",
    "# Displaying a message indicating the original array will be printed\n",
    "print(\"Original array:\")\n",
    "\n",
    "# Printing the original 4x4 array 'arra_data'\n",
    "print(arra_data)\n",
    "\n",
    "# Displaying a message indicating the extracted data (first row)\n",
    "print(\"\\nExtracted data: First row\")\n",
    "\n",
    "# Printing the first row of the 'arra_data' array using slicing\n",
    "print(arra_data[0]) \n",
    "\n"
   ]
  },
  {
   "cell_type": "markdown",
   "id": "06201496-c6ec-43a4-b2ae-76beb0ccb1cc",
   "metadata": {},
   "source": [
    "\n",
    "6. Write code to extract all odd-indexed elements from the given numpy array?\n",
    "[[1, 2, 3, 4]\n",
    "[5, 6, 7, 8],\n",
    "[9, 10, 11, 12]]\n"
   ]
  },
  {
   "cell_type": "code",
   "execution_count": 2,
   "id": "b3581739-30ee-4668-9a87-76f0ccc44f06",
   "metadata": {},
   "outputs": [
    {
     "name": "stdout",
     "output_type": "stream",
     "text": [
      "Original array:\n",
      "[[ 1  2  3  4]\n",
      " [ 5  6  7  8]\n",
      " [ 9 10 11 12]]\n",
      "\n",
      "Extracted data: Third and fourth elements of the first and second rows\n",
      "[[3 4]\n",
      " [7 8]]\n"
     ]
    }
   ],
   "source": [
    "# Importing the NumPy library and aliasing it as 'np'\n",
    "import numpy as np\n",
    "\n",
    "# Creating a NumPy array 'arra_data' containing integers from 0 to 15 and reshaping it into a 4x4 matrix\n",
    "arra_data = np.arange(1, 13).reshape((3, 4))\n",
    "\n",
    "# Displaying a message indicating the original array will be printed\n",
    "print(\"Original array:\")\n",
    "\n",
    "# Printing the original 4x4 array 'arra_data'\n",
    "print(arra_data)\n",
    "\n",
    "# Displaying a message indicating the extracted data (third and fourth elements of the first and second rows)\n",
    "print(\"\\nExtracted data: Third and fourth elements of the first and second rows\")\n",
    "\n",
    "# Using slicing to extract the first two rows and columns 2 and 3 (2:4 refers to 2nd and 3rd indices)\n",
    "print(arra_data[0:2, 2:4])\n"
   ]
  },
  {
   "cell_type": "markdown",
   "id": "78627878-de1a-42f8-8871-6650809ab467",
   "metadata": {},
   "source": [
    "7. How can you generate a random 3x3 matrix with values between 0 an 1? \n"
   ]
  },
  {
   "cell_type": "code",
   "execution_count": 3,
   "id": "b7a754d4-e260-4211-b582-5bcfb6898075",
   "metadata": {},
   "outputs": [
    {
     "name": "stdout",
     "output_type": "stream",
     "text": [
      "[[0.98604612 0.94686103 0.67294497]\n",
      " [0.48932393 0.71347854 0.46047352]\n",
      " [0.82528187 0.37804803 0.82207763]]\n"
     ]
    }
   ],
   "source": [
    "# Importing NumPy\n",
    "import numpy as np  \n",
    "\n",
    "# Using numpy.random.rand() to generate an array of random numbers of size (3, 3)\n",
    "random_array = np.random.rand(3, 3)  \n",
    "\n",
    "print(random_array)\n"
   ]
  },
  {
   "cell_type": "markdown",
   "id": "d8c67f76-2ab6-4b6d-b74c-8e7e25aa1f07",
   "metadata": {},
   "source": [
    "8. Describe the difference between np.random.rand and np.radnom.randn? \n"
   ]
  },
  {
   "cell_type": "markdown",
   "id": "8a515cf7-aaba-438b-a2f7-b627843be708",
   "metadata": {},
   "source": [
    "Ans:random. randn generates samples from the normal distribution, while numpy. random. rand from a uniform distribution (in the range [0,1)).\n"
   ]
  },
  {
   "cell_type": "markdown",
   "id": "e85948f4-4ace-4770-a185-db368b5e8847",
   "metadata": {},
   "source": [
    "10. How to transpose the following array in NumPy?\n",
    "[[1, 2, 3, 4]\n",
    "[5, 6, 7, 8],\n",
    "[9, 10, 11, 12]]\n"
   ]
  },
  {
   "cell_type": "code",
   "execution_count": 5,
   "id": "27658f81-5203-4f8a-bb7b-e17c2a61d140",
   "metadata": {},
   "outputs": [
    {
     "ename": "SyntaxError",
     "evalue": "incomplete input (3845223116.py, line 13)",
     "output_type": "error",
     "traceback": [
      "\u001b[0;36m  Cell \u001b[0;32mIn[5], line 13\u001b[0;36m\u001b[0m\n\u001b[0;31m    print(gfg.transpose()\u001b[0m\n\u001b[0m                         ^\u001b[0m\n\u001b[0;31mSyntaxError\u001b[0m\u001b[0;31m:\u001b[0m incomplete input\n"
     ]
    }
   ],
   "source": [
    "# importing python module named numpy\n",
    "import numpy as np\n",
    "\n",
    "# making a 3x4 array\n",
    "gfg = np.array([[1, 2, 3, 4],\n",
    "\t\t\t   [5, 6, 7, 8],\n",
    "\t\t\t   [9, 10, 11, 12]])\n",
    "\n",
    "# before transpose\n",
    "print(gfg, end ='\\n\\n')\n",
    "\n",
    "# after transpose\n",
    "print(gfg.transpose()\n"
   ]
  },
  {
   "cell_type": "markdown",
   "id": "7fb58a2d-c6cb-492a-b60a-73e3855312b1",
   "metadata": {},
   "source": [
    "12.  Which function in Numpy can be use to swap the byte orer of an array?\n"
   ]
  },
  {
   "cell_type": "markdown",
   "id": "9be912ff-a516-4871-9e60-7556bb92e231",
   "metadata": {},
   "source": [
    "Ans:byteswap() method swaps the bytes of the array elements. It toggles between low-endian and big-endian data representation by returning a byteswapped array, optionally swapped in-place.\n"
   ]
  },
  {
   "cell_type": "markdown",
   "id": "ceb797c1-3cb6-4360-b922-c9d4161fe758",
   "metadata": {},
   "source": [
    " 13.  What is the significance of the np.linalg.inv function? \n"
   ]
  },
  {
   "cell_type": "markdown",
   "id": "324e7454-4e05-426d-bf70-160de9e1beb5",
   "metadata": {},
   "source": [
    "Ans : We use numpy. linalg. inv() function to calculate the inverse of a matrix. The inverse of a matrix is such that if it is multiplied by the original matrix, it results in identity matrix.\n"
   ]
  },
  {
   "cell_type": "markdown",
   "id": "a975dcab-35fb-4209-be1d-24a32fcf2dd9",
   "metadata": {},
   "source": [
    "14. What does the np.reshape function on, an how is it use? \n"
   ]
  },
  {
   "cell_type": "markdown",
   "id": "7decb82d-592a-4fe2-a72b-b14e784c83e7",
   "metadata": {},
   "source": [
    "Ans:reshape() function is used to create a new array of the same size (as the original array) but of different desired dimensions. reshape() function will create an array with the same number of elements as the original array, i.e. of the same size as that of the original array.\n",
    "\n"
   ]
  },
  {
   "cell_type": "markdown",
   "id": "702942af-9a09-4590-89e3-33874b978174",
   "metadata": {},
   "source": [
    "15. What is broacasting in Numpy? \n"
   ]
  },
  {
   "cell_type": "markdown",
   "id": "58dbcf84-4e47-4602-a90c-b14747b57bef",
   "metadata": {},
   "source": [
    "Ans:numpy.broadcast. The term broadcasting describes how NumPy treats arrays with different shapes during arithmetic operations. Subject to certain constraints, the smaller array is “broadcast” across the larger array so that they have compatible shapes.\n"
   ]
  },
  {
   "cell_type": "code",
   "execution_count": null,
   "id": "f2956f99-313d-476e-834e-a335ded3cfeb",
   "metadata": {},
   "outputs": [],
   "source": []
  }
 ],
 "metadata": {
  "kernelspec": {
   "display_name": "Python 3 (ipykernel)",
   "language": "python",
   "name": "python3"
  },
  "language_info": {
   "codemirror_mode": {
    "name": "ipython",
    "version": 3
   },
   "file_extension": ".py",
   "mimetype": "text/x-python",
   "name": "python",
   "nbconvert_exporter": "python",
   "pygments_lexer": "ipython3",
   "version": "3.10.8"
  }
 },
 "nbformat": 4,
 "nbformat_minor": 5
}
