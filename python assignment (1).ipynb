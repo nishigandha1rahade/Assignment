{
 "cells": [
  {
   "cell_type": "markdown",
   "id": "28a8c1e8-a8d4-47bd-bb5f-e2dbce0152f7",
   "metadata": {},
   "source": [
    "For Loop :-\n"
   ]
  },
  {
   "cell_type": "markdown",
   "id": "0d540767-2c98-4bc3-ba99-94c316b68bbd",
   "metadata": {},
   "source": [
    "1.Write a Python program to print numbers from 1 to 10 using a for loop.\n"
   ]
  },
  {
   "cell_type": "code",
   "execution_count": 3,
   "id": "c2348b09-7456-4ad2-89bd-2d3dce5ef602",
   "metadata": {},
   "outputs": [
    {
     "name": "stdout",
     "output_type": "stream",
     "text": [
      "1\n",
      "2\n",
      "3\n",
      "4\n",
      "5\n",
      "6\n",
      "7\n",
      "8\n",
      "9\n",
      "10\n"
     ]
    }
   ],
   "source": [
    "for i in range(1, 11):\n",
    "    print(i)\n",
    "\n"
   ]
  },
  {
   "cell_type": "markdown",
   "id": "98a03e12-59eb-43fb-bbd5-9b35517f2759",
   "metadata": {},
   "source": [
    "2.Explain the difference between a for loop and a while loop in Python.\n"
   ]
  },
  {
   "cell_type": "markdown",
   "id": "17fbc7d5-d74c-4579-a766-97010da0d2d8",
   "metadata": {},
   "source": [
    "1]for loop:\n",
    "1]For loop is used to iterate over a sequence of items.\n",
    "2]For loops are designed for iterating over a sequence of items. Eg. list, tuple, etc.\n",
    "3]For loop require a sequence to iterate over\n",
    "4]For loop is typically used for iterating over a fixed sequence of items\n",
    "\n",
    "\n",
    "2]while loop\n",
    "\n",
    "1]While loop is used to repeatedly execute a block of statements while a condition is true.\n",
    "2]While loop is used when the number of iterations is not known in advance or when we want to repeat a block of code until a certain condition is met.\n",
    "3]While the loop requires an initial condition that is tested at the beginning of the loop.\n"
   ]
  },
  {
   "cell_type": "markdown",
   "id": "37c7078b-dfe7-492e-b214-1406c2f7727b",
   "metadata": {},
   "source": [
    "3.Write a Python program to calculate the sum of all numbers from 1 to 100 using a for loop.\n",
    "\n"
   ]
  },
  {
   "cell_type": "code",
   "execution_count": 7,
   "id": "5bc5e7cc-2d30-453d-a422-133d66e94edb",
   "metadata": {},
   "outputs": [
    {
     "name": "stdout",
     "output_type": "stream",
     "text": [
      "5050\n"
     ]
    }
   ],
   "source": [
    "sum = 0\n",
    "for i in range(1, 101):\n",
    "    sum = sum + i\n",
    "print(sum)\n",
    "\n"
   ]
  },
  {
   "cell_type": "markdown",
   "id": "ceb01017-3ab1-430e-bef1-8317e04753e8",
   "metadata": {},
   "source": [
    "4.How do you iterate through a list using a for loop in Python?\n"
   ]
  },
  {
   "cell_type": "markdown",
   "id": "af0e3236-317f-4fd4-88b3-a53039bb8d22",
   "metadata": {},
   "source": [
    "Ans:The List is equivalent to arrays in other languages, with the extra benefit of being dynamic in size.\n",
    "\n",
    "In Python, the list is a type of container in Data Structures, which is used to store multiple data at the same time. Unlike Sets, lists in Python are ordered and have a definite count.\n"
   ]
  },
  {
   "cell_type": "markdown",
   "id": "b41aa513-1022-496c-8f25-e47ce5ef7860",
   "metadata": {},
   "source": [
    "5.Write a Python program to find the product of all elements in a list using a for loop.\n"
   ]
  },
  {
   "cell_type": "code",
   "execution_count": 11,
   "id": "7ae11e9e-f47b-4ce6-b8a9-7e4076d26239",
   "metadata": {},
   "outputs": [
    {
     "name": "stdout",
     "output_type": "stream",
     "text": [
      "-16\n"
     ]
    }
   ],
   "source": [
    "def multiply_list(items):\n",
    "    tot = 1\n",
    "    for x in items:\n",
    "        tot *= x\n",
    "    return tot\n",
    "print(multiply_list([1,2,-8]))\n"
   ]
  },
  {
   "cell_type": "markdown",
   "id": "7b3ca367-542d-491f-9349-ba9964c56ba1",
   "metadata": {},
   "source": [
    "6.Create a Python program that prints all even numbers from 1 to 20 using a for loop.\n"
   ]
  },
  {
   "cell_type": "code",
   "execution_count": 13,
   "id": "d269b7bd-2aa8-44fe-a0ef-09cac16f805d",
   "metadata": {},
   "outputs": [
    {
     "name": "stdout",
     "output_type": "stream",
     "text": [
      "2\n",
      "4\n",
      "6\n",
      "8\n",
      "10\n",
      "12\n",
      "14\n",
      "16\n",
      "18\n",
      "20\n"
     ]
    }
   ],
   "source": [
    "for i in range(1, 21):\n",
    "    if i%2==0:\n",
    "        print(i)\n"
   ]
  },
  {
   "cell_type": "markdown",
   "id": "4c2465cf-9730-4d9a-85b6-dcd834e60ce5",
   "metadata": {},
   "source": [
    "7.Write a Python program that calculates the factorial of a number using a for loop.\n"
   ]
  },
  {
   "cell_type": "code",
   "execution_count": 15,
   "id": "5a68353a-5cce-499c-828f-fa178d4498a2",
   "metadata": {},
   "outputs": [
    {
     "name": "stdin",
     "output_type": "stream",
     "text": [
      "Enter n: 5\n"
     ]
    },
    {
     "name": "stdout",
     "output_type": "stream",
     "text": [
      "Factorial of 5 is:120\n"
     ]
    }
   ],
   "source": [
    "n = int(input(\"Enter n:\")) \n",
    "fact = 1 \n",
    "for i in range(2, n+1): \n",
    "    fact *= i \n",
    "print(\"Factorial of {} is:{}\".format(n, fact)) \n",
    "\n"
   ]
  },
  {
   "cell_type": "markdown",
   "id": "316a3d9f-0375-4d6f-8057-e6f9b1ed3a52",
   "metadata": {},
   "source": [
    "8.How can you iterate through the characters of a string using a for loop in Python?\n"
   ]
  },
  {
   "cell_type": "code",
   "execution_count": 18,
   "id": "7eb8fb43-d75f-4cbd-ab3e-a1bede154478",
   "metadata": {},
   "outputs": [
    {
     "name": "stdout",
     "output_type": "stream",
     "text": [
      "n i s h i g a n d h a r a h a d e \n",
      "\n",
      "N\n",
      "I\n",
      "S\n",
      "H\n",
      "I\n",
      "G\n",
      "A\n",
      "N\n",
      "D\n",
      "H\n",
      "A\n"
     ]
    }
   ],
   "source": [
    "string_name = \"nishigandharahade\"\n",
    "\n",
    "# Iterate over the string\n",
    "for element in string_name:\n",
    "\tprint(element, end=' ')\n",
    "print(\"\\n\")\n",
    "\n",
    "\n",
    "# Code #2\n",
    "string_name = \"NISHIGANDHA\"\n",
    "\n",
    "# Iterate over index\n",
    "for element in range(0, len(string_name)):\n",
    "\tprint(string_name[element])\n"
   ]
  },
  {
   "cell_type": "markdown",
   "id": "619f997d-7f70-4030-8760-e4bf48f9d2bf",
   "metadata": {},
   "source": [
    "9.Write a Python program to find the largest number in a list using a for loop.\n"
   ]
  },
  {
   "cell_type": "code",
   "execution_count": 21,
   "id": "9f0fae67-0d03-41cb-b13d-6c7e4fe6f0f2",
   "metadata": {},
   "outputs": [
    {
     "name": "stdout",
     "output_type": "stream",
     "text": [
      "Largest element is: 99\n",
      "Largest element is: 99\n",
      "Largest element is: 99\n",
      "Largest element is: 99\n",
      "Largest element is: 99\n"
     ]
    }
   ],
   "source": [
    "l1 = [10, 20, 4, 45, 99]\n",
    "for i in l1:\n",
    "\n",
    "# printing the last element\n",
    "   print(\"Largest element is:\", l1[-1])\n",
    "\n"
   ]
  },
  {
   "cell_type": "markdown",
   "id": "ad2a6473-1dc4-4fb8-939f-3d86a88dc44d",
   "metadata": {},
   "source": [
    "10.Create a Python program that prints the Fibonacci sequence up to a specified limit using a for loop.\n"
   ]
  },
  {
   "cell_type": "code",
   "execution_count": 23,
   "id": "4d64652a-2ecd-43d4-aab1-afe9f35a36a7",
   "metadata": {},
   "outputs": [
    {
     "name": "stdout",
     "output_type": "stream",
     "text": [
      "0\n",
      "1\n",
      "1\n",
      "2\n",
      "3\n",
      "5\n",
      "8\n",
      "13\n",
      "21\n",
      "34\n"
     ]
    }
   ],
   "source": [
    "first = 0\n",
    "second = 1\n",
    "print(first)\n",
    "print(second)\n",
    "for x in range(1,9):\n",
    "    third = first + second\n",
    "    print(third)\n",
    "    first,second=second,third\n"
   ]
  },
  {
   "cell_type": "markdown",
   "id": "4e87e64d-2eb9-4663-bcf9-24fcc466a0a0",
   "metadata": {},
   "source": [
    "11.Write a Python program to count the number of vowels in a given string using a for loop\n"
   ]
  },
  {
   "cell_type": "code",
   "execution_count": 26,
   "id": "2f11df74-6155-438f-8e16-551f232d8a24",
   "metadata": {},
   "outputs": [
    {
     "name": "stdout",
     "output_type": "stream",
     "text": [
      "No. of vowels : 4\n"
     ]
    }
   ],
   "source": [
    "\n",
    "def vowel_count(str):\n",
    "\t\n",
    "\t# Initializing count variable to 0\n",
    "\tcount = 0\n",
    "\t\n",
    "\t# Creating a set of vowels\n",
    "\tvowel = set(\"aeiouAEIOU\")\n",
    "\t\n",
    "\t# Loop to traverse the alphabet\n",
    "\t# in the given string\n",
    "\tfor alphabet in str:\n",
    "\t\n",
    "\t\t# If alphabet is present\n",
    "\t\t# in set vowel\n",
    "\t\tif alphabet in vowel:\n",
    "\t\t\tcount = count + 1\n",
    "\t\n",
    "\tprint(\"No. of vowels :\", count)\n",
    "\t\n",
    "# Driver code\n",
    "str = \"IAmStudent\"\n",
    "\n",
    "# Function Call\n",
    "vowel_count(str)\n"
   ]
  },
  {
   "cell_type": "markdown",
   "id": "d897cdce-e6cd-4d83-83ee-d1a42e34b239",
   "metadata": {},
   "source": [
    "12.Create a Python program that generates a multiplication table for a given number using a for loop.\n"
   ]
  },
  {
   "cell_type": "code",
   "execution_count": 28,
   "id": "c8cea901-9ad3-4c16-928f-810916525270",
   "metadata": {},
   "outputs": [
    {
     "name": "stdin",
     "output_type": "stream",
     "text": [
      "Enter the number of which the user wants to print the multiplication table:  10\n"
     ]
    },
    {
     "name": "stdout",
     "output_type": "stream",
     "text": [
      "The Multiplication Table of:  10\n",
      "10 x 1 = 10\n",
      "10 x 2 = 20\n",
      "10 x 3 = 30\n",
      "10 x 4 = 40\n",
      "10 x 5 = 50\n",
      "10 x 6 = 60\n",
      "10 x 7 = 70\n",
      "10 x 8 = 80\n",
      "10 x 9 = 90\n",
      "10 x 10 = 100\n"
     ]
    }
   ],
   "source": [
    "number = int(input (\"Enter the number of which the user wants to print the multiplication table: \"))      \n",
    "# We are using \"for loop\" to iterate the multiplication 10 times       \n",
    "print (\"The Multiplication Table of: \", number)    \n",
    "for count in range(1, 11):      \n",
    "   print (number, 'x', count, '=', number * count)    \n"
   ]
  },
  {
   "cell_type": "markdown",
   "id": "d6b5bfa7-b0d3-4cbf-9f48-0dc16b936e12",
   "metadata": {},
   "source": [
    "13.Write a Python program to reverse a list using a for loop.\n"
   ]
  },
  {
   "cell_type": "code",
   "execution_count": 30,
   "id": "e0b4f080-c9a1-4c8c-beea-077ae255cf80",
   "metadata": {},
   "outputs": [
    {
     "name": "stdout",
     "output_type": "stream",
     "text": [
      "Original List : ['apple', 'banana', 'cherry', 'mango']\n",
      "Reversed List : ['mango', 'cherry', 'banana', 'apple']\n"
     ]
    }
   ],
   "source": [
    "myList = ['apple', 'banana', 'cherry', 'mango']\n",
    " \n",
    "#store reversed list in this\n",
    "reversedList = []\n",
    " \n",
    "#reverse list using for loop\n",
    "for i in range(len(myList)) :\n",
    "    reversedList.append(myList[len(myList) - i - 1])\n",
    " \n",
    "#print lists\n",
    "print(f'Original List : {myList}')\n",
    "print(f'Reversed List : {reversedList}')\n"
   ]
  },
  {
   "cell_type": "markdown",
   "id": "88354f8c-744a-4164-90fa-d9bef3b514ae",
   "metadata": {},
   "source": [
    "14.Write a Python program to find the common elements between two lists using a for loop.\n"
   ]
  },
  {
   "cell_type": "code",
   "execution_count": 32,
   "id": "2443d6b8-246e-4e6c-93d3-eba26e3436c2",
   "metadata": {},
   "outputs": [
    {
     "name": "stdout",
     "output_type": "stream",
     "text": [
      "[5, 6, 7, 8, 9]\n"
     ]
    }
   ],
   "source": [
    "def comman_list (l1,l2):\n",
    "    l3=[value for value in l1 if value in l2]\n",
    "    return l3\n",
    "\n",
    "l1=[1,2,3,4,5,6,7,8,9]\n",
    "l2=[0,9,8,7,6,5]\n",
    "print(comman_list(l1,l2))"
   ]
  },
  {
   "cell_type": "markdown",
   "id": "95e9167a-bf97-4a72-b14e-09a37e244111",
   "metadata": {},
   "source": [
    "15.Explain how to use a for loop to iterate through the keys and values of a dictionary in Python.\n"
   ]
  },
  {
   "cell_type": "markdown",
   "id": "6be5d7db-320d-47ff-bd06-eaa7548e60b6",
   "metadata": {},
   "source": [
    "Dictionary in Python is a collection of data values, used to store data values like a map, unlike other Data Types that hold only a single value as an element, Dictionary holds the key: value pair. \n",
    "\n",
    "There are multiple ways to iterate over a dictionary in Python.\n",
    "\n",
    "Access key using the build .keys() \n",
    "Access key without using a key() \n",
    "Iterate through all values using .values()\n",
    "Iterate through all key, and value pairs using items()\n",
    "Access both key and value without using items()\n",
    "Print items in Key-Value in pair \n",
    "\n",
    "\n",
    "Loop Through a Dictionary\n",
    "You can loop through a dictionary by using a for loop.\n",
    "\n",
    "When looping through a dictionary, the return value are the keys of the dictionary, but there are methods to return the values as well.\n",
    "\n",
    "Example\n",
    "Print all key names in the dictionary, one by one:\n",
    "\n",
    "for x in thisdict:\n",
    "  print(x)\n"
   ]
  },
  {
   "cell_type": "markdown",
   "id": "660483b3-2d95-407f-9958-e82c3f7972ce",
   "metadata": {},
   "source": [
    "16.Write a Python program to find the GCD (Greatest Common Divisor) of two numbers using a for loop.\n"
   ]
  },
  {
   "cell_type": "code",
   "execution_count": 36,
   "id": "9b760f4b-adac-4221-ae23-2b15ff4a601e",
   "metadata": {},
   "outputs": [
    {
     "name": "stdout",
     "output_type": "stream",
     "text": [
      "GCD of 50 and 100 is: 50\n"
     ]
    }
   ],
   "source": [
    "x = 50\n",
    "y = 100\n",
    "if x > y:\n",
    "  x, y = y, x\n",
    "for i in range(1,x+1):\n",
    "  if x%i == 0 and y%i == 0:\n",
    "    gcd = i\n",
    "\n",
    "print(\"GCD of\", x, \"and\", y, \"is:\", gcd)\n",
    "\n"
   ]
  },
  {
   "cell_type": "markdown",
   "id": "f729bb8e-1810-4207-a871-f45236a89726",
   "metadata": {},
   "source": [
    "17.Create a Python program that checks if a string is a palindrome using a for loop.\n"
   ]
  },
  {
   "cell_type": "code",
   "execution_count": 38,
   "id": "994bd7de-11be-4db9-a78a-36e30c2e39db",
   "metadata": {},
   "outputs": [
    {
     "name": "stdout",
     "output_type": "stream",
     "text": [
      "Yes\n"
     ]
    }
   ],
   "source": [
    "def isPalindrome(str):\n",
    "\n",
    "\t# Run loop from 0 to len/2\n",
    "\tfor i in range(0, int(len(str)/2)):\n",
    "\t\tif str[i] != str[len(str)-i-1]:\n",
    "\t\t\treturn False\n",
    "\treturn True\n",
    "\n",
    "# main function\n",
    "s = \"malayalam\"\n",
    "ans = isPalindrome(s)\n",
    "\n",
    "if (ans):\n",
    "\tprint(\"Yes\")\n",
    "else:\n",
    "\tprint(\"No\")\n"
   ]
  },
  {
   "cell_type": "markdown",
   "id": "cb4c977b-0e7a-4065-9cfb-540ed4c68a3e",
   "metadata": {},
   "source": [
    "18.Write a Python program to remove duplicates from a list using a for loop.\n"
   ]
  },
  {
   "cell_type": "code",
   "execution_count": 40,
   "id": "6575643f-03a7-4b25-a1d7-d06aa218fe40",
   "metadata": {},
   "outputs": [
    {
     "name": "stdout",
     "output_type": "stream",
     "text": [
      "['Python', 'R', 'C#', 'Java']\n"
     ]
    },
    {
     "data": {
      "text/plain": [
       "['Python', 'R', 'C#', 'Java']"
      ]
     },
     "execution_count": 40,
     "metadata": {},
     "output_type": "execute_result"
    }
   ],
   "source": [
    "students = ['Python', 'R', 'C#', 'Python', 'R', 'Java']\n",
    "\n",
    "new_list = []\n",
    "\n",
    "for one_student_choice in students:\n",
    "    if one_student_choice not in new_list:\n",
    "        new_list.append(one_student_choice)\n",
    "\n",
    "print(new_list)\n",
    "['Python', 'R', 'C#', 'Java']\n"
   ]
  },
  {
   "cell_type": "markdown",
   "id": "b0aa113e-b9d2-4f5d-b3d1-cc45848c25f5",
   "metadata": {},
   "source": [
    "19.Create a Python program that counts the number of words in a sentence using a for loop\n"
   ]
  },
  {
   "cell_type": "code",
   "execution_count": 42,
   "id": "947d05b8-efc9-4034-91da-c850a63e3f8c",
   "metadata": {},
   "outputs": [
    {
     "name": "stdin",
     "output_type": "stream",
     "text": [
      "Please Enter your Own String :  aditi shubham savant\n"
     ]
    },
    {
     "name": "stdout",
     "output_type": "stream",
     "text": [
      "Total Number of Words in this String =  3\n"
     ]
    }
   ],
   "source": [
    "str1 = input(\"Please Enter your Own String : \")\n",
    "total = 1\n",
    "\n",
    "for i in range(len(str1)):\n",
    "    if(str1[i] == ' ' or str1 == '\\n' or str1 == '\\t'):\n",
    "        total = total + 1\n",
    "\n",
    "print(\"Total Number of Words in this String = \", total)\n",
    "\n"
   ]
  },
  {
   "cell_type": "markdown",
   "id": "62ba0178-efc1-4276-b479-f45cf9fa27bc",
   "metadata": {},
   "source": [
    "20.Write a Python program to find the sum of all odd numbers from 1 to 50 using a for loop.\n"
   ]
  },
  {
   "cell_type": "code",
   "execution_count": 44,
   "id": "e7259243-6739-42f5-89d9-ca594b25f483",
   "metadata": {},
   "outputs": [
    {
     "name": "stdin",
     "output_type": "stream",
     "text": [
      "Enter the end number :  5\n"
     ]
    },
    {
     "name": "stdout",
     "output_type": "stream",
     "text": [
      "9\n"
     ]
    }
   ],
   "source": [
    "n = int(input(\"Enter the end number : \")) \n",
    "oddsum = 0 \n",
    "for i in range(1, n+1): \n",
    "  if i % 2 != 0: \n",
    "    oddsum += i \n",
    "print(oddsum)\n"
   ]
  },
  {
   "cell_type": "markdown",
   "id": "9e88f241-6301-4abf-bc64-68c8970af265",
   "metadata": {},
   "source": [
    "21.Write a Python program that checks if a given year is a leap year using a for loop.\n"
   ]
  },
  {
   "cell_type": "code",
   "execution_count": 49,
   "id": "776f9ba6-ae4b-44e9-af6d-64d7aef6db0d",
   "metadata": {},
   "outputs": [
    {
     "name": "stdin",
     "output_type": "stream",
     "text": [
      "Please enter the year you would like to start checking leap years from. 2024\n",
      "Please enter over how many years you would like to check. 1\n"
     ]
    },
    {
     "name": "stdout",
     "output_type": "stream",
     "text": [
      "2024 this is a leap year\n"
     ]
    }
   ],
   "source": [
    "year = int(input(\"Please enter the year you would like to start checking leap years from.\"))\n",
    "total_years = int(input(\"Please enter over how many years you would like to check.\"))\n",
    "leap_year= 0\n",
    "\n",
    "if year % 4 == 0 and (year % 100 != 0 or year % 400 == 0):   \n",
    "   leap_year = (\"this is a leap year\")\n",
    "\n",
    "else:\n",
    "   leap_year = (\"this is not a leap year\")\n",
    "\n",
    "for a in range (0,total_years):\n",
    "    print(year + a, leap_year)"
   ]
  },
  {
   "cell_type": "markdown",
   "id": "e615550b-3b1e-46e3-b108-9d33f88d1b6c",
   "metadata": {},
   "source": [
    "22.Create a Python program that calculates the square root of a number using a for loop\n"
   ]
  },
  {
   "cell_type": "markdown",
   "id": "ad1578ea-a722-4956-acb4-6f138d4d3d11",
   "metadata": {},
   "source": [
    "23.Write a Python program to find the LCM (Least Common Multiple) of two numbers using a for loop.\n"
   ]
  },
  {
   "cell_type": "code",
   "execution_count": 79,
   "id": "7cc4188a-7691-4466-a11e-566f3ede6867",
   "metadata": {},
   "outputs": [
    {
     "name": "stdout",
     "output_type": "stream",
     "text": [
      "LCM of 12 and 14 is 84\n"
     ]
    }
   ],
   "source": [
    "num1 = 12\n",
    "num2 = 14\n",
    "for i in range(max(num1, num2), 1 + (num1 * num2)):\n",
    "    if i % num1 == i % num2 == 0:\n",
    "        lcm = i\n",
    "        break\n",
    "print(\"LCM of\", num1, \"and\", num2, \"is\", lcm)"
   ]
  },
  {
   "cell_type": "markdown",
   "id": "bfd36d0c-6c1c-433c-a0c9-3b5a91a9345e",
   "metadata": {},
   "source": [
    "If else :\n"
   ]
  },
  {
   "cell_type": "markdown",
   "id": "491eee03-0126-4fe7-97c8-a4ca022e31c8",
   "metadata": {},
   "source": [
    "1.Write a Python program to check if a number is positive, negative, or zero using an if-else statement.\n"
   ]
  },
  {
   "cell_type": "code",
   "execution_count": 81,
   "id": "ce57f8b5-8c65-4127-b7bb-1403798a6d8a",
   "metadata": {},
   "outputs": [
    {
     "name": "stdin",
     "output_type": "stream",
     "text": [
      "Input a number:  -6\n"
     ]
    },
    {
     "name": "stdout",
     "output_type": "stream",
     "text": [
      "Number is Negative number.\n"
     ]
    }
   ],
   "source": [
    "n = float(input(\"Input a number: \"))\n",
    "if n >= 0:\n",
    "  if n == 0:\n",
    "      print(\"It is Zero!\")\n",
    "  else:\n",
    "      print(\"Number is Positive number.\")\n",
    "else:\n",
    "  print(\"Number is Negative number.\")"
   ]
  },
  {
   "cell_type": "markdown",
   "id": "cd8ed554-5cc9-421b-85c2-fb18ed84d130",
   "metadata": {},
   "source": [
    "2.Create a Python program that checks if a given number is even or odd using an if-else statement.\n"
   ]
  },
  {
   "cell_type": "code",
   "execution_count": 86,
   "id": "a34840d2-4f17-443f-8f37-c698236477ef",
   "metadata": {},
   "outputs": [
    {
     "name": "stdin",
     "output_type": "stream",
     "text": [
      "Enter any number to test whether it is odd or even:  6\n"
     ]
    },
    {
     "name": "stdout",
     "output_type": "stream",
     "text": [
      "The number is even\n"
     ]
    }
   ],
   "source": [
    "num = int (input (\"Enter any number to test whether it is odd or even: \"))\n",
    "\n",
    "if (num % 2) == 0:\n",
    "\n",
    "              print (\"The number is even\")\n",
    "\n",
    "else:\n",
    "\n",
    "              print (\"The provided number is odd\")"
   ]
  },
  {
   "cell_type": "markdown",
   "id": "080f52dd-cded-4e43-a7c9-83428c1cdf5b",
   "metadata": {},
   "source": [
    "3.How can you use nested if-else statements in Python, and provide an example?"
   ]
  },
  {
   "cell_type": "markdown",
   "id": "56ff864a-14a5-4e36-b71b-ffb00601e50f",
   "metadata": {},
   "source": [
    "Ans:There come situations in real life when we need to make some decisions and based on these decisions, we decide what should we do next. Similar situations arise in programming also where we need to make some decisions and based on these decisions we will execute the next block of code. This is done with the help of decision-making statements in Python."
   ]
  },
  {
   "cell_type": "code",
   "execution_count": 89,
   "id": "0f2719e3-34aa-4b90-a1e0-2eed85073771",
   "metadata": {},
   "outputs": [
    {
     "name": "stdout",
     "output_type": "stream",
     "text": [
      "i is greater than 15\n",
      "i'm in else Block\n",
      "i'm not in if and not in else Block\n"
     ]
    }
   ],
   "source": [
    "\n",
    "i = 20; \n",
    "if (i < 15): \n",
    "\tprint (\"i is smaller than 15\") \n",
    "\tprint (\"i'm in if Block\") \n",
    "else: \n",
    "\tprint (\"i is greater than 15\") \n",
    "\tprint (\"i'm in else Block\") \n",
    "print (\"i'm not in if and not in else Block\") \n"
   ]
  },
  {
   "cell_type": "markdown",
   "id": "27b2e7c0-6ea4-4511-8419-a75621a09fa4",
   "metadata": {},
   "source": [
    "4.Write a Python program to determine the largest of three numbers using if-else.\n"
   ]
  },
  {
   "cell_type": "code",
   "execution_count": 91,
   "id": "1f1afe69-e7a0-48c8-ac50-4348314e39e2",
   "metadata": {},
   "outputs": [
    {
     "name": "stdout",
     "output_type": "stream",
     "text": [
      "The largest number is 34\n"
     ]
    }
   ],
   "source": [
    "\n",
    "num1 = 10\n",
    "num2 = 14\n",
    "num3 = 34\n",
    "\n",
    "if (num1 >= num2) and (num1 >= num3):\n",
    "   largest = num1\n",
    "elif (num2 >= num1) and (num2 >= num3):\n",
    "   largest = num2\n",
    "else:\n",
    "   largest = num3\n",
    "\n",
    "print(\"The largest number is\", largest)\n"
   ]
  },
  {
   "cell_type": "markdown",
   "id": "eff353df-6c4b-4be3-afe6-a284e1475f3a",
   "metadata": {},
   "source": [
    "5.Write a Python program that calculates the absolute value of a number using if-else."
   ]
  },
  {
   "cell_type": "markdown",
   "id": "881eb0f2-b1f6-4ddd-b47f-c34183da8735",
   "metadata": {},
   "source": [
    "6.Create a Python program that checks if a given character is a vowel or consonant using if-else."
   ]
  },
  {
   "cell_type": "code",
   "execution_count": 95,
   "id": "aabab723-db48-49de-aec1-35fd9be64f81",
   "metadata": {},
   "outputs": [
    {
     "name": "stdout",
     "output_type": "stream",
     "text": [
      "Consonant\n"
     ]
    }
   ],
   "source": [
    "\n",
    "def vowelOrConsonant(x): \n",
    "\n",
    "\tif (x == 'a' or x == 'e' or\n",
    "\t\tx == 'i' or x == 'o' or x == 'u'): \n",
    "\t\tprint(\"Vowel\") \n",
    "\telse: \n",
    "\t\tprint(\"Consonant\") \n",
    "\n",
    "# Driver code \n",
    "vowelOrConsonant('c') \n",
    "\n",
    "\t\n",
    "\n",
    "    "
   ]
  },
  {
   "cell_type": "markdown",
   "id": "5957f88a-4370-47f8-aef6-f87a68e1c7a7",
   "metadata": {},
   "source": [
    "7.Write a Python program to determine if a user is eligible to vote based on their age using if-else."
   ]
  },
  {
   "cell_type": "code",
   "execution_count": 98,
   "id": "1c045c88-1084-42db-b603-5113454a4838",
   "metadata": {},
   "outputs": [
    {
     "name": "stdin",
     "output_type": "stream",
     "text": [
      "Enter age :  5\n"
     ]
    },
    {
     "name": "stdout",
     "output_type": "stream",
     "text": [
      "Not Eligible for Voting!\n"
     ]
    }
   ],
   "source": [
    "age = int(input(\"Enter age : \"))\n",
    "\n",
    "if age >= 18:\n",
    "    print(\"Eligible for Voting!\")\n",
    "else:\n",
    "    print(\"Not Eligible for Voting!\")"
   ]
  },
  {
   "cell_type": "markdown",
   "id": "310e0e16-4092-4472-956c-6dbcdb27107c",
   "metadata": {},
   "source": [
    "8.Create a Python program that calculates the discount amount based on the purchase amount using if-else.\n",
    "\n"
   ]
  },
  {
   "cell_type": "code",
   "execution_count": 100,
   "id": "350190fd-b2c5-4297-b004-384b93b16364",
   "metadata": {},
   "outputs": [
    {
     "name": "stdin",
     "output_type": "stream",
     "text": [
      "Enter Sale Amount:  50000\n"
     ]
    },
    {
     "name": "stdout",
     "output_type": "stream",
     "text": [
      "Discount :  15000.0\n",
      "Net Pay  :  35000.0\n"
     ]
    }
   ],
   "source": [
    "amt = int(input(\"Enter Sale Amount: \"))\n",
    "\n",
    "# checking conditions and calculating discount\n",
    "if(amt>0):\n",
    "    if amt<=5000:\n",
    "       disc = amt*0.05\n",
    "    elif amt<=15000:\n",
    "        disc=amt*0.12\n",
    "    elif amt<=25000:\n",
    "        disc=0.2 * amt\n",
    "    else:\n",
    "         disc=0.3 * amt\n",
    "\n",
    "    print(\"Discount : \",disc)\n",
    "    print(\"Net Pay  : \",amt-disc)\n",
    "else:\n",
    "    print(\"Invalid Amount\")"
   ]
  },
  {
   "cell_type": "markdown",
   "id": "e70dbbab-b907-4fad-82ca-464408450e5a",
   "metadata": {},
   "source": [
    "9.Write a Python program to check if a number is within a specified range using if-else.\n"
   ]
  },
  {
   "cell_type": "code",
   "execution_count": 111,
   "id": "559ec8b9-6525-4f05-8851-2da74592ca16",
   "metadata": {},
   "outputs": [
    {
     "name": "stdout",
     "output_type": "stream",
     "text": [
      "Number is not in the range of 1 to 10\n"
     ]
    }
   ],
   "source": [
    " number = 10\n",
    "\n",
    "if number in range(1, 10):\n",
    "    print(\"Number is in the range of 1 to 10\")\n",
    "else:\n",
    "    print(\"Number is not in the range of 1 to 10\")"
   ]
  },
  {
   "cell_type": "markdown",
   "id": "b4686ed4-95ca-4c22-b908-32e582730508",
   "metadata": {},
   "source": [
    "10.Create a Python program that determines the grade of a student based on their score using if-else.\n"
   ]
  },
  {
   "cell_type": "code",
   "execution_count": 113,
   "id": "55b679a2-71b2-4389-bab2-a4894cc2ba51",
   "metadata": {},
   "outputs": [
    {
     "name": "stdout",
     "output_type": "stream",
     "text": [
      "Enter Marks Obtained in 5 Subjects: \n"
     ]
    },
    {
     "name": "stdin",
     "output_type": "stream",
     "text": [
      " 45\n",
      " 48\n",
      " 90\n",
      " 23\n",
      " 12\n"
     ]
    },
    {
     "name": "stdout",
     "output_type": "stream",
     "text": [
      "Your Grade is C2\n"
     ]
    }
   ],
   "source": [
    "print(\"Enter Marks Obtained in 5 Subjects: \")\n",
    "markOne = int(input())\n",
    "markTwo = int(input())\n",
    "markThree = int(input())\n",
    "markFour = int(input())\n",
    "markFive = int(input())\n",
    "\n",
    "tot = markOne+markTwo+markThree+markFour+markFive\n",
    "avg = tot/5\n",
    "\n",
    "if avg>=91 and avg<=100:\n",
    "    print(\"Your Grade is A1\")\n",
    "elif avg>=81 and avg<91:\n",
    "    print(\"Your Grade is A2\")\n",
    "elif avg>=71 and avg<81:\n",
    "    print(\"Your Grade is B1\")\n",
    "elif avg>=61 and avg<71:\n",
    "    print(\"Your Grade is B2\")\n",
    "elif avg>=51 and avg<61:\n",
    "    print(\"Your Grade is C1\")\n",
    "elif avg>=41 and avg<51:\n",
    "    print(\"Your Grade is C2\")\n",
    "elif avg>=33 and avg<41:\n",
    "    print(\"Your Grade is D\")\n",
    "elif avg>=21 and avg<33:\n",
    "    print(\"Your Grade is E1\")\n",
    "elif avg>=0 and avg<21:\n",
    "    print(\"Your Grade is E2\")\n",
    "else:\n",
    "    print(\"Invalid Input!\")"
   ]
  },
  {
   "cell_type": "markdown",
   "id": "3290757e-0287-41b9-8b5c-d9d84416a40f",
   "metadata": {},
   "source": [
    "11.Write a Python program to check if a string is empty or not using if-else.\n"
   ]
  },
  {
   "cell_type": "code",
   "execution_count": 116,
   "id": "e1f69321-d877-4c40-b3dd-8b2ecf79284f",
   "metadata": {},
   "outputs": [
    {
     "name": "stdout",
     "output_type": "stream",
     "text": [
      "Empty string!\n"
     ]
    }
   ],
   "source": [
    "string = ''\n",
    "\n",
    "if not string:\n",
    "    print(\"Empty string!\")\n",
    "else:\n",
    "    print(\"Not empty string!\")\n",
    "\n",
    "# Returns:\n",
    "# Empty string!"
   ]
  },
  {
   "cell_type": "markdown",
   "id": "00d18b3f-89ae-4802-9371-652e31733f19",
   "metadata": {},
   "source": [
    "12.Create a Python program that identifies the type of a triangle (e.g., equilateral, isosceles, or scalene) based on input values using if-else."
   ]
  },
  {
   "cell_type": "code",
   "execution_count": 118,
   "id": "80bb2c48-6140-4e63-9d1a-a85b1361c502",
   "metadata": {},
   "outputs": [
    {
     "name": "stdout",
     "output_type": "stream",
     "text": [
      "Input lengths of the triangle sides: \n"
     ]
    },
    {
     "name": "stdin",
     "output_type": "stream",
     "text": [
      "x:  55\n",
      "y:  55\n",
      "z:  55\n"
     ]
    },
    {
     "name": "stdout",
     "output_type": "stream",
     "text": [
      "Equilateral triangle\n"
     ]
    }
   ],
   "source": [
    "print(\"Input lengths of the triangle sides: \")\n",
    "x = int(input(\"x: \"))\n",
    "y = int(input(\"y: \"))\n",
    "z = int(input(\"z: \"))\n",
    "\n",
    "if x == y == z:\n",
    "\tprint(\"Equilateral triangle\")\n",
    "elif x==y or y==z or z==x:\n",
    "\tprint(\"isosceles triangle\")\n",
    "else:\n",
    "\tprint(\"Scalene triangle\")"
   ]
  },
  {
   "cell_type": "markdown",
   "id": "f37bd00a-dcbf-4d67-ac7e-73c6299f1ea5",
   "metadata": {},
   "source": [
    "13.Write a Python program to determine the day of the week based on a user-provided number using if-else."
   ]
  },
  {
   "cell_type": "code",
   "execution_count": 120,
   "id": "d081be73-b4b2-461f-9e64-b5e3c126264e",
   "metadata": {},
   "outputs": [
    {
     "name": "stdin",
     "output_type": "stream",
     "text": [
      "Enter a number from 1 to 7:  5\n"
     ]
    },
    {
     "name": "stdout",
     "output_type": "stream",
     "text": [
      "5 is Thursday\n"
     ]
    }
   ],
   "source": [
    "day = int(input(\"Enter a number from 1 to 7: \"))\n",
    "\n",
    "if day == 1:\n",
    "    print(day, \"is Sunday\")\n",
    "elif day == 2:\n",
    "    print(day, \"is Monday\")\n",
    "elif day == 3:\n",
    "    print(day, \"is Tuesday\")\n",
    "elif day == 4:\n",
    "    print(day, \"is Wednesday\")\n",
    "elif day == 5:\n",
    "    print(day, \"is Thursday\")\n",
    "elif day == 6:\n",
    "    print(day, \"is Friday\")\n",
    "elif day == 7:\n",
    "    print(day, \"is Saturday\")\n",
    "else:\n",
    "    print(\"Wrong input! Please enter a number from 1 to 7.\")\n",
    "    "
   ]
  },
  {
   "cell_type": "markdown",
   "id": "de77665f-2b7d-4d4e-a8e0-17e4eb57cf72",
   "metadata": {},
   "source": [
    "14.Create a Python program that checks if a given year is a leap year using both if-else and a function."
   ]
  },
  {
   "cell_type": "code",
   "execution_count": 122,
   "id": "54b311fe-4716-4ce2-9989-fcf7642d662d",
   "metadata": {},
   "outputs": [
    {
     "name": "stdin",
     "output_type": "stream",
     "text": [
      "Enter year to be checked:  2024\n"
     ]
    },
    {
     "name": "stdout",
     "output_type": "stream",
     "text": [
      "The year is a leap year!\n"
     ]
    }
   ],
   "source": [
    "year = int(input(\"Enter year to be checked: \"))\n",
    " \n",
    "if year % 4 == 0:\n",
    "    if year % 100 == 0:\n",
    "        if year % 400 == 0:\n",
    "            print(\"The year is a leap year!\")\n",
    "        else:\n",
    "            print(\"The year is not a leap year!\")\n",
    "    else:\n",
    "        print(\"The year is a leap year!\")\n",
    "else:\n",
    "    print(\"The year is not a leap year!\")"
   ]
  },
  {
   "cell_type": "markdown",
   "id": "e09b0e1d-6e38-473e-8a47-2277c927ef51",
   "metadata": {},
   "source": [
    "15.How do you use the \"assert\" statement in Python to add debugging checks within if-else blocks?\n"
   ]
  },
  {
   "cell_type": "markdown",
   "id": "72a88c67-45d6-4a7b-aee7-991e8f621af3",
   "metadata": {},
   "source": [
    "16.Create a Python program that determines the eligibility of a person for a senior citizen discount based on age using if-else.\n"
   ]
  },
  {
   "cell_type": "code",
   "execution_count": 130,
   "id": "e5d248ab-c5d4-4ded-9948-fbfa4243442f",
   "metadata": {},
   "outputs": [
    {
     "name": "stdout",
     "output_type": "stream",
     "text": [
      "You do not qualify for a discount!\n"
     ]
    }
   ],
   "source": [
    "def main():\n",
    "   age = eval(input(\"How old are you?: \"))\n",
    "   state = input(\"What state do you live in?: \")\n",
    "\n",
    "if age >= 70:\n",
    "        print(\"You qualify for a discount!\")\n",
    "\n",
    "        if state == \"Florida\":\n",
    "              print(\"You qualify for a discount!\")\n",
    "        else:\n",
    "              print(\"You do not qualify for a discount!\")\n",
    "else:\n",
    "        print(\"You do not qualify for a discount!\")\n",
    "\n"
   ]
  },
  {
   "cell_type": "markdown",
   "id": "21255141-b2ff-429f-a2ed-7983f1585982",
   "metadata": {},
   "source": [
    "17.Write a Python program to categorize a given character as uppercase, lowercase, or neither using if-else."
   ]
  },
  {
   "cell_type": "code",
   "execution_count": 132,
   "id": "eb0e0628-7457-44b5-a61b-24a47b12bae9",
   "metadata": {},
   "outputs": [
    {
     "name": "stdout",
     "output_type": "stream",
     "text": [
      "A is an UpperCase character\n",
      "a is an LowerCase character\n",
      "0 is not an alphabetic character\n"
     ]
    }
   ],
   "source": [
    "# Python3 implementation of the above approach\n",
    "\n",
    "def check(ch):\n",
    "\n",
    "\tif (ch >= 'A' and ch <= 'Z'):\n",
    "\t\tprint(ch,\"is an UpperCase character\");\n",
    "\n",
    "\telif (ch >= 'a' and ch <= 'z'):\n",
    "\t\tprint(ch,\"is an LowerCase character\");\n",
    "\telse:\n",
    "\t\tprint(ch,\"is not an alphabetic character\");\n",
    "\n",
    "# Driver Code\n",
    "\n",
    "# Get the character\n",
    "ch = 'A';\n",
    "\n",
    "# Check the character\n",
    "check(ch);\n",
    "\n",
    "# Get the character\n",
    "ch = 'a';\n",
    "\n",
    "# Check the character\n",
    "check(ch);\n",
    "\n",
    "# Get the character\n",
    "ch = '0';\n",
    "\n",
    "# Check the character\n",
    "check(ch);\n",
    "\n",
    "# This code is contributed by mits\n"
   ]
  },
  {
   "cell_type": "markdown",
   "id": "bf6aca3d-723c-41fd-bbc2-eebcd34ad339",
   "metadata": {},
   "source": [
    "18.Write a Python program to determine the roots of a quadratic equation using if-else."
   ]
  },
  {
   "cell_type": "code",
   "execution_count": 134,
   "id": "bf92d1cf-7434-43db-9508-d21a58f81e78",
   "metadata": {},
   "outputs": [
    {
     "name": "stdout",
     "output_type": "stream",
     "text": [
      "real and different roots\n",
      "2.0\n",
      "-12.0\n"
     ]
    }
   ],
   "source": [
    "# Python program to find roots of quadratic equation\n",
    "import math \n",
    "\n",
    "\n",
    "# function for finding roots\n",
    "def equationroots( a, b, c): \n",
    "\n",
    "\t# calculating discriminant using formula\n",
    "\tdis = b * b - 4 * a * c \n",
    "\tsqrt_val = math.sqrt(abs(dis)) \n",
    "\t\n",
    "\t# checking condition for discriminant\n",
    "\tif dis > 0: \n",
    "\t\tprint(\"real and different roots\") \n",
    "\t\tprint((-b + sqrt_val)/(2 * a)) \n",
    "\t\tprint((-b - sqrt_val)/(2 * a)) \n",
    "\t\n",
    "\telif dis == 0: \n",
    "\t\tprint(\"real and same roots\") \n",
    "\t\tprint(-b / (2 * a)) \n",
    "\t\n",
    "\t# when discriminant is less than 0\n",
    "\telse:\n",
    "\t\tprint(\"Complex Roots\") \n",
    "\t\tprint(- b / (2 * a), + i, sqrt_val) \n",
    "\t\tprint(- b / (2 * a), - i, sqrt_val) \n",
    "\n",
    "# Driver Program \n",
    "a = 1\n",
    "b = 10\n",
    "c = -24\n",
    "\n",
    "# If a is 0, then incorrect equation\n",
    "if a == 0: \n",
    "\t\tprint(\"Input correct quadratic equation\") \n",
    "\n",
    "else:\n",
    "\tequationroots(a, b, c)\n"
   ]
  },
  {
   "cell_type": "markdown",
   "id": "abd8d23c-cd28-437f-a9c0-4c8038375328",
   "metadata": {},
   "source": [
    "19.Create a Python program that checks if a given year is a century year or not using if-else."
   ]
  },
  {
   "cell_type": "code",
   "execution_count": 136,
   "id": "bb3060e8-110d-432a-a10d-3b88749a6996",
   "metadata": {},
   "outputs": [
    {
     "name": "stdout",
     "output_type": "stream",
     "text": [
      "21 century\n"
     ]
    }
   ],
   "source": [
    "\n",
    "\n",
    "def find_century(year): \n",
    "\t\n",
    "\t# No negative value is allow for year \n",
    "\tif (year <= 0): \n",
    "\t\tprint(\"0 and negative is not allow for a year\") \n",
    "\t\t\n",
    "\t# If year is between 1 to 100 it \n",
    "\t# will come in 1st century \n",
    "\telif (year <= 100): \n",
    "\t\tprint(\"1st century\") \n",
    "\telif (year % 100 == 0): \n",
    "\t\tprint(year // 100,\"century\") \n",
    "\telse: \n",
    "\t\tprint(year // 100 + 1,\"century\") \n",
    "\n",
    "# Driver code \n",
    "year = 2001\n",
    "find_century(year) \n",
    "\n",
    "\n"
   ]
  },
  {
   "cell_type": "markdown",
   "id": "5230afe0-2346-4af3-b9c0-a7cf196b9738",
   "metadata": {},
   "source": [
    "20.Write a Python program to determine if a given number is a perfect square using if-else.\n"
   ]
  },
  {
   "cell_type": "code",
   "execution_count": 138,
   "id": "d9cd41dd-4402-4540-8283-d6ffca23d105",
   "metadata": {},
   "outputs": [
    {
     "name": "stdout",
     "output_type": "stream",
     "text": [
      "The number is a perfect square\n"
     ]
    }
   ],
   "source": [
    "import math  \n",
    "num = 25  \n",
    "sqrt_num = math.sqrt(num)  \n",
    "if sqrt_num.is_integer():  \n",
    "    print(\"The number is a perfect square\")  \n",
    "else:  \n",
    "    print(\"The number is not a perfect square\") "
   ]
  },
  {
   "cell_type": "markdown",
   "id": "e41ea79d-7fdc-4b6e-9a74-a62ce3838233",
   "metadata": {},
   "source": [
    "21.Explain the purpose of the \"continue\" and \"break\" statements within if-else loops.\n"
   ]
  },
  {
   "cell_type": "markdown",
   "id": "30de1441-913f-45a1-8c7e-1b271caf9719",
   "metadata": {},
   "source": [
    "Ans:The continue statement ends the current operation of the loop and returns to the condition at the top of the loop. Such loops are typically used to exclude some values from calculations. For example, we could use the following loop to sum the positive values in the array x,"
   ]
  },
  {
   "cell_type": "markdown",
   "id": "9f45b784-6f29-4f6b-92e0-62ca9122f198",
   "metadata": {},
   "source": [
    "22.Create a Python program that calculates the BMI (Body Mass Index) of a person based on their weight and height using if-else.\n",
    "Create a Python program that calculates the BMI (Body Mass Index) of a person based on their weight and height using if-else.\n"
   ]
  },
  {
   "cell_type": "code",
   "execution_count": 142,
   "id": "eded96c2-2e65-4102-a3cd-fc05c20aa1fd",
   "metadata": {},
   "outputs": [
    {
     "name": "stdin",
     "output_type": "stream",
     "text": [
      "Enter your height in meters:  5\n",
      "Enter your weight in kg:  56\n"
     ]
    },
    {
     "name": "stdout",
     "output_type": "stream",
     "text": [
      "Welcome to the BMI calculator.\n",
      "Your BMI is:  2.24\n",
      "You are underweight.\n"
     ]
    }
   ],
   "source": [
    "def bodymassindex(height, weight):\n",
    "    return round((weight / height**2),2)\n",
    "\n",
    "\n",
    "h = float(input(\"Enter your height in meters: \"))\n",
    "w = float(input(\"Enter your weight in kg: \"))\n",
    "\n",
    "\n",
    "print(\"Welcome to the BMI calculator.\")\n",
    "\n",
    "bmi = bodymassindex(h, w)\n",
    "print(\"Your BMI is: \", bmi)\n",
    "\n",
    "\n",
    "if bmi <= 18.5:\n",
    "    print(\"You are underweight.\")\n",
    "elif 18.5 < bmi <= 24.9:\n",
    "    print(\"Your weight is normal.\")\n",
    "elif 25 < bmi <= 29.29:\n",
    "    print(\"You are overweight.\")\n",
    "else:\n",
    "    print(\"You are obese.\")"
   ]
  },
  {
   "cell_type": "markdown",
   "id": "a2aefbcd-ff3b-4b26-b021-3323e87eff65",
   "metadata": {},
   "source": [
    "23.How can you use the \"filter()\" function with if-else statements to filter elements from a list?\n",
    "\n"
   ]
  },
  {
   "cell_type": "markdown",
   "id": "7048bdbb-d10a-423a-a830-f7b091f27979",
   "metadata": {},
   "source": [
    "Ans:The `filter()` is a built-in Python function to filter list items. It requires a filter function and list `filter(fn, list)`. In our case, we will create a filter_height function. It returns True when height is less than 150 else False"
   ]
  },
  {
   "cell_type": "markdown",
   "id": "5f756c01-c6b2-4622-b667-9369307873f4",
   "metadata": {},
   "source": [
    "24.Write a Python program to determine if a given number is prime or not using if-else.\n"
   ]
  },
  {
   "cell_type": "code",
   "execution_count": 275,
   "id": "851a747f-5ea0-47ae-961b-29d9fc1523ea",
   "metadata": {},
   "outputs": [],
   "source": [
    "n = 5\n",
    "\n",
    "# Check if the number is greater than 1\n",
    "\n",
    "if n > 1:\n",
    "\tfor i in range(2, int(n/2)+1):\n",
    "\t\tif (n % i) == 0:\n",
    "\t\t\tprint(num, \"is not a prime number\")\n",
    "\t\tbreak\n",
    "\telse:\n",
    "\t\tprint(n, \"is a prime number\")\n",
    "# If the number is less than 1, its also not a prime number.\n",
    "else:\n",
    "\tprint(n, \"is not a prime number\")"
   ]
  },
  {
   "cell_type": "markdown",
   "id": "c3b8eeda-2f07-4a03-8518-1a36db3c8fc8",
   "metadata": {},
   "source": [
    "Map :-\n"
   ]
  },
  {
   "cell_type": "markdown",
   "id": "10ca8c95-ce31-4a18-992e-bb24fbc95b72",
   "metadata": {},
   "source": [
    "1.Explain the purpose of the `map()` function in Python and provide an example of how it can be used to apply a function to each element of an iterable.\n"
   ]
  },
  {
   "cell_type": "markdown",
   "id": "b6de168e-a29b-4121-a9ce-44a8e5b4a241",
   "metadata": {},
   "source": [
    "Ans:Map in Python is a function that works as an iterator to return a result after applying a function to every item of an iterable (tuple, lists, etc.). It is used when you want to apply a single transformation function to all the iterable elements. The iterable and function are passed as arguments to the map in Python.\n",
    "\n",
    "\n",
    "The syntax of the Python map() function is:\n",
    "\n",
    "map(function, iterables)\n",
    "\n",
    "In the above syntax:\n",
    "\n",
    "function: It is the transformation function through which all the items of the iterable will be passed.\n",
    "iterables: It is the iterable (sequence, collection like list or tuple) that you want to map.\n",
    "Let’s look at an example to understand the syntax of the map in Python better. The code below creates a list of numbers and then uses the Python map() function to multiply each item of the list with itself.\n",
    "\n",
    "# Defining a function\n"
   ]
  },
  {
   "cell_type": "code",
   "execution_count": 148,
   "id": "e5408805-a78e-4ed3-845e-5f49454dd16e",
   "metadata": {},
   "outputs": [
    {
     "name": "stdout",
     "output_type": "stream",
     "text": [
      "<map object at 0x7f5c34e373a0>\n",
      "[9, 25, 49, 121, 169]\n"
     ]
    }
   ],
   "source": [
    "def mul(i):\n",
    "\n",
    "    return i * i\n",
    "\n",
    "# Using the map function\n",
    "\n",
    "x = map(mul, (3, 5, 7, 11, 13))\n",
    "\n",
    "print (x)\n",
    "\n",
    "print(list(x))"
   ]
  },
  {
   "cell_type": "markdown",
   "id": "ea89a64a-7bec-49ee-8adc-fb5f048663d9",
   "metadata": {},
   "source": [
    "2.Write a Python program that uses the `map()` function to square each element of a list of numbers.\n"
   ]
  },
  {
   "cell_type": "code",
   "execution_count": 150,
   "id": "ced56038-846f-4dbd-83c0-5c4aae8f2daa",
   "metadata": {},
   "outputs": [
    {
     "name": "stdout",
     "output_type": "stream",
     "text": [
      "Original List:  [4, 5, 2, 9]\n",
      "Square the elements of the said list using map():\n",
      "[16, 25, 4, 81]\n"
     ]
    }
   ],
   "source": [
    "def square_num(n):\n",
    "  return n * n\n",
    "nums = [4, 5, 2, 9]\n",
    "print(\"Original List: \",nums)\n",
    "result = map(square_num, nums)\n",
    "print(\"Square the elements of the said list using map():\")\n",
    "print(list(result))\n"
   ]
  },
  {
   "cell_type": "markdown",
   "id": "07be5eac-bbb3-46f6-8dc5-2e6e3a99bbae",
   "metadata": {},
   "source": [
    "3.How does the `map()` function differ from a list comprehension in Python, and when would you choose one over the other?\n"
   ]
  },
  {
   "cell_type": "markdown",
   "id": "02c5d531-b5a4-4f37-a0e8-507db5a27e2c",
   "metadata": {},
   "source": [
    "Ans:1.List comprehension is more concise and easier to read as compared to map.\n",
    "2.List comprehension allows filtering. In map, we have no such facility. For example, to print all even numbers in range of 100, we can write [n for n in range(100) if n%2 == 0]. There is no alternate for it in map\n",
    "3.List comprehension are used when a list of results is required as map only returns a map object and does not return any list.\n",
    "4.List comprehension is faster than map when we need to evaluate expressions that are too long or complicated to express\n",
    "5.Map is faster in case of calling an already defined function (as no lambda is required).\n"
   ]
  },
  {
   "cell_type": "markdown",
   "id": "21ef7a31-0ce3-46de-b9b4-f59bac791555",
   "metadata": {},
   "source": [
    "4.Create a Python program that uses the `map()` function to convert a list of names to uppercase\n"
   ]
  },
  {
   "cell_type": "code",
   "execution_count": 66,
   "id": "02203ff0-34d3-435f-9bd1-7cd21f45c3e6",
   "metadata": {},
   "outputs": [
    {
     "name": "stdout",
     "output_type": "stream",
     "text": [
      "['HELLO', 'PYTHON', 'WORLD']\n",
      "['A', 'B', 'C']\n",
      "['AA AA', 'BB$BB', 'CC()CC']\n"
     ]
    }
   ],
   "source": [
    "def all_upper(my_list):\n",
    "    return list(map(lambda x: x.upper(), my_list))\n",
    "print(all_upper(['hello', 'Python', 'world']))\n",
    "# ['HELLO', 'PYTHON', 'WORLD']\n",
    "print(all_upper(['a', 'b', 'c']))\n",
    "# ['A', 'B', 'C']\n",
    "print(all_upper(['aa aa', 'bb$bb', 'cc()cc']))"
   ]
  },
  {
   "cell_type": "markdown",
   "id": "434b9948-6056-4af4-a6c9-574568fc4b15",
   "metadata": {},
   "source": [
    "5.Write a Python program that uses the `map()` function to calculate the length of each word in a list of strings.\n"
   ]
  },
  {
   "cell_type": "code",
   "execution_count": 71,
   "id": "2970e024-1378-45f8-a9ee-6fc074aee727",
   "metadata": {},
   "outputs": [
    {
     "data": {
      "text/plain": [
       "[6, 2, 6, 3, 2, 3]"
      ]
     },
     "execution_count": 71,
     "metadata": {},
     "output_type": "execute_result"
    }
   ],
   "source": [
    "s = \"python is pretty fun to use\"\n",
    "map(len, s.split())       \n",
    "list(map(len, s.split()))"
   ]
  },
  {
   "cell_type": "markdown",
   "id": "d6846eae-bf5f-4415-bec0-f6ff8699234a",
   "metadata": {},
   "source": [
    "6.How can you use the `map()` function to apply a custom function to elements of multiple lists simultaneously in Python?\n"
   ]
  },
  {
   "cell_type": "code",
   "execution_count": 73,
   "id": "9d1ecd77-b308-4c79-86bb-94daaac321d0",
   "metadata": {},
   "outputs": [
    {
     "name": "stdout",
     "output_type": "stream",
     "text": [
      "[2, 4, 6]\n"
     ]
    }
   ],
   "source": [
    "def double(integer):\n",
    "\treturn integer*2\n",
    "\n",
    "\n",
    "# driver code\n",
    "integer_list = [1, 2, 3]\n",
    "output_list = list(map(double, integer_list))\n",
    "\n",
    "print(output_list)\n"
   ]
  },
  {
   "cell_type": "markdown",
   "id": "691230e6-ff84-41e0-8332-10099709a4ce",
   "metadata": {},
   "source": [
    "7.Create a Python program that uses `map()` to convert a list of temperatures from Celsius to Fahrenheit.\n"
   ]
  },
  {
   "cell_type": "markdown",
   "id": "66681143-0e32-4586-b580-2036b89bf3fe",
   "metadata": {},
   "source": [
    "8.Write a Python program that uses the `map()` function to round each element of a list of floating-point numbers to the nearest integer.\n"
   ]
  },
  {
   "cell_type": "markdown",
   "id": "f2149729-f1e6-4031-9736-a89ed11d8ff8",
   "metadata": {},
   "source": [
    "Reduce :-\n"
   ]
  },
  {
   "cell_type": "markdown",
   "id": "1398bbb1-24ce-4084-9792-fc191ada3576",
   "metadata": {},
   "source": [
    "1.What is the `reduce()` function in Python, and what module should you import to use it? Provide an example of its basic usage.\n"
   ]
  },
  {
   "cell_type": "markdown",
   "id": "a9f5f1d6-6430-41c5-8c45-5999bc4b9fd6",
   "metadata": {},
   "source": [
    "Ans:The reduce(fun,seq) function is used to apply a particular function passed in its argument to all of the list elements mentioned in the sequence passed along.This function is defined in “functools” module.\n",
    "\n",
    "Working :  \n",
    "\n",
    "At first step, first two elements of sequence are picked and the result is obtained.\n",
    "Next step is to apply the same function to the previously attained result and the number just succeeding the second element and the result is again stored.\n",
    "This process continues till no more elements are left in the container.\n",
    "The final returned result is returned and printed on console.\n"
   ]
  },
  {
   "cell_type": "markdown",
   "id": "7e159c3d-e0a5-48a2-bc13-4b3f8e4c5dd3",
   "metadata": {},
   "source": [
    "2.Write a Python program that uses the `reduce()` function to find the product of all elements in a list.\n"
   ]
  },
  {
   "cell_type": "code",
   "execution_count": 156,
   "id": "bcbd4909-07d1-4850-95ac-569b93238207",
   "metadata": {},
   "outputs": [
    {
     "name": "stdout",
     "output_type": "stream",
     "text": [
      "6000\n",
      "120\n"
     ]
    }
   ],
   "source": [
    "from functools import reduce\n",
    "lst1 = [10, 20, 30]\n",
    "lst2 = [4, 5, 6]\n",
    " \n",
    "res1 = reduce((lambda x, y: x * y), lst1)\n",
    "res2 = reduce((lambda x, y: x * y), lst2)\n",
    "print(res1)\n",
    "print(res2)\n"
   ]
  },
  {
   "cell_type": "markdown",
   "id": "c8ceef7a-d153-4430-ac76-d2d31358e398",
   "metadata": {},
   "source": [
    "3.Create a Python program that uses `reduce()` to find the maximum element in a list of numbers.\n"
   ]
  },
  {
   "cell_type": "code",
   "execution_count": 158,
   "id": "ed7a38dd-90a1-418e-97d2-42fb30ca1209",
   "metadata": {},
   "outputs": [
    {
     "name": "stdout",
     "output_type": "stream",
     "text": [
      "99\n"
     ]
    }
   ],
   "source": [
    "from functools import reduce\n",
    "\n",
    "list1 = [-1, 3, 7, 99, 0]\n",
    "\n",
    "print(reduce(lambda x, y: x if x > y else y,list1))\n"
   ]
  },
  {
   "cell_type": "markdown",
   "id": "fbe3a6b5-112d-47e0-87b1-e1af074f30b3",
   "metadata": {},
   "source": [
    "4.How can you use the `reduce()` function to concatenate a list of strings into a single string?"
   ]
  },
  {
   "cell_type": "code",
   "execution_count": 160,
   "id": "aa590182-6d04-45e0-92e6-64c0e6c0b053",
   "metadata": {},
   "outputs": [
    {
     "name": "stdout",
     "output_type": "stream",
     "text": [
      "apple, banana, orange, grape\n"
     ]
    }
   ],
   "source": [
    "from functools import reduce\n",
    "\n",
    "\n",
    "fruits = ['apple', 'banana', 'orange', 'grape']\n",
    "\n",
    "def concatenate_strings(str1, str2):\n",
    "    return str1 + ', ' + str2\n",
    "\n",
    "result = reduce(concatenate_strings, fruits)\n",
    "\n",
    "print(result)\n"
   ]
  },
  {
   "cell_type": "markdown",
   "id": "cc44e2fd-1418-4b4a-acaa-8fc236a3792c",
   "metadata": {},
   "source": [
    "5.Write a Python program that calculates the factorial of a number using the `reduce()` function\n"
   ]
  },
  {
   "cell_type": "code",
   "execution_count": 162,
   "id": "dcc54f42-17ca-4cee-aaca-77e12dbe2d5e",
   "metadata": {},
   "outputs": [
    {
     "name": "stdin",
     "output_type": "stream",
     "text": [
      "Enter number:  5\n"
     ]
    },
    {
     "name": "stdout",
     "output_type": "stream",
     "text": [
      "5 != 120\n"
     ]
    }
   ],
   "source": [
    "from functools import reduce\n",
    "\n",
    "number = int(input('Enter number: '))\n",
    "\n",
    "\n",
    "factorial = reduce(lambda x, y: x * y, range(1, n+1))\n",
    "\n",
    "print('%d != %d' %(number, factorial))\n"
   ]
  },
  {
   "cell_type": "markdown",
   "id": "f732e095-2e1d-40a6-a7d5-7a8cedac9307",
   "metadata": {},
   "source": [
    "6.Create a Python program that uses `reduce()` to find the GCD (Greatest Common Divisor) of a list of numbers.\n"
   ]
  },
  {
   "cell_type": "markdown",
   "id": "a3c4becc-ecd9-450a-8bfb-5a92308f247e",
   "metadata": {},
   "source": [
    "7.Write a Python program that uses the `reduce()` function to find the sum of the digits of a given number.\n"
   ]
  },
  {
   "cell_type": "code",
   "execution_count": 165,
   "id": "7b816012-f9d2-4c0a-89cc-3cc5028d4330",
   "metadata": {},
   "outputs": [
    {
     "name": "stdout",
     "output_type": "stream",
     "text": [
      "The sum of the list elements is : 17\n"
     ]
    }
   ],
   "source": [
    "import functools \n",
    "\n",
    "# initializing list \n",
    "lis = [1, 3, 5, 6, 2] \n",
    "\n",
    "# using reduce to compute sum of list \n",
    "print(\"The sum of the list elements is : \", end=\"\") \n",
    "print(functools.reduce(lambda a, b: a+b, lis))\n"
   ]
  },
  {
   "cell_type": "markdown",
   "id": "773503cb-299c-4e99-beb2-3881bc530d09",
   "metadata": {},
   "source": [
    "Filter :-\n"
   ]
  },
  {
   "cell_type": "markdown",
   "id": "cfda98a6-d2c5-4c3b-ae4a-8ed7079930c0",
   "metadata": {},
   "source": [
    "1.Explain the purpose of the `filter()` function in Python and provide an example of how it can be used to filter elements from an iterable.\n"
   ]
  },
  {
   "cell_type": "markdown",
   "id": "a51c9fac-c2bf-4085-86d5-642f536fc85d",
   "metadata": {},
   "source": [
    "Ans:Filter() is a built-in function in Python. The filter function can be applied to an iterable such as a list or a dictionary and create a new iterator. This new iterator can filter out certain specific elements based on the condition that you provide very efficiently. \n",
    "\n",
    "The syntax for the filter() function in Python is - \n",
    "\n",
    "filter(function, iterable)\n"
   ]
  },
  {
   "cell_type": "code",
   "execution_count": 277,
   "id": "04aeeaef-0f7d-4ad8-8b32-29475966328c",
   "metadata": {},
   "outputs": [
    {
     "name": "stdout",
     "output_type": "stream",
     "text": [
      "The type of returned object is:  <class 'filter'>\n",
      "The list of vowels is:  ['u', 'a', 'i', 'e']\n"
     ]
    }
   ],
   "source": [
    "def check(letter):\n",
    "  list_of_vowels = ['a', 'e', 'i', 'o', 'u']\n",
    "  if letter in list_of_vowels:\n",
    "      return True\n",
    "  else:\n",
    "      return False\n",
    "letters = ['u', 'a', 'q', 'c', 'i', 'd', 'z', 'p', 'e']\n",
    "filtered_object = filter(check, letters)\n",
    "print(\"The type of returned object is: \", type(filtered_object))\n",
    "filtered_list = list(filtered_object)\n",
    "print(\"The list of vowels is: \", filtered_list)\n"
   ]
  },
  {
   "cell_type": "markdown",
   "id": "d01f8d92-2e8c-4caf-be29-f6af90a54e3c",
   "metadata": {},
   "source": [
    "2.Write a Python program that uses the `filter()` function to select even numbers from a list of integers.\n"
   ]
  },
  {
   "cell_type": "code",
   "execution_count": 171,
   "id": "902bbbbb-0c5d-4a5f-93e0-50f1c4cd7143",
   "metadata": {},
   "outputs": [
    {
     "name": "stdout",
     "output_type": "stream",
     "text": [
      "Original List : [2, 5, 7, 8, 10, 13, 16]\n",
      "Filtered List : [2, 8, 10, 16]\n"
     ]
    }
   ],
   "source": [
    "def even(x):\n",
    "    return x % 2 == 0\n",
    " \n",
    "a = [2, 5, 7, 8, 10, 13, 16]\n",
    " \n",
    "result = filter(even, a)\n",
    "print('Original List :', a)\n",
    "print('Filtered List :', list(result))\n",
    "\n"
   ]
  },
  {
   "cell_type": "markdown",
   "id": "676bedac-15ad-4ec5-a097-b793278f64d6",
   "metadata": {},
   "source": [
    "3.Create a Python program that uses the `filter()` function to select names that start with a specific letter from a list of strings.\n"
   ]
  },
  {
   "cell_type": "code",
   "execution_count": 173,
   "id": "32dfdbab-cca9-4ba9-a3ef-4e8a9a7bcad3",
   "metadata": {},
   "outputs": [
    {
     "name": "stdout",
     "output_type": "stream",
     "text": [
      "['Ashley', 'Olly']\n"
     ]
    }
   ],
   "source": [
    "creature_names = ['Sammy', 'Ashley', 'Jo', 'Olly', 'Jackie', 'Charlie']\n",
    "\n",
    "def names_vowels(x):\n",
    "  return x[0].lower() in 'aeiou'\n",
    "\n",
    "filtered_names = filter(names_vowels, creature_names)\n",
    "\n",
    "print(list(filtered_names))\n",
    "\n"
   ]
  },
  {
   "cell_type": "markdown",
   "id": "67deba5c-a596-425a-924b-75fd463df825",
   "metadata": {},
   "source": [
    "4.Write a Python program that uses the `filter()` function to select prime numbers from a list of integers.\n"
   ]
  },
  {
   "cell_type": "code",
   "execution_count": 176,
   "id": "97b86dbd-0479-4cab-a3b9-159f02155839",
   "metadata": {},
   "outputs": [
    {
     "name": "stdout",
     "output_type": "stream",
     "text": [
      "List of integers:\n",
      "[1, 2, 3, 4, 5, 6, 7, 8, 9, 10, 11, 12, 13, 14, 15, 16, 17]\n",
      "\n",
      "Extract prime numbers of the said list:\n"
     ]
    },
    {
     "ename": "NameError",
     "evalue": "name 'prime_number' is not defined",
     "output_type": "error",
     "traceback": [
      "\u001b[0;31m---------------------------------------------------------------------------\u001b[0m",
      "\u001b[0;31mNameError\u001b[0m                                 Traceback (most recent call last)",
      "Cell \u001b[0;32mIn[176], line 24\u001b[0m\n\u001b[1;32m     22\u001b[0m \u001b[38;5;28mprint\u001b[39m(\u001b[38;5;124m\"\u001b[39m\u001b[38;5;130;01m\\n\u001b[39;00m\u001b[38;5;124mExtract prime numbers of the said list:\u001b[39m\u001b[38;5;124m\"\u001b[39m)\n\u001b[1;32m     23\u001b[0m \u001b[38;5;66;03m# Print the extracted prime numbers\u001b[39;00m\n\u001b[0;32m---> 24\u001b[0m \u001b[38;5;28mprint\u001b[39m(\u001b[43mprime_number\u001b[49m)\n",
      "\u001b[0;31mNameError\u001b[0m: name 'prime_number' is not defined"
     ]
    }
   ],
   "source": [
    "def is_prime(n):\n",
    "    if n <= 1:\n",
    "        return False\n",
    "    if n <= 3:\n",
    "        return True\n",
    "    if n % 2 == 0 or n % 3 == 0:\n",
    "        return False\n",
    "    i = 5\n",
    "    while i * i <= n:\n",
    "        if n % i == 0 or n % (i + 2) == 0:\n",
    "            return False\n",
    "        i += 6\n",
    "    return True\n",
    "\n",
    "# Define a list of integers\n",
    "numbers = [1, 2, 3, 4, 5, 6, 7, 8, 9, 10, 11, 12, 13, 14, 15, 16, 17]\n",
    "print(\"List of integers:\")\n",
    "print(numbers)\n",
    "\n",
    "# Use the filter function to extract prime numbers\n",
    "prime_numbers = list(filter(is_prime, numbers))\n",
    "print(\"\\nExtract prime numbers of the said list:\")\n",
    "# Print the extracted prime numbers\n",
    "print(prime_number)\n"
   ]
  },
  {
   "cell_type": "markdown",
   "id": "b1e54caf-1bf6-4c43-9c0c-bb3a5fa566c9",
   "metadata": {},
   "source": [
    "5.How can you use the `filter()` function to remove None values from a list in Python?\n"
   ]
  },
  {
   "cell_type": "code",
   "execution_count": 178,
   "id": "3473da40-5102-4b14-b7b1-dd1ba4f23ad4",
   "metadata": {},
   "outputs": [
    {
     "ename": "TypeError",
     "evalue": "'str' object is not callable",
     "output_type": "error",
     "traceback": [
      "\u001b[0;31m---------------------------------------------------------------------------\u001b[0m",
      "\u001b[0;31mTypeError\u001b[0m                                 Traceback (most recent call last)",
      "Cell \u001b[0;32mIn[178], line 4\u001b[0m\n\u001b[1;32m      1\u001b[0m test_list \u001b[38;5;241m=\u001b[39m [\u001b[38;5;241m1\u001b[39m, \u001b[38;5;28;01mNone\u001b[39;00m, \u001b[38;5;241m4\u001b[39m, \u001b[38;5;28;01mNone\u001b[39;00m, \u001b[38;5;28;01mNone\u001b[39;00m, \u001b[38;5;241m5\u001b[39m, \u001b[38;5;241m8\u001b[39m, \u001b[38;5;28;01mNone\u001b[39;00m, \u001b[38;5;28;01mFalse\u001b[39;00m]\n\u001b[1;32m      3\u001b[0m \u001b[38;5;66;03m# printing original list\u001b[39;00m\n\u001b[0;32m----> 4\u001b[0m \u001b[38;5;28mprint\u001b[39m (\u001b[38;5;124m\"\u001b[39m\u001b[38;5;124mThe original list is : \u001b[39m\u001b[38;5;124m\"\u001b[39m \u001b[38;5;241m+\u001b[39m \u001b[38;5;28;43mstr\u001b[39;49m\u001b[43m(\u001b[49m\u001b[43mtest_list\u001b[49m\u001b[43m)\u001b[49m)\n\u001b[1;32m      6\u001b[0m \u001b[38;5;66;03m# using filter()\u001b[39;00m\n\u001b[1;32m      7\u001b[0m \u001b[38;5;66;03m# to remove None values in list\u001b[39;00m\n\u001b[1;32m      8\u001b[0m res \u001b[38;5;241m=\u001b[39m \u001b[38;5;28mlist\u001b[39m(\u001b[38;5;28mfilter\u001b[39m(\u001b[38;5;28;01mlambda\u001b[39;00m item: item \u001b[38;5;129;01mis\u001b[39;00m \u001b[38;5;129;01mnot\u001b[39;00m \u001b[38;5;28;01mNone\u001b[39;00m, test_list))\n",
      "\u001b[0;31mTypeError\u001b[0m: 'str' object is not callable"
     ]
    }
   ],
   "source": [
    "test_list = [1, None, 4, None, None, 5, 8, None, False]\n",
    "\n",
    "# printing original list\n",
    "print (\"The original list is : \" + str(test_list))\n",
    "\n",
    "# using filter()\n",
    "# to remove None values in list\n",
    "res = list(filter(lambda item: item is not None, test_list))\n",
    "\n",
    "# printing result\n",
    "print (\"List after removal of None values : \" + str(res))\n"
   ]
  },
  {
   "cell_type": "markdown",
   "id": "b8dc3014-918e-412e-8b35-a8e75cd3b6d6",
   "metadata": {},
   "source": [
    "6.Create a Python program that uses `filter()` to select words longer than a certain length from a list of strings.\n"
   ]
  },
  {
   "cell_type": "code",
   "execution_count": 180,
   "id": "0f292c17-1edd-46a4-8a84-fd699e7b1a5b",
   "metadata": {},
   "outputs": [
    {
     "name": "stdout",
     "output_type": "stream",
     "text": [
      "The word with the longest length is: third  and length is  5\n"
     ]
    }
   ],
   "source": [
    "# function to find the longest\n",
    "# length in the list\n",
    "def longestLength(a):\n",
    "\tmax1 = len(a[0])\n",
    "\ttemp = a[0]\n",
    "\n",
    "\t# for loop to traverse the list\n",
    "\tfor i in a:\n",
    "\t\tif(len(i) > max1):\n",
    "\n",
    "\t\t\tmax1 = len(i)\n",
    "\t\t\ttemp = i\n",
    "\n",
    "\tprint(\"The word with the longest length is:\", temp,\n",
    "\t\t\" and length is \", max1)\n",
    "\n",
    "\n",
    "# Driver Program\n",
    "a = [\"one\", \"two\", \"third\", \"four\"]\n",
    "longestLength(a)\n"
   ]
  },
  {
   "cell_type": "markdown",
   "id": "5e381a7c-9ce0-4269-962c-979e364aca83",
   "metadata": {},
   "source": [
    "7.Write a Python program that uses the `filter()` function to select elements greater than a specified threshold from a list of values.\n"
   ]
  },
  {
   "cell_type": "code",
   "execution_count": 182,
   "id": "548921cd-021e-47da-8ea0-a4ca311974d0",
   "metadata": {},
   "outputs": [
    {
     "ename": "TypeError",
     "evalue": "'str' object is not callable",
     "output_type": "error",
     "traceback": [
      "\u001b[0;31m---------------------------------------------------------------------------\u001b[0m",
      "\u001b[0;31mTypeError\u001b[0m                                 Traceback (most recent call last)",
      "Cell \u001b[0;32mIn[182], line 4\u001b[0m\n\u001b[1;32m      1\u001b[0m test_list \u001b[38;5;241m=\u001b[39m [\u001b[38;5;124m'\u001b[39m\u001b[38;5;124mgfg\u001b[39m\u001b[38;5;124m'\u001b[39m, \u001b[38;5;124m'\u001b[39m\u001b[38;5;124mis\u001b[39m\u001b[38;5;124m'\u001b[39m, \u001b[38;5;124m'\u001b[39m\u001b[38;5;124mbest\u001b[39m\u001b[38;5;124m'\u001b[39m, \u001b[38;5;124m'\u001b[39m\u001b[38;5;124mfor\u001b[39m\u001b[38;5;124m'\u001b[39m, \u001b[38;5;124m'\u001b[39m\u001b[38;5;124mgeeks\u001b[39m\u001b[38;5;124m'\u001b[39m]\n\u001b[1;32m      3\u001b[0m \u001b[38;5;66;03m# Printing original list\u001b[39;00m\n\u001b[0;32m----> 4\u001b[0m \u001b[38;5;28mprint\u001b[39m(\u001b[38;5;124m\"\u001b[39m\u001b[38;5;124mThe original list : \u001b[39m\u001b[38;5;124m\"\u001b[39m \u001b[38;5;241m+\u001b[39m \u001b[38;5;28;43mstr\u001b[39;49m\u001b[43m(\u001b[49m\u001b[43mtest_list\u001b[49m\u001b[43m)\u001b[49m)\n\u001b[1;32m      6\u001b[0m \u001b[38;5;66;03m# Initialize Threshold\u001b[39;00m\n\u001b[1;32m      7\u001b[0m thres \u001b[38;5;241m=\u001b[39m \u001b[38;5;241m4\u001b[39m\n",
      "\u001b[0;31mTypeError\u001b[0m: 'str' object is not callable"
     ]
    }
   ],
   "source": [
    "test_list = ['gfg', 'is', 'best', 'for', 'geeks']\n",
    "\n",
    "# Printing original list\n",
    "print(\"The original list : \" + str(test_list))\n",
    "\n",
    "# Initialize Threshold\n",
    "thres = 4\n",
    "\n",
    "# Filter above Threshold size Strings\n",
    "# using list comprehension + len()\n",
    "res = [ele for ele in test_list if len(ele) >= thres]\n",
    "\n",
    "# Printing result\n",
    "print(\"The above Threshold size strings are : \" + str(res))\n",
    "\n"
   ]
  },
  {
   "cell_type": "markdown",
   "id": "f1b57297-e907-4498-952a-ee9a07838d05",
   "metadata": {},
   "source": [
    "Recursion:-\n"
   ]
  },
  {
   "cell_type": "markdown",
   "id": "48f34602-6543-427b-bd63-17204aed75bd",
   "metadata": {},
   "source": [
    "1.Explain the concept of recursion in Python. How does it differ from iteration?\n"
   ]
  },
  {
   "cell_type": "markdown",
   "id": "7a66776e-9e4b-4d03-8d76-4a144b96b824",
   "metadata": {},
   "source": [
    "Ans:Recursion in programming is a method where the solution to a problem depends on solutions to smaller instances of the same problem. Essentially, a recursive function is a function that calls itself during its execution. This enables the function to be repeated several times, as it can call itself during its execution.\n",
    "\n",
    "Iteration in programming is a process wherein a set of instructions or structures are repeatedly executed until some condition is met. We often use loops for iteration in Python, such as the for and while loops\n",
    "\n"
   ]
  },
  {
   "cell_type": "markdown",
   "id": "9827026e-01fa-4e20-8b18-d8e582beab4a",
   "metadata": {},
   "source": [
    "2.Write a Python program to calculate the factorial of a number using recursion.\n"
   ]
  },
  {
   "cell_type": "code",
   "execution_count": 187,
   "id": "718ac1fc-baf2-4b7a-a7ed-71f8955321e3",
   "metadata": {},
   "outputs": [
    {
     "name": "stdout",
     "output_type": "stream",
     "text": [
      "The factorial of 7 is 5040\n"
     ]
    }
   ],
   "source": [
    "def recur_factorial(n):\n",
    "   if n == 1:\n",
    "       return n\n",
    "   else:\n",
    "       return n*recur_factorial(n-1)\n",
    "\n",
    "num = 7\n",
    "\n",
    "# check if the number is negative\n",
    "if num < 0:\n",
    "   print(\"Sorry, factorial does not exist for negative numbers\")\n",
    "elif num == 0:\n",
    "   print(\"The factorial of 0 is 1\")\n",
    "else:\n",
    "   print(\"The factorial of\", num, \"is\", recur_factorial(num))\n"
   ]
  },
  {
   "cell_type": "markdown",
   "id": "747039db-2457-469b-afeb-0425052f0693",
   "metadata": {},
   "source": [
    "3.Create a recursive Python function to find the nth Fibonacci number\n"
   ]
  },
  {
   "cell_type": "code",
   "execution_count": 189,
   "id": "0b95d017-8a6d-4aa5-981e-e0c90bca4a0a",
   "metadata": {},
   "outputs": [
    {
     "name": "stdout",
     "output_type": "stream",
     "text": [
      "34\n"
     ]
    }
   ],
   "source": [
    "def Fibonacci(n):\n",
    "\tif n<= 0:\n",
    "\t\tprint(\"Incorrect input\")\n",
    "\t# First Fibonacci number is 0\n",
    "\telif n == 1:\n",
    "\t\treturn 0\n",
    "\t# Second Fibonacci number is 1\n",
    "\telif n == 2:\n",
    "\t\treturn 1\n",
    "\telse:\n",
    "\t\treturn Fibonacci(n-1)+Fibonacci(n-2)\n",
    "\n",
    "# Driver Program\n",
    "\n",
    "print(Fibonacci(10))\n"
   ]
  },
  {
   "cell_type": "markdown",
   "id": "cdcdb6e3-c755-4834-954f-379a8390fa2d",
   "metadata": {},
   "source": [
    "4.Write a recursive Python function to calculate the sum of all elements in a list.\n"
   ]
  },
  {
   "cell_type": "code",
   "execution_count": 191,
   "id": "96b6c24e-52ae-4196-8e5d-ae8d54f0216f",
   "metadata": {},
   "outputs": [
    {
     "name": "stdin",
     "output_type": "stream",
     "text": [
      "Enter the number of elements for list: 5\n",
      "Enter element: 4\n",
      "Enter element: 6\n",
      "Enter element: 8\n",
      "Enter element: 9\n",
      "Enter element: 2\n"
     ]
    },
    {
     "name": "stdout",
     "output_type": "stream",
     "text": [
      "The list is:\n",
      "[4, 6, 8, 9, 2]\n",
      "Sum of items in list:\n",
      "29\n"
     ]
    }
   ],
   "source": [
    "def sum_arr(arr,size):\n",
    "   if (size == 0):\n",
    "     return 0\n",
    "   else:\n",
    "     return arr[size-1] + sum_arr(arr,size-1)\n",
    "n=int(input(\"Enter the number of elements for list:\"))\n",
    "a=[]\n",
    "for i in range(0,n):\n",
    "    element=int(input(\"Enter element:\"))\n",
    "    a.append(element)\n",
    "print(\"The list is:\")\n",
    "print(a)\n",
    "print(\"Sum of items in list:\")\n",
    "b=sum_arr(a,n)\n",
    "print(b)\n"
   ]
  },
  {
   "cell_type": "markdown",
   "id": "bfaee441-21ec-4ff8-9e91-c86b1881916b",
   "metadata": {},
   "source": [
    "5.How can you prevent a recursive function from running indefinitely, causing a stack overflow error?\n"
   ]
  },
  {
   "cell_type": "markdown",
   "id": "64149898-4c7f-4a73-8e7f-0924e8240be4",
   "metadata": {},
   "source": [
    "Ans:Implement a base case: A base case is a condition in which the recursive function will not call itself again. This is important because it ensures that the recursive function will eventually stop and not continue indefinitely, which can lead to stack overflow.\n"
   ]
  },
  {
   "cell_type": "markdown",
   "id": "eca4a052-f1be-4690-893d-86f685d516ba",
   "metadata": {},
   "source": [
    "6.Create a recursive Python function to find the greatest common divisor (GCD) of two numbers using the Euclidean algorithm\n"
   ]
  },
  {
   "cell_type": "code",
   "execution_count": 278,
   "id": "5ad6cc86-1358-4c60-8587-bf0674f96b2b",
   "metadata": {},
   "outputs": [
    {
     "name": "stdout",
     "output_type": "stream",
     "text": [
      "The gcd of 60 and 48 is : 12\n"
     ]
    }
   ],
   "source": [
    "def hcf(a, b):\n",
    "\tif(b == 0):\n",
    "\t\treturn a\n",
    "\telse:\n",
    "\t\treturn hcf(b, a % b)\n",
    "\n",
    "a = 60\n",
    "b = 48\n",
    "\n",
    "# prints 12\n",
    "print(\"The gcd of 60 and 48 is : \", end=\"\")\n",
    "print(hcf(60, 48))\n"
   ]
  },
  {
   "cell_type": "markdown",
   "id": "6e31716e-e136-4890-b669-651aa3803c87",
   "metadata": {},
   "source": [
    "7.Write a recursive Python function to reverse a string.\n"
   ]
  },
  {
   "cell_type": "code",
   "execution_count": 197,
   "id": "1397e765-8a9c-47e0-9473-35c43a6dfd6e",
   "metadata": {},
   "outputs": [
    {
     "name": "stdout",
     "output_type": "stream",
     "text": [
      "The original string is : Aditi\n",
      "The reversed string(using recursion) is : itidA\n"
     ]
    }
   ],
   "source": [
    "def reverse(s):\n",
    "\tif len(s) == 0:\n",
    "\t\treturn s\n",
    "\telse:\n",
    "\t\treturn reverse(s[1:]) + s[0]\n",
    "\n",
    "\n",
    "s = \"Aditi\"\n",
    "\n",
    "print(\"The original string is : \", end=\"\")\n",
    "print(s)\n",
    "\n",
    "print(\"The reversed string(using recursion) is : \", end=\"\")\n",
    "print(reverse(s))\n"
   ]
  },
  {
   "cell_type": "markdown",
   "id": "7b0454ee-bc03-4e89-906a-7800e0137f2e",
   "metadata": {},
   "source": [
    "8.Create a recursive Python function to calculate the power of a number (x^n)\n"
   ]
  },
  {
   "cell_type": "code",
   "execution_count": 199,
   "id": "6db3d3be-7eb3-4239-a8dc-4079f8382bfd",
   "metadata": {},
   "outputs": [
    {
     "name": "stdout",
     "output_type": "stream",
     "text": [
      "25\n"
     ]
    }
   ],
   "source": [
    "def power(N, P):\n",
    "\n",
    "\n",
    "\tif P == 0:\n",
    "\t\treturn 1\n",
    "\n",
    "\t# Recurrence relation\n",
    "\treturn (N*power(N, P-1))\n",
    "\n",
    "\n",
    "# Driver code\n",
    "if __name__ == '__main__':\n",
    "\tN = 5\n",
    "\tP = 2\n",
    "\n",
    "\tprint(power(N, P))\n"
   ]
  },
  {
   "cell_type": "markdown",
   "id": "5719f256-d3c9-4243-95cd-c30bc83322d4",
   "metadata": {},
   "source": [
    "9.Write a recursive Python function to find all permutations of a given string.\n"
   ]
  },
  {
   "cell_type": "code",
   "execution_count": 201,
   "id": "b5e13e44-263e-4967-9c93-a5a3dd356e9a",
   "metadata": {},
   "outputs": [
    {
     "name": "stdout",
     "output_type": "stream",
     "text": [
      "abc\n",
      "acb\n",
      "bac\n",
      "bca\n",
      "cba\n",
      "cab\n",
      "None\n"
     ]
    }
   ],
   "source": [
    "a_string = 'abc'\n",
    "\n",
    "def get_permutation(some_string, idx=0):\n",
    "\n",
    "    if idx == len(some_string) - 1:   \t \n",
    "        print(\"\".join(some_string))\n",
    "\n",
    "    for j in range(idx, len(some_string)):\n",
    "        words_list = [c for c in some_string]   \n",
    "        words_list[idx], words_list[j] = words_list[j], words_list[idx]\n",
    "   \t \n",
    "        get_permutation(words_list, idx + 1)\n",
    "\n",
    "permutations = get_permutation(a_string)\n",
    "print(permutations)\n",
    "\n",
    "# Returns: ['abc', 'acb', 'bac', 'bca', 'cab', 'cba']\n"
   ]
  },
  {
   "cell_type": "markdown",
   "id": "28ec159e-7897-421b-8abe-bd72e4f92f8e",
   "metadata": {},
   "source": [
    "10.Write a recursive Python function to check if a string is a palindrome\n"
   ]
  },
  {
   "cell_type": "code",
   "execution_count": 279,
   "id": "92fb9efa-807b-4399-ab0f-f3529ee29741",
   "metadata": {},
   "outputs": [
    {
     "name": "stdin",
     "output_type": "stream",
     "text": [
      "Enter string: aditi\n"
     ]
    },
    {
     "ename": "TypeError",
     "evalue": "'str' object is not callable",
     "output_type": "error",
     "traceback": [
      "\u001b[0;31m---------------------------------------------------------------------------\u001b[0m",
      "\u001b[0;31mTypeError\u001b[0m                                 Traceback (most recent call last)",
      "Cell \u001b[0;32mIn[279], line 9\u001b[0m\n\u001b[1;32m      7\u001b[0m         \u001b[38;5;28;01melse\u001b[39;00m:\n\u001b[1;32m      8\u001b[0m             \u001b[38;5;28;01mreturn\u001b[39;00m \u001b[38;5;28;01mFalse\u001b[39;00m\n\u001b[0;32m----> 9\u001b[0m a\u001b[38;5;241m=\u001b[39m\u001b[38;5;28;43mstr\u001b[39;49m\u001b[43m(\u001b[49m\u001b[38;5;28;43minput\u001b[39;49m\u001b[43m(\u001b[49m\u001b[38;5;124;43m\"\u001b[39;49m\u001b[38;5;124;43mEnter string:\u001b[39;49m\u001b[38;5;124;43m\"\u001b[39;49m\u001b[43m)\u001b[49m\u001b[43m)\u001b[49m\n\u001b[1;32m     10\u001b[0m \u001b[38;5;28;01mif\u001b[39;00m(is_palindrome(a)\u001b[38;5;241m==\u001b[39m\u001b[38;5;28;01mTrue\u001b[39;00m):\n\u001b[1;32m     11\u001b[0m     \u001b[38;5;28mprint\u001b[39m(\u001b[38;5;124m\"\u001b[39m\u001b[38;5;124mString is a palindrome!\u001b[39m\u001b[38;5;124m\"\u001b[39m)\n",
      "\u001b[0;31mTypeError\u001b[0m: 'str' object is not callable"
     ]
    }
   ],
   "source": [
    "def is_palindrome(s):\n",
    "    if len(s) < 1:\n",
    "        return True\n",
    "    else:\n",
    "        if s[0] == s[-1]:\n",
    "            return is_palindrome(s[1:-1])\n",
    "        else:\n",
    "            return False\n",
    "a=str(input(\"Enter string:\"))\n",
    "if(is_palindrome(a)==True):\n",
    "    print(\"String is a palindrome!\")\n",
    "else:\n",
    "    print(\"String isn't a palindrome!\")\n"
   ]
  },
  {
   "cell_type": "markdown",
   "id": "a6e40f50-1a8f-4a65-92b0-b7659e74b82b",
   "metadata": {},
   "source": [
    "11.Create a recursive Python function to generate all possible combinations of a list of elements.\n"
   ]
  },
  {
   "cell_type": "markdown",
   "id": "f305c718-e9bb-4826-9151-8e686e67925b",
   "metadata": {},
   "source": [
    "Basics of Functions:\n"
   ]
  },
  {
   "cell_type": "markdown",
   "id": "ccfcbfc0-b2f6-4bfe-a986-79c856f708a4",
   "metadata": {},
   "source": [
    "1.What is a function in Python, and why is it used?\n"
   ]
  },
  {
   "cell_type": "markdown",
   "id": "ee60351f-8c17-4a0a-90f8-730cb52d086f",
   "metadata": {},
   "source": [
    "Ans:Python Functions is a block of statements that return the specific task. The idea is to put some commonly or repeatedly done tasks together and make a function so that instead of writing the same code again and again for different inputs, we can do the function calls to reuse code contained in it over and over again.\n",
    "\n",
    "Some Benefits of Using Functions\n",
    "\n",
    "Increase Code Readability \n",
    "Increase Code Reusability\n"
   ]
  },
  {
   "cell_type": "markdown",
   "id": "67904061-f092-4634-bd53-5993297adaec",
   "metadata": {},
   "source": [
    "2.How do you define a function in Python? Provide an example.\n"
   ]
  },
  {
   "cell_type": "markdown",
   "id": "cca5cabb-a7a4-4e9c-9f33-6c87aace0542",
   "metadata": {},
   "source": [
    "Ans:Python Function Declaration\n",
    "The syntax to declare a function is:"
   ]
  },
  {
   "cell_type": "code",
   "execution_count": 280,
   "id": "39736eb0-3ba0-4dc8-a5d6-f45ac93a270e",
   "metadata": {},
   "outputs": [
    {
     "ename": "SyntaxError",
     "evalue": "unterminated string literal (detected at line 11) (2321312367.py, line 11)",
     "output_type": "error",
     "traceback": [
      "\u001b[0;36m  Cell \u001b[0;32mIn[280], line 11\u001b[0;36m\u001b[0m\n\u001b[0;31m    Let's see an example,\u001b[0m\n\u001b[0m       ^\u001b[0m\n\u001b[0;31mSyntaxError\u001b[0m\u001b[0;31m:\u001b[0m unterminated string literal (detected at line 11)\n"
     ]
    }
   ],
   "source": [
    "\n",
    "\n",
    "def function_name(arguments):\n",
    "    # function body \n",
    "\n",
    "    return\n",
    "Here,\n",
    "\n",
    "def - keyword used to declare a function\n",
    "function_name - any name given to the function\n",
    "arguments - any value passed to function\n",
    "return (optional) - returns value from a function\n",
    "Let's see an example,\n",
    "\n",
    "def greet():\n",
    "    print('Hello World!')\n"
   ]
  },
  {
   "cell_type": "markdown",
   "id": "6681def6-3988-423c-9a31-e46d0583f1dc",
   "metadata": {},
   "source": [
    "3.Explain the difference between a function definition and a function call.\n"
   ]
  },
  {
   "cell_type": "markdown",
   "id": "16e347b1-1beb-441b-be99-33ea21ec232e",
   "metadata": {},
   "source": [
    "Ans:1.Defining a function is a lot like building a house - you give it a name, you state how to use it (the house has doors etc) and you say clearly in computer code what the function does (similar to defining the layout of the house - which rooms exist, what connects to what).\n",
    "2.Calling a function is a lot like living in a house - you are actually making use of the function, passing the data it needs, executing the code inside the function and using the values it generates - this is similar to making use of a house that is already built.\n"
   ]
  },
  {
   "cell_type": "markdown",
   "id": "0c8c9a18-0466-4208-961a-d56c0411db2c",
   "metadata": {},
   "source": [
    "4.Write a Python program that defines a function to calculate the sum of two numbers and then calls the function.\n"
   ]
  },
  {
   "cell_type": "code",
   "execution_count": 216,
   "id": "c9df5cc8-c5bb-4d26-a099-45c49a424690",
   "metadata": {},
   "outputs": [
    {
     "name": "stdout",
     "output_type": "stream",
     "text": [
      "The sum is 80\n"
     ]
    }
   ],
   "source": [
    "def add_num(a,b):#function for addition\n",
    "    sum=a+b;\n",
    "    return sum; #return value\n",
    "num1=25  #variable declaration\n",
    "num2=55\n",
    "print(\"The sum is\",add_num(num1,num2))#call the function\n"
   ]
  },
  {
   "cell_type": "markdown",
   "id": "ba74120b-3ee0-4f53-a4df-9460dc262236",
   "metadata": {},
   "source": [
    "5.What is a function signature, and what information does it typically include?\n"
   ]
  },
  {
   "cell_type": "markdown",
   "id": "fa2e7474-a82a-45e9-95bb-9c46b034bbbb",
   "metadata": {},
   "source": [
    "1.A function signature typically informs us about the types of parameters that a function can accept as arguments and the type of data or result it returns.\n",
    "2.A function signature (or type signature, or method signature) defines input and output of functions or methods.\n",
    "\n",
    "A signature can include:\n",
    "\n",
    "parameters and their types\n",
    "a return value and type\n",
    "exceptions that might be thrown or passed back\n",
    "information about the availability of the method in an object-oriented program (such as the keywords public, static, or prototype).\n",
    "\n"
   ]
  },
  {
   "cell_type": "markdown",
   "id": "938bd28a-e0ba-4dac-a8c9-be9d53dc683e",
   "metadata": {},
   "source": [
    "6.Create a Python function that takes two arguments and returns their product.\n"
   ]
  },
  {
   "cell_type": "code",
   "execution_count": 220,
   "id": "8cce455a-c2a6-414c-b5b7-cb3ae8542184",
   "metadata": {},
   "outputs": [],
   "source": [
    "def multply(a, b):\n",
    "  return a*b\n"
   ]
  },
  {
   "cell_type": "code",
   "execution_count": 222,
   "id": "c2b02012-1e57-46d5-8a79-931927b6feed",
   "metadata": {},
   "outputs": [
    {
     "data": {
      "text/plain": [
       "10"
      ]
     },
     "execution_count": 222,
     "metadata": {},
     "output_type": "execute_result"
    }
   ],
   "source": [
    "multply(2,5)"
   ]
  },
  {
   "cell_type": "markdown",
   "id": "b5e71001-28d0-4488-b157-4e170fc4ab1e",
   "metadata": {},
   "source": [
    "In this example, the declaration line is \"def multiply(a, b):\". This means that we have a function named \"multiply\" that takes two arguments, \"a\" and \"b\". The next line returns the value of the two input arguments when they are multiplied together (or the product of the two inputs).\n",
    "\n",
    "To call a function, we would do something like this:\n",
    "\n",
    "multiply(2, 5)\n"
   ]
  },
  {
   "cell_type": "markdown",
   "id": "7b40a510-ea2a-4a55-94cb-0a50545acd58",
   "metadata": {},
   "source": [
    "Function Parameters and Arguments:\n"
   ]
  },
  {
   "cell_type": "markdown",
   "id": "65d694f5-8ca8-418b-bc8f-fbac079be461",
   "metadata": {},
   "source": [
    "1.Explain the concepts of formal parameters and actual arguments in Python functions.\n"
   ]
  },
  {
   "cell_type": "markdown",
   "id": "e483559f-79e3-4f91-8793-30127830a6c8",
   "metadata": {},
   "source": [
    "Ans:When a function is defined, it may have some parameters. These parameters are useful to receive values from outside of the function. They are called 'formal arguments'. When we call the function, we should pass data or values to the function. These values are called 'actual arguments'. In the following code, 'a' and 'b' are formal arguments and 'x' and 'y' are actual arguments.\n"
   ]
  },
  {
   "cell_type": "code",
   "execution_count": 228,
   "id": "158bb146-b865-4e8a-8c8d-a1562fdab2d0",
   "metadata": {},
   "outputs": [
    {
     "name": "stdout",
     "output_type": "stream",
     "text": [
      "25\n"
     ]
    }
   ],
   "source": [
    "def sum(a, b): #a, b are formal arguments \n",
    "   c = a+b\n",
    "   print(c) \n",
    "x=10 \n",
    "y=15 \n",
    "sum(x, y)\n"
   ]
  },
  {
   "cell_type": "markdown",
   "id": "3c637c3a-44d3-45b9-9e82-a05a1ccad29e",
   "metadata": {},
   "source": [
    "2.Write a Python program that defines a function with default argument values.\n"
   ]
  },
  {
   "cell_type": "markdown",
   "id": "25d1bca1-17b1-4a58-bc16-fb6455159e69",
   "metadata": {},
   "source": [
    "Ans:Function with Default Arguments\n",
    "\n",
    "The arguments that take default values when no explicit values are supplied to them from the function call are known as default arguments in Python functions.\n"
   ]
  },
  {
   "cell_type": "code",
   "execution_count": 231,
   "id": "a5c9bfa2-bdae-481d-979f-6b3d03af7225",
   "metadata": {},
   "outputs": [
    {
     "name": "stdout",
     "output_type": "stream",
     "text": [
      "Hello, world\n"
     ]
    }
   ],
   "source": [
    "def greet(name=\"world\"):\n",
    "   print(\"Hello,\", name)\n",
    "greet()\n"
   ]
  },
  {
   "cell_type": "markdown",
   "id": "562d21b2-eaf0-442f-a144-c391682dac23",
   "metadata": {},
   "source": [
    "3.How do you use keyword arguments in Python function calls? Provide an example.\n"
   ]
  },
  {
   "cell_type": "code",
   "execution_count": 233,
   "id": "e10dc1c3-258e-4407-8c7a-79e210b2c8eb",
   "metadata": {},
   "outputs": [
    {
     "ename": "SyntaxError",
     "evalue": "unterminated string literal (detected at line 16) (3352345808.py, line 16)",
     "output_type": "error",
     "traceback": [
      "\u001b[0;36m  Cell \u001b[0;32mIn[233], line 16\u001b[0;36m\u001b[0m\n\u001b[0;31m    In such scenarios, the position of arguments doesn't matter.\u001b[0m\n\u001b[0m                                                      ^\u001b[0m\n\u001b[0;31mSyntaxError\u001b[0m\u001b[0;31m:\u001b[0m unterminated string literal (detected at line 16)\n"
     ]
    }
   ],
   "source": [
    "Ans:\n",
    "    Python Keyword Argument\n",
    "In keyword arguments, arguments are assigned based on the name of arguments. For example,\n",
    "\n",
    "def display_info(first_name, last_name):\n",
    "    print('First Name:', first_name)\n",
    "    print('Last Name:', last_name)\n",
    "\n",
    "display_info(last_name = 'Cartman', first_name = 'Eric')\n",
    "\n",
    "\n",
    "Here, we have assigned names to arguments during the function call.\n",
    "\n",
    "Hence, first_name in the function call is assigned to first_name in the function definition. Similarly, last_name in the function call is assigned to last_name in the function definition.\n",
    "\n",
    "In such scenarios, the position of arguments doesn't matter.\n"
   ]
  },
  {
   "cell_type": "markdown",
   "id": "c12c376c-bac0-4aa3-b727-037d00695d49",
   "metadata": {},
   "source": [
    "4.Create a Python function that accepts a variable number of arguments and calculates their sum.\n"
   ]
  },
  {
   "cell_type": "code",
   "execution_count": 281,
   "id": "b0b82241-0b37-4f57-9af0-05fe4a0de6d9",
   "metadata": {},
   "outputs": [],
   "source": [
    "def sum_all(*args): \n",
    "    t=() \n",
    "    s=0 \n",
    "    for i in args: \n",
    "        s=s+i \n",
    "    print(s) \n"
   ]
  },
  {
   "cell_type": "markdown",
   "id": "9f2c618c-8de0-4d9b-8457-e4846f1d33f5",
   "metadata": {},
   "source": [
    "5.What is the purpose of the `*args` and `**kwargs` syntax in function parameter lists?"
   ]
  },
  {
   "cell_type": "markdown",
   "id": "b5f28745-ce27-4b1d-be8d-71ab8e2fc5f2",
   "metadata": {},
   "source": [
    "Ans:In Python, we can pass a variable number of arguments to a function using special symbols. There are two special symbols:\n",
    "\n",
    "1.*args (Non Keyword Arguments)\n",
    "2.**kwargs (Keyword Arguments)\n",
    "We use *args and **kwargs as an argument when we are unsure about the number of arguments to pass in the functions.\n",
    "\n",
    "\n",
    "Python *args\n",
    "\n",
    "\n",
    "Python has *args which allow us to pass the variable number of non keyword arguments to function.\n",
    "\n",
    "In the function, we should use an asterisk * before the parameter name to pass variable length arguments.The arguments are passed as a tuple and these passed arguments make tuple inside the function with same name as the parameter excluding asterisk *.\n",
    "\n",
    "\n",
    "\n",
    "Python **kwargs\n",
    "\n",
    "\n",
    "Python passes variable length non keyword argument to function using *args but we cannot use this to pass keyword argument. For this problem Python has got a solution called **kwargs, it allows us to pass the variable length of keyword arguments to the function.\n"
   ]
  },
  {
   "cell_type": "markdown",
   "id": "9e6f4471-ad38-41d7-bb28-3333651b089d",
   "metadata": {},
   "source": [
    "Return Values and Scoping:\n"
   ]
  },
  {
   "cell_type": "markdown",
   "id": "74fb1b67-7ee6-4b76-bbb4-3429f32f2284",
   "metadata": {},
   "source": [
    "1.Describe the role of the `return` statement in Python functions and provide examples.\n"
   ]
  },
  {
   "cell_type": "markdown",
   "id": "8afb723d-4305-4d83-8b25-bb56a7acb9da",
   "metadata": {},
   "source": [
    "Ans:A return statement is used to end the execution of the function call and “returns” the result (value of the expression following the return keyword) to the caller. The statements after the return statements are not executed. If the return statement is without any expression, then the special value None is returned. A return statement is overall used to invoke a function so that the passed statements can be executed.\n"
   ]
  },
  {
   "cell_type": "code",
   "execution_count": 241,
   "id": "bcb2c4bb-e1a8-48ff-bb4f-1ab6774c9ea9",
   "metadata": {},
   "outputs": [
    {
     "name": "stdout",
     "output_type": "stream",
     "text": [
      "Result of add function is 5\n",
      "\n",
      "Result of is_true function is True\n"
     ]
    }
   ],
   "source": [
    "def add(a, b):\n",
    "\n",
    "\t# returning sum of a and b\n",
    "\treturn a + b\n",
    "\n",
    "def is_true(a):\n",
    "\n",
    "\t# returning boolean of a\n",
    "\treturn bool(a)\n",
    "\n",
    "# calling function\n",
    "res = add(2, 3)\n",
    "print(\"Result of add function is {}\".format(res))\n",
    "\n",
    "res = is_true(2<5)\n",
    "print(\"\\nResult of is_true function is {}\".format(res))\n"
   ]
  },
  {
   "cell_type": "markdown",
   "id": "150896f5-b8da-4cef-8f54-93b86b621480",
   "metadata": {},
   "source": [
    "2.Explain the concept of variable scope in Python, including local and global variables.\n"
   ]
  },
  {
   "cell_type": "markdown",
   "id": "f1101eee-526a-4246-b885-1672292113e0",
   "metadata": {},
   "source": [
    "Python Scope:\n",
    "A variable is only available from inside the region it is created. This is called scope.\n",
    "\n",
    "Python Local Variables:\n",
    "\n",
    "Local variables in Python are those which are initialized inside a function and belong only to that particular function. It cannot be accessed anywhere outside the function. Let’s see how to create a local variable.\n",
    "\n",
    "Python Global Variables:\n",
    "\n",
    "These are those which are defined outside any function and which are accessible throughout the program, i.e., inside and outside of every function. Let’s see how to create a Python global variable.\n"
   ]
  },
  {
   "cell_type": "markdown",
   "id": "40a0e4f8-07d1-43ed-b7c4-ac6340e18f43",
   "metadata": {},
   "source": [
    "3.Write a Python program that demonstrates the use of global variables within functions.\n"
   ]
  },
  {
   "cell_type": "code",
   "execution_count": 283,
   "id": "516ae3a6-4663-4ccb-a06b-9fc0bf3436f8",
   "metadata": {},
   "outputs": [
    {
     "ename": "SyntaxError",
     "evalue": "invalid syntax (1525647561.py, line 1)",
     "output_type": "error",
     "traceback": [
      "\u001b[0;36m  Cell \u001b[0;32mIn[283], line 1\u001b[0;36m\u001b[0m\n\u001b[0;31m    Global Variables\u001b[0m\n\u001b[0m           ^\u001b[0m\n\u001b[0;31mSyntaxError\u001b[0m\u001b[0;31m:\u001b[0m invalid syntax\n"
     ]
    }
   ],
   "source": [
    "Global Variables\n",
    "Variables that are created outside of a function (as in all of the examples above) are known as global variables.\n",
    "\n",
    "Global variables can be used by everyone, both inside of functions and outside.\n",
    "\n",
    "ex.x = \"awesome\"\n",
    "\n",
    "def myfunc():\n",
    "  print(\"Python is \" + x)\n",
    "\n",
    "myfunc()\n"
   ]
  },
  {
   "cell_type": "markdown",
   "id": "d7b7c234-b3c5-41a7-8a5e-eb3569a97434",
   "metadata": {},
   "source": [
    "4.Create a Python function that calculates the factorial of a number and returns it.\n"
   ]
  },
  {
   "cell_type": "code",
   "execution_count": 247,
   "id": "a29c1a36-dde2-4988-a09c-74c602855c63",
   "metadata": {},
   "outputs": [
    {
     "name": "stdout",
     "output_type": "stream",
     "text": [
      "The factorial of 5 is 120\n"
     ]
    }
   ],
   "source": [
    "# Factorial of a number using recursion\n",
    "def recur_factorial(n):\n",
    "   if n == 1:\n",
    "       return n\n",
    "   else:\n",
    "       return n*recur_factorial(n-1)\n",
    "num = 5\n",
    "# check if the number is negative\n",
    "if num < 0:\n",
    "   print(\"Sorry, factorial does not exist for negative numbers\")\n",
    "elif num == 0:\n",
    "   print(\"The factorial of 0 is 1\")\n",
    "else:\n",
    "   print(\"The factorial of\", num, \"is\", recur_factorial(num))\n"
   ]
  },
  {
   "cell_type": "markdown",
   "id": "f05e8a13-ace6-484c-bb16-9a93658be33f",
   "metadata": {},
   "source": [
    "5.How can you access variables defined outside a function from within the function?\n"
   ]
  },
  {
   "cell_type": "markdown",
   "id": "578eab0d-9bcf-4405-9c29-855f7a61352b",
   "metadata": {},
   "source": [
    "In Python and most programming languages, variables declared outside a function are known as global variables. You can access such variables inside and outside of a function, as they have global scope.\n",
    "\n",
    "Here's an example of a global variable:\n",
    "\n",
    "x = 10 \n",
    "\n",
    "def showX():\n",
    "    print(\"The value of x is\", x)\n",
    "    \n",
    "showX()\n",
    "# The value of x is 10\n",
    "\n",
    "The variable x in the code above was declared outside a function: x = 10.\n",
    "\n",
    "Using the showX() function, we were still able to access x because it was declared in a global scope.\n"
   ]
  },
  {
   "cell_type": "markdown",
   "id": "1893d643-e5bd-42e5-bf46-dcccc563aa69",
   "metadata": {},
   "source": [
    "Lambda Functions and Higher-Order Functions:\n"
   ]
  },
  {
   "cell_type": "markdown",
   "id": "841cf8c5-bcf9-4ef4-8755-e36f0315bd84",
   "metadata": {},
   "source": [
    "1.What are lambda functions in Python, and when are they typically used?\n"
   ]
  },
  {
   "cell_type": "markdown",
   "id": "a6178e28-71f7-4e9f-bd0c-972a791bbd93",
   "metadata": {},
   "source": [
    "Ans:Lambda functions are similar to user-defined functions but without a name. They're commonly referred to as anonymous functions.\n",
    "\n",
    "Lambda functions are efficient whenever you want to create a function that will only contain simple expressions – that is, expressions that are usually a single line of a statement. They're also useful when you want to use the function once.\n",
    "\n",
    "use of lambda function:\n",
    "\n",
    "An iterable is essentially anything that consists of a series of values, such as characters, numbers, and so on.\n",
    "\n",
    "In Python, iterables include strings, lists, dictionaries, ranges, tuples, and so on. When working with iterables, you can use lambda functions in conjunction with two common functions: filter() and map().\n"
   ]
  },
  {
   "cell_type": "markdown",
   "id": "59d18332-9b72-4852-8221-803cf412ccb3",
   "metadata": {},
   "source": [
    "2.Write a Python program that uses lambda functions to sort a list of tuples based on the second element. "
   ]
  },
  {
   "cell_type": "code",
   "execution_count": 254,
   "id": "1cd50b01-2f27-429d-87ff-61a4be6a00f7",
   "metadata": {},
   "outputs": [
    {
     "name": "stdout",
     "output_type": "stream",
     "text": [
      "Original list of tuples:\n",
      "[('English', 88), ('Science', 90), ('Maths', 97), ('Social sciences', 82)]\n",
      "\n",
      "Sorting the List of Tuples:\n",
      "[('Social sciences', 82), ('English', 88), ('Science', 90), ('Maths', 97)]\n"
     ]
    }
   ],
   "source": [
    "subject_marks = [('English', 88), ('Science', 90), ('Maths', 97), ('Social sciences', 82)]\n",
    "print(\"Original list of tuples:\")\n",
    "print(subject_marks)\n",
    "subject_marks.sort(key = lambda x: x[1])\n",
    "print(\"\\nSorting the List of Tuples:\")\n",
    "print(subject_marks)\n"
   ]
  },
  {
   "cell_type": "markdown",
   "id": "d94d3172-336d-4cda-ae22-064b778e39ea",
   "metadata": {},
   "source": [
    "3.Explain the concept of higher-order functions in Python, and provide an example.\n"
   ]
  },
  {
   "cell_type": "markdown",
   "id": "4d73f0c2-beeb-4d9a-bd3a-bbee5a7cd26a",
   "metadata": {},
   "source": [
    "ans:Higher-order functions are functions that take a function as a parameter and/or return a function as an output.\n",
    "\n",
    "A few useful higher-order functions are map(), filter(), and reduce(). map() and filter() are built-in functions, whereas reduce() is contained in functools() module.\n",
    "\n",
    "ex:Calculating the square of all numbers in the iterable:\n"
   ]
  },
  {
   "cell_type": "code",
   "execution_count": 257,
   "id": "e7979d43-0332-44f8-833a-66a5cf22b7cc",
   "metadata": {},
   "outputs": [
    {
     "name": "stdout",
     "output_type": "stream",
     "text": [
      "<map object at 0x7f5c34e68430>\n",
      "[1, 4, 9, 16, 25]\n"
     ]
    }
   ],
   "source": [
    "num=[1,2,3,4,5]\n",
    "square=map(lambda x: x**2 , num)\n",
    "print (square)\n",
    "#Output: <map object at 0x0152E4D8>\n",
    "print (list(square))\n",
    "#Output: [1, 4, 9, 16, 25]\n"
   ]
  },
  {
   "cell_type": "markdown",
   "id": "d9b1aeda-fdd8-443a-8896-8f032f7dcdf6",
   "metadata": {},
   "source": [
    "4.Create a Python function that takes a list of numbers and a function as arguments, applying the function to each element in the list.\n"
   ]
  },
  {
   "cell_type": "code",
   "execution_count": 285,
   "id": "39a060c7-0145-4f12-bf20-38a64918c680",
   "metadata": {},
   "outputs": [
    {
     "ename": "SyntaxError",
     "evalue": "invalid syntax (4230746669.py, line 1)",
     "output_type": "error",
     "traceback": [
      "\u001b[0;36m  Cell \u001b[0;32mIn[285], line 1\u001b[0;36m\u001b[0m\n\u001b[0;31m    using map() method\u001b[0m\n\u001b[0m          ^\u001b[0m\n\u001b[0;31mSyntaxError\u001b[0m\u001b[0;31m:\u001b[0m invalid syntax\n"
     ]
    }
   ],
   "source": [
    "using map() method\n",
    "def double(integer):\n",
    "\treturn integer*2\n",
    "\n",
    "\n",
    "# driver code\n",
    "integer_list = [1, 2, 3]\n",
    "\n",
    "# Map method returns a map object\n",
    "# so we cast it into list using list()\n",
    "output_list = list(map(double, integer_list))\n",
    "\n",
    "print(output_list)\n"
   ]
  },
  {
   "cell_type": "markdown",
   "id": "d17fd4f9-6e7c-4e6e-ac5b-9a54bf380546",
   "metadata": {},
   "source": [
    "Built-in Functions:\n"
   ]
  },
  {
   "cell_type": "markdown",
   "id": "c47aa2ef-a822-43dd-8f3e-0c0fd7583ba2",
   "metadata": {},
   "source": [
    "1.Describe the role of built-in functions like `len()`, `max()`, and `min()` in Python.\n"
   ]
  },
  {
   "cell_type": "markdown",
   "id": "2c353b3c-6b62-47a7-8ea5-9e6ab553ae01",
   "metadata": {},
   "source": [
    "List methods are discussed in this article.\n",
    "\n",
    "1. len() :- This function returns the length of list.\n",
    "\n",
    "List = [1, 2, 3, 1, 2, 1, 2, 3, 2, 1] print(len(List)) Output: 10\n",
    "\n",
    "2. min() :- This function returns the minimum element of list.\n",
    "\n",
    "List = [2.3, 4.445, 3, 5.33, 1.054, 2.5] print(min(List)) Output: 1.054\n",
    "\n",
    "3. max() :- This function returns the maximum element of list.\n",
    "\n",
    "List = [2.3, 4.445, 3, 5.33, 1.054, 2.5] print(max(List)) Output: 5.33\n"
   ]
  },
  {
   "cell_type": "markdown",
   "id": "17f4bf17-a640-4ab0-9d19-93c017532b05",
   "metadata": {},
   "source": [
    "2.Write a Python program that uses the `map()` function to apply a function to each element of a list.\n"
   ]
  },
  {
   "cell_type": "code",
   "execution_count": 264,
   "id": "d6e27589-4a7f-4305-84b8-c56763539abb",
   "metadata": {},
   "outputs": [
    {
     "name": "stdout",
     "output_type": "stream",
     "text": [
      "[2, 4, 6, 8]\n"
     ]
    }
   ],
   "source": [
    "def addition(n): \n",
    "\treturn n + n \n",
    "\n",
    "# We double all numbers using map() \n",
    "numbers = (1, 2, 3, 4) \n",
    "result = map(addition, numbers) \n",
    "print(list(result)) \n",
    "\n"
   ]
  },
  {
   "cell_type": "markdown",
   "id": "23c86bf4-ca46-4214-8a6c-7ad94704f221",
   "metadata": {},
   "source": [
    "3.How does the `filter()` function work in Python, and when would you use it?\n"
   ]
  },
  {
   "cell_type": "markdown",
   "id": "d30b594a-b3b1-48b8-a601-f60082f599e9",
   "metadata": {},
   "source": [
    "Ans:Filter() is a built-in function in Python. The filter function can be applied to an iterable such as a list or a dictionary and create a new iterator. This new iterator can filter out certain specific elements based on the condition that you provide very efficiently. \n",
    "\n",
    "\n",
    "There are many ways to filter elements from a list. This includes using a simple for loop, list comprehension, advanced for loop, etc. However, the filter method provides a simple and efficient way to filter out elements and even takes fewer lines of code to carry out the same function. This is very useful especially when you are working with large sets of data. \n"
   ]
  },
  {
   "cell_type": "markdown",
   "id": "21ac11a7-13f9-4537-943a-c8c8a7a8e2ad",
   "metadata": {},
   "source": [
    "4.Create a Python program that uses the `reduce()` function to find the product of all elements in a list.\n"
   ]
  },
  {
   "cell_type": "code",
   "execution_count": 268,
   "id": "29d91412-666c-4b9b-a596-12e65eea0cd2",
   "metadata": {},
   "outputs": [
    {
     "name": "stdout",
     "output_type": "stream",
     "text": [
      "10\n"
     ]
    }
   ],
   "source": [
    "from functools import reduce \n",
    "\n",
    "nums = [1, 2, 3, 4]\n",
    "ans = reduce(lambda x, y: x + y, nums)\n",
    "print(ans) \n"
   ]
  },
  {
   "cell_type": "markdown",
   "id": "4e68bcb3-c667-4308-9755-75cd22292728",
   "metadata": {},
   "source": [
    "Function Documentation and Best Practices:\n"
   ]
  },
  {
   "cell_type": "markdown",
   "id": "46697cbb-d11f-4f84-8730-5ff40d8c5910",
   "metadata": {},
   "source": [
    "1.Explain the purpose of docstrings in Python functions and how to write them.\n"
   ]
  },
  {
   "cell_type": "markdown",
   "id": "426005db-d9e6-4810-9b87-973f4bb71a79",
   "metadata": {},
   "source": [
    "Ans:Python documentation strings (or docstrings) provide a convenient way of associating documentation with Python modules, functions, classes, and methods. It’s specified in source code that is used, like a comment, to document a specific segment of code. Unlike conventional source code comments, the docstring should describe what the function does, not how.\n",
    "\n",
    "Declaring Docstrings: The docstrings are declared using ”’triple single quotes”’ or “”” triple double quotes “”” just below the class, method, or function declaration. All functions should have a docstring.\n",
    "Accessing Docstrings: The docstrings can be accessed using the __doc__ method of the object or using the help function. The below examples demonstrate how to declare and access a docstring.\n"
   ]
  },
  {
   "cell_type": "markdown",
   "id": "eb561476-f35d-4721-9e1c-0cb84d091a8a",
   "metadata": {},
   "source": [
    "2.Describe some best practices for naming functions and variables in Python, including naming conventions and guidelines.\n"
   ]
  },
  {
   "cell_type": "markdown",
   "id": "4a103a76-293b-447e-9b5f-970f8a4d7458",
   "metadata": {},
   "source": [
    "Ans: In Python, the names of variables and functions should be lowercase. Individual words can be separated by underscores when needed. This will improve readability within your code. Method names should follow the same conventions as function names. \n"
   ]
  },
  {
   "cell_type": "code",
   "execution_count": null,
   "id": "3e812355-0673-4f4c-898f-73fdd3e6abdf",
   "metadata": {},
   "outputs": [],
   "source": []
  }
 ],
 "metadata": {
  "kernelspec": {
   "display_name": "Python 3 (ipykernel)",
   "language": "python",
   "name": "python3"
  },
  "language_info": {
   "codemirror_mode": {
    "name": "ipython",
    "version": 3
   },
   "file_extension": ".py",
   "mimetype": "text/x-python",
   "name": "python",
   "nbconvert_exporter": "python",
   "pygments_lexer": "ipython3",
   "version": "3.10.8"
  }
 },
 "nbformat": 4,
 "nbformat_minor": 5
}
