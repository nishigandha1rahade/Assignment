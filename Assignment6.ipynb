{
 "cells": [
  {
   "cell_type": "markdown",
   "id": "ce0f378a-14fd-4eee-839f-159ace581ba0",
   "metadata": {},
   "source": [
    "Control Flow \n"
   ]
  },
  {
   "cell_type": "markdown",
   "id": "9da638ac-cae9-4d66-96e2-74bedb7cd744",
   "metadata": {},
   "source": [
    "Basic If-Else Statements: \n"
   ]
  },
  {
   "cell_type": "markdown",
   "id": "23e30b2b-18da-4edc-a674-6f176a8f8de4",
   "metadata": {},
   "source": [
    "1. Write a Python program to check if a given number is positive or negative. "
   ]
  },
  {
   "cell_type": "code",
   "execution_count": 1,
   "id": "7f4887fd-91f2-48be-b72c-8b3d9a208a3e",
   "metadata": {},
   "outputs": [
    {
     "name": "stdin",
     "output_type": "stream",
     "text": [
      "Enter a number:  5\n"
     ]
    },
    {
     "name": "stdout",
     "output_type": "stream",
     "text": [
      "Positive number\n"
     ]
    }
   ],
   "source": [
    "num = float(input(\"Enter a number: \"))\n",
    "if num > 0:\n",
    "   print(\"Positive number\")\n",
    "else:\n",
    "   print(\"Negative number\")\n"
   ]
  },
  {
   "cell_type": "markdown",
   "id": "4d59c3a4-6b8a-40b4-bc68-573462a97b2a",
   "metadata": {},
   "source": [
    "2. Create a program that determines if a person is eligible to vote based on their age\n"
   ]
  },
  {
   "cell_type": "code",
   "execution_count": 2,
   "id": "c25052b5-535d-4c0b-be7b-71879de149d3",
   "metadata": {},
   "outputs": [
    {
     "name": "stdin",
     "output_type": "stream",
     "text": [
      "Enter a age:  45\n"
     ]
    },
    {
     "name": "stdout",
     "output_type": "stream",
     "text": [
      "eligible to vote\n"
     ]
    }
   ],
   "source": [
    "age = float(input(\"Enter a age: \"))\n",
    "if age >=18:\n",
    "   print(\"eligible to vote\")\n",
    "else:\n",
    "   print(\"Not eligible to vote\")\n"
   ]
  },
  {
   "cell_type": "markdown",
   "id": "f68c9b67-7909-44dc-883e-228c683763ae",
   "metadata": {},
   "source": [
    "3. Develop a program to find the maximum of two numbers using if-else statements."
   ]
  },
  {
   "cell_type": "code",
   "execution_count": 3,
   "id": "07c14f02-2f22-427b-a228-40890ffc1eb3",
   "metadata": {},
   "outputs": [
    {
     "name": "stdin",
     "output_type": "stream",
     "text": [
      "Enter a first num:  5\n",
      "Enter a  second num:  6\n"
     ]
    },
    {
     "name": "stdout",
     "output_type": "stream",
     "text": [
      "num2 is maximum\n"
     ]
    }
   ],
   "source": [
    "num1 = float(input(\"Enter a first num: \"))\n",
    "num2 = float(input(\"Enter a  second num: \"))\n",
    "if num1>num2:\n",
    "   print(\"num1 is maximum\")\n",
    "else:\n",
    "   print(\"num2 is maximum\")\n"
   ]
  },
  {
   "cell_type": "markdown",
   "id": "e97bfda8-c862-46ad-aa34-f944a66a8f6f",
   "metadata": {},
   "source": [
    "4. Write a Python script to classify a given year as a leap year or not. \n"
   ]
  },
  {
   "cell_type": "code",
   "execution_count": 4,
   "id": "cc0e3e58-6f6a-4869-a14c-800119e4e3cf",
   "metadata": {},
   "outputs": [
    {
     "name": "stdin",
     "output_type": "stream",
     "text": [
      "Enter a year:  2024\n"
     ]
    },
    {
     "name": "stdout",
     "output_type": "stream",
     "text": [
      "leap year\n"
     ]
    }
   ],
   "source": [
    "year = float(input(\"Enter a year: \"))\n",
    "if year%4 == 0:\n",
    "   print(\"leap year\")\n",
    "else:\n",
    "   print(\"not leap year\")\n"
   ]
  },
  {
   "cell_type": "markdown",
   "id": "ec8773bc-683c-4128-ad93-f3bd4442e81b",
   "metadata": {},
   "source": [
    "5. Create a program that checks whether a character is a vowel or a consonant.\n"
   ]
  },
  {
   "cell_type": "code",
   "execution_count": 5,
   "id": "1ac09a1e-3efb-4032-a911-ed97aa0d94e7",
   "metadata": {},
   "outputs": [
    {
     "name": "stdout",
     "output_type": "stream",
     "text": [
      "Consonant\n"
     ]
    }
   ],
   "source": [
    "def vowelOrConsonant(x):\n",
    "\n",
    "\tif (x == 'a' or x == 'e' or\n",
    "\t\tx == 'i' or x == 'o' or x == 'u'):\n",
    "\t\tprint(\"Vowel\")\n",
    "\telse:\n",
    "\t\tprint(\"Consonant\")\n",
    "\n",
    "# Driver code\n",
    "vowelOrConsonant('c')\n"
   ]
  },
  {
   "cell_type": "markdown",
   "id": "e5bfb06c-bc83-4fb6-9c54-bfc0e2bf9f38",
   "metadata": {},
   "source": [
    "6. Implement a program to determine whether a given number is even or odd. \n"
   ]
  },
  {
   "cell_type": "code",
   "execution_count": 6,
   "id": "6057817f-3126-4b41-9908-f9fbd4e3b8f1",
   "metadata": {},
   "outputs": [
    {
     "name": "stdin",
     "output_type": "stream",
     "text": [
      "Enter a num:  5\n"
     ]
    },
    {
     "name": "stdout",
     "output_type": "stream",
     "text": [
      "its odd number\n"
     ]
    }
   ],
   "source": [
    "num = float(input(\"Enter a num: \"))\n",
    "\n",
    "if num % 2 == 0:\n",
    "   print(\"its even number\")\n",
    "else:\n",
    "   print(\"its odd number\")\n"
   ]
  },
  {
   "cell_type": "markdown",
   "id": "9e25dda9-630a-4645-84a4-4f6f9fe9357f",
   "metadata": {},
   "source": [
    "7. Write a Python function to calculate the absolute value of a number without using the `abs()` function\n"
   ]
  },
  {
   "cell_type": "code",
   "execution_count": 8,
   "id": "1443845f-5041-45dd-8ad5-f1a081c39c5b",
   "metadata": {},
   "outputs": [
    {
     "name": "stdout",
     "output_type": "stream",
     "text": [
      "10\n"
     ]
    }
   ],
   "source": [
    "def absolute_value(num):\n",
    "    \n",
    "    if num >= 0:\n",
    "        return num\n",
    "    else:\n",
    "        return -num\n",
    "\n",
    "print(absolute_value(10))\n"
   ]
  },
  {
   "cell_type": "markdown",
   "id": "75acd589-5385-485d-9c72-42069bd61944",
   "metadata": {},
   "source": [
    " 8. Develop a program that determines the largest of three given numbers using if-else statements.\n"
   ]
  },
  {
   "cell_type": "code",
   "execution_count": 9,
   "id": "f77dac0b-d536-4f3c-8983-05e69ac12dc3",
   "metadata": {},
   "outputs": [
    {
     "name": "stdin",
     "output_type": "stream",
     "text": [
      "Enter a first num:  3\n",
      "Enter a second num:  4\n",
      "Enter a third num:  5\n"
     ]
    },
    {
     "name": "stdout",
     "output_type": "stream",
     "text": [
      "num3 is largest\n"
     ]
    }
   ],
   "source": [
    "num1 = float(input(\"Enter a first num: \"))\n",
    "num2 = float(input(\"Enter a second num: \"))\n",
    "num3 = float(input(\"Enter a third num: \"))\n",
    "\n",
    "\n",
    "if num1>num2:\n",
    "    print(\"num1 is largest\")\n",
    "if num2>num3:\n",
    "    print(\"num2 is largest\")\n",
    "else:\n",
    "    print(\"num3 is largest\")\n",
    "\n"
   ]
  },
  {
   "cell_type": "markdown",
   "id": "c59f41e2-4eee-46f5-86df-d4a7d5b4ce9e",
   "metadata": {},
   "source": [
    " 9. Create a program that checks if a given string is a palindrome. "
   ]
  },
  {
   "cell_type": "code",
   "execution_count": 10,
   "id": "1d983ab5-87f2-4b00-b661-129f3439e870",
   "metadata": {},
   "outputs": [
    {
     "name": "stdout",
     "output_type": "stream",
     "text": [
      "Yes\n"
     ]
    }
   ],
   "source": [
    "def isPalindrome(s):\n",
    "\treturn s == s[::-1]\n",
    "\n",
    "\n",
    "\n",
    "s = \"malayalam\"\n",
    "ans = isPalindrome(s)\n",
    "\n",
    "if ans:\n",
    "\tprint(\"Yes\")\n",
    "else:\n",
    "\tprint(\"No\")"
   ]
  },
  {
   "cell_type": "markdown",
   "id": "861ec744-9b7d-479e-a9e5-58344f53afa7",
   "metadata": {},
   "source": [
    "10. Write a Python program to calculate the grade based on a student's score.\n"
   ]
  },
  {
   "cell_type": "code",
   "execution_count": 12,
   "id": "51098261-5e7f-46c5-b851-1171d298232e",
   "metadata": {},
   "outputs": [
    {
     "name": "stdin",
     "output_type": "stream",
     "text": [
      "Enter a score:  65\n"
     ]
    },
    {
     "name": "stdout",
     "output_type": "stream",
     "text": [
      "B grade\n"
     ]
    }
   ],
   "source": [
    "score = float(input(\"Enter a score: \"))\n",
    "\n",
    "if score>90 :\n",
    "    print(\"A+ grade\")\n",
    "if score>80:\n",
    "    print(\"B+ grade\")\n",
    "if score>60:\n",
    "    print(\"B grade\")\n",
    "else:\n",
    "    print(\"C grade\")\n"
   ]
  },
  {
   "cell_type": "markdown",
   "id": "32d27825-04c0-4524-a4ac-d9623665df58",
   "metadata": {},
   "source": [
    "Nested If-Else Statements: \n"
   ]
  },
  {
   "cell_type": "markdown",
   "id": "8b28bcf9-4665-42a9-959b-ffeda999e99f",
   "metadata": {},
   "source": [
    "11. Write a program to find the largest among three numbers using nested if-else statements.\n"
   ]
  },
  {
   "cell_type": "code",
   "execution_count": 13,
   "id": "0c2d9de9-ebb5-452d-9558-29e3423b87e6",
   "metadata": {},
   "outputs": [
    {
     "name": "stdout",
     "output_type": "stream",
     "text": [
      "Enter three Numbers: \n"
     ]
    },
    {
     "name": "stdin",
     "output_type": "stream",
     "text": [
      " 45\n",
      " 46\n",
      " 57\n"
     ]
    },
    {
     "name": "stdout",
     "output_type": "stream",
     "text": [
      "\n",
      "Largest Number = 57\n"
     ]
    }
   ],
   "source": [
    "print(\"Enter three Numbers: \")\n",
    "numOne = int(input())\n",
    "numTwo = int(input())\n",
    "numThr = int(input())\n",
    "\n",
    "if numOne>numTwo:\n",
    "    if numTwo>numThr:\n",
    "        large = numOne\n",
    "    else:\n",
    "        if numThr>numOne:\n",
    "            large = numThr\n",
    "        else:\n",
    "            large = numOne\n",
    "else:\n",
    "    if numTwo>numThr:\n",
    "        large = numTwo\n",
    "    else:\n",
    "        large = numThr\n",
    "\n",
    "print(\"\\nLargest Number =\", large)"
   ]
  },
  {
   "cell_type": "markdown",
   "id": "83ac6249-15df-4c6c-8582-9b10bcc4e3a5",
   "metadata": {},
   "source": [
    " 12. Implement a program to determine if a triangle is equilateral, isosceles, or scalene\n"
   ]
  },
  {
   "cell_type": "code",
   "execution_count": 15,
   "id": "fc7301d8-18a5-4956-aa14-9025041d5bf1",
   "metadata": {},
   "outputs": [
    {
     "name": "stdout",
     "output_type": "stream",
     "text": [
      "Enter three triangle sides: \n"
     ]
    },
    {
     "name": "stdin",
     "output_type": "stream",
     "text": [
      " 10\n",
      " 10\n",
      " 10\n"
     ]
    },
    {
     "name": "stdout",
     "output_type": "stream",
     "text": [
      "Equilateral Triangle\n"
     ]
    }
   ],
   "source": [
    "print(\"Enter three triangle sides: \")\n",
    "x = int(input())\n",
    "y = int(input())\n",
    "z = int(input())\n",
    "\n",
    "if  x == y == z:\n",
    "    if  x == y == z:\n",
    "        print(\"Equilateral Triangle\")\n",
    "    else:\n",
    "        if  x == y or y == z or z == x:\n",
    "            print(\"Isosceles Triangle\") \n",
    "        else:\n",
    "            print(\"Scalene Triangle\")\n"
   ]
  },
  {
   "cell_type": "markdown",
   "id": "17f87a81-038d-4851-8143-cab2f3ede3a2",
   "metadata": {},
   "source": [
    "13. Develop a program that checks if a year is a leap year and also if it is a century year.\n"
   ]
  },
  {
   "cell_type": "code",
   "execution_count": 16,
   "id": "fcb8af14-ca10-44f9-8be7-d75cca1a9972",
   "metadata": {},
   "outputs": [
    {
     "name": "stdout",
     "output_type": "stream",
     "text": [
      "2023 is a not century year\n"
     ]
    }
   ],
   "source": [
    "def check_leap_year(year):\n",
    "\n",
    "    if year % 4 == 0:\n",
    "        if year % 100 == 0:\n",
    "            if year % 400 == 0:\n",
    "                print(f\"{year} is a leap year\")\n",
    "            else:\n",
    "                print(f\"{year} is not a leap year\")\n",
    "        else:\n",
    "            print(f\"{year} is a century year\")\n",
    "    else:\n",
    "        print(f\"{year} is a not century year\")\n",
    "\n",
    "\n",
    "check_leap_year(2023) \n"
   ]
  },
  {
   "cell_type": "markdown",
   "id": "3dcf28d6-54dd-4344-b9ee-68e16d4ec867",
   "metadata": {},
   "source": [
    "\n",
    "\n",
    " 14. Write a Python script to determine if a number is positive, negative, or zero\n"
   ]
  },
  {
   "cell_type": "code",
   "execution_count": 17,
   "id": "b8cdc3cc-1c4d-44ed-924e-f188c47662cd",
   "metadata": {},
   "outputs": [
    {
     "name": "stdin",
     "output_type": "stream",
     "text": [
      "Input a number:  0\n"
     ]
    },
    {
     "name": "stdout",
     "output_type": "stream",
     "text": [
      "It is Zero\n"
     ]
    }
   ],
   "source": [
    "num = float(input(\"Input a number: \"))\n",
    "if num > 0:\n",
    "   print(\"It is positive number\")\n",
    "elif num == 0:\n",
    "   print(\"It is Zero\")\n",
    "else:\n",
    "   print(\"It is a negative number\")\n"
   ]
  },
  {
   "cell_type": "markdown",
   "id": "4d756a7b-93cd-4f64-b065-6a0da4dc3dcb",
   "metadata": {},
   "source": [
    "15. Create a program to check if a person is a teenager (between 13 and 19 years old)."
   ]
  },
  {
   "cell_type": "code",
   "execution_count": 18,
   "id": "31990b06-727f-4ed3-9d8b-a3a00ddfa46c",
   "metadata": {},
   "outputs": [
    {
     "name": "stdout",
     "output_type": "stream",
     "text": [
      "Enter age: \n"
     ]
    },
    {
     "name": "stdin",
     "output_type": "stream",
     "text": [
      " 56\n"
     ]
    },
    {
     "name": "stdout",
     "output_type": "stream",
     "text": [
      "adults\n",
      "\n",
      "Age Number = 56\n"
     ]
    }
   ],
   "source": [
    "print(\"Enter age: \")\n",
    "age = int(input())\n",
    "if age==13:\n",
    "    if age < 13:\n",
    "        print(\"child\")\n",
    "    else:\n",
    "        if age <18:\n",
    "            print(\"teenager\")\n",
    "        else:\n",
    "            print(\"not teenager\")\n",
    "else:\n",
    "    if age>18:\n",
    "        print(\"adults\")\n",
    "    else:\n",
    "        print(\"not adults\")\n",
    "\n",
    "print(\"\\nAge Number =\", age)\n"
   ]
  },
  {
   "cell_type": "markdown",
   "id": "7d586631-6b4b-46cb-bc7c-642040f294d0",
   "metadata": {},
   "source": [
    "16. Develop a program that determines the type of angle based on its measure (acute, obtuse, or right). \n"
   ]
  },
  {
   "cell_type": "code",
   "execution_count": 19,
   "id": "d478f95c-3091-4a4c-8304-0e8c3a2ca753",
   "metadata": {},
   "outputs": [
    {
     "name": "stdin",
     "output_type": "stream",
     "text": [
      " 90\n"
     ]
    },
    {
     "name": "stdout",
     "output_type": "stream",
     "text": [
      "not obtuse angle\n",
      "nAngle degree = 90\n"
     ]
    }
   ],
   "source": [
    "angle = int(input())\n",
    "if angle<90:\n",
    "    if angle < 90:\n",
    "        print(\"acute angle\")\n",
    "    else:\n",
    "        if angle == 90:\n",
    "            print(\"right angle\")\n",
    "        else:\n",
    "            print(\"not right angle\")\n",
    "else:\n",
    "    if angle > 90:\n",
    "        print(\"obtuse angle\")\n",
    "    else:\n",
    "        print(\"not obtuse angle\")\n",
    "            \n",
    "print(\"nAngle degree =\", angle)"
   ]
  },
  {
   "cell_type": "markdown",
   "id": "90a56fb1-5d9b-4107-805a-94e8011ae62c",
   "metadata": {},
   "source": [
    "17. Write a Python program to calculate the roots of a quadratic equation. \n"
   ]
  },
  {
   "cell_type": "code",
   "execution_count": 20,
   "id": "0145be84-56f0-4184-b7e4-f91eda5ce7ea",
   "metadata": {},
   "outputs": [
    {
     "ename": "NameError",
     "evalue": "name 'math' is not defined",
     "output_type": "error",
     "traceback": [
      "\u001b[0;31m---------------------------------------------------------------------------\u001b[0m",
      "\u001b[0;31mNameError\u001b[0m                                 Traceback (most recent call last)",
      "Cell \u001b[0;32mIn[20], line 33\u001b[0m\n\u001b[1;32m     30\u001b[0m \t\t\u001b[38;5;28mprint\u001b[39m(\u001b[38;5;124m\"\u001b[39m\u001b[38;5;124mInput correct quadratic equation\u001b[39m\u001b[38;5;124m\"\u001b[39m) \n\u001b[1;32m     32\u001b[0m \u001b[38;5;28;01melse\u001b[39;00m:\n\u001b[0;32m---> 33\u001b[0m \t\u001b[43mequationroots\u001b[49m\u001b[43m(\u001b[49m\u001b[43ma\u001b[49m\u001b[43m,\u001b[49m\u001b[43m \u001b[49m\u001b[43mb\u001b[49m\u001b[43m,\u001b[49m\u001b[43m \u001b[49m\u001b[43mc\u001b[49m\u001b[43m)\u001b[49m\n",
      "Cell \u001b[0;32mIn[20], line 5\u001b[0m, in \u001b[0;36mequationroots\u001b[0;34m(a, b, c)\u001b[0m\n\u001b[1;32m      1\u001b[0m \u001b[38;5;28;01mdef\u001b[39;00m \u001b[38;5;21mequationroots\u001b[39m( a, b, c): \n\u001b[1;32m      2\u001b[0m \n\u001b[1;32m      3\u001b[0m \t\u001b[38;5;66;03m# calculating discriminant using formula\u001b[39;00m\n\u001b[1;32m      4\u001b[0m \tdis \u001b[38;5;241m=\u001b[39m b \u001b[38;5;241m*\u001b[39m b \u001b[38;5;241m-\u001b[39m \u001b[38;5;241m4\u001b[39m \u001b[38;5;241m*\u001b[39m a \u001b[38;5;241m*\u001b[39m c \n\u001b[0;32m----> 5\u001b[0m \tsqrt_val \u001b[38;5;241m=\u001b[39m \u001b[43mmath\u001b[49m\u001b[38;5;241m.\u001b[39msqrt(\u001b[38;5;28mabs\u001b[39m(dis)) \n\u001b[1;32m      7\u001b[0m \t\u001b[38;5;66;03m# checking condition for discriminant\u001b[39;00m\n\u001b[1;32m      8\u001b[0m \t\u001b[38;5;28;01mif\u001b[39;00m dis \u001b[38;5;241m>\u001b[39m \u001b[38;5;241m0\u001b[39m: \n",
      "\u001b[0;31mNameError\u001b[0m: name 'math' is not defined"
     ]
    }
   ],
   "source": [
    "def equationroots( a, b, c): \n",
    "\n",
    "\t# calculating discriminant using formula\n",
    "\tdis = b * b - 4 * a * c \n",
    "\tsqrt_val = math.sqrt(abs(dis)) \n",
    "\t\n",
    "\t# checking condition for discriminant\n",
    "\tif dis > 0: \n",
    "\t\tprint(\"real and different roots\") \n",
    "\t\tprint((-b + sqrt_val)/(2 * a)) \n",
    "\t\tprint((-b - sqrt_val)/(2 * a)) \n",
    "\t\n",
    "\telif dis == 0: \n",
    "\t\tprint(\"real and same roots\") \n",
    "\t\tprint(-b / (2 * a)) \n",
    "\t\n",
    "\t# when discriminant is less than 0\n",
    "\telse:\n",
    "\t\tprint(\"Complex Roots\") \n",
    "\t\tprint(- b / (2 * a), + i, sqrt_val) \n",
    "\t\tprint(- b / (2 * a), - i, sqrt_val) \n",
    "\n",
    "# Driver Program \n",
    "a = 1\n",
    "b = 10\n",
    "c = -24\n",
    "\n",
    "# If a is 0, then incorrect equation\n",
    "if a == 0: \n",
    "\t\tprint(\"Input correct quadratic equation\") \n",
    "\n",
    "else:\n",
    "\tequationroots(a, b, c)"
   ]
  },
  {
   "cell_type": "markdown",
   "id": "c7095984-7c43-41eb-9c35-a9a166bf1803",
   "metadata": {},
   "source": [
    "18. Implement a program to determine the day of the week based on a user-provided number (1 for Monday, 2  for Tuesday, etc.).\n"
   ]
  },
  {
   "cell_type": "code",
   "execution_count": 21,
   "id": "58e45a0d-5ccb-4fc8-aa01-ceeece7cd7d9",
   "metadata": {},
   "outputs": [
    {
     "name": "stdin",
     "output_type": "stream",
     "text": [
      "Enter a number from 1 to 7:  6\n"
     ]
    },
    {
     "name": "stdout",
     "output_type": "stream",
     "text": [
      "6 is Friday\n"
     ]
    }
   ],
   "source": [
    "day = int(input(\"Enter a number from 1 to 7: \"))\n",
    "\n",
    "if day == 1:\n",
    "    print(day, \"is Sunday\")\n",
    "elif day == 2:\n",
    "    print(day, \"is Monday\")\n",
    "elif day == 3:\n",
    "    print(day, \"is Tuesday\")\n",
    "elif day == 4:\n",
    "    print(day, \"is Wednesday\")\n",
    "elif day == 5:\n",
    "    print(day, \"is Thursday\")\n",
    "elif day == 6:\n",
    "    print(day, \"is Friday\")\n",
    "elif day == 7:\n",
    "    print(day, \"is Saturday\")\n",
    "else:\n",
    "    print(\"Wrong input! Please enter a number from 1 to 7.\")\n"
   ]
  },
  {
   "cell_type": "markdown",
   "id": "80bebd8c-04fb-47be-a4a4-c2a834154d5b",
   "metadata": {},
   "source": [
    "19. Create a program that determines if a year is a leap year and also if it is evenly divisible by 400.\n"
   ]
  },
  {
   "cell_type": "code",
   "execution_count": 22,
   "id": "88a6d94b-86be-4c32-b994-ca69adccf56b",
   "metadata": {},
   "outputs": [
    {
     "name": "stdin",
     "output_type": "stream",
     "text": [
      "Enter year: 2025\n"
     ]
    },
    {
     "name": "stdout",
     "output_type": "stream",
     "text": [
      "its not leap year\n",
      "its not leap year\n"
     ]
    }
   ],
   "source": [
    "year = int(input(\"Enter year:\"))\n",
    "if year %4 ==0 :\n",
    "        print(\"its leap year\")\n",
    "else:\n",
    "    print(\"its not leap year\")\n",
    "if year % 400 ==0:\n",
    "    print(\"its leap year\")\n",
    "else:\n",
    "    print(\"its not leap year\")\n"
   ]
  },
  {
   "cell_type": "markdown",
   "id": "28c60d91-031c-414a-b3f4-2fb66b9ca50d",
   "metadata": {},
   "source": [
    " 20. Develop a program that checks if a given number is prime or not using nested if-else statements"
   ]
  },
  {
   "cell_type": "code",
   "execution_count": 23,
   "id": "6cf94b3c-b67a-4f14-888a-7d7ee50895d5",
   "metadata": {},
   "outputs": [
    {
     "name": "stdin",
     "output_type": "stream",
     "text": [
      "Enter number: 5\n"
     ]
    },
    {
     "name": "stdout",
     "output_type": "stream",
     "text": [
      "5 is a prime number\n"
     ]
    }
   ],
   "source": [
    "num = int(input(\"Enter number:\"))\n",
    "if num > 1:\n",
    "\t\n",
    "\tfor i in range(2, int(num/2)+1):\n",
    "\n",
    "\t\tif (num % i) == 0:\n",
    "\t\t\tprint(num, \"is not a prime number\")\n",
    "\t\t\tbreak\n",
    "\telse:\n",
    "\t\tprint(num, \"is a prime number\")\n",
    "else:\n",
    "\tprint(num, \"is not a prime number\")\n",
    "\n"
   ]
  },
  {
   "cell_type": "markdown",
   "id": "635aeb3c-02e5-479f-8dd1-e328941a5ceb",
   "metadata": {},
   "source": [
    "Elif Statements: \n"
   ]
  },
  {
   "cell_type": "markdown",
   "id": "57bdae21-c707-48c7-a444-19ca42d87ac8",
   "metadata": {},
   "source": [
    "21. Write a Python program to assign grades based on different ranges of scores using elif statements\n"
   ]
  },
  {
   "cell_type": "code",
   "execution_count": 24,
   "id": "6e78b2ad-1aec-4120-ba6f-e2a6734b695e",
   "metadata": {},
   "outputs": [
    {
     "name": "stdin",
     "output_type": "stream",
     "text": [
      "Enter a marks  78\n"
     ]
    },
    {
     "name": "stdout",
     "output_type": "stream",
     "text": [
      "grade B\n"
     ]
    }
   ],
   "source": [
    "score= int(input(\"Enter a marks \"))\n",
    "if score>=90:\n",
    "    print(\"grade A+\")\n",
    "elif score>=80:\n",
    "    print(\"grade B+\")\n",
    "elif score>=70:\n",
    "    print(\"grade B\")\n",
    "elif score>=60:\n",
    "    print(\"grade C\")\n",
    "else:\n",
    "    print(\"grade D\")\n"
   ]
  },
  {
   "cell_type": "markdown",
   "id": "b12e29fd-507b-45fd-bd6b-f2b28e3ec980",
   "metadata": {},
   "source": [
    " 22. Implement a program to determine the type of a triangle based on its angles. \n"
   ]
  },
  {
   "cell_type": "code",
   "execution_count": 25,
   "id": "3ca06fe4-b808-401d-af60-5e878e49c81c",
   "metadata": {},
   "outputs": [
    {
     "name": "stdin",
     "output_type": "stream",
     "text": [
      "enter number of angle 45\n"
     ]
    },
    {
     "name": "stdout",
     "output_type": "stream",
     "text": [
      "acute traingle\n"
     ]
    }
   ],
   "source": [
    "angle = int(input(\"enter number of angle\"))\n",
    "if angle<=90:\n",
    "    print(\"acute traingle\")\n",
    "elif angle==90:\n",
    "    print(\"right traingle\")\n",
    "else:\n",
    "    print(\"obtuse traingle\")"
   ]
  },
  {
   "cell_type": "markdown",
   "id": "b593aa1b-52c3-45c7-8476-bd915ab8b3e1",
   "metadata": {},
   "source": [
    "23. Develop a program to categorize a given person's BMI into underweight, normal, overweight, or obese using  elif statements.\n"
   ]
  },
  {
   "cell_type": "code",
   "execution_count": 27,
   "id": "71be33d9-7ace-49b4-bfc4-01eb9697faba",
   "metadata": {},
   "outputs": [
    {
     "name": "stdin",
     "output_type": "stream",
     "text": [
      " 20\n"
     ]
    },
    {
     "name": "stdout",
     "output_type": "stream",
     "text": [
      "Your weight is normal.\n"
     ]
    }
   ],
   "source": [
    "bmi=int(input())\n",
    "if bmi <= 18.5:\n",
    "    print(\"You are underweight.\")\n",
    "elif 18.5 < bmi <= 24.9:\n",
    "    print(\"Your weight is normal.\")\n",
    "elif 25 < bmi <= 29.29:\n",
    "    print(\"You are overweight.\")\n",
    "else:\n",
    "    print(\"You are obese.\")\n"
   ]
  },
  {
   "cell_type": "markdown",
   "id": "2f76c410-cfd5-4ca5-8566-ce19ba23808d",
   "metadata": {},
   "source": [
    "24. Create a program that determines whether a given number is positive, negative, or zero using elif  statements.\n"
   ]
  },
  {
   "cell_type": "code",
   "execution_count": 28,
   "id": "5ed28736-d8bd-43b3-b5f6-350bb16ef356",
   "metadata": {},
   "outputs": [
    {
     "name": "stdin",
     "output_type": "stream",
     "text": [
      "enter any number 6\n"
     ]
    },
    {
     "name": "stdout",
     "output_type": "stream",
     "text": [
      "positive number\n"
     ]
    }
   ],
   "source": [
    "num = int(input(\"enter any number\"))\n",
    "if num>0:\n",
    "    print(\"positive number\")\n",
    "elif num==0:\n",
    "    print(\"zero\")\n",
    "else:\n",
    "    print(\"negative number\")\n"
   ]
  },
  {
   "cell_type": "markdown",
   "id": "a10c6248-6069-4578-8570-3531b20ce49f",
   "metadata": {},
   "source": [
    "25. Write a Python script to determine the type of a character (uppercase, lowercase, or special) using elif  statements.\n"
   ]
  },
  {
   "cell_type": "code",
   "execution_count": 33,
   "id": "ccc7840a-66d4-42b9-b5c9-3d59372e3245",
   "metadata": {},
   "outputs": [
    {
     "name": "stdin",
     "output_type": "stream",
     "text": [
      "Please Enter Your Own Character :  y\n"
     ]
    },
    {
     "name": "stdout",
     "output_type": "stream",
     "text": [
      "The Given Character  y is a Lowercase Alphabet\n"
     ]
    }
   ],
   "source": [
    "ch = input(\"Please Enter Your Own Character : \")\n",
    "\n",
    "if(ch.isupper()):\n",
    "    print(\"The Given Character \", ch, \"is an Uppercase Alphabet\")\n",
    "elif(ch.islower()):\n",
    "    print(\"The Given Character \", ch, \"is a Lowercase Alphabet\")\n",
    "else:\n",
    "    print(\"The Given Character \", ch, \"is Not a Lower or Uppercase Alphabet\")\n"
   ]
  },
  {
   "cell_type": "markdown",
   "id": "eaccf1f3-4ad9-4503-9e02-1f77692f83de",
   "metadata": {},
   "source": [
    "26. Implement a program to calculate the discounted price based on different purchase amounts using elif  statements. \n"
   ]
  },
  {
   "cell_type": "code",
   "execution_count": 31,
   "id": "fac720ea-4746-4a30-8fce-00a9e837a10f",
   "metadata": {},
   "outputs": [
    {
     "name": "stdin",
     "output_type": "stream",
     "text": [
      "enter price 1700\n"
     ]
    },
    {
     "name": "stdout",
     "output_type": "stream",
     "text": [
      "60 percent discount\n"
     ]
    }
   ],
   "source": [
    "amt= int(input(\"enter price\"))\n",
    "if amt>2000:\n",
    "    print(\"70 percent discount\")\n",
    "elif amt>1500:\n",
    "    print(\"60 percent discount\")\n",
    "elif amt>1000:\n",
    "    print(\"50 percent discount\")\n",
    "else:\n",
    "    print(\"no discount\")\n"
   ]
  },
  {
   "cell_type": "markdown",
   "id": "d42dc039-1d0d-4eda-8f9b-3bfbcc250544",
   "metadata": {},
   "source": [
    "27. Develop a program to calculate the electricity bill based on different consumption slabs using elif  statements\n"
   ]
  },
  {
   "cell_type": "code",
   "execution_count": 35,
   "id": "c8d9db67-83ca-4de7-bbcb-d49f25944710",
   "metadata": {},
   "outputs": [
    {
     "name": "stdin",
     "output_type": "stream",
     "text": [
      "please enter the number of units you consumed in a month 30\n"
     ]
    },
    {
     "name": "stdout",
     "output_type": "stream",
     "text": [
      "\n",
      "Electicity bill=70.00\n"
     ]
    }
   ],
   "source": [
    "units=int(input(\"please enter the number of units you consumed in a month\"))\n",
    "if(units<=100):\n",
    "    payAmount=units*1.5\n",
    "    fixedcharge=25.00\n",
    "elif(units<=200):\n",
    "    payAmount=(100*1.5)+(units-100)*2.5\n",
    "    fixedcharge=50.00\n",
    "elif(units<=300):\n",
    "    payAmount=(100*1.5)+(200-100)*2.5+(units-200)*4\n",
    "    fixedcharge=75.00\n",
    "elif(units<=350):\n",
    "    payAmount=(100*1.5)+(200-100)*2.5+(300-200)*4+(units-300)*5\n",
    "    fixedcharge=100.00\n",
    "else:\n",
    "    payAmount=0\n",
    "    fixedcharge=1500.00\n",
    "\n",
    "Total=payAmount+fixedcharge;\n",
    "print(\"\\nElecticity bill=%.2f\" %Total)\n"
   ]
  },
  {
   "cell_type": "markdown",
   "id": "de19a68b-4c40-4754-860b-dec0c07675fb",
   "metadata": {},
   "source": [
    "28. Create a program to determine the type of quadrilateral based on its angles and sides using elif  statements\n"
   ]
  },
  {
   "cell_type": "code",
   "execution_count": 36,
   "id": "b98af929-22d3-401d-bf26-a0ef87cbbd4b",
   "metadata": {},
   "outputs": [
    {
     "name": "stdin",
     "output_type": "stream",
     "text": [
      "first side 4\n",
      "second side 4\n",
      "third side 4\n"
     ]
    },
    {
     "name": "stdout",
     "output_type": "stream",
     "text": [
      "Equilateral Triangle\n"
     ]
    }
   ],
   "source": [
    "x=int(input(\"first side\"))\n",
    "y=int(input(\"second side\"))\n",
    "z=int(input(\"third side\"))\n",
    "if x == y == z:\n",
    "\tprint(\"Equilateral Triangle\")\n",
    "\n",
    "\t# Check for isosceles triangle\n",
    "elif x == y or y == z or z == x:\n",
    "\tprint(\"Isosceles Triangle\")\n",
    "\n",
    "\t# Otherwise scalene triangle\n",
    "else:\n",
    "\tprint(\"Scalene Triangle\")\n"
   ]
  },
  {
   "cell_type": "markdown",
   "id": "db9cdaea-908f-4aef-a652-9b093c29881d",
   "metadata": {},
   "source": [
    "29. Write a Python script to determine the season based on a user-provided month using elif statements\n"
   ]
  },
  {
   "cell_type": "code",
   "execution_count": 37,
   "id": "caa9ae63-8a34-4587-a612-058b9e224e0f",
   "metadata": {},
   "outputs": [
    {
     "name": "stdout",
     "output_type": "stream",
     "text": [
      "rainy\n"
     ]
    }
   ],
   "source": [
    "month= (\"Enter any month\")\n",
    "if month==(\"octomber,november,december,january\"):\n",
    "    print(\"winter\")\n",
    "elif month==(\"february,march,april,may\"):\n",
    "    print(\"summer\")\n",
    "else: \n",
    "    print(\"rainy\")\n"
   ]
  },
  {
   "cell_type": "markdown",
   "id": "69cc0a05-c6ef-4298-aa29-32d563fb41c2",
   "metadata": {},
   "source": [
    "30. Implement a program to determine the type of a year (leap or common) and month (30 or 31 days) using  elif statements. \n"
   ]
  },
  {
   "cell_type": "code",
   "execution_count": 38,
   "id": "8072d9cb-889b-4f1b-a5f2-a65af659ab83",
   "metadata": {},
   "outputs": [
    {
     "name": "stdin",
     "output_type": "stream",
     "text": [
      "enter year 2022\n",
      "enter month days 31\n"
     ]
    },
    {
     "name": "stdout",
     "output_type": "stream",
     "text": [
      "january,march,may,july,september,november\n"
     ]
    }
   ],
   "source": [
    "year =int(input(\"enter year\"))\n",
    "days = int(input(\"enter month days\"))\n",
    "if year%4==0:\n",
    "    print(\"its leap year\")\n",
    "elif days== 31 :\n",
    "    print(\"january,march,may,july,september,november\")\n",
    "else:\n",
    "    print(\"its not leap year and its not 30 days month\")\n",
    "\n"
   ]
  },
  {
   "cell_type": "markdown",
   "id": "40a0a9ca-0fd6-4a23-836e-6821d0c504ba",
   "metadata": {},
   "source": [
    "Assignment Questions\n"
   ]
  },
  {
   "cell_type": "markdown",
   "id": "a6187779-82e6-4e07-bfd2-84a8d2f3a006",
   "metadata": {},
   "source": [
    "Basic Level: \n"
   ]
  },
  {
   "cell_type": "markdown",
   "id": "4fecc6f6-5de6-41d1-aaa8-1c4ce9e8a8e4",
   "metadata": {},
   "source": [
    "1. Write a Python program that checks if a given number is positive, negative, or zero.\n"
   ]
  },
  {
   "cell_type": "code",
   "execution_count": 39,
   "id": "98f03e73-ede3-48c9-a89b-b234d29ed5fe",
   "metadata": {},
   "outputs": [
    {
     "name": "stdin",
     "output_type": "stream",
     "text": [
      "Input a number:  55\n"
     ]
    },
    {
     "name": "stdout",
     "output_type": "stream",
     "text": [
      "It is positive number\n"
     ]
    }
   ],
   "source": [
    "num = float(input(\"Input a number: \"))\n",
    "if num > 0:\n",
    "   print(\"It is positive number\")\n",
    "elif num == 0:\n",
    "   print(\"It is Zero\")\n",
    "else:\n",
    "   print(\"It is a negative number\")\n"
   ]
  },
  {
   "cell_type": "markdown",
   "id": "14434da9-dbfe-4bee-b1e3-d33f12b7c4ad",
   "metadata": {},
   "source": [
    "2. Create a program to determine if a person is eligible to vote based on their age. \n"
   ]
  },
  {
   "cell_type": "code",
   "execution_count": 40,
   "id": "e63c10c2-c236-4c22-bec3-2375169ce31d",
   "metadata": {},
   "outputs": [
    {
     "name": "stdin",
     "output_type": "stream",
     "text": [
      "Enter a age:  5\n"
     ]
    },
    {
     "name": "stdout",
     "output_type": "stream",
     "text": [
      "Not eligible to vote\n"
     ]
    }
   ],
   "source": [
    "age = float(input(\"Enter a age: \"))\n",
    "if age >=18:\n",
    "   print(\"eligible to vote\")\n",
    "else:\n",
    "   print(\"Not eligible to vote\")\n"
   ]
  },
  {
   "cell_type": "markdown",
   "id": "80655810-c9e6-44fa-8003-4ff434011c6d",
   "metadata": {},
   "source": [
    "3. Develop a program to find the maximum of two numbers using if-else statementsa=int(input(\"enter first number\"))\n"
   ]
  },
  {
   "cell_type": "code",
   "execution_count": 43,
   "id": "fca36082-82dd-4e9f-8ed2-b4d188909872",
   "metadata": {},
   "outputs": [
    {
     "name": "stdin",
     "output_type": "stream",
     "text": [
      "enter first number 5\n",
      "enter second number 4\n"
     ]
    },
    {
     "name": "stdout",
     "output_type": "stream",
     "text": [
      "a is maximum\n"
     ]
    }
   ],
   "source": [
    "a=int(input(\"enter first number\"))\n",
    "b=int(input(\"enter second number\"))\n",
    "if a>b:\n",
    "    print(\"a is maximum\")\n",
    "else:\n",
    "    print(\"b is maximum\")\n"
   ]
  },
  {
   "cell_type": "markdown",
   "id": "d3826127-d6b0-4301-b597-73de9c66df65",
   "metadata": {},
   "source": [
    "4. Develop a program that calculates the grade of a student based on their exam score\n"
   ]
  },
  {
   "cell_type": "code",
   "execution_count": 44,
   "id": "e5b69500-b610-4265-8b58-59fd8aa6a531",
   "metadata": {},
   "outputs": [
    {
     "name": "stdin",
     "output_type": "stream",
     "text": [
      "Enter a score:  67\n"
     ]
    },
    {
     "name": "stdout",
     "output_type": "stream",
     "text": [
      "B grade\n"
     ]
    }
   ],
   "source": [
    "score = float(input(\"Enter a score: \"))\n",
    "\n",
    "if score>90 :\n",
    "    print(\"A+ grade\")\n",
    "if score>80:\n",
    "    print(\"B+ grade\")\n",
    "if score>60:\n",
    "    print(\"B grade\")\n",
    "else:\n",
    "    print(\"C grade\")\n"
   ]
  },
  {
   "cell_type": "markdown",
   "id": "82a24f8c-4b74-4f5c-808f-98d87c3a47f7",
   "metadata": {},
   "source": [
    "6. Write a program to classify a triangle based on its sides' lengths. \n"
   ]
  },
  {
   "cell_type": "code",
   "execution_count": 45,
   "id": "504b27cd-4054-4fff-b059-b491b694135b",
   "metadata": {},
   "outputs": [
    {
     "name": "stdin",
     "output_type": "stream",
     "text": [
      "Enter length of side a:  5\n",
      "Enter length of side b:  6\n",
      "Enter length of side c:  7\n"
     ]
    },
    {
     "name": "stdout",
     "output_type": "stream",
     "text": [
      "Triangle is Scalane\n"
     ]
    }
   ],
   "source": [
    "side_a = float(input('Enter length of side a: '))\n",
    "side_b = float(input('Enter length of side b: '))\n",
    "side_c = float(input('Enter length of side c: '))\n",
    "\n",
    "\n",
    "if a==b and b==c:\n",
    "        print('Triangle is Equilateral.')\n",
    "elif a==b or b==c or a==c:\n",
    "        print('Triangle is Isosceles.')\n",
    "else:\n",
    "        print('Triangle is Scalane')\n"
   ]
  },
  {
   "cell_type": "markdown",
   "id": "4a124fe6-d933-4eda-9394-6bb3a79cfb1f",
   "metadata": {},
   "source": [
    "7. Build a program that determines the largest of three given numbers. \n"
   ]
  },
  {
   "cell_type": "code",
   "execution_count": 46,
   "id": "d1be8c30-fb2e-4471-bfe4-1533d1619795",
   "metadata": {},
   "outputs": [
    {
     "name": "stdout",
     "output_type": "stream",
     "text": [
      "7 is the largest of three numbers.\n"
     ]
    }
   ],
   "source": [
    "a = 5\n",
    "b = 4\n",
    "c = 7\n",
    "\n",
    "largest = 0\n",
    "\n",
    "if a > b and a > c:\n",
    "    largest = a\n",
    "if b > a and b > c:\n",
    "    largest = b\n",
    "if c > a and c > b:\n",
    "    largest = c\n",
    "\n",
    "print(largest, \"is the largest of three numbers.\")\n"
   ]
  },
  {
   "cell_type": "markdown",
   "id": "a8712836-4008-4f85-987c-a64996fecab1",
   "metadata": {},
   "source": [
    "8. Create a program that checks whether a character is a vowel or a consonant. \n"
   ]
  },
  {
   "cell_type": "code",
   "execution_count": 48,
   "id": "4f08556f-b3b4-4362-a0f8-fcab07b9bc25",
   "metadata": {},
   "outputs": [
    {
     "name": "stdin",
     "output_type": "stream",
     "text": [
      "Enter a character:  f\n"
     ]
    },
    {
     "name": "stdout",
     "output_type": "stream",
     "text": [
      "The character 'f' is a consonant!\n"
     ]
    }
   ],
   "source": [
    "def isVowel(char):  \n",
    "    # Creating a string of vowels  \n",
    "    vowels = \"aeiouAEIOU\"  \n",
    "  \n",
    "    # Check if the character is a vowel or not  \n",
    "    if vowels.find(char) != -1:  \n",
    "        print(f\"The character '{char}' is a vowel!\")  \n",
    "    else:  \n",
    "        print(f\"The character '{char}' is a consonant!\")  \n",
    "  \n",
    "# Get an input character from the user  \n",
    "character = input(\"Enter a character: \")  \n",
    "  \n",
    "# Calling the function  \n",
    "isVowel(character)  \n"
   ]
  },
  {
   "cell_type": "markdown",
   "id": "5f856cc6-2a4e-4fbe-8714-336c7e0e0826",
   "metadata": {},
   "source": [
    "9. Create a program to calculate the total cost of a shopping cart based on discounts.\n"
   ]
  },
  {
   "cell_type": "code",
   "execution_count": 49,
   "id": "5d80c775-70cc-4d75-901e-f186fc0063fe",
   "metadata": {},
   "outputs": [
    {
     "name": "stdout",
     "output_type": "stream",
     "text": [
      "24785.0\n"
     ]
    }
   ],
   "source": [
    "def discount_mult(q):\n",
    "        if q > 20:\n",
    "            return .5\n",
    "        elif q >= 20:\n",
    "            return .7\n",
    "        elif q >= 10:\n",
    "            return .8\n",
    "        elif q >= 7:\n",
    "            return .9\n",
    "        elif q >= 5:\n",
    "            return .95\n",
    "        else:\n",
    "            return 1    \n",
    "\n",
    "class Product:    \n",
    "    def __init__(self, name, price, count):\n",
    "        self.name = name\n",
    "        self.price = price\n",
    "        self.count =  count    \n",
    "\n",
    "class Cart:        \n",
    "    def __init__(self, *products_list):\n",
    "        self.products_list = products_list\n",
    "    \n",
    "    def get_total_price(self):\n",
    "        return sum([i.price*i.count*discount_mult(i.count) for i in self.products_list[0]])\n",
    "\n",
    "        \n",
    "products = (Product('p1',10,4),Product('p2',100,5),Product('p3',200,6),Product('p4',300,7),\n",
    "            Product('p5',400,9),Product('p6',500,10),Product('p7',1000,20))\n",
    "cart = Cart(products)\n",
    "print(cart.get_total_price())"
   ]
  },
  {
   "cell_type": "markdown",
   "id": "74e7c2fa-bf23-4bb4-81fc-c293a028e1ed",
   "metadata": {},
   "source": [
    "10. Write a program that checks if a given number is even or odd. \n"
   ]
  },
  {
   "cell_type": "code",
   "execution_count": 50,
   "id": "667288cf-14e0-4b28-b950-12d96c56e354",
   "metadata": {},
   "outputs": [
    {
     "name": "stdin",
     "output_type": "stream",
     "text": [
      "enter number 7\n"
     ]
    },
    {
     "name": "stdout",
     "output_type": "stream",
     "text": [
      "odd number\n"
     ]
    }
   ],
   "source": [
    "num=int(input(\"enter number\"))\n",
    "if num%2==0 :\n",
    "    print(\"even number\")\n",
    "else:\n",
    "    print(\"odd number\")\n"
   ]
  },
  {
   "cell_type": "markdown",
   "id": "737efeed-c08d-4c30-8f61-3f073ade0e62",
   "metadata": {},
   "source": [
    "Intermediate Level: \n"
   ]
  },
  {
   "cell_type": "markdown",
   "id": "fc316df1-34de-41a5-8dd0-235ec5efe719",
   "metadata": {},
   "source": [
    "11. Write a program that calculates the roots of a quadratic equation . \n"
   ]
  },
  {
   "cell_type": "code",
   "execution_count": 51,
   "id": "4b5ff939-407d-41c2-9eee-ae778d1dbf25",
   "metadata": {},
   "outputs": [
    {
     "ename": "NameError",
     "evalue": "name 'math' is not defined",
     "output_type": "error",
     "traceback": [
      "\u001b[0;31m---------------------------------------------------------------------------\u001b[0m",
      "\u001b[0;31mNameError\u001b[0m                                 Traceback (most recent call last)",
      "Cell \u001b[0;32mIn[51], line 33\u001b[0m\n\u001b[1;32m     30\u001b[0m \t\t\u001b[38;5;28mprint\u001b[39m(\u001b[38;5;124m\"\u001b[39m\u001b[38;5;124mInput correct quadratic equation\u001b[39m\u001b[38;5;124m\"\u001b[39m) \n\u001b[1;32m     32\u001b[0m \u001b[38;5;28;01melse\u001b[39;00m:\n\u001b[0;32m---> 33\u001b[0m \t\u001b[43mequationroots\u001b[49m\u001b[43m(\u001b[49m\u001b[43ma\u001b[49m\u001b[43m,\u001b[49m\u001b[43m \u001b[49m\u001b[43mb\u001b[49m\u001b[43m,\u001b[49m\u001b[43m \u001b[49m\u001b[43mc\u001b[49m\u001b[43m)\u001b[49m\n",
      "Cell \u001b[0;32mIn[51], line 5\u001b[0m, in \u001b[0;36mequationroots\u001b[0;34m(a, b, c)\u001b[0m\n\u001b[1;32m      1\u001b[0m \u001b[38;5;28;01mdef\u001b[39;00m \u001b[38;5;21mequationroots\u001b[39m( a, b, c): \n\u001b[1;32m      2\u001b[0m \n\u001b[1;32m      3\u001b[0m \t\u001b[38;5;66;03m# calculating discriminant using formula\u001b[39;00m\n\u001b[1;32m      4\u001b[0m \tdis \u001b[38;5;241m=\u001b[39m b \u001b[38;5;241m*\u001b[39m b \u001b[38;5;241m-\u001b[39m \u001b[38;5;241m4\u001b[39m \u001b[38;5;241m*\u001b[39m a \u001b[38;5;241m*\u001b[39m c \n\u001b[0;32m----> 5\u001b[0m \tsqrt_val \u001b[38;5;241m=\u001b[39m \u001b[43mmath\u001b[49m\u001b[38;5;241m.\u001b[39msqrt(\u001b[38;5;28mabs\u001b[39m(dis)) \n\u001b[1;32m      7\u001b[0m \t\u001b[38;5;66;03m# checking condition for discriminant\u001b[39;00m\n\u001b[1;32m      8\u001b[0m \t\u001b[38;5;28;01mif\u001b[39;00m dis \u001b[38;5;241m>\u001b[39m \u001b[38;5;241m0\u001b[39m: \n",
      "\u001b[0;31mNameError\u001b[0m: name 'math' is not defined"
     ]
    }
   ],
   "source": [
    "def equationroots( a, b, c): \n",
    "\n",
    "\t# calculating discriminant using formula\n",
    "\tdis = b * b - 4 * a * c \n",
    "\tsqrt_val = math.sqrt(abs(dis)) \n",
    "\t\n",
    "\t# checking condition for discriminant\n",
    "\tif dis > 0: \n",
    "\t\tprint(\"real and different roots\") \n",
    "\t\tprint((-b + sqrt_val)/(2 * a)) \n",
    "\t\tprint((-b - sqrt_val)/(2 * a)) \n",
    "\t\n",
    "\telif dis == 0: \n",
    "\t\tprint(\"real and same roots\") \n",
    "\t\tprint(-b / (2 * a)) \n",
    "\t\n",
    "\t# when discriminant is less than 0\n",
    "\telse:\n",
    "\t\tprint(\"Complex Roots\") \n",
    "\t\tprint(- b / (2 * a), + i, sqrt_val) \n",
    "\t\tprint(- b / (2 * a), - i, sqrt_val) \n",
    "\n",
    "# Driver Program \n",
    "a = 1\n",
    "b = 10\n",
    "c = -24\n",
    "\n",
    "# If a is 0, then incorrect equation\n",
    "if a == 0: \n",
    "\t\tprint(\"Input correct quadratic equation\") \n",
    "\n",
    "else:\n",
    "\tequationroots(a, b, c)\n"
   ]
  },
  {
   "cell_type": "markdown",
   "id": "036b04a3-b2a3-4158-a28f-244c5e02e67e",
   "metadata": {},
   "source": [
    "12. Create a program that determines the day of the week based on the day number (1-7). print(\"the day of week: \")\n"
   ]
  },
  {
   "cell_type": "code",
   "execution_count": 52,
   "id": "c4f20ea5-2c2d-4ace-9b95-ff7cdb1418fe",
   "metadata": {},
   "outputs": [
    {
     "name": "stdin",
     "output_type": "stream",
     "text": [
      "l:  6\n"
     ]
    },
    {
     "name": "stdout",
     "output_type": "stream",
     "text": [
      "its saturday\n"
     ]
    }
   ],
   "source": [
    "l = int(input(\"l: \"))\n",
    "\n",
    "if l == 1:\n",
    "    print(\"its monday\")\n",
    "elif l == 2:\n",
    "    print(\"its tuesday\")\n",
    "elif l == 3:\n",
    "    print(\"its wednesday\")\n",
    "elif l == 4:\n",
    "    print(\"its thirsday\")\n",
    "elif l == 5:\n",
    "    print(\"its friday\")\n",
    "elif l ==6:\n",
    "    print(\"its saturday\")\n",
    "else:\n",
    "    print(\"its sunday\")\n"
   ]
  },
  {
   "cell_type": "markdown",
   "id": "896bb3c6-5df4-47c2-a34b-f198533b3256",
   "metadata": {},
   "source": [
    "13.Develop a program to categorize a given person's BMI into underweight, normal, overweight, or obese using  elif statements. \n"
   ]
  },
  {
   "cell_type": "code",
   "execution_count": 54,
   "id": "a76e3ecd-db57-466f-8fe6-cb1b925ddf92",
   "metadata": {},
   "outputs": [
    {
     "name": "stdin",
     "output_type": "stream",
     "text": [
      " 70\n"
     ]
    },
    {
     "name": "stdout",
     "output_type": "stream",
     "text": [
      "You are obese.\n"
     ]
    }
   ],
   "source": [
    "bmi=int(input())\n",
    "if bmi <= 18.5:\n",
    "    print(\"You are underweight.\")\n",
    "elif 18.5 < bmi <= 24.9:\n",
    "    print(\"Your weight is normal.\")\n",
    "elif 25 < bmi <= 29.29:\n",
    "    print(\"You are overweight.\")\n",
    "else:\n",
    "    print(\"You are obese.\")\n"
   ]
  },
  {
   "cell_type": "markdown",
   "id": "ac550a24-2138-4133-9980-32e5096d054d",
   "metadata": {},
   "source": [
    " 14. Write a program to find the largest among three numbers without using the `max()` function\n"
   ]
  },
  {
   "cell_type": "code",
   "execution_count": 55,
   "id": "5ff42979-1007-4a9d-b685-45c28f6a63a0",
   "metadata": {},
   "outputs": [
    {
     "name": "stdout",
     "output_type": "stream",
     "text": [
      "The largest number is 14\n"
     ]
    }
   ],
   "source": [
    "num1 = 10\n",
    "num2 = 14\n",
    "num3 = 12\n",
    "\n",
    "# uncomment following lines to take three numbers from user\n",
    "#num1 = float(input(\"Enter first number: \"))\n",
    "#num2 = float(input(\"Enter second number: \"))\n",
    "#num3 = float(input(\"Enter third number: \"))\n",
    "\n",
    "if (num1 >= num2) and (num1 >= num3):\n",
    "   largest = num1\n",
    "elif (num2 >= num1) and (num2 >= num3):\n",
    "   largest = num2\n",
    "else:\n",
    "   largest = num3\n",
    "\n",
    "print(\"The largest number is\", largest)\n"
   ]
  },
  {
   "cell_type": "markdown",
   "id": "09e1ef97-2793-4e22-86f6-6b0794dbd31a",
   "metadata": {},
   "source": [
    "15. Create a program that simulates a basic ATM transaction menu. \n"
   ]
  },
  {
   "cell_type": "code",
   "execution_count": 75,
   "id": "a507f64a-f58a-4650-aa05-68f26b13435c",
   "metadata": {},
   "outputs": [
    {
     "ename": "IndentationError",
     "evalue": "unindent does not match any outer indentation level (<tokenize>, line 20)",
     "output_type": "error",
     "traceback": [
      "\u001b[0;36m  File \u001b[0;32m<tokenize>:20\u001b[0;36m\u001b[0m\n\u001b[0;31m    break\u001b[0m\n\u001b[0m    ^\u001b[0m\n\u001b[0;31mIndentationError\u001b[0m\u001b[0;31m:\u001b[0m unindent does not match any outer indentation level\n"
     ]
    }
   ],
   "source": [
    "print('Welcome to Northen Frock Bank ATM')\n",
    "restart=('Y')\n",
    "chances = 3\n",
    "balance = 67.14\n",
    "while chances >= 0:\n",
    "    pin = int(input('Please Enter You 4 Digit Pin: '))\n",
    "    if pin == (1234):\n",
    "        print('You entered you pin Correctly\\n')\n",
    "        while restart not in ('n','NO','no','N'):\n",
    "            print('Please Press 1 For Your Balance\\n')\n",
    "            print('Please Press 2 To Make a Withdrawl\\n')\n",
    "            print('Please Press 3 To Pay in\\n')\n",
    "            print('Please Press 4 To Return Card\\n')\n",
    "            option = int(input('What Would you like to choose?'))\n",
    "            if option == 1:\n",
    "                print('Your Balance is Â£',balance,'\\n')\n",
    "                restart = input('Would You you like to go back? ')\n",
    "                if restart in ('n','NO','no','N'):                                                                                                                                                                                                                                                                                 \n",
    "                      print('Thank You')\n",
    "                    break\n",
    "            elif option == 2:\n",
    "                option2 = ('y')\n",
    "                withdrawl = float(input('How Much Would you like to      \n",
    "withdraw? \\nÂ£10/Â£20/Â£40/Â£60/Â£80/Â£100 for other enter 1: '))\n",
    "                if withdrawl in [10, 20, 40, 60, 80, 100]:\n",
    "                    balance = balance - withdrawl\n",
    "                    print ('\\nYour Balance is now Â£',balance)\n",
    "                    restart = input('Would You you like to go back? ')\n",
    "                    if restart in ('n','NO','no','N'):\n",
    "                        print('Thank You')\n",
    "                        break\n",
    "                elif withdrawl != [10, 20, 40, 60, 80, 100]:\n",
    "                    print('Invalid Amount, Please Re-try\\n')\n",
    "                    restart = ('y')\n",
    "                elif withdrawl == 1:\n",
    "                    withdrawl = float(input('Please Enter Desired amount:'))    \n",
    "\n",
    "            elif option == 3:\n",
    "                Pay_in = float(input('How Much Would You Like To Pay In? '))\n",
    "                balance = balance + Pay_in\n",
    "                print ('\\nYour Balance is now Â£',balance)\n",
    "                restart = input('Would You you like to go back? ')\n",
    "                                        if restart in ('n','NO','no','N'):\n",
    "                    print('Thank You')\n",
    "                    break\n",
    "            elif option == 4:\n",
    "                print('Please wait whilst your card is Returned...\\n')\n",
    "                print('Thank you for you service')\n",
    "                break\n",
    "            else:\n",
    "                print('Please Enter a correct number. \\n')\n",
    "                restart = ('y')\n",
    "    elif pin != ('1234'):\n",
    "        print('Incorrect Password')\n",
    "        chances = chances - 1\n",
    "        if chances == 0:\n",
    "            print('\\nNo more tries')\n",
    "break"
   ]
  },
  {
   "cell_type": "markdown",
   "id": "3b49e472-3878-4e5f-a953-b6f5a2c7bb9f",
   "metadata": {},
   "source": [
    "16. Build a program that checks if a given string is a palindrome or not.\n"
   ]
  },
  {
   "cell_type": "code",
   "execution_count": 76,
   "id": "d6326968-3ec5-4a47-b4cd-4ffc4d5fc2d6",
   "metadata": {},
   "outputs": [
    {
     "name": "stdout",
     "output_type": "stream",
     "text": [
      "Yes\n"
     ]
    }
   ],
   "source": [
    "def isPalindrome(s):\n",
    "\treturn s == s[::-1]\n",
    "\n",
    "\n",
    "\n",
    "s = \"malayalam\"\n",
    "ans = isPalindrome(s)\n",
    "\n",
    "if ans:\n",
    "\tprint(\"Yes\")\n",
    "else:\n",
    "\tprint(\"No\")\n"
   ]
  },
  {
   "cell_type": "markdown",
   "id": "52835e5d-83ec-4cb2-b910-8a182237a093",
   "metadata": {},
   "source": [
    "17. Write a program that calculates the average of a list of numbers, excluding the smallest and largest values.\n"
   ]
  },
  {
   "cell_type": "code",
   "execution_count": 77,
   "id": "2d660621-c260-4290-aae9-c504365e4c06",
   "metadata": {},
   "outputs": [
    {
     "name": "stdin",
     "output_type": "stream",
     "text": [
      "Enter the number of elements to be inserted:  5\n",
      "Enter element:  3\n",
      "Enter element:  4\n",
      "Enter element:  5\n",
      "Enter element:  67\n",
      "Enter element:  7\n"
     ]
    },
    {
     "name": "stdout",
     "output_type": "stream",
     "text": [
      "Average of elements in the list 17.2\n"
     ]
    }
   ],
   "source": [
    "n=int(input(\"Enter the number of elements to be inserted: \"))\n",
    "a=[]\n",
    "for i in range(0,n):\n",
    "    elem=int(input(\"Enter element: \"))\n",
    "    a.append(elem)\n",
    "avg=sum(a)/n\n",
    "print(\"Average of elements in the list\",round(avg,2))"
   ]
  },
  {
   "cell_type": "markdown",
   "id": "99bac904-f2c5-4db6-ae6a-85ced30807dd",
   "metadata": {},
   "source": [
    "18. Develop a program that converts a given temperature from Celsius to Fahrenheit.\n"
   ]
  },
  {
   "cell_type": "code",
   "execution_count": 78,
   "id": "4688f0a3-8c86-4119-a3bc-c91003da0605",
   "metadata": {},
   "outputs": [
    {
     "name": "stdout",
     "output_type": "stream",
     "text": [
      "37.5 degree Celsius is equal to 99.5 degree Fahrenheit\n"
     ]
    }
   ],
   "source": [
    "# Python Program to convert temperature in celsius to fahrenheit\n",
    "\n",
    "# change this value for a different result\n",
    "celsius = 37.5\n",
    "\n",
    "# calculate fahrenheit\n",
    "fahrenheit = (celsius * 1.8) + 32\n",
    "print('%0.1f degree Celsius is equal to %0.1f degree Fahrenheit' %(celsius,fahrenheit))\n"
   ]
  },
  {
   "cell_type": "markdown",
   "id": "d065c31a-439d-46a3-bbfa-e1f12a662aeb",
   "metadata": {},
   "source": [
    "19. Create a program that simulates a basic calculator for addition, subtraction, multiplication, and division\n"
   ]
  },
  {
   "cell_type": "code",
   "execution_count": 79,
   "id": "cc52cd29-5228-4cf3-877e-1156f9376616",
   "metadata": {},
   "outputs": [
    {
     "name": "stdout",
     "output_type": "stream",
     "text": [
      "Please select operation -\n",
      "1. Add\n",
      "2. Subtract\n",
      "3. Multiply\n",
      "4. Divide\n",
      "\n"
     ]
    },
    {
     "name": "stdin",
     "output_type": "stream",
     "text": [
      "Select operations form 1, 2, 3, 4 : 3\n",
      "Enter first number:  34\n",
      "Enter second number:  45\n"
     ]
    },
    {
     "name": "stdout",
     "output_type": "stream",
     "text": [
      "34 * 45 = 1530\n"
     ]
    }
   ],
   "source": [
    "def add(num1, num2):\n",
    "\treturn num1 + num2\n",
    "\n",
    "# Function to subtract two numbers\n",
    "def subtract(num1, num2):\n",
    "\treturn num1 - num2\n",
    "\n",
    "# Function to multiply two numbers\n",
    "def multiply(num1, num2):\n",
    "\treturn num1 * num2\n",
    "\n",
    "# Function to divide two numbers\n",
    "def divide(num1, num2):\n",
    "\treturn num1 / num2\n",
    "\n",
    "print(\"Please select operation -\\n\" \\\n",
    "\t\t\"1. Add\\n\" \\\n",
    "\t\t\"2. Subtract\\n\" \\\n",
    "\t\t\"3. Multiply\\n\" \\\n",
    "\t\t\"4. Divide\\n\")\n",
    "\n",
    "\n",
    "# Take input from the user\n",
    "select = int(input(\"Select operations form 1, 2, 3, 4 :\"))\n",
    "\n",
    "number_1 = int(input(\"Enter first number: \"))\n",
    "number_2 = int(input(\"Enter second number: \"))\n",
    "\n",
    "if select == 1:\n",
    "\tprint(number_1, \"+\", number_2, \"=\",\n",
    "\t\t\t\t\tadd(number_1, number_2))\n",
    "\n",
    "elif select == 2:\n",
    "\tprint(number_1, \"-\", number_2, \"=\",\n",
    "\t\t\t\t\tsubtract(number_1, number_2))\n",
    "\n",
    "elif select == 3:\n",
    "\tprint(number_1, \"*\", number_2, \"=\",\n",
    "\t\t\t\t\tmultiply(number_1, number_2))\n",
    "\n",
    "elif select == 4:\n",
    "\tprint(number_1, \"/\", number_2, \"=\",\n",
    "\t\t\t\t\tdivide(number_1, number_2))\n",
    "else:\n",
    "\tprint(\"Invalid input\")\n",
    "\n"
   ]
  },
  {
   "cell_type": "markdown",
   "id": "0fcaf769-c700-40a8-a14e-40b6618936a1",
   "metadata": {},
   "source": [
    " 20. Write a program that determines the roots of a cubic equation using the Cardano formula.  \n"
   ]
  },
  {
   "cell_type": "code",
   "execution_count": 80,
   "id": "7f64be7e-68f4-495f-b5a3-01882ff01ce5",
   "metadata": {},
   "outputs": [
    {
     "ename": "NameError",
     "evalue": "name 'cmath' is not defined",
     "output_type": "error",
     "traceback": [
      "\u001b[0;31m---------------------------------------------------------------------------\u001b[0m",
      "\u001b[0;31mNameError\u001b[0m                                 Traceback (most recent call last)",
      "Cell \u001b[0;32mIn[80], line 9\u001b[0m\n\u001b[1;32m      6\u001b[0m d \u001b[38;5;241m=\u001b[39m (b\u001b[38;5;241m*\u001b[39m\u001b[38;5;241m*\u001b[39m\u001b[38;5;241m2\u001b[39m) \u001b[38;5;241m-\u001b[39m (\u001b[38;5;241m4\u001b[39m\u001b[38;5;241m*\u001b[39ma\u001b[38;5;241m*\u001b[39mc)\n\u001b[1;32m      8\u001b[0m \u001b[38;5;66;03m# find two solutions\u001b[39;00m\n\u001b[0;32m----> 9\u001b[0m sol1 \u001b[38;5;241m=\u001b[39m (\u001b[38;5;241m-\u001b[39mb\u001b[38;5;241m-\u001b[39m\u001b[43mcmath\u001b[49m\u001b[38;5;241m.\u001b[39msqrt(d))\u001b[38;5;241m/\u001b[39m(\u001b[38;5;241m2\u001b[39m\u001b[38;5;241m*\u001b[39ma)\n\u001b[1;32m     10\u001b[0m sol2 \u001b[38;5;241m=\u001b[39m (\u001b[38;5;241m-\u001b[39mb\u001b[38;5;241m+\u001b[39mcmath\u001b[38;5;241m.\u001b[39msqrt(d))\u001b[38;5;241m/\u001b[39m(\u001b[38;5;241m2\u001b[39m\u001b[38;5;241m*\u001b[39ma)\n\u001b[1;32m     12\u001b[0m \u001b[38;5;28mprint\u001b[39m(\u001b[38;5;124m'\u001b[39m\u001b[38;5;124mThe solution are \u001b[39m\u001b[38;5;132;01m{0}\u001b[39;00m\u001b[38;5;124m and \u001b[39m\u001b[38;5;132;01m{1}\u001b[39;00m\u001b[38;5;124m'\u001b[39m\u001b[38;5;241m.\u001b[39mformat(sol1,sol2))\n",
      "\u001b[0;31mNameError\u001b[0m: name 'cmath' is not defined"
     ]
    }
   ],
   "source": [
    "a = 1\n",
    "b = 5\n",
    "c = 6\n",
    "\n",
    "# calculate the discriminant\n",
    "d = (b**2) - (4*a*c)\n",
    "\n",
    "# find two solutions\n",
    "sol1 = (-b-cmath.sqrt(d))/(2*a)\n",
    "sol2 = (-b+cmath.sqrt(d))/(2*a)\n",
    "\n",
    "print('The solution are {0} and {1}'.format(sol1,sol2))\n"
   ]
  },
  {
   "cell_type": "markdown",
   "id": "831b9ad1-b55d-4906-af2a-f8f567de3b24",
   "metadata": {},
   "source": [
    "Advanced Level: \n"
   ]
  },
  {
   "cell_type": "markdown",
   "id": "2a029a37-0a0c-4c5e-99c0-ad674537f202",
   "metadata": {},
   "source": [
    "21. Create a program that calculates the income tax based on the user's income and tax brackets.\n"
   ]
  },
  {
   "cell_type": "code",
   "execution_count": 83,
   "id": "ba1f0310-a2b4-4a94-b129-fb3ca585c12f",
   "metadata": {},
   "outputs": [
    {
     "name": "stdin",
     "output_type": "stream",
     "text": [
      "What's your \u0007nnual income?\n",
      ">>>  60000\n"
     ]
    },
    {
     "name": "stdout",
     "output_type": "stream",
     "text": [
      "Total tax applicable at \\ ₹60000.0 is ₹0\n"
     ]
    }
   ],
   "source": [
    "def calculate(amount, percent): \n",
    "\treturn (amount * percent) / 100\n",
    "\n",
    "def calculate_income_tax(total_income: \n",
    "\t\t\t\t\t\tfloat) -> float: \n",
    "\n",
    "\tif total_income <= 250000: \n",
    "\t\treturn 0\n",
    "\telif total_income <= 500000: \n",
    "\t\treturn calculate(total_income -\n",
    "\t\t\t\t\t\t250000, 5) \n",
    "\telif total_income <= 750000: \n",
    "\t\treturn calculate(total_income -\n",
    "\t\t\t\t\t\t500000, 10) + 12500\n",
    "\telif total_income <= 1000000: \n",
    "\t\treturn calculate(total_income -\n",
    "\t\t\t\t\t\t750000, 15) + 37500\n",
    "\telif total_income <= 1250000: \n",
    "\t\treturn calculate(total_income -\n",
    "\t\t\t\t\t\t1000000, 20) + 75000\n",
    "\telif total_income <= 1500000: \n",
    "\t\treturn calculate(total_income -\n",
    "\t\t\t\t\t\t1250000, 25) + 125000\n",
    "\telse: \n",
    "\t\treturn calculate(total_income -\n",
    "\t\t\t\t\t\t1500000, 30) + 187500\n",
    "\n",
    "\n",
    "if __name__ == '__main__': \n",
    "\ttotal_income = float(input(\"What's your \\annual income?\\n>>> \")) \n",
    "\ttax = calculate_income_tax(total_income) \n",
    "\tprint(f\"Total tax applicable at \\ ₹{total_income} is ₹{tax}\") \n"
   ]
  },
  {
   "cell_type": "markdown",
   "id": "3d536a64-9f1c-42e9-85d7-b5471701a5b5",
   "metadata": {},
   "source": [
    "22. Write a program that simulates a rock-paper-scissors game against the computer\n"
   ]
  },
  {
   "cell_type": "code",
   "execution_count": 84,
   "id": "b74990f1-93b5-4ffe-82fe-d43dea68f940",
   "metadata": {},
   "outputs": [
    {
     "name": "stdin",
     "output_type": "stream",
     "text": [
      "Choose Rock, Paper, or Scissors:  rock\n"
     ]
    },
    {
     "ename": "NameError",
     "evalue": "name 'random' is not defined",
     "output_type": "error",
     "traceback": [
      "\u001b[0;31m---------------------------------------------------------------------------\u001b[0m",
      "\u001b[0;31mNameError\u001b[0m                                 Traceback (most recent call last)",
      "Cell \u001b[0;32mIn[84], line 7\u001b[0m\n\u001b[1;32m      1\u001b[0m options \u001b[38;5;241m=\u001b[39m [\u001b[38;5;124m\"\u001b[39m\u001b[38;5;124mRock\u001b[39m\u001b[38;5;124m\"\u001b[39m, \u001b[38;5;124m\"\u001b[39m\u001b[38;5;124mPaper\u001b[39m\u001b[38;5;124m\"\u001b[39m, \u001b[38;5;124m\"\u001b[39m\u001b[38;5;124mScissors\u001b[39m\u001b[38;5;124m\"\u001b[39m]\n\u001b[1;32m      5\u001b[0m user_choice \u001b[38;5;241m=\u001b[39m \u001b[38;5;28minput\u001b[39m(\u001b[38;5;124m\"\u001b[39m\u001b[38;5;124mChoose Rock, Paper, or Scissors: \u001b[39m\u001b[38;5;124m\"\u001b[39m)\n\u001b[0;32m----> 7\u001b[0m computer_choice \u001b[38;5;241m=\u001b[39m \u001b[43mrandom\u001b[49m\u001b[38;5;241m.\u001b[39mchoice(options)\n\u001b[1;32m     11\u001b[0m \u001b[38;5;28mprint\u001b[39m(\u001b[38;5;124m\"\u001b[39m\u001b[38;5;124mYou chose: \u001b[39m\u001b[38;5;124m\"\u001b[39m, user_choice)\n\u001b[1;32m     13\u001b[0m \u001b[38;5;28mprint\u001b[39m(\u001b[38;5;124m\"\u001b[39m\u001b[38;5;124mComputer chose: \u001b[39m\u001b[38;5;124m\"\u001b[39m, computer_choice)\n",
      "\u001b[0;31mNameError\u001b[0m: name 'random' is not defined"
     ]
    }
   ],
   "source": [
    "options = [\"Rock\", \"Paper\", \"Scissors\"]\n",
    "\n",
    " \n",
    "\n",
    "user_choice = input(\"Choose Rock, Paper, or Scissors: \")\n",
    "\n",
    "computer_choice = random.choice(options)\n",
    "\n",
    " \n",
    "\n",
    "print(\"You chose: \", user_choice)\n",
    "\n",
    "print(\"Computer chose: \", computer_choice)\n",
    "\n",
    " \n",
    "\n",
    "if user_choice == computer_choice:\n",
    "\n",
    "    print(\"It's a tie!\")\n",
    "\n",
    "elif user_choice == \"Rock\" and computer_choice == \"Scissors\":\n",
    "\n",
    "    print(\"You win!\")\n",
    "\n",
    "elif user_choice == \"Paper\" and computer_choice == \"Rock\":\n",
    "\n",
    "    print(\"You win!\")\n",
    "\n",
    "elif user_choice == \"Scissors\" and computer_choice == \"Paper\":\n",
    "\n",
    "    print(\"You win!\")\n",
    "\n",
    "else:\n",
    "\n",
    "    print(\"Computer wins!\")\n"
   ]
  },
  {
   "cell_type": "markdown",
   "id": "d6a1f573-1d26-4bc5-8d03-ba86f0899ced",
   "metadata": {},
   "source": [
    "23. Develop a program that generates a random password based on user preferences (length, complexity)\n"
   ]
  },
  {
   "cell_type": "code",
   "execution_count": 88,
   "id": "bf815ec2-5ffb-4523-b144-a84660b1605f",
   "metadata": {},
   "outputs": [
    {
     "name": "stdin",
     "output_type": "stream",
     "text": [
      "Enter password length:  1\n"
     ]
    },
    {
     "name": "stdout",
     "output_type": "stream",
     "text": [
      "Choose character set for password from these : \n",
      "\t\t1. Digits\n",
      "\t\t2. Letters\n",
      "\t\t3. Special characters\n",
      "\t\t4. Exit\n"
     ]
    },
    {
     "name": "stdin",
     "output_type": "stream",
     "text": [
      "Pick a number  1\n",
      "Pick a number  4\n"
     ]
    },
    {
     "name": "stdout",
     "output_type": "stream",
     "text": [
      "The random password is Z\n"
     ]
    }
   ],
   "source": [
    "import string\n",
    "import random\n",
    "\n",
    "# Getting password length\n",
    "length = int(input(\"Enter password length: \"))\n",
    "\n",
    "print('''Choose character set for password from these : \n",
    "\t\t1. Digits\n",
    "\t\t2. Letters\n",
    "\t\t3. Special characters\n",
    "\t\t4. Exit''')\n",
    "\n",
    "characterList = \"\"\n",
    "\n",
    "# Getting character set for password\n",
    "while(True):\n",
    "\tchoice = int(input(\"Pick a number \"))\n",
    "\tif(choice == 1):\n",
    "\t\t\n",
    "\t\t# Adding letters to possible characters\n",
    "\t\tcharacterList += string.ascii_letters\n",
    "\telif(choice == 2):\n",
    "\t\t\n",
    "\t\t# Adding digits to possible characters\n",
    "\t\tcharacterList += string.digits\n",
    "\telif(choice == 3):\n",
    "\t\t\n",
    "\t\t# Adding special characters to possible\n",
    "\t\t# characters\n",
    "\t\tcharacterList += string.punctuation\n",
    "\telif(choice == 4):\n",
    "\t\tbreak\n",
    "\telse:\n",
    "\t\tprint(\"Please pick a valid option!\")\n",
    "\n",
    "password = []\n",
    "\n",
    "for i in range(length):\n",
    "\n",
    "\t# Picking a random character from our \n",
    "\t# character list\n",
    "\trandomchar = random.choice(characterList)\n",
    "\t\n",
    "\t# appending a random character to password\n",
    "\tpassword.append(randomchar)\n",
    "\n",
    "# printing password as a string\n",
    "print(\"The random password is \" + \"\".join(password))\n"
   ]
  },
  {
   "cell_type": "markdown",
   "id": "9ea94b12-944e-4030-9af7-3ba37b720645",
   "metadata": {},
   "source": [
    "24. Create a program that implements a simple text-based adventure game with branching scenarios.\n"
   ]
  },
  {
   "cell_type": "code",
   "execution_count": 89,
   "id": "51fd8d24-dbdb-4023-ad10-de16b69998b6",
   "metadata": {},
   "outputs": [],
   "source": [
    "def strangeCreature():\n",
    "  actions = [\"fight\", \"flee\"]\n",
    "  global weapon\n",
    "  print(\"A strange goul-like creature has appeared. You can either run or fight it. What would you like to do?\")\n",
    "  userInput = \"\"\n",
    "  while userInput not in actions:\n",
    "    print(\"Options: flee/fight\")\n",
    "    userInput = input()\n",
    "    if userInput == \"fight\":\n",
    "      if weapon:\n",
    "        print(\"You kill the goul with the knife you found earlier. After moving forward, you find one of the exits. Congrats!\")\n",
    "      else:\n",
    "        print(\"The goul-like creature has killed you.\")\n",
    "      quit()\n",
    "    elif userInput == \"flee\":\n",
    "      showSkeletons()\n",
    "    else:\n",
    "      print(\"Please enter a valid option for the adventure game.\")"
   ]
  },
  {
   "cell_type": "markdown",
   "id": "40dc7526-a3ec-4e66-8800-d9eadec67a84",
   "metadata": {},
   "source": [
    "25. Build a program that solves a linear equation  for x, considering different cases. \n"
   ]
  },
  {
   "cell_type": "code",
   "execution_count": 90,
   "id": "5c37afac-612b-4980-b645-0699333fa775",
   "metadata": {},
   "outputs": [
    {
     "name": "stdout",
     "output_type": "stream",
     "text": [
      "Equation 1:\n",
      "Eq(x + y, 1)\n",
      "Equation 2\n",
      "Eq(x - y, 1)\n",
      "Values of 2 unknown variable are as follows:\n",
      "{x: 1, y: 0}\n"
     ]
    }
   ],
   "source": [
    "# importing library sympy \n",
    "from sympy import symbols, Eq, solve \n",
    "\n",
    "# defining symbols used in equations \n",
    "# or unknown variables \n",
    "x, y = symbols('x,y') \n",
    "\n",
    "# defining equations \n",
    "eq1 = Eq((x+y), 1) \n",
    "print(\"Equation 1:\") \n",
    "print(eq1) \n",
    "eq2 = Eq((x-y), 1) \n",
    "print(\"Equation 2\") \n",
    "print(eq2) \n",
    "\n",
    "# solving the equation \n",
    "print(\"Values of 2 unknown variable are as follows:\") \n",
    "\n",
    "print(solve((eq1, eq2), (x, y))) \n"
   ]
  },
  {
   "cell_type": "markdown",
   "id": "becf4016-26b1-42ac-b265-b7d56aaff94a",
   "metadata": {},
   "source": [
    "26. Write a program that simulates a basic quiz game with multiple-choice questions and scoring.\n"
   ]
  },
  {
   "cell_type": "code",
   "execution_count": 91,
   "id": "73dfe60a-4067-49ec-aed6-a6db70f4144a",
   "metadata": {},
   "outputs": [
    {
     "name": "stdout",
     "output_type": "stream",
     "text": [
      "Wellcome to quiz game !!\n",
      "NOTE: if your spelling is incorrect then it is considered as wrong answer\n"
     ]
    },
    {
     "name": "stdin",
     "output_type": "stream",
     "text": [
      "Do you want to play ?  yes\n",
      "\n",
      "1. what does CPU stand for?  centrl proccessing unit\n"
     ]
    },
    {
     "name": "stdout",
     "output_type": "stream",
     "text": [
      "Incorrect!\n",
      "current answer is --> central processing unit\n"
     ]
    },
    {
     "name": "stdin",
     "output_type": "stream",
     "text": [
      "\n",
      "2. what does GPU stand for?   graphics processing unit\n"
     ]
    },
    {
     "name": "stdout",
     "output_type": "stream",
     "text": [
      "Incorrect!\n",
      "current answer is --> graphics processing unit\n"
     ]
    },
    {
     "name": "stdin",
     "output_type": "stream",
     "text": [
      "\n",
      "3. what does RAM stand for?  random aceess memory\n"
     ]
    },
    {
     "name": "stdout",
     "output_type": "stream",
     "text": [
      "Incorrect!\n",
      "current answer is --> random access memory\n"
     ]
    },
    {
     "name": "stdin",
     "output_type": "stream",
     "text": [
      "\n",
      "4. what does PSU stand for?   Public Sector Undertaking\n"
     ]
    },
    {
     "name": "stdout",
     "output_type": "stream",
     "text": [
      "Incorrect!\n",
      "current answer is --> power supply unit\n"
     ]
    },
    {
     "name": "stdin",
     "output_type": "stream",
     "text": [
      "\n",
      "5. what does ROM stand for?  read only memory\n"
     ]
    },
    {
     "name": "stdout",
     "output_type": "stream",
     "text": [
      "correct! you got 1 point\n",
      "\n",
      "number of question is 5\n",
      "your score is 1\n",
      "20.0% questions are correct.\n"
     ]
    }
   ],
   "source": [
    "print(\"Wellcome to quiz game !!\")\n",
    "print('NOTE: if your spelling is incorrect then it is considered as wrong answer')\n",
    "score = 0\n",
    "question_no = 0\n",
    "playing = input('Do you want to play ? ').lower()\n",
    "if playing == 'yes':\n",
    "    question_no += 1\n",
    "    ques = input(f'\\n{question_no}. what does CPU stand for? ').lower()\n",
    "    if ques == 'central processing unit':\n",
    "        score +=1\n",
    "        print('correct! you got 1 point')\n",
    "        \n",
    "    else:\n",
    "        print('Incorrect!')\n",
    "        print(f'current answer is --> central processing unit')\n",
    "\n",
    "# ------1\n",
    "    question_no += 1\n",
    "    ques = input(f'\\n{question_no}. what does GPU stand for? ').lower()\n",
    "    \n",
    "    if ques == 'graphics processing unit':\n",
    "        score +=1\n",
    "        print('correct! you got 1 point')\n",
    "        \n",
    "    else:\n",
    "        print('Incorrect!')\n",
    "        print(f'current answer is --> graphics processing unit')\n",
    "\n",
    "# -----2\n",
    "    question_no += 1\n",
    "    ques = input(f'\\n{question_no}. what does RAM stand for? ').lower()\n",
    "    \n",
    "    if ques == 'random access memory':\n",
    "        score +=1\n",
    "        print('correct! you got 1 point')\n",
    "        \n",
    "    else:\n",
    "        print('Incorrect!')\n",
    "        print(f'current answer is --> random access memory')\n",
    "# -----3\n",
    "    question_no += 1\n",
    "    ques = input(f'\\n{question_no}. what does PSU stand for? ').lower()\n",
    "    \n",
    "    if ques == 'power supply unit':\n",
    "        score +=1\n",
    "        print('correct! you got 1 point')\n",
    "        \n",
    "    else:\n",
    "        print('Incorrect!')\n",
    "        print(f'current answer is --> power supply unit')\n",
    "\n",
    "\n",
    "# -----4\n",
    "    question_no += 1\n",
    "    ques = input(f'\\n{question_no}. what does ROM stand for? ').lower()\n",
    "    \n",
    "    if ques == 'read only memory':\n",
    "        score +=1\n",
    "        print('correct! you got 1 point')\n",
    "        \n",
    "    else:\n",
    "        print('Incorrect!')\n",
    "        print(f'current answer is --> read only memory')\n",
    "\n",
    "\n",
    "# ------5 \n",
    "\n",
    "else:\n",
    "    print('thankyou you are out of a game.')\n",
    "    quit()\n",
    "\n",
    "print(f'\\nnumber of question is {question_no}')\n",
    "print(f'your score is {score}')\n",
    "try:\n",
    "    percentage = (score *100)/question_no\n",
    "except ZeroDivisionError:\n",
    "    print('0% quetions are correct')\n",
    "\n",
    "print(f'{percentage}% questions are correct.')\n",
    "\n"
   ]
  },
  {
   "cell_type": "markdown",
   "id": "5050913a-791d-47e3-897d-04475d3ce0b8",
   "metadata": {},
   "source": [
    " 27. Develop a program that determines whether a given year is a prime number or not.\n"
   ]
  },
  {
   "cell_type": "code",
   "execution_count": 92,
   "id": "cf06b11b-03f1-4eb4-922e-6376e4ec0fb0",
   "metadata": {},
   "outputs": [
    {
     "name": "stdout",
     "output_type": "stream",
     "text": [
      "11 is a prime number\n"
     ]
    }
   ],
   "source": [
    "num = 11\n",
    "# If given number is greater than 1\n",
    "if num > 1:\n",
    "\t# Iterate from 2 to n / 2\n",
    "\tfor i in range(2, int(num/2)+1):\n",
    "\t\t# If num is divisible by any number between\n",
    "\t\t# 2 and n / 2, it is not prime\n",
    "\t\tif (num % i) == 0:\n",
    "\t\t\tprint(num, \"is not a prime number\")\n",
    "\t\t\tbreak\n",
    "\telse:\n",
    "\t\tprint(num, \"is a prime number\")\n",
    "else:\n",
    "\tprint(num, \"is not a prime number\")\n"
   ]
  },
  {
   "cell_type": "markdown",
   "id": "b39ebf64-ce18-457b-9452-c7ac49ccf627",
   "metadata": {},
   "source": [
    " 28. Create a program that sorts three numbers in ascending order using conditional statements.\n"
   ]
  },
  {
   "cell_type": "code",
   "execution_count": 93,
   "id": "03b0f908-6d72-42d2-ad78-5328c41bfd1a",
   "metadata": {},
   "outputs": [
    {
     "name": "stdin",
     "output_type": "stream",
     "text": [
      "Enter a:  10\n",
      "Enter b:  20\n",
      "Enter c:  30\n"
     ]
    },
    {
     "name": "stdout",
     "output_type": "stream",
     "text": [
      "10.0 < 20.0 < 30.0\n"
     ]
    }
   ],
   "source": [
    "a = float(input(\"Enter a: \"))\n",
    "b = float(input(\"Enter b: \"))\n",
    "c = float(input(\"Enter c: \"))\n",
    "if a < b:\n",
    "    if b < c:\n",
    "        print (a, \"<\", b, \"<\", c)\n",
    "    else:\n",
    "        if a < c:\n",
    "            print (a, \"<\", c, \"<\", b)\n",
    "        else:\n",
    "            print (c, \"<\", a, \"<\", b)\n",
    "else:\n",
    "    if c < b:\n",
    "        print (c, \"<\", b, \"<\", a)\n",
    "    else:\n",
    "        if c < a:\n",
    "            print (b, \"<\", c, \"<\", a)\n",
    "        else:\n",
    "            print (b, \"<\", a, \"<\", c)\n"
   ]
  },
  {
   "cell_type": "markdown",
   "id": "f2b27eed-7e62-4a90-bbb3-671454da7147",
   "metadata": {},
   "source": [
    " 29. Build a program that determines the roots of a quartic equation using numerical methods.\n"
   ]
  },
  {
   "cell_type": "code",
   "execution_count": 94,
   "id": "b49d1337-5ccc-4541-ad81-e30c258dbc0a",
   "metadata": {},
   "outputs": [
    {
     "ename": "NameError",
     "evalue": "name 'math' is not defined",
     "output_type": "error",
     "traceback": [
      "\u001b[0;31m---------------------------------------------------------------------------\u001b[0m",
      "\u001b[0;31mNameError\u001b[0m                                 Traceback (most recent call last)",
      "Cell \u001b[0;32mIn[94], line 33\u001b[0m\n\u001b[1;32m     30\u001b[0m \t\t\u001b[38;5;28mprint\u001b[39m(\u001b[38;5;124m\"\u001b[39m\u001b[38;5;124mInput correct quadratic equation\u001b[39m\u001b[38;5;124m\"\u001b[39m) \n\u001b[1;32m     32\u001b[0m \u001b[38;5;28;01melse\u001b[39;00m:\n\u001b[0;32m---> 33\u001b[0m \t\u001b[43mequationroots\u001b[49m\u001b[43m(\u001b[49m\u001b[43ma\u001b[49m\u001b[43m,\u001b[49m\u001b[43m \u001b[49m\u001b[43mb\u001b[49m\u001b[43m,\u001b[49m\u001b[43m \u001b[49m\u001b[43mc\u001b[49m\u001b[43m)\u001b[49m\n",
      "Cell \u001b[0;32mIn[94], line 5\u001b[0m, in \u001b[0;36mequationroots\u001b[0;34m(a, b, c)\u001b[0m\n\u001b[1;32m      1\u001b[0m \u001b[38;5;28;01mdef\u001b[39;00m \u001b[38;5;21mequationroots\u001b[39m( a, b, c): \n\u001b[1;32m      2\u001b[0m \n\u001b[1;32m      3\u001b[0m \t\u001b[38;5;66;03m# calculating discriminant using formula\u001b[39;00m\n\u001b[1;32m      4\u001b[0m \tdis \u001b[38;5;241m=\u001b[39m b \u001b[38;5;241m*\u001b[39m b \u001b[38;5;241m-\u001b[39m \u001b[38;5;241m4\u001b[39m \u001b[38;5;241m*\u001b[39m a \u001b[38;5;241m*\u001b[39m c \n\u001b[0;32m----> 5\u001b[0m \tsqrt_val \u001b[38;5;241m=\u001b[39m \u001b[43mmath\u001b[49m\u001b[38;5;241m.\u001b[39msqrt(\u001b[38;5;28mabs\u001b[39m(dis)) \n\u001b[1;32m      7\u001b[0m \t\u001b[38;5;66;03m# checking condition for discriminant\u001b[39;00m\n\u001b[1;32m      8\u001b[0m \t\u001b[38;5;28;01mif\u001b[39;00m dis \u001b[38;5;241m>\u001b[39m \u001b[38;5;241m0\u001b[39m: \n",
      "\u001b[0;31mNameError\u001b[0m: name 'math' is not defined"
     ]
    }
   ],
   "source": [
    "def equationroots( a, b, c): \n",
    "\n",
    "\t# calculating discriminant using formula\n",
    "\tdis = b * b - 4 * a * c \n",
    "\tsqrt_val = math.sqrt(abs(dis)) \n",
    "\t\n",
    "\t# checking condition for discriminant\n",
    "\tif dis > 0: \n",
    "\t\tprint(\"real and different roots\") \n",
    "\t\tprint((-b + sqrt_val)/(2 * a)) \n",
    "\t\tprint((-b - sqrt_val)/(2 * a)) \n",
    "\t\n",
    "\telif dis == 0: \n",
    "\t\tprint(\"real and same roots\") \n",
    "\t\tprint(-b / (2 * a)) \n",
    "\t\n",
    "\t# when discriminant is less than 0\n",
    "\telse:\n",
    "\t\tprint(\"Complex Roots\") \n",
    "\t\tprint(- b / (2 * a), + i, sqrt_val) \n",
    "\t\tprint(- b / (2 * a), - i, sqrt_val) \n",
    "\n",
    "# Driver Program \n",
    "a = 1\n",
    "b = 10\n",
    "c = -24\n",
    "\n",
    "# If a is 0, then incorrect equation\n",
    "if a == 0: \n",
    "\t\tprint(\"Input correct quadratic equation\") \n",
    "\n",
    "else:\n",
    "\tequationroots(a, b, c)\n",
    "\n"
   ]
  },
  {
   "cell_type": "markdown",
   "id": "9015ce56-a340-4850-9866-5286b2775e0f",
   "metadata": {},
   "source": [
    "30. Write a program that calculates the BMI (Body Mass Index) and provides health recommendations based  on the user's input. \n"
   ]
  },
  {
   "cell_type": "code",
   "execution_count": 95,
   "id": "1167429c-4985-4ea0-a668-5dc942310aab",
   "metadata": {},
   "outputs": [
    {
     "name": "stdin",
     "output_type": "stream",
     "text": [
      "Enter your height in meters:  23\n",
      "Enter your weight in kg:  56\n"
     ]
    },
    {
     "name": "stdout",
     "output_type": "stream",
     "text": [
      "Welcome to the BMI calculator.\n",
      "Your BMI is:  0.11\n",
      "You are underweight.\n"
     ]
    }
   ],
   "source": [
    " def bodymassindex(height, weight):\n",
    "    return round((weight / height**2),2)\n",
    "\n",
    "\n",
    "h = float(input(\"Enter your height in meters: \"))\n",
    "w = float(input(\"Enter your weight in kg: \"))\n",
    "\n",
    "\n",
    "print(\"Welcome to the BMI calculator.\")\n",
    "\n",
    "bmi = bodymassindex(h, w)\n",
    "print(\"Your BMI is: \", bmi)\n",
    "\n",
    "\n",
    "if bmi <= 18.5:\n",
    "    print(\"You are underweight.\")\n",
    "elif 18.5 < bmi <= 24.9:\n",
    "    print(\"Your weight is normal.\")\n",
    "elif 25 < bmi <= 29.29:\n",
    "    print(\"You are overweight.\")\n",
    "else:\n",
    "    print(\"You are obese.\")"
   ]
  },
  {
   "cell_type": "markdown",
   "id": "474ab47e-0939-466e-b582-5d1634accf34",
   "metadata": {},
   "source": [
    "Challenge Level: \n"
   ]
  },
  {
   "cell_type": "markdown",
   "id": "87a8249a-c32b-48c3-a967-eb6fc6d26872",
   "metadata": {},
   "source": [
    "31. Create a program that validates a password based on complexity rules (length, characters, etc.).\n"
   ]
  },
  {
   "cell_type": "code",
   "execution_count": 96,
   "id": "152d4d58-6215-4243-a1a3-6c79fd3864e0",
   "metadata": {},
   "outputs": [
    {
     "name": "stdout",
     "output_type": "stream",
     "text": [
      "Valid password\n"
     ]
    }
   ],
   "source": [
    "import re  \n",
    "  \n",
    "def validate_password(password):  \n",
    "    if len(password) < 8:  \n",
    "        return False  \n",
    "    if not re.search(\"[a-z]\", password):  \n",
    "        return False  \n",
    "    if not re.search(\"[A-Z]\", password):  \n",
    "        return False  \n",
    "    if not re.search(\"[0-9]\", password):  \n",
    "        return False  \n",
    "    return True  \n",
    "  \n",
    "password = \"P@ssw0rd\"  \n",
    "if validate_password(password):  \n",
    "    print(\"Valid password\")  \n",
    "else:  \n",
    "    print(\"Invalid password\")  \n"
   ]
  },
  {
   "cell_type": "markdown",
   "id": "60f0ad93-f30b-4661-9356-527a7aaec610",
   "metadata": {},
   "source": [
    "32. Develop a program that performs matrix addition and subtraction based on user input.\n"
   ]
  },
  {
   "cell_type": "markdown",
   "id": "0025e8b6-cefe-4e3e-8685-3a6ebf667b8c",
   "metadata": {},
   "source": [
    "33. Write a program that calculates the greatest common divisor (GCD) of two numbers using the Euclidean  algorithm. \n"
   ]
  },
  {
   "cell_type": "code",
   "execution_count": 97,
   "id": "847ad016-e2f0-44d4-ac2b-fb4f4f2f69db",
   "metadata": {},
   "outputs": [
    {
     "name": "stdout",
     "output_type": "stream",
     "text": [
      "The gcd of 60 and 48 is : 12\n"
     ]
    }
   ],
   "source": [
    "def hcf(a, b):\n",
    "\tif(b == 0):\n",
    "\t\treturn a\n",
    "\telse:\n",
    "\t\treturn hcf(b, a % b)\n",
    "\n",
    "a = 60\n",
    "b = 48\n",
    "\n",
    "# prints 12\n",
    "print(\"The gcd of 60 and 48 is : \", end=\"\")\n",
    "print(hcf(60, 48))\n"
   ]
  },
  {
   "cell_type": "markdown",
   "id": "05a12c3c-e64f-4fa7-b985-7550acec4b9c",
   "metadata": {},
   "source": [
    "34. Build a program that performs matrix multiplication using nested loops and conditional statements\n"
   ]
  },
  {
   "cell_type": "code",
   "execution_count": 98,
   "id": "813a0732-f92b-4062-ac85-078c883136e5",
   "metadata": {},
   "outputs": [
    {
     "name": "stdout",
     "output_type": "stream",
     "text": [
      "[[51, 54], [59, 46], [193, 176]]\n"
     ]
    }
   ],
   "source": [
    "# encoding the two matrices\n",
    "A = [[1,2,3],[5,3,1],[7,9,8]]\n",
    "B = [[3,4],[12,4],[8,14]]\n",
    " \n",
    "# retrieving the sizes/dimensions of the matrices\n",
    "p = len(A)\n",
    "q = len(A[0])\n",
    " \n",
    "t = len(B)\n",
    "r = len(B[0])\n",
    " \n",
    "if(q!=t):\n",
    "   print(\"Error! Matrix sizes are not compatible\")\n",
    "   quit()\n",
    " \n",
    "# creating the product matrix of dimensions p×r\n",
    "# and filling the matrix with 0 entries\n",
    "C = []\n",
    "for row in range(p):\n",
    "   curr_row = []\n",
    "   for col in range(r):\n",
    "       curr_row.append(0)\n",
    "   C.append(curr_row)\n",
    " \n",
    " \n",
    "# performing the matrix multiplication\n",
    "for i in range(p):\n",
    "   for j in range(r):\n",
    "       curr_val = 0\n",
    "       for k in range(q):\n",
    "           curr_val += A[i][k]*B[k][j]\n",
    "       C[i][j] = curr_val\n",
    " \n",
    "print(C)\n"
   ]
  },
  {
   "cell_type": "markdown",
   "id": "b575f5fd-fda0-4402-81e0-942ca572362b",
   "metadata": {},
   "source": [
    "35. Create a program that simulates a basic text-based tic-tac-toe game against the computer.\n"
   ]
  },
  {
   "cell_type": "code",
   "execution_count": 106,
   "id": "4f86ed05-c13a-4dc2-aba2-71b1b6775d24",
   "metadata": {},
   "outputs": [
    {
     "name": "stdout",
     "output_type": "stream",
     "text": [
      "Player O turn\n",
      "- - - \n",
      "- - - \n",
      "- - - \n"
     ]
    },
    {
     "name": "stdin",
     "output_type": "stream",
     "text": [
      "Enter row and column numbers to fix spot:  30,40\n"
     ]
    },
    {
     "ename": "ValueError",
     "evalue": "invalid literal for int() with base 10: '30,40'",
     "output_type": "error",
     "traceback": [
      "\u001b[0;31m---------------------------------------------------------------------------\u001b[0m",
      "\u001b[0;31mValueError\u001b[0m                                Traceback (most recent call last)",
      "Cell \u001b[0;32mIn[106], line 124\u001b[0m\n\u001b[1;32m    122\u001b[0m \u001b[38;5;66;03m# starting the game\u001b[39;00m\n\u001b[1;32m    123\u001b[0m tic_tac_toe \u001b[38;5;241m=\u001b[39m TicTacToe()\n\u001b[0;32m--> 124\u001b[0m \u001b[43mtic_tac_toe\u001b[49m\u001b[38;5;241;43m.\u001b[39;49m\u001b[43mstart\u001b[49m\u001b[43m(\u001b[49m\u001b[43m)\u001b[49m\n",
      "Cell \u001b[0;32mIn[106], line 97\u001b[0m, in \u001b[0;36mTicTacToe.start\u001b[0;34m(self)\u001b[0m\n\u001b[1;32m     94\u001b[0m \u001b[38;5;28mself\u001b[39m\u001b[38;5;241m.\u001b[39mshow_board()\n\u001b[1;32m     96\u001b[0m \u001b[38;5;66;03m# taking user input\u001b[39;00m\n\u001b[0;32m---> 97\u001b[0m row, col \u001b[38;5;241m=\u001b[39m \u001b[38;5;28;43mlist\u001b[39;49m\u001b[43m(\u001b[49m\n\u001b[1;32m     98\u001b[0m \u001b[43m    \u001b[49m\u001b[38;5;28;43mmap\u001b[39;49m\u001b[43m(\u001b[49m\u001b[38;5;28;43mint\u001b[39;49m\u001b[43m,\u001b[49m\u001b[43m \u001b[49m\u001b[38;5;28;43minput\u001b[39;49m\u001b[43m(\u001b[49m\u001b[38;5;124;43m\"\u001b[39;49m\u001b[38;5;124;43mEnter row and column numbers to fix spot: \u001b[39;49m\u001b[38;5;124;43m\"\u001b[39;49m\u001b[43m)\u001b[49m\u001b[38;5;241;43m.\u001b[39;49m\u001b[43msplit\u001b[49m\u001b[43m(\u001b[49m\u001b[43m)\u001b[49m\u001b[43m)\u001b[49m\u001b[43m)\u001b[49m\n\u001b[1;32m     99\u001b[0m \u001b[38;5;28mprint\u001b[39m()\n\u001b[1;32m    101\u001b[0m \u001b[38;5;66;03m# fixing the spot\u001b[39;00m\n",
      "\u001b[0;31mValueError\u001b[0m: invalid literal for int() with base 10: '30,40'"
     ]
    }
   ],
   "source": [
    "import random\n",
    "\n",
    "\n",
    "class TicTacToe:\n",
    "\n",
    "    def __init__(self):\n",
    "        self.board = []\n",
    "\n",
    "    def create_board(self):\n",
    "        for i in range(3):\n",
    "            row = []\n",
    "            for j in range(3):\n",
    "                row.append('-')\n",
    "            self.board.append(row)\n",
    "\n",
    "    def get_random_first_player(self):\n",
    "        return random.randint(0, 1)\n",
    "\n",
    "    def fix_spot(self, row, col, player):\n",
    "        self.board[row][col] = player\n",
    "\n",
    "    def is_player_win(self, player):\n",
    "        win = None\n",
    "\n",
    "        n = len(self.board)\n",
    "\n",
    "        # checking rows\n",
    "        for i in range(n):\n",
    "            win = True\n",
    "            for j in range(n):\n",
    "                if self.board[i][j] != player:\n",
    "                    win = False\n",
    "                    break\n",
    "            if win:\n",
    "                return win\n",
    "\n",
    "        # checking columns\n",
    "        for i in range(n):\n",
    "            win = True\n",
    "            for j in range(n):\n",
    "                if self.board[j][i] != player:\n",
    "                    win = False\n",
    "                    break\n",
    "            if win:\n",
    "                return win\n",
    "\n",
    "        # checking diagonals\n",
    "        win = True\n",
    "        for i in range(n):\n",
    "            if self.board[i][i] != player:\n",
    "                win = False\n",
    "                break\n",
    "        if win:\n",
    "            return win\n",
    "\n",
    "        win = True\n",
    "        for i in range(n):\n",
    "            if self.board[i][n - 1 - i] != player:\n",
    "                win = False\n",
    "                break\n",
    "        if win:\n",
    "            return win\n",
    "        return False\n",
    "\n",
    "        for row in self.board:\n",
    "            for item in row:\n",
    "                if item == '-':\n",
    "                    return False\n",
    "        return True\n",
    "\n",
    "    def is_board_filled(self):\n",
    "        for row in self.board:\n",
    "            for item in row:\n",
    "                if item == '-':\n",
    "                    return False\n",
    "        return True\n",
    "\n",
    "    def swap_player_turn(self, player):\n",
    "        return 'X' if player == 'O' else 'O'\n",
    "\n",
    "    def show_board(self):\n",
    "        for row in self.board:\n",
    "            for item in row:\n",
    "                print(item, end=\" \")\n",
    "            print()\n",
    "\n",
    "    def start(self):\n",
    "        self.create_board()\n",
    "\n",
    "        player = 'X' if self.get_random_first_player() == 1 else 'O'\n",
    "        while True:\n",
    "            print(f\"Player {player} turn\")\n",
    "\n",
    "            self.show_board()\n",
    "\n",
    "            # taking user input\n",
    "            row, col = list(\n",
    "                map(int, input(\"Enter row and column numbers to fix spot: \").split()))\n",
    "            print()\n",
    "\n",
    "            # fixing the spot\n",
    "            self.fix_spot(row - 1, col - 1, player)\n",
    "\n",
    "            # checking whether current player is won or not\n",
    "            if self.is_player_win(player):\n",
    "                print(f\"Player {player} wins the game!\")\n",
    "                break\n",
    "\n",
    "            # checking whether the game is draw or not\n",
    "            if self.is_board_filled():\n",
    "                print(\"Match Draw!\")\n",
    "                break\n",
    "\n",
    "            # swapping the turn\n",
    "            player = self.swap_player_turn(player)\n",
    "\n",
    "        # showing the final view of board\n",
    "        print()\n",
    "        self.show_board()\n",
    "\n",
    "\n",
    "# starting the game\n",
    "tic_tac_toe = TicTacToe()\n",
    "tic_tac_toe.start()\n"
   ]
  },
  {
   "cell_type": "markdown",
   "id": "a5a947e2-72a8-472e-92aa-6e1ea5b79153",
   "metadata": {},
   "source": [
    "36. Write a program that generates Fibonacci numbers up to a specified term using iterative methods.\n"
   ]
  },
  {
   "cell_type": "code",
   "execution_count": 107,
   "id": "dbae1e9c-f2aa-482c-924e-897588d672c6",
   "metadata": {},
   "outputs": [
    {
     "name": "stdout",
     "output_type": "stream",
     "text": [
      "Fibonacci Series - \n",
      "0 1 1 2 3 5 8 "
     ]
    }
   ],
   "source": [
    "def PrintFibonacci(length):\n",
    "    #Initial variable for the base case. \n",
    "    first = 0\n",
    "    second = 1\n",
    "\n",
    "    #Printing the initial Fibonacci number.\n",
    "    print(first, second, end=\" \")\n",
    "\n",
    "    #decreasing the length by two because the first 2 Fibonacci numbers \n",
    "    #already printed.\n",
    "    length -= 2\n",
    "    \n",
    "    #Loop until the length becomes 0.\n",
    "    while length > 0:\n",
    "\n",
    "        #Printing the next Fibonacci number.\n",
    "        print(first + second, end=\" \")\n",
    "\n",
    "        #Updating the first and second variables for finding the next number. \n",
    "        temp = second\n",
    "        second = first + second\n",
    "        first = temp\n",
    "\n",
    "        #Decreasing the length that states the Fibonacci numbers to be \n",
    "        #printed more.\n",
    "        length -= 1\n",
    "\n",
    "if __name__ == \"__main__\":\n",
    "    print(\"Fibonacci Series - \")\n",
    "    PrintFibonacci(7)\n"
   ]
  },
  {
   "cell_type": "markdown",
   "id": "f4d951de-4c6f-456b-bcb3-4f8233193895",
   "metadata": {},
   "source": [
    "37.Develop a program that calculates the nth term of the Fibonacci sequence using memoization. \n"
   ]
  },
  {
   "cell_type": "code",
   "execution_count": 108,
   "id": "c4049a9f-71e7-4c9d-8677-45a3bd089298",
   "metadata": {},
   "outputs": [
    {
     "name": "stdout",
     "output_type": "stream",
     "text": [
      "34\n"
     ]
    }
   ],
   "source": [
    "# Function for nth Fibonacci number\n",
    "\n",
    "def Fibonacci(n):\n",
    "\tif n<= 0:\n",
    "\t\tprint(\"Incorrect input\")\n",
    "\t# First Fibonacci number is 0\n",
    "\telif n == 1:\n",
    "\t\treturn 0\n",
    "\t# Second Fibonacci number is 1\n",
    "\telif n == 2:\n",
    "\t\treturn 1\n",
    "\telse:\n",
    "\t\treturn Fibonacci(n-1)+Fibonacci(n-2)\n",
    "\n",
    "# Driver Program\n",
    "\n",
    "print(Fibonacci(10))\n"
   ]
  },
  {
   "cell_type": "markdown",
   "id": "4d46cfc4-39f9-43b9-a306-91a98e15e302",
   "metadata": {},
   "source": [
    "38. Create a program that generates a calendar for a given month and year using conditional statements.\n"
   ]
  },
  {
   "cell_type": "code",
   "execution_count": 109,
   "id": "e086883c-131c-4ab4-9a4b-3736e10893b1",
   "metadata": {},
   "outputs": [
    {
     "ename": "NameError",
     "evalue": "name 'calendar' is not defined",
     "output_type": "error",
     "traceback": [
      "\u001b[0;31m---------------------------------------------------------------------------\u001b[0m",
      "\u001b[0;31mNameError\u001b[0m                                 Traceback (most recent call last)",
      "Cell \u001b[0;32mIn[109], line 5\u001b[0m\n\u001b[1;32m      2\u001b[0m mm \u001b[38;5;241m=\u001b[39m \u001b[38;5;241m4\u001b[39m\n\u001b[1;32m      4\u001b[0m \u001b[38;5;66;03m# display the calendar\u001b[39;00m\n\u001b[0;32m----> 5\u001b[0m \u001b[38;5;28mprint\u001b[39m(\u001b[43mcalendar\u001b[49m\u001b[38;5;241m.\u001b[39mmonth(yy, mm))\n",
      "\u001b[0;31mNameError\u001b[0m: name 'calendar' is not defined"
     ]
    }
   ],
   "source": [
    "yy = 2023\n",
    "mm = 4\n",
    "\n",
    "# display the calendar\n",
    "print(calendar.month(yy, mm))\n"
   ]
  },
  {
   "cell_type": "markdown",
   "id": "a45090b9-2e83-44fa-94dd-4c92b23cd505",
   "metadata": {},
   "source": [
    "39. Build a program that simulates a basic text-based blackjack game against the computer\n"
   ]
  },
  {
   "cell_type": "code",
   "execution_count": 110,
   "id": "41d44ce1-cfa1-4fba-a5ec-4b44f7fe2cfa",
   "metadata": {},
   "outputs": [
    {
     "name": "stdout",
     "output_type": "stream",
     "text": [
      "Cards Player Has: [('7', 'Clubs'), ('4', 'Spades')]\n",
      "Score Of The Player: 11\n",
      "\n",
      "\n"
     ]
    },
    {
     "name": "stdin",
     "output_type": "stream",
     "text": [
      "What do you want? [\"play\" to request another card, \"stop\" to stop]:  stop\n"
     ]
    },
    {
     "name": "stdout",
     "output_type": "stream",
     "text": [
      "Cards Dealer Has: [('Ace', 'Clubs'), ('Queen', 'Spades')]\n",
      "Score Of The Dealer: 21\n",
      "\n",
      "\n",
      "Cards Dealer Has: [('Ace', 'Clubs'), ('Queen', 'Spades')]\n",
      "Score Of The Dealer: 21\n",
      "Cards Player Has: [('7', 'Clubs'), ('4', 'Spades')]\n",
      "Score Of The Player: 11\n",
      "Dealer wins (Dealer Has High Score than Player)\n"
     ]
    }
   ],
   "source": [
    "import random \n",
    "\n",
    "card_categories = ['Hearts', 'Diamonds', 'Clubs', 'Spades'] \n",
    "cards_list = ['Ace', '2', '3', '4', '5', '6', '7', '8', '9', '10', 'Jack', 'Queen', 'King'] \n",
    "deck = [(card, category) for category in card_categories for card in cards_list] \n",
    "\n",
    "def card_value(card): \n",
    "\tif card[0] in ['Jack', 'Queen', 'King']: \n",
    "\t\treturn 10\n",
    "\telif card[0] == 'Ace': \n",
    "\t\treturn 11\n",
    "\telse: \n",
    "\t\treturn int(card[0]) \n",
    "\n",
    "random.shuffle(deck) \n",
    "player_card = [deck.pop(), deck.pop()] \n",
    "dealer_card = [deck.pop(), deck.pop()] \n",
    "\n",
    "while True: \n",
    "\tplayer_score = sum(card_value(card) for card in player_card) \n",
    "\tdealer_score = sum(card_value(card) for card in dealer_card) \n",
    "\tprint(\"Cards Player Has:\", player_card) \n",
    "\tprint(\"Score Of The Player:\", player_score) \n",
    "\tprint(\"\\n\") \n",
    "\tchoice = input('What do you want? [\"play\" to request another card, \"stop\" to stop]: ').lower() \n",
    "\tif choice == \"play\": \n",
    "\t\tnew_card = deck.pop() \n",
    "\t\tplayer_card.append(new_card) \n",
    "\telif choice == \"stop\": \n",
    "\t\tbreak\n",
    "\telse: \n",
    "\t\tprint(\"Invalid choice. Please try again.\") \n",
    "\t\tcontinue\n",
    "\n",
    "\tif player_score > 21: \n",
    "\t\tprint(\"Cards Dealer Has:\", dealer_card) \n",
    "\t\tprint(\"Score Of The Dealer:\", dealer_score) \n",
    "\t\tprint(\"Cards Player Has:\", player_card) \n",
    "\t\tprint(\"Score Of The Player:\", player_score) \n",
    "\t\tprint(\"Dealer wins (Player Loss Because Player Score is exceeding 21)\") \n",
    "\t\tbreak\n",
    "\n",
    "while dealer_score < 17: \n",
    "\tnew_card = deck.pop() \n",
    "\tdealer_card.append(new_card) \n",
    "\tdealer_score += card_value(new_card) \n",
    "\n",
    "print(\"Cards Dealer Has:\", dealer_card) \n",
    "print(\"Score Of The Dealer:\", dealer_score) \n",
    "print(\"\\n\") \n",
    "\n",
    "if dealer_score > 21: \n",
    "\tprint(\"Cards Dealer Has:\", dealer_card) \n",
    "\tprint(\"Score Of The Dealer:\", dealer_score) \n",
    "\tprint(\"Cards Player Has:\", player_card) \n",
    "\tprint(\"Score Of The Player:\", player_score) \n",
    "\tprint(\"Player wins (Dealer Loss Because Dealer Score is exceeding 21)\") \n",
    "elif player_score > dealer_score: \n",
    "\tprint(\"Cards Dealer Has:\", dealer_card) \n",
    "\tprint(\"Score Of The Dealer:\", dealer_score) \n",
    "\tprint(\"Cards Player Has:\", player_card) \n",
    "\tprint(\"Score Of The Player:\", player_score) \n",
    "\tprint(\"Player wins (Player Has High Score than Dealer)\") \n",
    "elif dealer_score > player_score: \n",
    "\tprint(\"Cards Dealer Has:\", dealer_card) \n",
    "\tprint(\"Score Of The Dealer:\", dealer_score) \n",
    "\tprint(\"Cards Player Has:\", player_card) \n",
    "\tprint(\"Score Of The Player:\", player_score) \n",
    "\tprint(\"Dealer wins (Dealer Has High Score than Player)\") \n",
    "else: \n",
    "\tprint(\"Cards Dealer Has:\", dealer_card) \n",
    "\tprint(\"Score Of The Dealer:\", dealer_score) \n",
    "\tprint(\"Cards Player Has:\", player_card) \n",
    "\tprint(\"Score Of The Player:\", player_score) \n",
    "\tprint(\"It's a tie.\")\n"
   ]
  },
  {
   "cell_type": "markdown",
   "id": "79ff5a3d-8fd8-4e78-99a1-c9a450512d36",
   "metadata": {},
   "source": [
    " 40. Write a program that generates the prime factors of a given number using trial division."
   ]
  },
  {
   "cell_type": "code",
   "execution_count": 111,
   "id": "e956d692-51f9-4865-b0cd-1c95d9ca1762",
   "metadata": {},
   "outputs": [
    {
     "ename": "NameError",
     "evalue": "name 'math' is not defined",
     "output_type": "error",
     "traceback": [
      "\u001b[0;31m---------------------------------------------------------------------------\u001b[0m",
      "\u001b[0;31mNameError\u001b[0m                                 Traceback (most recent call last)",
      "Cell \u001b[0;32mIn[111], line 25\u001b[0m\n\u001b[1;32m     22\u001b[0m \u001b[38;5;66;03m# Driver Program to test above function\u001b[39;00m\n\u001b[1;32m     24\u001b[0m n \u001b[38;5;241m=\u001b[39m \u001b[38;5;241m315\u001b[39m\n\u001b[0;32m---> 25\u001b[0m \u001b[43mprimeFactors\u001b[49m\u001b[43m(\u001b[49m\u001b[43mn\u001b[49m\u001b[43m)\u001b[49m\n",
      "Cell \u001b[0;32mIn[111], line 10\u001b[0m, in \u001b[0;36mprimeFactors\u001b[0;34m(n)\u001b[0m\n\u001b[1;32m      6\u001b[0m \tn \u001b[38;5;241m=\u001b[39m n \u001b[38;5;241m/\u001b[39m\u001b[38;5;241m/\u001b[39m \u001b[38;5;241m2\u001b[39m\n\u001b[1;32m      8\u001b[0m \u001b[38;5;66;03m# n must be odd at this point\u001b[39;00m\n\u001b[1;32m      9\u001b[0m \u001b[38;5;66;03m# so a skip of 2 ( i = i + 2) can be used\u001b[39;00m\n\u001b[0;32m---> 10\u001b[0m \u001b[38;5;28;01mfor\u001b[39;00m i \u001b[38;5;129;01min\u001b[39;00m \u001b[38;5;28mrange\u001b[39m(\u001b[38;5;241m3\u001b[39m,\u001b[38;5;28mint\u001b[39m(\u001b[43mmath\u001b[49m\u001b[38;5;241m.\u001b[39msqrt(n))\u001b[38;5;241m+\u001b[39m\u001b[38;5;241m1\u001b[39m,\u001b[38;5;241m2\u001b[39m):\n\u001b[1;32m     11\u001b[0m \t\n\u001b[1;32m     12\u001b[0m \t\u001b[38;5;66;03m# while i divides n , print i ad divide n\u001b[39;00m\n\u001b[1;32m     13\u001b[0m \t\u001b[38;5;28;01mwhile\u001b[39;00m n \u001b[38;5;241m%\u001b[39m i\u001b[38;5;241m==\u001b[39m \u001b[38;5;241m0\u001b[39m:\n\u001b[1;32m     14\u001b[0m \t\t\u001b[38;5;28mprint\u001b[39m(i)\n",
      "\u001b[0;31mNameError\u001b[0m: name 'math' is not defined"
     ]
    }
   ],
   "source": [
    "def primeFactors(n):\n",
    "\t\n",
    "\t# Print the number of two's that divide n\n",
    "\twhile n % 2 == 0:\n",
    "\t\tprint(2)\n",
    "\t\tn = n // 2\n",
    "\t\t\n",
    "\t# n must be odd at this point\n",
    "\t# so a skip of 2 ( i = i + 2) can be used\n",
    "\tfor i in range(3,int(math.sqrt(n))+1,2):\n",
    "\t\t\n",
    "\t\t# while i divides n , print i ad divide n\n",
    "\t\twhile n % i== 0:\n",
    "\t\t\tprint(i)\n",
    "\t\t\tn = n // i\n",
    "\t\t\t\n",
    "\t# Condition if n is a prime\n",
    "\t# number greater than 2\n",
    "\tif n > 2:\n",
    "\t\tprint(n)\n",
    "\t\t\n",
    "# Driver Program to test above function\n",
    "\n",
    "n = 315\n",
    "primeFactors(n)"
   ]
  },
  {
   "cell_type": "code",
   "execution_count": null,
   "id": "68d00230-32af-4ef5-9c70-113e0427d6c3",
   "metadata": {},
   "outputs": [],
   "source": []
  }
 ],
 "metadata": {
  "kernelspec": {
   "display_name": "Python 3 (ipykernel)",
   "language": "python",
   "name": "python3"
  },
  "language_info": {
   "codemirror_mode": {
    "name": "ipython",
    "version": 3
   },
   "file_extension": ".py",
   "mimetype": "text/x-python",
   "name": "python",
   "nbconvert_exporter": "python",
   "pygments_lexer": "ipython3",
   "version": "3.10.8"
  }
 },
 "nbformat": 4,
 "nbformat_minor": 5
}
