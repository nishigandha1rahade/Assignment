{
 "cells": [
  {
   "cell_type": "markdown",
   "id": "980a2022-8923-4c21-9d32-49e75781207c",
   "metadata": {},
   "source": [
    "1. Given an array, check if it contains any duplicates or not.\n",
    "arr = [1, 2, 4, 2, 5, 9]\n",
    "Output = True\n"
   ]
  },
  {
   "cell_type": "code",
   "execution_count": 2,
   "id": "eca7e5aa-c1c5-4233-a33d-93738b36c59e",
   "metadata": {},
   "outputs": [
    {
     "name": "stdout",
     "output_type": "stream",
     "text": [
      "False\n"
     ]
    }
   ],
   "source": [
    "arr = [1, 2, 4, 2, 5, 9]\n",
    "def checkDuplicatesWithinK(arr, n, k):\n",
    "\n",
    "\t# traversing the input array\n",
    "\tfor i in range(n):\n",
    "\t\tj = i + 1\n",
    "\trange_ = k\n",
    "\t\t\n",
    "\t\t# searching in next k-1 elements if its duplicate\n",
    "\t\t# is present or not\n",
    "\twhile (range_ > 0 and j < n):\n",
    "\t\t\tif (arr[i] == arr[j]):\n",
    "\t\t\t\treturn True\n",
    "\t\t\tj += 1\n",
    "\t\t\trange_ -= 1\n",
    "\n",
    "\treturn False\n",
    "\n",
    "\n",
    "# Driver method to test above method\n",
    "\n",
    "arr = [1, 2, 4, 2, 5, 9]\n",
    "n = len(arr)\n",
    "if (checkDuplicatesWithinK(arr, n, 3) == True):\n",
    "\tprint(\"True\")\n",
    "else:\n",
    "\tprint(\"False\")\n"
   ]
  },
  {
   "cell_type": "markdown",
   "id": "9a9082b8-f995-4dbe-80ad-d022fa220c77",
   "metadata": {},
   "source": [
    "2. Given an array and an integer k, rotate the array to the right by k steps.\n",
    "arr = [1, 2, 3, 4, 5, 6, 7] k = 3\n",
    "Output = [5, 6, 7, 1, 2, 3, 4]\n"
   ]
  },
  {
   "cell_type": "code",
   "execution_count": 3,
   "id": "528d32a2-7d17-4454-bde9-b4a3f22acb89",
   "metadata": {},
   "outputs": [
    {
     "name": "stdout",
     "output_type": "stream",
     "text": [
      "5 6 7 1 2 3 4 \n",
      "\n"
     ]
    }
   ],
   "source": [
    "def RightRotate(a, n, k):\n",
    "\n",
    "\t# If rotation is greater \n",
    "\t# than size of array\n",
    "\tk = k % n;\n",
    "\n",
    "\tfor i in range(0, n):\n",
    "\n",
    "\t\tif(i < k):\n",
    "\n",
    "\t\t\t# Printing rightmost \n",
    "\t\t\t# kth elements\n",
    "\t\t\tprint(a[n + i - k], end = \" \");\n",
    "\n",
    "\t\telse:\n",
    "\n",
    "\t\t\t# Prints array after\n",
    "\t\t\t# 'k' elements\n",
    "\t\t\tprint(a[i - k], end = \" \");\n",
    "\n",
    "\tprint(\"\\n\");\n",
    "\n",
    "# Driver code\n",
    "Array = [1, 2, 3, 4, 5, 6, 7];\n",
    "N = len(Array);\n",
    "K = 3;\n",
    "\t\n",
    "RightRotate(Array, N, K);\n"
   ]
  },
  {
   "cell_type": "markdown",
   "id": "a65b87cc-c789-4574-99a0-f4bea1ab8709",
   "metadata": {},
   "source": [
    "3. Reverse the given array in-place, means without using any extra data structure.\n"
   ]
  },
  {
   "cell_type": "code",
   "execution_count": 6,
   "id": "b6f0e061-4dc8-4876-b47d-ee25132344b4",
   "metadata": {},
   "outputs": [
    {
     "name": "stdout",
     "output_type": "stream",
     "text": [
      "[7, 5, 4, 2, 9, 12]\n"
     ]
    }
   ],
   "source": [
    "def reverseArrayUptoK(input, k):\n",
    "\tprint (input[k-1::-1] + input[k:])\n",
    "\n",
    "# Driver program\n",
    "if __name__ == \"__main__\":\n",
    "\tinput = [2, 4, 5, 7, 9, 12]\n",
    "\tk = 4\n",
    "\treverseArrayUptoK(input, k)\n"
   ]
  },
  {
   "cell_type": "markdown",
   "id": "99024eb2-7312-4b74-96bb-f0be4d5e301e",
   "metadata": {},
   "source": [
    "4. Given an array of integers, find the maximum element in an array\n",
    "arr = [10, 5, 20, 8, 15]\n",
    "Output = 20\n"
   ]
  },
  {
   "cell_type": "code",
   "execution_count": 5,
   "id": "d0601734-c078-46ca-8169-c610d445bc0c",
   "metadata": {},
   "outputs": [
    {
     "name": "stdout",
     "output_type": "stream",
     "text": [
      "The maximum element is 20\n"
     ]
    }
   ],
   "source": [
    "def findMaximum(arr, low, high):\n",
    "\tmax = arr[low]\n",
    "\ti = low\n",
    "\tfor i in range(high+1):\n",
    "\t\tif arr[i] > max:\n",
    "\t\t\tmax = arr[i]\n",
    "\treturn max\n",
    "\n",
    "# Driver program to check above functions */\n",
    "arr = [10, 5, 20, 8, 15]\n",
    "n = len(arr)\n",
    "print (\"The maximum element is %d\"%\n",
    "\t\tfindMaximum(arr, 0, n-1))\n"
   ]
  },
  {
   "cell_type": "markdown",
   "id": "9df84f54-e034-47ef-9f69-91bd139db493",
   "metadata": {},
   "source": [
    "5. Given a sorted array, remove the duplicate element without using any extra data structure.\n",
    "arr = [1, 1, 2, 2, 2, 3, 3, 4, 4, 4, 5, 5]\n",
    "Output = [1, 2, 3, 4, 5]"
   ]
  },
  {
   "cell_type": "code",
   "execution_count": 7,
   "id": "76a806ef-1c48-407b-b0d8-74a869229e79",
   "metadata": {},
   "outputs": [
    {
     "name": "stdout",
     "output_type": "stream",
     "text": [
      "1 2 3 4 5 "
     ]
    }
   ],
   "source": [
    "# This function returns new size of modified array\n",
    "def removeDuplicates(arr, n):\n",
    "\n",
    "\t# Return, if array is empty or contains\n",
    "\t# a single element\n",
    "\tif n == 0 or n == 1:\n",
    "\t\treturn n\n",
    "\n",
    "\ttemp = list(range(n))\n",
    "\n",
    "\t# Start traversing elements\n",
    "\tj = 0\n",
    "\tfor i in range(0, n-1):\n",
    "\n",
    "\t\t# If current element is not equal to next\n",
    "\t\t# then store that current element\n",
    "\t\tif arr[i] != arr[i+1]:\n",
    "\t\t\ttemp[j] = arr[i]\n",
    "\t\t\tj += 1\n",
    "\n",
    "\t# Store the last element as whether it is unique\n",
    "\t# or repeated, it isn't stored previously\n",
    "\ttemp[j] = arr[n-1]\n",
    "\tj += 1\n",
    "\n",
    "\t# Modify original array\n",
    "\tfor i in range(0, j):\n",
    "\t\tarr[i] = temp[i]\n",
    "\n",
    "\treturn j\n",
    "\n",
    "\n",
    "# Driver code\n",
    "if __name__ == '__main__':\n",
    "\tarr = [1, 1, 2, 2, 2, 3, 3, 4, 4, 4, 5, 5]\n",
    "\tn = len(arr)\n",
    "\n",
    "\t# removeDuplicates() returns new size of array.\n",
    "\tn = removeDuplicates(arr, n)\n",
    "\n",
    "\t# Print updated array\n",
    "\tfor i in range(n):\n",
    "\t\tprint(\"%d\" % (arr[i]), end=\" \")\n"
   ]
  },
  {
   "cell_type": "code",
   "execution_count": null,
   "id": "ed5c8057-793a-4062-8087-17c0cb7b7b30",
   "metadata": {},
   "outputs": [],
   "source": []
  }
 ],
 "metadata": {
  "kernelspec": {
   "display_name": "Python 3 (ipykernel)",
   "language": "python",
   "name": "python3"
  },
  "language_info": {
   "codemirror_mode": {
    "name": "ipython",
    "version": 3
   },
   "file_extension": ".py",
   "mimetype": "text/x-python",
   "name": "python",
   "nbconvert_exporter": "python",
   "pygments_lexer": "ipython3",
   "version": "3.10.8"
  }
 },
 "nbformat": 4,
 "nbformat_minor": 5
}
